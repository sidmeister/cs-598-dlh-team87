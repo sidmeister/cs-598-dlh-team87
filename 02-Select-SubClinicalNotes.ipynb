{
 "cells": [
  {
   "cell_type": "code",
   "execution_count": 1,
   "metadata": {},
   "outputs": [],
   "source": [
    "import pandas as pd\n",
    "import os\n",
    "import numpy as np"
   ]
  },
  {
   "cell_type": "code",
   "execution_count": 2,
   "metadata": {},
   "outputs": [],
   "source": [
    "DATAPATH = \"data/\""
   ]
  },
  {
   "cell_type": "markdown",
   "metadata": {},
   "source": [
    "# Check the timeseries data and collect the patient ID "
   ]
  },
  {
   "cell_type": "code",
   "execution_count": 3,
   "metadata": {},
   "outputs": [],
   "source": [
    "lvl2_train_imputer = pd.read_pickle(os.path.join(DATAPATH, \"lvl2_imputer_train.pkl\"))\n",
    "lvl2_dev_imputer = pd.read_pickle(os.path.join(DATAPATH, \"lvl2_imputer_dev.pkl\"))\n",
    "lvl2_test_imputer = pd.read_pickle(os.path.join(DATAPATH,\"lvl2_imputer_test.pkl\"))\n",
    "Ys = pd.read_pickle(os.path.join(DATAPATH, \"Ys.pkl\"))"
   ]
  },
  {
   "cell_type": "code",
   "execution_count": 4,
   "metadata": {},
   "outputs": [
    {
     "name": "stdout",
     "output_type": "stream",
     "text": [
      "Shape of train, dev, test (402240, 312), (57456, 312), (114960, 312).\n",
      "16755.0 2393.0 4789.0\n"
     ]
    }
   ],
   "source": [
    "print(\"Shape of train, dev, test {}, {}, {}.\".format((lvl2_train_imputer.shape), (lvl2_dev_imputer.shape), (lvl2_test_imputer.shape)))\n",
    "print( 402120 / 24, 57432 / 24, 114936 / 24)"
   ]
  },
  {
   "cell_type": "code",
   "execution_count": 5,
   "metadata": {},
   "outputs": [],
   "source": [
    "patient_ids = [] # store all patient ids \n",
    "for each_entry in Ys.index:\n",
    "    patient_ids.append(each_entry[0])"
   ]
  },
  {
   "cell_type": "code",
   "execution_count": 6,
   "metadata": {},
   "outputs": [
    {
     "name": "stdout",
     "output_type": "stream",
     "text": [
      "Number of total patient 23944\n"
     ]
    }
   ],
   "source": [
    "print(\"Number of total patient {}\".format(len(patient_ids)))"
   ]
  },
  {
   "cell_type": "markdown",
   "metadata": {},
   "source": [
    "# Select Clinical Notes"
   ]
  },
  {
   "cell_type": "code",
   "execution_count": 7,
   "metadata": {},
   "outputs": [
    {
     "name": "stderr",
     "output_type": "stream",
     "text": [
      "/tmp/ipykernel_1220/4265364739.py:2: DtypeWarning: Columns (4,5) have mixed types. Specify dtype option on import or set low_memory=False.\n",
      "  noteevents_df = pd.read_csv(os.path.join(DATAPATH, \"NOTEEVENTS.csv\"))\n"
     ]
    }
   ],
   "source": [
    "admission_df = pd.read_csv(os.path.join(DATAPATH, \"ADMISSIONS.csv\"))\n",
    "noteevents_df = pd.read_csv(os.path.join(DATAPATH, \"NOTEEVENTS.csv\"))\n",
    "icustays_df = pd.read_csv(os.path.join(DATAPATH, \"ICUSTAYS.csv\"))"
   ]
  },
  {
   "cell_type": "code",
   "execution_count": 8,
   "metadata": {},
   "outputs": [
    {
     "data": {
      "text/html": [
       "<div>\n",
       "<style scoped>\n",
       "    .dataframe tbody tr th:only-of-type {\n",
       "        vertical-align: middle;\n",
       "    }\n",
       "\n",
       "    .dataframe tbody tr th {\n",
       "        vertical-align: top;\n",
       "    }\n",
       "\n",
       "    .dataframe thead tr th {\n",
       "        text-align: left;\n",
       "    }\n",
       "\n",
       "    .dataframe thead tr:last-of-type th {\n",
       "        text-align: right;\n",
       "    }\n",
       "</style>\n",
       "<table border=\"1\" class=\"dataframe\">\n",
       "  <thead>\n",
       "    <tr>\n",
       "      <th></th>\n",
       "      <th>ROW_ID</th>\n",
       "      <th>SUBJECT_ID</th>\n",
       "      <th>HADM_ID</th>\n",
       "      <th>CHARTDATE</th>\n",
       "      <th>CHARTTIME</th>\n",
       "      <th>STORETIME</th>\n",
       "      <th>DESCRIPTION</th>\n",
       "      <th>CGID</th>\n",
       "      <th>ISERROR</th>\n",
       "      <th>TEXT</th>\n",
       "    </tr>\n",
       "    <tr>\n",
       "      <th></th>\n",
       "      <th>count</th>\n",
       "      <th>count</th>\n",
       "      <th>count</th>\n",
       "      <th>count</th>\n",
       "      <th>count</th>\n",
       "      <th>count</th>\n",
       "      <th>count</th>\n",
       "      <th>count</th>\n",
       "      <th>count</th>\n",
       "      <th>count</th>\n",
       "    </tr>\n",
       "    <tr>\n",
       "      <th>CATEGORY</th>\n",
       "      <th></th>\n",
       "      <th></th>\n",
       "      <th></th>\n",
       "      <th></th>\n",
       "      <th></th>\n",
       "      <th></th>\n",
       "      <th></th>\n",
       "      <th></th>\n",
       "      <th></th>\n",
       "      <th></th>\n",
       "    </tr>\n",
       "  </thead>\n",
       "  <tbody>\n",
       "    <tr>\n",
       "      <th>Case Management</th>\n",
       "      <td>967</td>\n",
       "      <td>967</td>\n",
       "      <td>954</td>\n",
       "      <td>967</td>\n",
       "      <td>967</td>\n",
       "      <td>967</td>\n",
       "      <td>967</td>\n",
       "      <td>967</td>\n",
       "      <td>14</td>\n",
       "      <td>967</td>\n",
       "    </tr>\n",
       "    <tr>\n",
       "      <th>Consult</th>\n",
       "      <td>98</td>\n",
       "      <td>98</td>\n",
       "      <td>98</td>\n",
       "      <td>98</td>\n",
       "      <td>98</td>\n",
       "      <td>98</td>\n",
       "      <td>98</td>\n",
       "      <td>98</td>\n",
       "      <td>0</td>\n",
       "      <td>98</td>\n",
       "    </tr>\n",
       "    <tr>\n",
       "      <th>Discharge summary</th>\n",
       "      <td>59652</td>\n",
       "      <td>59652</td>\n",
       "      <td>59652</td>\n",
       "      <td>59652</td>\n",
       "      <td>0</td>\n",
       "      <td>0</td>\n",
       "      <td>59652</td>\n",
       "      <td>0</td>\n",
       "      <td>0</td>\n",
       "      <td>59652</td>\n",
       "    </tr>\n",
       "    <tr>\n",
       "      <th>ECG</th>\n",
       "      <td>209051</td>\n",
       "      <td>209051</td>\n",
       "      <td>138190</td>\n",
       "      <td>209051</td>\n",
       "      <td>0</td>\n",
       "      <td>0</td>\n",
       "      <td>209051</td>\n",
       "      <td>0</td>\n",
       "      <td>0</td>\n",
       "      <td>209051</td>\n",
       "    </tr>\n",
       "    <tr>\n",
       "      <th>Echo</th>\n",
       "      <td>45794</td>\n",
       "      <td>45794</td>\n",
       "      <td>34037</td>\n",
       "      <td>45794</td>\n",
       "      <td>0</td>\n",
       "      <td>0</td>\n",
       "      <td>45794</td>\n",
       "      <td>0</td>\n",
       "      <td>0</td>\n",
       "      <td>45794</td>\n",
       "    </tr>\n",
       "    <tr>\n",
       "      <th>General</th>\n",
       "      <td>8301</td>\n",
       "      <td>8301</td>\n",
       "      <td>8209</td>\n",
       "      <td>8301</td>\n",
       "      <td>8260</td>\n",
       "      <td>8301</td>\n",
       "      <td>8301</td>\n",
       "      <td>8301</td>\n",
       "      <td>65</td>\n",
       "      <td>8301</td>\n",
       "    </tr>\n",
       "    <tr>\n",
       "      <th>Nursing</th>\n",
       "      <td>223556</td>\n",
       "      <td>223556</td>\n",
       "      <td>220758</td>\n",
       "      <td>223556</td>\n",
       "      <td>222172</td>\n",
       "      <td>223556</td>\n",
       "      <td>223556</td>\n",
       "      <td>223556</td>\n",
       "      <td>374</td>\n",
       "      <td>223556</td>\n",
       "    </tr>\n",
       "    <tr>\n",
       "      <th>Nursing/other</th>\n",
       "      <td>822497</td>\n",
       "      <td>822497</td>\n",
       "      <td>821258</td>\n",
       "      <td>822497</td>\n",
       "      <td>822497</td>\n",
       "      <td>822497</td>\n",
       "      <td>822497</td>\n",
       "      <td>822497</td>\n",
       "      <td>0</td>\n",
       "      <td>822497</td>\n",
       "    </tr>\n",
       "    <tr>\n",
       "      <th>Nutrition</th>\n",
       "      <td>9418</td>\n",
       "      <td>9418</td>\n",
       "      <td>9378</td>\n",
       "      <td>9418</td>\n",
       "      <td>9411</td>\n",
       "      <td>9418</td>\n",
       "      <td>9418</td>\n",
       "      <td>9418</td>\n",
       "      <td>18</td>\n",
       "      <td>9418</td>\n",
       "    </tr>\n",
       "    <tr>\n",
       "      <th>Pharmacy</th>\n",
       "      <td>103</td>\n",
       "      <td>103</td>\n",
       "      <td>102</td>\n",
       "      <td>103</td>\n",
       "      <td>102</td>\n",
       "      <td>103</td>\n",
       "      <td>103</td>\n",
       "      <td>103</td>\n",
       "      <td>2</td>\n",
       "      <td>103</td>\n",
       "    </tr>\n",
       "    <tr>\n",
       "      <th>Physician</th>\n",
       "      <td>141624</td>\n",
       "      <td>141624</td>\n",
       "      <td>140100</td>\n",
       "      <td>141624</td>\n",
       "      <td>141048</td>\n",
       "      <td>141624</td>\n",
       "      <td>141624</td>\n",
       "      <td>141624</td>\n",
       "      <td>343</td>\n",
       "      <td>141624</td>\n",
       "    </tr>\n",
       "    <tr>\n",
       "      <th>Radiology</th>\n",
       "      <td>522279</td>\n",
       "      <td>522279</td>\n",
       "      <td>378920</td>\n",
       "      <td>522279</td>\n",
       "      <td>522279</td>\n",
       "      <td>0</td>\n",
       "      <td>522279</td>\n",
       "      <td>0</td>\n",
       "      <td>0</td>\n",
       "      <td>522279</td>\n",
       "    </tr>\n",
       "    <tr>\n",
       "      <th>Rehab Services</th>\n",
       "      <td>5431</td>\n",
       "      <td>5431</td>\n",
       "      <td>5409</td>\n",
       "      <td>5431</td>\n",
       "      <td>5429</td>\n",
       "      <td>5431</td>\n",
       "      <td>5431</td>\n",
       "      <td>5431</td>\n",
       "      <td>23</td>\n",
       "      <td>5431</td>\n",
       "    </tr>\n",
       "    <tr>\n",
       "      <th>Respiratory</th>\n",
       "      <td>31739</td>\n",
       "      <td>31739</td>\n",
       "      <td>31667</td>\n",
       "      <td>31739</td>\n",
       "      <td>31703</td>\n",
       "      <td>31739</td>\n",
       "      <td>31739</td>\n",
       "      <td>31739</td>\n",
       "      <td>38</td>\n",
       "      <td>31739</td>\n",
       "    </tr>\n",
       "    <tr>\n",
       "      <th>Social Work</th>\n",
       "      <td>2670</td>\n",
       "      <td>2670</td>\n",
       "      <td>2612</td>\n",
       "      <td>2670</td>\n",
       "      <td>2648</td>\n",
       "      <td>2670</td>\n",
       "      <td>2670</td>\n",
       "      <td>2670</td>\n",
       "      <td>9</td>\n",
       "      <td>2670</td>\n",
       "    </tr>\n",
       "  </tbody>\n",
       "</table>\n",
       "</div>"
      ],
      "text/plain": [
       "                   ROW_ID SUBJECT_ID HADM_ID CHARTDATE CHARTTIME STORETIME  \\\n",
       "                    count      count   count     count     count     count   \n",
       "CATEGORY                                                                     \n",
       "Case Management       967        967     954       967       967       967   \n",
       "Consult                98         98      98        98        98        98   \n",
       "Discharge summary   59652      59652   59652     59652         0         0   \n",
       "ECG                209051     209051  138190    209051         0         0   \n",
       "Echo                45794      45794   34037     45794         0         0   \n",
       "General              8301       8301    8209      8301      8260      8301   \n",
       "Nursing            223556     223556  220758    223556    222172    223556   \n",
       "Nursing/other      822497     822497  821258    822497    822497    822497   \n",
       "Nutrition            9418       9418    9378      9418      9411      9418   \n",
       "Pharmacy              103        103     102       103       102       103   \n",
       "Physician          141624     141624  140100    141624    141048    141624   \n",
       "Radiology          522279     522279  378920    522279    522279         0   \n",
       "Rehab Services       5431       5431    5409      5431      5429      5431   \n",
       "Respiratory         31739      31739   31667     31739     31703     31739   \n",
       "Social Work          2670       2670    2612      2670      2648      2670   \n",
       "\n",
       "                  DESCRIPTION    CGID ISERROR    TEXT  \n",
       "                        count   count   count   count  \n",
       "CATEGORY                                               \n",
       "Case Management           967     967      14     967  \n",
       "Consult                    98      98       0      98  \n",
       "Discharge summary       59652       0       0   59652  \n",
       "ECG                    209051       0       0  209051  \n",
       "Echo                    45794       0       0   45794  \n",
       "General                  8301    8301      65    8301  \n",
       "Nursing                223556  223556     374  223556  \n",
       "Nursing/other          822497  822497       0  822497  \n",
       "Nutrition                9418    9418      18    9418  \n",
       "Pharmacy                  103     103       2     103  \n",
       "Physician              141624  141624     343  141624  \n",
       "Radiology              522279       0       0  522279  \n",
       "Rehab Services           5431    5431      23    5431  \n",
       "Respiratory             31739   31739      38   31739  \n",
       "Social Work              2670    2670       9    2670  "
      ]
     },
     "execution_count": 8,
     "metadata": {},
     "output_type": "execute_result"
    }
   ],
   "source": [
    "noteevents_df.groupby(noteevents_df.CATEGORY).agg(['count'])"
   ]
  },
  {
   "cell_type": "code",
   "execution_count": 9,
   "metadata": {},
   "outputs": [],
   "source": [
    "note_categories = noteevents_df.groupby(noteevents_df.CATEGORY).agg(['count']).index"
   ]
  },
  {
   "cell_type": "code",
   "execution_count": 10,
   "metadata": {},
   "outputs": [],
   "source": [
    "#selected_note_types = ['Nursing/other', 'Radiology', 'Nursing', 'ECG', 'Physician', 'Echo', 'Respiratory', 'Nutrition']\n",
    "selected_note_types = []\n",
    "for each_cat in list(note_categories):\n",
    "    if each_cat != 'Discharge summary':\n",
    "        selected_note_types.append(each_cat)"
   ]
  },
  {
   "cell_type": "code",
   "execution_count": 12,
   "metadata": {},
   "outputs": [
    {
     "data": {
      "text/plain": [
       "(2083180, 11)"
      ]
     },
     "execution_count": 12,
     "metadata": {},
     "output_type": "execute_result"
    }
   ],
   "source": [
    "noteevents_df.shape"
   ]
  },
  {
   "cell_type": "markdown",
   "metadata": {},
   "source": [
    "### Select based on note category"
   ]
  },
  {
   "cell_type": "code",
   "execution_count": 13,
   "metadata": {},
   "outputs": [],
   "source": [
    "sub_notes = noteevents_df[noteevents_df.CATEGORY.isin(selected_note_types)]"
   ]
  },
  {
   "cell_type": "code",
   "execution_count": 14,
   "metadata": {},
   "outputs": [
    {
     "data": {
      "text/plain": [
       "(2023528, 11)"
      ]
     },
     "execution_count": 14,
     "metadata": {},
     "output_type": "execute_result"
    }
   ],
   "source": [
    "sub_notes.shape"
   ]
  },
  {
   "cell_type": "markdown",
   "metadata": {},
   "source": [
    "### Drop no chart notes"
   ]
  },
  {
   "cell_type": "code",
   "execution_count": 15,
   "metadata": {},
   "outputs": [
    {
     "name": "stdout",
     "output_type": "stream",
     "text": [
      "256914 of notes does not charttime.\n",
      "(2023528, 11)\n"
     ]
    }
   ],
   "source": [
    "missing_chardate_index = []\n",
    "for each_note in sub_notes.itertuples():\n",
    "    if isinstance(each_note.CHARTTIME, str):\n",
    "        continue\n",
    "    if np.isnan(each_note.CHARTTIME):\n",
    "        missing_chardate_index.append(each_note.Index)\n",
    "print (\"{} of notes does not charttime.\".format(len(missing_chardate_index)))\n",
    "print(sub_notes.shape)"
   ]
  },
  {
   "cell_type": "code",
   "execution_count": 16,
   "metadata": {},
   "outputs": [
    {
     "name": "stdout",
     "output_type": "stream",
     "text": [
      "(1766614, 11)\n"
     ]
    },
    {
     "name": "stderr",
     "output_type": "stream",
     "text": [
      "/tmp/ipykernel_1220/3231713327.py:1: SettingWithCopyWarning: \n",
      "A value is trying to be set on a copy of a slice from a DataFrame\n",
      "\n",
      "See the caveats in the documentation: https://pandas.pydata.org/pandas-docs/stable/user_guide/indexing.html#returning-a-view-versus-a-copy\n",
      "  sub_notes.drop(missing_chardate_index, inplace=True )\n"
     ]
    }
   ],
   "source": [
    "sub_notes.drop(missing_chardate_index, inplace=True )\n",
    "print(sub_notes.shape)"
   ]
  },
  {
   "cell_type": "markdown",
   "metadata": {},
   "source": [
    "### Select based on patient id"
   ]
  },
  {
   "cell_type": "code",
   "execution_count": 17,
   "metadata": {},
   "outputs": [],
   "source": [
    "sub_notes = sub_notes[sub_notes.SUBJECT_ID.isin(patient_ids)] ## select based on patient id"
   ]
  },
  {
   "cell_type": "code",
   "execution_count": 18,
   "metadata": {},
   "outputs": [
    {
     "data": {
      "text/plain": [
       "(745974, 11)"
      ]
     },
     "execution_count": 18,
     "metadata": {},
     "output_type": "execute_result"
    }
   ],
   "source": [
    "sub_notes.shape"
   ]
  },
  {
   "cell_type": "markdown",
   "metadata": {},
   "source": [
    "### Select based on time limit (24 hours) "
   ]
  },
  {
   "cell_type": "code",
   "execution_count": 20,
   "metadata": {},
   "outputs": [],
   "source": [
    "MIMIC_EXTRACT_DATA = \"data/all_hourly_data.h5\"\n",
    "stats = pd.read_hdf(MIMIC_EXTRACT_DATA, 'patients')\n",
    "TIMELIMIT = 1 # 1day"
   ]
  },
  {
   "cell_type": "code",
   "execution_count": 21,
   "metadata": {},
   "outputs": [
    {
     "data": {
      "text/plain": [
       "(34472, 28)"
      ]
     },
     "execution_count": 21,
     "metadata": {},
     "output_type": "execute_result"
    }
   ],
   "source": [
    "stats.shape"
   ]
  },
  {
   "cell_type": "code",
   "execution_count": 22,
   "metadata": {},
   "outputs": [
    {
     "data": {
      "text/html": [
       "<div>\n",
       "<style scoped>\n",
       "    .dataframe tbody tr th:only-of-type {\n",
       "        vertical-align: middle;\n",
       "    }\n",
       "\n",
       "    .dataframe tbody tr th {\n",
       "        vertical-align: top;\n",
       "    }\n",
       "\n",
       "    .dataframe thead th {\n",
       "        text-align: right;\n",
       "    }\n",
       "</style>\n",
       "<table border=\"1\" class=\"dataframe\">\n",
       "  <thead>\n",
       "    <tr style=\"text-align: right;\">\n",
       "      <th></th>\n",
       "      <th></th>\n",
       "      <th></th>\n",
       "      <th>gender</th>\n",
       "      <th>ethnicity</th>\n",
       "      <th>age</th>\n",
       "      <th>insurance</th>\n",
       "      <th>admittime</th>\n",
       "      <th>diagnosis_at_admission</th>\n",
       "      <th>dischtime</th>\n",
       "      <th>discharge_location</th>\n",
       "      <th>fullcode_first</th>\n",
       "      <th>dnr_first</th>\n",
       "      <th>...</th>\n",
       "      <th>outtime</th>\n",
       "      <th>los_icu</th>\n",
       "      <th>admission_type</th>\n",
       "      <th>first_careunit</th>\n",
       "      <th>mort_icu</th>\n",
       "      <th>mort_hosp</th>\n",
       "      <th>hospital_expire_flag</th>\n",
       "      <th>hospstay_seq</th>\n",
       "      <th>readmission_30</th>\n",
       "      <th>max_hours</th>\n",
       "    </tr>\n",
       "    <tr>\n",
       "      <th>subject_id</th>\n",
       "      <th>hadm_id</th>\n",
       "      <th>icustay_id</th>\n",
       "      <th></th>\n",
       "      <th></th>\n",
       "      <th></th>\n",
       "      <th></th>\n",
       "      <th></th>\n",
       "      <th></th>\n",
       "      <th></th>\n",
       "      <th></th>\n",
       "      <th></th>\n",
       "      <th></th>\n",
       "      <th></th>\n",
       "      <th></th>\n",
       "      <th></th>\n",
       "      <th></th>\n",
       "      <th></th>\n",
       "      <th></th>\n",
       "      <th></th>\n",
       "      <th></th>\n",
       "      <th></th>\n",
       "      <th></th>\n",
       "      <th></th>\n",
       "    </tr>\n",
       "  </thead>\n",
       "  <tbody>\n",
       "    <tr>\n",
       "      <th>3</th>\n",
       "      <th>145834</th>\n",
       "      <th>211552</th>\n",
       "      <td>M</td>\n",
       "      <td>WHITE</td>\n",
       "      <td>76.526792</td>\n",
       "      <td>Medicare</td>\n",
       "      <td>2101-10-20 19:08:00</td>\n",
       "      <td>HYPOTENSION</td>\n",
       "      <td>2101-10-31 13:58:00</td>\n",
       "      <td>SNF</td>\n",
       "      <td>1.0</td>\n",
       "      <td>0.0</td>\n",
       "      <td>...</td>\n",
       "      <td>2101-10-26 20:43:09</td>\n",
       "      <td>6.064560</td>\n",
       "      <td>EMERGENCY</td>\n",
       "      <td>MICU</td>\n",
       "      <td>0</td>\n",
       "      <td>0</td>\n",
       "      <td>0</td>\n",
       "      <td>1</td>\n",
       "      <td>0</td>\n",
       "      <td>145</td>\n",
       "    </tr>\n",
       "    <tr>\n",
       "      <th>4</th>\n",
       "      <th>185777</th>\n",
       "      <th>294638</th>\n",
       "      <td>F</td>\n",
       "      <td>WHITE</td>\n",
       "      <td>47.845047</td>\n",
       "      <td>Private</td>\n",
       "      <td>2191-03-16 00:28:00</td>\n",
       "      <td>FEVER,DEHYDRATION,FAILURE TO THRIVE</td>\n",
       "      <td>2191-03-23 18:41:00</td>\n",
       "      <td>HOME WITH HOME IV PROVIDR</td>\n",
       "      <td>1.0</td>\n",
       "      <td>0.0</td>\n",
       "      <td>...</td>\n",
       "      <td>2191-03-17 16:46:31</td>\n",
       "      <td>1.678472</td>\n",
       "      <td>EMERGENCY</td>\n",
       "      <td>MICU</td>\n",
       "      <td>0</td>\n",
       "      <td>0</td>\n",
       "      <td>0</td>\n",
       "      <td>1</td>\n",
       "      <td>0</td>\n",
       "      <td>40</td>\n",
       "    </tr>\n",
       "    <tr>\n",
       "      <th>6</th>\n",
       "      <th>107064</th>\n",
       "      <th>228232</th>\n",
       "      <td>F</td>\n",
       "      <td>WHITE</td>\n",
       "      <td>65.942297</td>\n",
       "      <td>Medicare</td>\n",
       "      <td>2175-05-30 07:15:00</td>\n",
       "      <td>CHRONIC RENAL FAILURE/SDA</td>\n",
       "      <td>2175-06-15 16:00:00</td>\n",
       "      <td>HOME HEALTH CARE</td>\n",
       "      <td>1.0</td>\n",
       "      <td>0.0</td>\n",
       "      <td>...</td>\n",
       "      <td>2175-06-03 13:39:54</td>\n",
       "      <td>3.672917</td>\n",
       "      <td>ELECTIVE</td>\n",
       "      <td>SICU</td>\n",
       "      <td>0</td>\n",
       "      <td>0</td>\n",
       "      <td>0</td>\n",
       "      <td>1</td>\n",
       "      <td>0</td>\n",
       "      <td>88</td>\n",
       "    </tr>\n",
       "    <tr>\n",
       "      <th>9</th>\n",
       "      <th>150750</th>\n",
       "      <th>220597</th>\n",
       "      <td>M</td>\n",
       "      <td>UNKNOWN/NOT SPECIFIED</td>\n",
       "      <td>41.790228</td>\n",
       "      <td>Medicaid</td>\n",
       "      <td>2149-11-09 13:06:00</td>\n",
       "      <td>HEMORRHAGIC CVA</td>\n",
       "      <td>2149-11-14 10:15:00</td>\n",
       "      <td>DEAD/EXPIRED</td>\n",
       "      <td>1.0</td>\n",
       "      <td>0.0</td>\n",
       "      <td>...</td>\n",
       "      <td>2149-11-14 20:52:14</td>\n",
       "      <td>5.323056</td>\n",
       "      <td>EMERGENCY</td>\n",
       "      <td>MICU</td>\n",
       "      <td>1</td>\n",
       "      <td>1</td>\n",
       "      <td>1</td>\n",
       "      <td>1</td>\n",
       "      <td>0</td>\n",
       "      <td>127</td>\n",
       "    </tr>\n",
       "    <tr>\n",
       "      <th>11</th>\n",
       "      <th>194540</th>\n",
       "      <th>229441</th>\n",
       "      <td>F</td>\n",
       "      <td>WHITE</td>\n",
       "      <td>50.148295</td>\n",
       "      <td>Private</td>\n",
       "      <td>2178-04-16 06:18:00</td>\n",
       "      <td>BRAIN MASS</td>\n",
       "      <td>2178-05-11 19:00:00</td>\n",
       "      <td>HOME HEALTH CARE</td>\n",
       "      <td>1.0</td>\n",
       "      <td>0.0</td>\n",
       "      <td>...</td>\n",
       "      <td>2178-04-17 20:21:05</td>\n",
       "      <td>1.584410</td>\n",
       "      <td>EMERGENCY</td>\n",
       "      <td>SICU</td>\n",
       "      <td>0</td>\n",
       "      <td>0</td>\n",
       "      <td>0</td>\n",
       "      <td>1</td>\n",
       "      <td>0</td>\n",
       "      <td>38</td>\n",
       "    </tr>\n",
       "  </tbody>\n",
       "</table>\n",
       "<p>5 rows × 28 columns</p>\n",
       "</div>"
      ],
      "text/plain": [
       "                              gender              ethnicity        age  \\\n",
       "subject_id hadm_id icustay_id                                            \n",
       "3          145834  211552          M                  WHITE  76.526792   \n",
       "4          185777  294638          F                  WHITE  47.845047   \n",
       "6          107064  228232          F                  WHITE  65.942297   \n",
       "9          150750  220597          M  UNKNOWN/NOT SPECIFIED  41.790228   \n",
       "11         194540  229441          F                  WHITE  50.148295   \n",
       "\n",
       "                              insurance           admittime  \\\n",
       "subject_id hadm_id icustay_id                                 \n",
       "3          145834  211552      Medicare 2101-10-20 19:08:00   \n",
       "4          185777  294638       Private 2191-03-16 00:28:00   \n",
       "6          107064  228232      Medicare 2175-05-30 07:15:00   \n",
       "9          150750  220597      Medicaid 2149-11-09 13:06:00   \n",
       "11         194540  229441       Private 2178-04-16 06:18:00   \n",
       "\n",
       "                                            diagnosis_at_admission  \\\n",
       "subject_id hadm_id icustay_id                                        \n",
       "3          145834  211552                              HYPOTENSION   \n",
       "4          185777  294638      FEVER,DEHYDRATION,FAILURE TO THRIVE   \n",
       "6          107064  228232                CHRONIC RENAL FAILURE/SDA   \n",
       "9          150750  220597                          HEMORRHAGIC CVA   \n",
       "11         194540  229441                               BRAIN MASS   \n",
       "\n",
       "                                        dischtime         discharge_location  \\\n",
       "subject_id hadm_id icustay_id                                                  \n",
       "3          145834  211552     2101-10-31 13:58:00                        SNF   \n",
       "4          185777  294638     2191-03-23 18:41:00  HOME WITH HOME IV PROVIDR   \n",
       "6          107064  228232     2175-06-15 16:00:00           HOME HEALTH CARE   \n",
       "9          150750  220597     2149-11-14 10:15:00               DEAD/EXPIRED   \n",
       "11         194540  229441     2178-05-11 19:00:00           HOME HEALTH CARE   \n",
       "\n",
       "                               fullcode_first  dnr_first  ...  \\\n",
       "subject_id hadm_id icustay_id                             ...   \n",
       "3          145834  211552                 1.0        0.0  ...   \n",
       "4          185777  294638                 1.0        0.0  ...   \n",
       "6          107064  228232                 1.0        0.0  ...   \n",
       "9          150750  220597                 1.0        0.0  ...   \n",
       "11         194540  229441                 1.0        0.0  ...   \n",
       "\n",
       "                                          outtime   los_icu admission_type  \\\n",
       "subject_id hadm_id icustay_id                                                \n",
       "3          145834  211552     2101-10-26 20:43:09  6.064560      EMERGENCY   \n",
       "4          185777  294638     2191-03-17 16:46:31  1.678472      EMERGENCY   \n",
       "6          107064  228232     2175-06-03 13:39:54  3.672917       ELECTIVE   \n",
       "9          150750  220597     2149-11-14 20:52:14  5.323056      EMERGENCY   \n",
       "11         194540  229441     2178-04-17 20:21:05  1.584410      EMERGENCY   \n",
       "\n",
       "                               first_careunit  mort_icu  mort_hosp  \\\n",
       "subject_id hadm_id icustay_id                                        \n",
       "3          145834  211552                MICU         0          0   \n",
       "4          185777  294638                MICU         0          0   \n",
       "6          107064  228232                SICU         0          0   \n",
       "9          150750  220597                MICU         1          1   \n",
       "11         194540  229441                SICU         0          0   \n",
       "\n",
       "                              hospital_expire_flag hospstay_seq  \\\n",
       "subject_id hadm_id icustay_id                                     \n",
       "3          145834  211552                        0            1   \n",
       "4          185777  294638                        0            1   \n",
       "6          107064  228232                        0            1   \n",
       "9          150750  220597                        1            1   \n",
       "11         194540  229441                        0            1   \n",
       "\n",
       "                              readmission_30  max_hours  \n",
       "subject_id hadm_id icustay_id                            \n",
       "3          145834  211552                  0        145  \n",
       "4          185777  294638                  0         40  \n",
       "6          107064  228232                  0         88  \n",
       "9          150750  220597                  0        127  \n",
       "11         194540  229441                  0         38  \n",
       "\n",
       "[5 rows x 28 columns]"
      ]
     },
     "execution_count": 22,
     "metadata": {},
     "output_type": "execute_result"
    }
   ],
   "source": [
    "stats.head()"
   ]
  },
  {
   "cell_type": "code",
   "execution_count": 23,
   "metadata": {},
   "outputs": [],
   "source": [
    "new_stats = stats.reset_index()"
   ]
  },
  {
   "cell_type": "code",
   "execution_count": 24,
   "metadata": {},
   "outputs": [],
   "source": [
    "new_stats.rename(columns = {\"subject_id\": \"SUBJECT_ID\", \"hadm_id\": \"HADM_ID\"}, inplace=True)"
   ]
  },
  {
   "cell_type": "code",
   "execution_count": 25,
   "metadata": {},
   "outputs": [
    {
     "name": "stdout",
     "output_type": "stream",
     "text": [
      "(34472, 31) (745974, 11)\n"
     ]
    }
   ],
   "source": [
    "print(new_stats.shape, sub_notes.shape)"
   ]
  },
  {
   "cell_type": "code",
   "execution_count": 26,
   "metadata": {},
   "outputs": [],
   "source": [
    "df_adm_notes = pd.merge(sub_notes[['ROW_ID','SUBJECT_ID','HADM_ID','CHARTTIME', 'CATEGORY', 'TEXT']],\n",
    "                        new_stats[['SUBJECT_ID','HADM_ID','icustay_id','age','admittime','dischtime', 'deathtime', \n",
    "                                  'intime', 'outtime', 'los_icu', 'mort_icu', 'mort_hosp', 'hospital_expire_flag',\n",
    "                                  'hospstay_seq', 'max_hours']], \n",
    "                        on = ['SUBJECT_ID'],\n",
    "                        how = 'left')"
   ]
  },
  {
   "cell_type": "code",
   "execution_count": 27,
   "metadata": {},
   "outputs": [
    {
     "data": {
      "text/html": [
       "<div>\n",
       "<style scoped>\n",
       "    .dataframe tbody tr th:only-of-type {\n",
       "        vertical-align: middle;\n",
       "    }\n",
       "\n",
       "    .dataframe tbody tr th {\n",
       "        vertical-align: top;\n",
       "    }\n",
       "\n",
       "    .dataframe thead th {\n",
       "        text-align: right;\n",
       "    }\n",
       "</style>\n",
       "<table border=\"1\" class=\"dataframe\">\n",
       "  <thead>\n",
       "    <tr style=\"text-align: right;\">\n",
       "      <th></th>\n",
       "      <th>ROW_ID</th>\n",
       "      <th>SUBJECT_ID</th>\n",
       "      <th>HADM_ID_x</th>\n",
       "      <th>CHARTTIME</th>\n",
       "      <th>CATEGORY</th>\n",
       "      <th>TEXT</th>\n",
       "      <th>HADM_ID_y</th>\n",
       "      <th>icustay_id</th>\n",
       "      <th>age</th>\n",
       "      <th>admittime</th>\n",
       "      <th>dischtime</th>\n",
       "      <th>deathtime</th>\n",
       "      <th>intime</th>\n",
       "      <th>outtime</th>\n",
       "      <th>los_icu</th>\n",
       "      <th>mort_icu</th>\n",
       "      <th>mort_hosp</th>\n",
       "      <th>hospital_expire_flag</th>\n",
       "      <th>hospstay_seq</th>\n",
       "      <th>max_hours</th>\n",
       "    </tr>\n",
       "  </thead>\n",
       "  <tbody>\n",
       "    <tr>\n",
       "      <th>0</th>\n",
       "      <td>316234</td>\n",
       "      <td>29075</td>\n",
       "      <td>179159.0</td>\n",
       "      <td>2116-02-07 14:08:00</td>\n",
       "      <td>Nursing</td>\n",
       "      <td>67M w/ h/o multiplemyeloma Dx [**2111**], neur...</td>\n",
       "      <td>179159</td>\n",
       "      <td>272120</td>\n",
       "      <td>67.798859</td>\n",
       "      <td>2116-02-05 23:46:00</td>\n",
       "      <td>2116-02-17 17:00:00</td>\n",
       "      <td>NaT</td>\n",
       "      <td>2116-02-05 23:46:48</td>\n",
       "      <td>2116-02-07 23:33:32</td>\n",
       "      <td>1.990787</td>\n",
       "      <td>0</td>\n",
       "      <td>0</td>\n",
       "      <td>0</td>\n",
       "      <td>1</td>\n",
       "      <td>47</td>\n",
       "    </tr>\n",
       "    <tr>\n",
       "      <th>1</th>\n",
       "      <td>316235</td>\n",
       "      <td>18082</td>\n",
       "      <td>181163.0</td>\n",
       "      <td>2156-03-12 14:23:00</td>\n",
       "      <td>Nursing</td>\n",
       "      <td>[**Age over 90 52**]F with COPD on home O2, CA...</td>\n",
       "      <td>179564</td>\n",
       "      <td>231140</td>\n",
       "      <td>300.005452</td>\n",
       "      <td>2154-11-14 22:49:00</td>\n",
       "      <td>2154-11-24 13:00:00</td>\n",
       "      <td>NaT</td>\n",
       "      <td>2154-11-15 14:11:19</td>\n",
       "      <td>2154-11-20 22:23:57</td>\n",
       "      <td>5.342106</td>\n",
       "      <td>0</td>\n",
       "      <td>0</td>\n",
       "      <td>0</td>\n",
       "      <td>1</td>\n",
       "      <td>128</td>\n",
       "    </tr>\n",
       "    <tr>\n",
       "      <th>2</th>\n",
       "      <td>316236</td>\n",
       "      <td>18082</td>\n",
       "      <td>181163.0</td>\n",
       "      <td>2156-03-12 14:28:00</td>\n",
       "      <td>Nursing</td>\n",
       "      <td>[**Age over 90 52**]F with COPD on home O2, CA...</td>\n",
       "      <td>179564</td>\n",
       "      <td>231140</td>\n",
       "      <td>300.005452</td>\n",
       "      <td>2154-11-14 22:49:00</td>\n",
       "      <td>2154-11-24 13:00:00</td>\n",
       "      <td>NaT</td>\n",
       "      <td>2154-11-15 14:11:19</td>\n",
       "      <td>2154-11-20 22:23:57</td>\n",
       "      <td>5.342106</td>\n",
       "      <td>0</td>\n",
       "      <td>0</td>\n",
       "      <td>0</td>\n",
       "      <td>1</td>\n",
       "      <td>128</td>\n",
       "    </tr>\n",
       "    <tr>\n",
       "      <th>3</th>\n",
       "      <td>316238</td>\n",
       "      <td>29075</td>\n",
       "      <td>179159.0</td>\n",
       "      <td>2116-02-07 15:37:00</td>\n",
       "      <td>Physician</td>\n",
       "      <td>Chief Complaint:\\n   24 Hour Events:\\n   EGD d...</td>\n",
       "      <td>179159</td>\n",
       "      <td>272120</td>\n",
       "      <td>67.798859</td>\n",
       "      <td>2116-02-05 23:46:00</td>\n",
       "      <td>2116-02-17 17:00:00</td>\n",
       "      <td>NaT</td>\n",
       "      <td>2116-02-05 23:46:48</td>\n",
       "      <td>2116-02-07 23:33:32</td>\n",
       "      <td>1.990787</td>\n",
       "      <td>0</td>\n",
       "      <td>0</td>\n",
       "      <td>0</td>\n",
       "      <td>1</td>\n",
       "      <td>47</td>\n",
       "    </tr>\n",
       "    <tr>\n",
       "      <th>4</th>\n",
       "      <td>316239</td>\n",
       "      <td>18839</td>\n",
       "      <td>136227.0</td>\n",
       "      <td>2193-02-08 15:39:00</td>\n",
       "      <td>Rehab Services</td>\n",
       "      <td>Attending Physician: [**Name10 (NameIs) 116**]...</td>\n",
       "      <td>152908</td>\n",
       "      <td>295649</td>\n",
       "      <td>82.419243</td>\n",
       "      <td>2190-05-15 13:56:00</td>\n",
       "      <td>2190-05-25 19:28:00</td>\n",
       "      <td>NaT</td>\n",
       "      <td>2190-05-15 23:15:47</td>\n",
       "      <td>2190-05-19 15:02:25</td>\n",
       "      <td>3.657384</td>\n",
       "      <td>0</td>\n",
       "      <td>0</td>\n",
       "      <td>0</td>\n",
       "      <td>1</td>\n",
       "      <td>87</td>\n",
       "    </tr>\n",
       "  </tbody>\n",
       "</table>\n",
       "</div>"
      ],
      "text/plain": [
       "   ROW_ID  SUBJECT_ID  HADM_ID_x            CHARTTIME        CATEGORY  \\\n",
       "0  316234       29075   179159.0  2116-02-07 14:08:00         Nursing   \n",
       "1  316235       18082   181163.0  2156-03-12 14:23:00         Nursing   \n",
       "2  316236       18082   181163.0  2156-03-12 14:28:00         Nursing   \n",
       "3  316238       29075   179159.0  2116-02-07 15:37:00      Physician    \n",
       "4  316239       18839   136227.0  2193-02-08 15:39:00  Rehab Services   \n",
       "\n",
       "                                                TEXT  HADM_ID_y  icustay_id  \\\n",
       "0  67M w/ h/o multiplemyeloma Dx [**2111**], neur...     179159      272120   \n",
       "1  [**Age over 90 52**]F with COPD on home O2, CA...     179564      231140   \n",
       "2  [**Age over 90 52**]F with COPD on home O2, CA...     179564      231140   \n",
       "3  Chief Complaint:\\n   24 Hour Events:\\n   EGD d...     179159      272120   \n",
       "4  Attending Physician: [**Name10 (NameIs) 116**]...     152908      295649   \n",
       "\n",
       "          age           admittime           dischtime deathtime  \\\n",
       "0   67.798859 2116-02-05 23:46:00 2116-02-17 17:00:00       NaT   \n",
       "1  300.005452 2154-11-14 22:49:00 2154-11-24 13:00:00       NaT   \n",
       "2  300.005452 2154-11-14 22:49:00 2154-11-24 13:00:00       NaT   \n",
       "3   67.798859 2116-02-05 23:46:00 2116-02-17 17:00:00       NaT   \n",
       "4   82.419243 2190-05-15 13:56:00 2190-05-25 19:28:00       NaT   \n",
       "\n",
       "               intime             outtime   los_icu  mort_icu  mort_hosp  \\\n",
       "0 2116-02-05 23:46:48 2116-02-07 23:33:32  1.990787         0          0   \n",
       "1 2154-11-15 14:11:19 2154-11-20 22:23:57  5.342106         0          0   \n",
       "2 2154-11-15 14:11:19 2154-11-20 22:23:57  5.342106         0          0   \n",
       "3 2116-02-05 23:46:48 2116-02-07 23:33:32  1.990787         0          0   \n",
       "4 2190-05-15 23:15:47 2190-05-19 15:02:25  3.657384         0          0   \n",
       "\n",
       "   hospital_expire_flag  hospstay_seq  max_hours  \n",
       "0                     0             1         47  \n",
       "1                     0             1        128  \n",
       "2                     0             1        128  \n",
       "3                     0             1         47  \n",
       "4                     0             1         87  "
      ]
     },
     "execution_count": 27,
     "metadata": {},
     "output_type": "execute_result"
    }
   ],
   "source": [
    "df_adm_notes.head()"
   ]
  },
  {
   "cell_type": "code",
   "execution_count": 28,
   "metadata": {},
   "outputs": [],
   "source": [
    "df_adm_notes['CHARTTIME'] = pd.to_datetime(df_adm_notes['CHARTTIME'])"
   ]
  },
  {
   "cell_type": "code",
   "execution_count": 29,
   "metadata": {},
   "outputs": [],
   "source": [
    "df_less_n = df_adm_notes[((df_adm_notes['CHARTTIME']-df_adm_notes['intime']).dt.total_seconds()/(24*60*60))<TIMELIMIT]"
   ]
  },
  {
   "cell_type": "code",
   "execution_count": 30,
   "metadata": {},
   "outputs": [
    {
     "data": {
      "text/plain": [
       "(181483, 20)"
      ]
     },
     "execution_count": 30,
     "metadata": {},
     "output_type": "execute_result"
    }
   ],
   "source": [
    "df_less_n.shape"
   ]
  },
  {
   "cell_type": "markdown",
   "metadata": {},
   "source": [
    "# Save clinical notes"
   ]
  },
  {
   "cell_type": "code",
   "execution_count": 31,
   "metadata": {},
   "outputs": [],
   "source": [
    "pd.to_pickle(df_less_n, \"data/sub_notes.p\")"
   ]
  }
 ],
 "metadata": {
  "kernelspec": {
   "display_name": "Python 3 (ipykernel)",
   "language": "python",
   "name": "python3"
  },
  "language_info": {
   "codemirror_mode": {
    "name": "ipython",
    "version": 3
   },
   "file_extension": ".py",
   "mimetype": "text/x-python",
   "name": "python",
   "nbconvert_exporter": "python",
   "pygments_lexer": "ipython3",
   "version": "3.9.13"
  }
 },
 "nbformat": 4,
 "nbformat_minor": 2
}
