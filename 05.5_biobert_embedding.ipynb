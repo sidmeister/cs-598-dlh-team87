{
 "cells": [
  {
   "cell_type": "code",
   "execution_count": 14,
   "id": "6e66e77a",
   "metadata": {},
   "outputs": [],
   "source": [
    "from biobert_embedding.embedding import BiobertEmbedding\n",
    "from scipy.spatial import distance\n",
    "import pandas as pd\n"
   ]
  },
  {
   "cell_type": "code",
   "execution_count": 15,
   "id": "be398526",
   "metadata": {},
   "outputs": [],
   "source": [
    "ner_df = pd.read_pickle(\"data/ner_df.p\")\n"
   ]
  },
  {
   "cell_type": "code",
   "execution_count": 17,
   "id": "d6949c64",
   "metadata": {},
   "outputs": [],
   "source": [
    "null_index_list = []\n",
    "for i in ner_df.itertuples():\n",
    "    if len(i.ner) == 0:\n",
    "        null_index_list.append(i.Index)\n",
    "ner_df.drop(null_index_list, inplace=True)"
   ]
  },
  {
   "cell_type": "code",
   "execution_count": 23,
   "id": "6e0dd827",
   "metadata": {},
   "outputs": [
    {
     "name": "stdout",
     "output_type": "stream",
     "text": [
      "132887\n"
     ]
    }
   ],
   "source": [
    "print(len(ner_df))"
   ]
  },
  {
   "cell_type": "code",
   "execution_count": null,
   "id": "5e505fe1",
   "metadata": {},
   "outputs": [
    {
     "name": "stdout",
     "output_type": "stream",
     "text": [
      "0\n",
      "1000\n",
      ".h/o decubitus ulcer ( not present at admission ) assessment : decub on rt hip and necrotic area on rt heel action : wound care informed , patient placed on kianir bed , waffle boots to be applied allevyn placed on rt hip and heel left open await wound care review response : plan : as above , frequent re-position /pressure area care .h/o dementia ( including alzheimer 's , multi infarct ) assessment : demented/alzeimers action : orientate frequently response : family confirm that she is back to baseline plan : continue to monitor .h/o diabetes mellitus ( dm ) , type ii assessment : diabetic type 2 , metformin stopped due to elevated lactate action : monitor blood sugars q6 and give s/s response : blood sugars remain > 200 despite s/s , team need to increase /tighten s/s plan : as above/monitor .h/o diarrhea assessment : admit with hx diarrhea/possible c dif may be cause of sepsis .patient is ghuaic pos and has hct at 23 action : unable to monitor hct at present as patient has limited access and no veins for lab draws , picc attempted by iv team today but unsuccessful , she may well go to ir tomorrow for procedure or possible central line placement tonight by team [ team need to re-liase with family about this as they were considering plan of care ] response : last hct was at 0800hrs level @ 23 upon discussion with family , despite not being able to monitor hct patient will receive blood transfusion tonight and consent obtained .patient has drained small a mount of stool via mushroom cath today that is ghuaic pos , sample sent for c dif plan : blood transfusion tonight , line either tonight or tomorrow .... observe belly [ presently soft with hypoactive b/s ] .. patient remains npo at this time .h/o sepsis without organ dysfunction assessment : patient was admitted with elevated lactate .... pan cx , await results has not been compromised hr stable action : she continues to receive lr at 100cc/hr [ needs reviewing this eve for pos balance ] , unable to trend lactates due to lack of access .urine output adequate at 30-40cc/hr and antibiotics continue ... patient has also received k replacement and is presently receiving k phos infussiion response : plan : continue to monitor b/p hr/uo/temp .obtain labs/lactate when access available family meeting this afternoon with daughter who is hcp , and son .. they met with attending the patient remains dnr/dni but will be considered for pressors and lines at this time family agreed to try for picc placement but hesitant with central line placement .discussion will need to take place again this eve as iv were unable to place picc this pm\n",
      "anxiety assessment : pt w/ hx agoraphobia , stated anxiety here on arrival from ed , asked for medication to calm him down action : ordered for and received diazepam 10 mg po response : pt calmer following , stated medication helped plan : diazepam 10 mg po q6 hrs as ordered alcohol withdrawal ( including delirium tremens , dts , seizures ) assessment : on arrival pt hypertensive , tachycardic , still having emesis , arms with tremors when held out straight action : received rtn scheduled diazepam , plus one prn dose at 01:00 response : pt s hrt rate down to hi 60 s following , sbp down to 126 plan : ciwa scale q2hrs , medicate prn as ordered nausea / vomiting assessment : n/v at ed and at arrival to 4 action : received zofran 4 mg iv at 20:30 , valium 10 mg po at 22:00 response : n/v ceased after vailum plan : assess for nausea , zofran prn as ordered ; ivf s as ordered .h/o fall ( s ) assessment : pt w/ hx fall w/ sz ; pt also receiving valium action : all 4 side rails up ; pt in room w/ good observation at all times , bed alarm on response : no falls occurred this night plan : cont side rails , keep curtain slightly open for observation , bed alarm on risk for injury assessment : pt w/ hx fall w/ sz and leaving ama action : all 4 siderails up , bed alarm on to alert nurse of pt getting oob response : pt w/out attempt to leave plan : medicated adequately for withdrawal , sr up , bed alarm hepatitis , chronic viral assessment : pt w/ hx ivda , hepatitis action : body fluid and rtn contact precautions response : no exposure occurred to night nurse plan : cont precaurtions 60m w/ chronic etoh , hx blackouts , admitted for sz at home ; 1^st sz w/ fall and laceration to forehead ; interventions as above ; did have seizure in er , none since admission to 4 ; taking po med w/ sips water w/out problems ; received mag repletion for low serum mag ; slept from approx 01:00 to end of shift ; no confusion this night ; safety measures in place .\n",
      "subjective asleep ; received jevity 1.5 @ 45ml/hr at nh per report objective height admit weight daily weight weight change bmi 155 cm 55.5 kg 23 ideal body weight % ideal body weight adjusted weight usual body weight % usual body weight 47.6 kg 117 % 53.71 ( ) diagnosis : ams pmh : cad s/p mi , dm type 11 , cva ( nonverbal ) , htn , s/p gtube , hypothyroidism , hyperlipidemia , depression , anemia food allergies and intolerances : nkfa pertinent medications : abx , pantoprazole , lasix , feso4 , colace , reglan , flagyl labs : value date glucose 387 mg/dl 03:01 am glucose finger stick 132 12:00 pm bun 45 mg/dl 03:01 am creatinine 1.0 mg/dl 03:01 am sodium 140 meq/l 03:01 am potassium 4.5 meq/l 03:01 am chloride 102 meq/l 03:01 am tco2 22 meq/l 03:01 am po2 ( arterial ) 62 mm hg 07:27 am pco2 ( arterial ) 31 mm hg 07:27 am ph ( arterial ) 7.52 units 07:27 am co2 ( calc ) arterial 26 meq/l 07:27 am calcium non-ionized 8.3 mg/dl 03:01 am phosphorus 3.8 mg/dl 03:01 am magnesium 2.7 mg/dl 03:01 am wbc 15.9 k/ul 03:01 am hgb 11.7 g/dl 03:01 am hematocrit 36.1 % 03:01 am current diet order / nutrition support : diet : npo gi : soft/distended , hypo bs assessment of nutritional status at risk for malnutrition pt at risk due to : npo / hypocaloric diet , tf dependent estimated nutritional needs calories : 1390-1665 ( bee x or / 25-30 cal/kg ) protein : 56-67 ( 1-1.2 g/kg ) fluid : per team estimation of previous intake : likely adequate estimation of current intake : inadequate npo specifics : pt admitted from nh w/ sob , found to be clammy , sweating profusely .\n",
      "2000\n",
      "3000\n",
      "objective height admit weight daily weight weight change bmi 173 cm 100.9 kg 100.9 kg ( 06:00 pm ) 33.8 ideal body weight % ideal body weight adjusted weight usual body weight % usual body weight 69.9 kg 144 % 77.7kg diagnosis : acute sdh pmh : cad s/p cabg , cva yrs ago , dm , htn , hld , chf , recent perf'd ileal ulcer ( nsaid overuse ) s/p bowel resectionand ostomy x 2 , complicated by nstemi and peritoneal mrsa infection , cri ( baseline cre 1.5 ) , recent c.diff colitis , hypophosphatemia pertinent medications : protonix , decadron , dilantin , ssri , colace , senna , percoce , heparin , tylenol , others noted labs : value date glucose 177 mg/dl 01:48 am glucose finger stick 137 10:00 am bun 23 mg/dl 01:48 am creatinine 1.3 mg/dl 01:48 am sodium 136 meq/l 01:48 am potassium 5.3 meq/l 01:48 am chloride 106 meq/l 01:48 am tco2 24 meq/l 01:48 am albumin 3.3 g/dl 01:48 am calcium non-ionized 9.0 mg/dl 01:48 am phosphorus 3.5 mg/dl 01:48 am ionized calcium 1.22 mmol/l 10:04 pm magnesium 1.9 mg/dl 01:48 am phenytoin ( dilantin ) 5.7 ug/ml 01:48 am wbc 7.6 k/ul 01:48 am hgb 11.1 g/dl 01:48 am hematocrit 32.4 % 01:48 am current diet order / nutrition support : npo gi : +bs assessment of nutritional status pt at risk due to : stroke estimated nutritional needs ( per adj bw ) calories : 1631-1950kcal/day protein : 101-109g/day fluid : estimation of current intake : inadequate specifics : 76 yo m with acute onset r weakness , garbled speech , and subsequent gtc x 2 , found to have l frontal sdh .\n",
      "cvicu hpi : hd2 pod 1 78yom s/p avr ( # 21 stjude tissue ) ef 55 cr 3.1 wt 84.5k pmh : htn , ^lipids , pvd , cri ( 3.3 ) , af , chf , anemia , copd , hperparathyroid psh : l fem- bpgw/ptfe , bilat toe amps , pleurectomy ( refractory effusions ) , cataract : actonel 35 qwk , advair 250/50 '' , atenolol 25 ' , detrol la 4 qod , feso4 325 ' , paxil 40 ' , protonix 40 ' , zocor 20 ' , terazosin 2hs , procrit-prn , floranex 2tabs '' , nahco3 650 '' ' , zemplar 1 cap ' , asa 161' current medications : acetaminophen , albuterol , aspirin , docusate , fluticasone-salmeterol ( 250/50 ) , insulin , meperidine , metoclopramide , morphine , nitroglycerin , oxycodone-acetaminophen , pantoprazole , qvar , simvastatin , sulcralfate , vancomycin 24 hour events : intubation - at 01:15 pm or received - at 01:15 pm cco pac - start 01:30 pm trauma line - start 01:30 pm arterial line - start 01:30 pm invasive ventilation - start 01:30 pm received intubated from or ekg - at 03:31 pm post operative day : pod # 1 - s/p avr hour events : routine postoperative cardiac care allergies : penicillins rash ; last dose of antibiotics : vancomycin - 08:00 pm infusions : insulin - regular - 1 units/hour nitroglycerin - 2 mcg/kg/min other icu medications : pantoprazole ( protonix ) - 10:45 pm insulin - regular - 11:00 pm dextrose 50 % - 11:00 pm sodium bicarbonate 8.4 % ( amp ) - 11:00 pm other medications : flowsheet data as of 10:01 am vital signs hemodynamic monitoring fluid balance 24 hours since a.m. hr : 70 ( 49 - 85 ) bpm bp : 120/48 ( 69 ) { 77/34 ( 47 ) - 146/65 ( 90 ) } mmhg rr : 18 ( 9 - 21 ) insp/min spo2 : 100 % heart rhythm : a paced wgt ( current ) : 91.6 kg ( admission ) : 84.3 kg height : 67 inch cvp : 9 ( 5 - 16 ) mmhg pap : ( 36 mmhg ) / ( 14 mmhg ) co/ci ( fick ) : ( 5.3 l/min ) / ( 2.7 l/min/m2 ) co/ci ( cco ) : ( 5.4 l/min ) / ( 2.8 l/min/m2 ) svo2 : 60 % mixed venous o2 % sat : 68 - 77 total in : 10,137 ml 814 ml po : tube feeding : iv fluid : 8,210 ml 534 ml blood products : 1,772 ml 250 ml total out : 851 ml 699 ml urine : 605 ml 455 ml ng : 150 ml stool :\n"
     ]
    },
    {
     "name": "stdout",
     "output_type": "stream",
     "text": [
      "cvicu hpi : 58m pod 1 from cabgx4 ( lima- > lad/svg- > om/diag/pda ) chief complaint : pmhx : cad s/p stemi ' with bms- > rca , htn , dmii^lipids current medications : 24 hour events : or received - at 02:50 pm invasive ventilation - start 03:00 pm arterial line - start 03:00 pm pa catheter - start 03:00 pm ekg - at 03:15 pm nasal swab - at 03:20 pm extubation - at 09:20 pm invasive ventilation - stop 09:20 pm * extubated successfuly * stable hemodynamically allergies : no known drug allergies last dose of antibiotics : vancomycin - 10:00 pm infusions : other icu medications : morphine sulfate - 07:20 pm ranitidine ( prophylaxis ) - 08:00 pm carafate ( sucralfate ) - 09:00 pm insulin - regular - 02:13 am other medications : flowsheet data as of 07:45 am vital signs hemodynamic monitoring fluid balance 24 hours since a.m. tmax : 37.7 c ( 99.9 t current : 37.7 c ( 99.9 hr : 103 ( 79 - 107 ) bpm bp : 112/58 ( 73 ) { 77/52 ( 60 ) - 157/89 ( 109 ) } mmhg rr : 11 ( 11 - 30 ) insp/min spo2 : 96 % heart rhythm : st ( sinus tachycardia ) height : 72 inch cvp : 4 ( 4 - 252 ) mmhg pap : ( 26 mmhg ) / ( 12 mmhg ) co/ci ( thermodilution ) : ( 5.17 l/min ) / ( 2.9 l/min/m2 ) co/ci ( fick ) : ( 9.1 l/min ) / ( 3.7 l/min/m2 ) svr : 790 dynes * sec/cm5 mixed venous o2 % sat : 78 - 78 sv : 70 ml svi : 28 ml/m2 total in : 5,743 ml 50 ml po : 120 ml tube feeding : iv fluid : 5,283 ml 50 ml blood products : 300 ml total out : 1,364 ml 465 ml urine : 827 ml 375 ml ng : stool :\n",
      "cvicu hpi : 84m pod # 1 from avr ( # 21mm porcine ) / cabgx2 ( svg- > lad/svg- > diag ) chief complaint : pmhx : as , cri , dm ( diet ) , gi bleed on coumadin , gout , depression , syncope , bph , colon polyps , pvd , htn , hyperchol , chf , chb s/p ppm 95 current medications : 24 hour events : or received - at 12:10 pm cabg x 's 2 avr bio invasive ventilation - start 12:10 pm arterial line - start 12:10 pm cordis/introducer - start 12:10 pm pa catheter - start 12:10 pm via cordis nasal swab - at 12:40 pm ekg - at 01:00 pm extubation - at 09:45 pm invasive ventilation - stop 09:45 pm fever - 101.3 c - 10:00 pm * extubated successfuly * hypertensive overnight on ntg * fluid avid with adequate results post operative day : pod # 1 - cabg x 's 2 avr bio allergies : coumadin ( oral ) ( warfarin sodium ) unknown ; last dose of antibiotics : infusions : nitroglycerin - 2.5 mcg/kg/min other icu medications : insulin - regular - 06:19 pm hydralazine - 07:36 pm carafate ( sucralfate ) - 08:00 pm morphine sulfate - 12:33 am other medications : flowsheet data as of 07:19 am vital signs hemodynamic monitoring fluid balance 24 hours since a.m. tmax : 38.5 c ( 101.3 t current : 38.2 c ( 100.8 hr : 70 ( 69 - 84 ) bpm bp : 107/66 ( 80 ) { 106/46 ( 64 ) - 149/89 ( 99 ) } mmhg rr : 26 ( 12 - 30 ) insp/min spo2 : 97 % heart rhythm : v paced height : 67 inch cvp : 17 ( 4 - 18 ) mmhg pap : ( 46 mmhg ) / ( 20 mmhg ) co/ci ( thermodilution ) : ( 4.38 l/min ) / ( 2.4 l/min/m2 ) co/ci ( fick ) : ( 4.8 l/min ) / ( 2.6 l/min/m2 ) svr : 1,078 dynes * sec/cm5 mixed venous o2 % sat : 53 - 65 sv : 63 ml svi : 34 ml/m2 total in : 7,907 ml 174 ml po : tube feeding : iv fluid : 6,757 ml 174 ml blood products : 1,130 ml total out : 2,140 ml 490 ml urine : 1,110 ml 320 ml ng : stool :\n",
      "cvicu hpi : pod # 1 72f s/p resternotomy , s/p avr and mvr ef 55 % cr 0.8 wt 55.2kg : lasix 20 ' , digoxin 125 ' , albuterol mdi , coumadin pmh : mr , s/p mitral commissurotomy ' , afib , rheumatic fever , s/p cva current medications : albuterol-ipratropium , albuterol 0.083 % neb soln , aspirin , docusate sodium , morphine sulfate , oxycodone-acetaminophen , ranitidine , warfarin 24 hour events : or received - at 07:15 pm invasive ventilation - start 07:30 pm arterial line - start 07:38 pm cordis/introducer - start 07:39 pm cco pac - start 07:41 pm nasal swab - at 08:00 pm ekg - at 05:00 am post operative day : pod # 1 - re-do sternotomy , avr & mvr hour events : received from or , increased ct output received protamine , ffp , remained epi , remained intubated allergies : no known drug allergies last dose of antibiotics : vancomycin - 08:00 am infusions : insulin - regular - 2 units/hour phenylephrine - 0.1 mcg/kg/min other icu medications : morphine sulfate - 11:30 pm other medications : flowsheet data as of 08:23 am vital signs hemodynamic monitoring fluid balance 24 hours since a.m. tmax : 36.2 c ( 97.2 t current : 36.2 c ( 97.2 hr : 88 ( 79 - 109 ) bpm bp : 100/42 ( 58 ) { 82/40 ( 55 ) - 157/67 ( 104 ) } mmhg spo2 : 100 % heart rhythm : a paced wgt ( current ) : 64.1 kg ( admission ) : 55.9 kg height : 68 inch cvp : 12 ( 5 - 17 ) mmhg pap : ( 26 mmhg ) / ( 18 mmhg ) co/ci ( fick ) : ( 5.9 l/min ) / ( 3.5 l/min/m2 ) co/ci ( cco ) : ( 3.4 l/min ) / ( 2 l/min/m2 ) svo2 : 74 % mixed venous o2 % sat : 82 - 82 total in : 6,604 ml 1,280 ml po : tube feeding : iv fluid : 5,212 ml 1,056 ml blood products : 1,392 ml 185 ml total out : 2,550 ml 770 ml urine : 830 ml 490 ml ng : 50 ml stool :\n",
      "objective height admit weight daily weight weight change bmi 165 cm 75 kg 27.4 ideal body weight % ideal body weight adjusted weight usual body weight % usual body weight 56.7 kg 132 % 61.3 diagnosis : cva/tia pmh : htn , cad , dyslipidemia , rf , ra , s/p l4-5 disc hernia repair , s/p pituitary adenoma excision , s/p appy , s/p appy , s/p tah , s/p ex lap/loa , s/p c-section x 3 , s/p rhinoplasty , spastic colon food allergies and intolerances : none noted pertinent medications : riss , famotidine , propofol , ns @ 60 ml/hr , others noted labs : value date glucose 103 mg/dl 04:20 am glucose finger stick 97 10:00 am bun 29 mg/dl 04:20 am creatinine 1.3 mg/dl 04:20 am sodium 136 meq/l 04:20 am potassium 3.6 meq/l 04:20 am chloride 106 meq/l 04:20 am tco2 22 meq/l 04:20 am po2 ( arterial ) 230 mm hg 04:44 am pco2 ( arterial ) 32 mm hg 04:44 am ph ( arterial ) 7.45 units 04:44 am ph ( urine ) 5.0 units 04:20 am co2 ( calc ) arterial 23 meq/l 04:44 am calcium non-ionized 7.9 mg/dl 04:20 am phosphorus 2.8 mg/dl 04:20 am magnesium 2.1 mg/dl 04:20 am triglyceride 663 mg/dl 04:20 am wbc 11.9 k/ul 04:20 am hgb 10.6 g/dl 04:20 am hematocrit 30.2 % 04:20 am current diet order / nutrition support : npo gi : soft , nt , nd , +bs assessment of nutritional status at risk for malnutrition pt at risk due to : npo / hypocaloric diet estimated nutritional needs based on adjusted wt calories : 1349-1533 ( 22-25 cal/kg ) protein : 61-73 ( 1-1.2 g/kg ) fluid : per team estimation of previous intake : likely adequate estimation of current intake : inadequate specifics : 75 year old female s/p fall with l hemiplegia , dysarthria , and profound neglect with r mca .\n",
      "4000\n",
      "cvicu hpi : pod1 70f s/p cabgx2 ( lima-lad , svg-om ) ef cre 1.0 wt 85 pmhx : htn , hypercholesterolemia , gout , obesity , b/l ceas : asa 325 , lisinopril 20 '' , zocor 80 , lopressor 50 , cochicine 0.6 current medications : acetaminophen aspirin ec docusate sodium insulin metoprolol tartrate oxycodone-acetaminophen ranitidine 24 hour events : or received - at 02:10 pm arterial line - start 02:30 pm ekg - at 02:30 pm cordis/introducer - start 02:30 pm pa catheter - start 02:30 pm arterial line - start 06:30 pm arterial line - stop 07:00 pm allergies : no known drug allergies last dose of antibiotics : vancomycin - 08:00 am infusions : insulin - regular - 6 units/hour nitroglycerin - 1 mcg/kg/min other icu medications : carafate ( sucralfate ) - 04:00 pm metoprolol - 07:45 pm ranitidine ( prophylaxis ) - 08:00 am morphine sulfate - 08:40 am flowsheet data as of 09:46 am vital signs hemodynamic monitoring fluid balance 24 hours since a.m. tmax : 38.3 c ( 100.9 t current : 37.6 c ( 99.7 hr : 121 ( 85 - 135 ) bpm bp : 98/38 ( 48 ) { 66/27 ( 38 ) - 141/57 ( 77 ) } mmhg rr : 22 ( 14 - 26 ) insp/min spo2 : 99 % heart rhythm : st ( sinus tachycardia ) wgt ( current ) : 96.5 kg ( admission ) : 85 kg height : 58 inch cvp : 15 ( 4 - 22 ) mmhg pap : ( 39 mmhg ) / ( 23 mmhg ) co/ci ( thermodilution ) : ( 4.35 l/min ) / ( 2.5 l/min/m2 ) co/ci ( fick ) : ( 4.3 l/min ) / ( 2.4 l/min/m2 ) svr : 1,177 dynes * sec/cm5 svo2 : 69 % mixed venous o2 % sat : 46 - 70 sv : 35 ml svi : 20 ml/m2 total in : 10,742 ml 1,258 ml po : tube feeding : iv fluid : 9,614 ml 1,148 ml blood products : 1,128 ml total out : 3,340 ml 365 ml urine : 2,540 ml 285 ml ng : stool :\n",
      "cvicu hpi : pod1 70f s/p cabgx2 ( lima-lad , svg-om ) ef cre 1.0 wt 85 pmhx : htn , hypercholesterolemia , gout , obesity , b/l ceas : asa 325 , lisinopril 20 '' , zocor 80 , lopressor 50 , cochicine 0.6 current medications : acetaminophen aspirin ec docusate sodium insulin metoprolol tartrate oxycodone-acetaminophen ranitidine 24 hour events : or received - at 02:10 pm arterial line - start 02:30 pm ekg - at 02:30 pm cordis/introducer - start 02:30 pm pa catheter - start 02:30 pm arterial line - start 06:30 pm arterial line - stop 07:00 pm allergies : no known drug allergies last dose of antibiotics : vancomycin - 08:00 am infusions : insulin - regular - 6 units/hour nitroglycerin - 1 mcg/kg/min other icu medications : carafate ( sucralfate ) - 04:00 pm metoprolol - 07:45 pm ranitidine ( prophylaxis ) - 08:00 am morphine sulfate - 08:40 am flowsheet data as of 09:46 am vital signs hemodynamic monitoring fluid balance 24 hours since a.m. tmax : 38.3 c ( 100.9 t current : 37.6 c ( 99.7 hr : 121 ( 85 - 135 ) bpm bp : 98/38 ( 48 ) { 66/27 ( 38 ) - 141/57 ( 77 ) } mmhg rr : 22 ( 14 - 26 ) insp/min spo2 : 99 % heart rhythm : st ( sinus tachycardia ) wgt ( current ) : 96.5 kg ( admission ) : 85 kg height : 58 inch cvp : 15 ( 4 - 22 ) mmhg pap : ( 39 mmhg ) / ( 23 mmhg ) co/ci ( thermodilution ) : ( 4.35 l/min ) / ( 2.5 l/min/m2 ) co/ci ( fick ) : ( 4.3 l/min ) / ( 2.4 l/min/m2 ) svr : 1,177 dynes * sec/cm5 svo2 : 69 % mixed venous o2 % sat : 46 - 70 sv : 35 ml svi : 20 ml/m2 total in : 10,742 ml 1,258 ml po : tube feeding : iv fluid : 9,614 ml 1,148 ml blood products : 1,128 ml total out : 3,340 ml 365 ml urine : 2,540 ml 285 ml ng : stool :\n"
     ]
    }
   ],
   "source": [
    "count = 0\n",
    "biobert = BiobertEmbedding(\"/opt/notebooks/embeddings/\")\n",
    "new_biobert_dict = {}\n",
    "for i in ner_df.itertuples():\n",
    "    if count % 1000 == 0:\n",
    "        print(count)\n",
    "    if i.preprocessed_text is not None and len(i.preprocessed_text[0]) > 0:\n",
    "        try:\n",
    "            sentence_vector = biobert.sentence_vector(i.preprocessed_text[0])\n",
    "        except:\n",
    "            print(i.preprocessed_text[0])\n",
    "        if i.SUBJECT_ID not in new_biobert_dict:\n",
    "            new_biobert_dict[i.SUBJECT_ID] = list(sentence_vector)            \n",
    "        else:\n",
    "            new_biobert_dict[i.SUBJECT_ID].append(sentence_vector)    \n",
    "    count += 1\n"
   ]
  }
 ],
 "metadata": {
  "kernelspec": {
   "display_name": "Python 3 (ipykernel)",
   "language": "python",
   "name": "python3"
  },
  "language_info": {
   "codemirror_mode": {
    "name": "ipython",
    "version": 3
   },
   "file_extension": ".py",
   "mimetype": "text/x-python",
   "name": "python",
   "nbconvert_exporter": "python",
   "pygments_lexer": "ipython3",
   "version": "3.9.13"
  }
 },
 "nbformat": 4,
 "nbformat_minor": 5
}
