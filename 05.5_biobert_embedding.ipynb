{
 "cells": [
  {
   "cell_type": "code",
   "execution_count": 14,
   "id": "6e66e77a",
   "metadata": {},
   "outputs": [],
   "source": [
    "from biobert_embedding.embedding import BiobertEmbedding\n",
    "from scipy.spatial import distance\n",
    "import pandas as pd\n"
   ]
  },
  {
   "cell_type": "code",
   "execution_count": 15,
   "id": "32b82dcf",
   "metadata": {},
   "outputs": [],
   "source": [
    "ner_df = pd.read_pickle(\"data/ner_df.p\")\n"
   ]
  },
  {
   "cell_type": "code",
   "execution_count": 17,
   "id": "840491ef",
   "metadata": {},
   "outputs": [],
   "source": [
    "null_index_list = []\n",
    "for i in ner_df.itertuples():\n",
    "    if len(i.ner) == 0:\n",
    "        null_index_list.append(i.Index)\n",
    "ner_df.drop(null_index_list, inplace=True)"
   ]
  },
  {
   "cell_type": "code",
   "execution_count": 23,
   "id": "9967dc64",
   "metadata": {},
   "outputs": [
    {
     "name": "stdout",
     "output_type": "stream",
     "text": [
      "132887\n"
     ]
    }
   ],
   "source": [
    "print(len(ner_df))"
   ]
  },
  {
   "cell_type": "code",
   "execution_count": null,
   "id": "11ae2b87",
   "metadata": {},
   "outputs": [
    {
     "name": "stdout",
     "output_type": "stream",
     "text": [
      "0\n"
     ]
    }
   ],
   "source": [
    "count = 0\n",
    "biobert = BiobertEmbedding(\"/opt/notebooks/embeddings/\")\n",
    "new_biobert_dict = {}\n",
    "for i in ner_df.itertuples():\n",
    "    if count % 1000 == 0:\n",
    "        print(count)\n",
    "    if i.preprocessed_text is not None and len(i.preprocessed_text[0]) > 0:\n",
    "        sentence_vector = biobert.sentence_vector(i.preprocessed_text[0])\n",
    "        if i.SUBJECT_ID not in new_biobert_dict:\n",
    "            new_biobert_dict[i.SUBJECT_ID] = list(sentence_vector)            \n",
    "        else:\n",
    "            new_biobert_dict[i.SUBJECT_ID].append(sentence_vector)    \n",
    "    count += 1\n"
   ]
  }
 ],
 "metadata": {
  "kernelspec": {
   "display_name": "Python 3 (ipykernel)",
   "language": "python",
   "name": "python3"
  },
  "language_info": {
   "codemirror_mode": {
    "name": "ipython",
    "version": 3
   },
   "file_extension": ".py",
   "mimetype": "text/x-python",
   "name": "python",
   "nbconvert_exporter": "python",
   "pygments_lexer": "ipython3",
   "version": "3.9.13"
  }
 },
 "nbformat": 4,
 "nbformat_minor": 5
}
