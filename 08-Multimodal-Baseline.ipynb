{
 "cells": [
  {
   "cell_type": "code",
   "execution_count": 1,
   "metadata": {},
   "outputs": [
    {
     "name": "stderr",
     "output_type": "stream",
     "text": [
      "2023-05-01 00:00:34.747858: I tensorflow/tsl/cuda/cudart_stub.cc:28] Could not find cuda drivers on your machine, GPU will not be used.\n",
      "2023-05-01 00:00:34.798223: I tensorflow/tsl/cuda/cudart_stub.cc:28] Could not find cuda drivers on your machine, GPU will not be used.\n",
      "2023-05-01 00:00:34.799199: I tensorflow/core/platform/cpu_feature_guard.cc:182] This TensorFlow binary is optimized to use available CPU instructions in performance-critical operations.\n",
      "To enable the following instructions: AVX2 FMA, in other operations, rebuild TensorFlow with the appropriate compiler flags.\n",
      "2023-05-01 00:00:35.495938: W tensorflow/compiler/tf2tensorrt/utils/py_utils.cc:38] TF-TRT Warning: Could not find TensorRT\n"
     ]
    }
   ],
   "source": [
    "import pandas as pd\n",
    "import os\n",
    "\n",
    "GPU               = '1'\n",
    "os.environ['CUDA_VISIBLE_DEVICES'] = GPU\n",
    "\n",
    "import numpy as np\n",
    "from gensim.models import Word2Vec, FastText\n",
    "import glove\n",
    "from glove import Corpus\n",
    "import collections\n",
    "import gc \n",
    "import keras\n",
    "from keras import backend as K\n",
    "from keras import regularizers\n",
    "from keras.models import Sequential, Model\n",
    "from keras.layers import Flatten, Dense, Dropout, Input, concatenate, Concatenate, Activation, Concatenate, LSTM, GRU\n",
    "from keras.layers import Input, Conv2D, MaxPooling2D, UpSampling2D, Conv1D, BatchNormalization, GRU, Convolution1D, LSTM\n",
    "from keras.layers import UpSampling1D, MaxPooling1D, GlobalMaxPooling1D, GlobalAveragePooling1D,MaxPool1D, Concatenate\n",
    "from keras.callbacks import EarlyStopping, ModelCheckpoint, History, ReduceLROnPlateau\n",
    "from keras.utils import np_utils\n",
    "# from keras.backend.tensorflow_backend import set_session, clear_session, get_session\n",
    "from keras.backend import set_session, clear_session, get_session\n",
    "import tensorflow as tf\n",
    "from keras.optimizers import Adam\n",
    "from sklearn.utils import class_weight\n",
    "from sklearn.metrics import average_precision_score, roc_auc_score, accuracy_score, f1_score\n",
    "import warnings\n",
    "warnings.filterwarnings('ignore')\n",
    "import time\n",
    "def mean(a):\n",
    "    return sum(a) / len(a)\n",
    "\n"
   ]
  },
  {
   "cell_type": "code",
   "execution_count": 2,
   "metadata": {},
   "outputs": [],
   "source": [
    "# Reset Keras Session\n",
    "def reset_keras(model):\n",
    "    sess = get_session()\n",
    "    clear_session()\n",
    "    sess.close()\n",
    "    sess = get_session()\n",
    "\n",
    "    try:\n",
    "        del model # this is from global space - change this as you need\n",
    "    except:\n",
    "        pass\n",
    "\n",
    "    gc.collect() # if it's done something you should see a number being outputted\n",
    "\n",
    "def create_dataset(dict_of_ner):\n",
    "    temp_data = []\n",
    "    for k, v in sorted(dict_of_ner.items()):\n",
    "        temp = []\n",
    "        for embed in v:\n",
    "            temp.append(embed)\n",
    "        temp_data.append(np.mean(temp, axis = 0)) \n",
    "    return np.asarray(temp_data)\n",
    "\n",
    "def make_prediction_multi_avg(model, test_data):\n",
    "    probs = model.predict(test_data)\n",
    "    y_pred = [1 if i>=0.5 else 0 for i in probs]\n",
    "    return probs, y_pred\n",
    "\n",
    "def save_scores_multi_avg(predictions, probs, ground_truth, \n",
    "                          \n",
    "                          embed_name, problem_type, iteration, hidden_unit_size,\n",
    "                          \n",
    "                          sequence_name, type_of_ner):\n",
    "    \n",
    "    auc = roc_auc_score(ground_truth, probs)\n",
    "    auprc = average_precision_score(ground_truth, probs)\n",
    "    acc   = accuracy_score(ground_truth, predictions)\n",
    "    F1    = f1_score(ground_truth, predictions)\n",
    "    \n",
    "    result_dict = {}    \n",
    "    result_dict['auc'] = auc\n",
    "    result_dict['auprc'] = auprc\n",
    "    result_dict['acc'] = acc\n",
    "    result_dict['F1'] = F1\n",
    "    \n",
    "    result_path = \"results/multimodal-baseline\"\n",
    "    file_name = str(sequence_name)+\"-\"+str(hidden_unit_size)+\"-\"+embed_name\n",
    "    file_name = file_name +\"-\"+problem_type+\"-\"+str(iteration)+\"-\"+type_of_ner+\"-avg-.p\"\n",
    "    pd.to_pickle(result_dict, os.path.join(result_path, file_name))\n",
    "\n",
    "    print(auc, auprc, acc, F1)\n",
    "    \n",
    "def avg_ner_model(layer_name, number_of_unit, embedding_name):\n",
    "\n",
    "    if embedding_name == \"concat\":\n",
    "        input_dimension = 200\n",
    "    elif embedding_name == \"biobert\": \n",
    "        input_dimension = 768\n",
    "    else:\n",
    "        input_dimension = 100\n",
    "\n",
    "    sequence_input = Input(shape=(24,104))\n",
    "\n",
    "    input_avg = Input(shape=(input_dimension, ), name = \"avg\")        \n",
    "#     x_1 = Dense(256, activation='relu')(input_avg)\n",
    "#     x_1 = Dropout(0.3)(x_1)\n",
    "    \n",
    "    if layer_name == \"GRU\":\n",
    "        x = GRU(number_of_unit)(sequence_input)\n",
    "    elif layer_name == \"LSTM\":\n",
    "        x = LSTM(number_of_unit)(sequence_input)\n",
    "\n",
    "    x = keras.layers.Concatenate()([x, input_avg])\n",
    "\n",
    "    x = Dense(256, activation='relu')(x)\n",
    "    x = Dropout(0.2)(x)\n",
    "    \n",
    "    \n",
    "#     logits_regularizer = tf.contrib.layers.l2_regularizer(scale=0.01)\n",
    "    \n",
    "#     preds = Dense(1, activation='sigmoid',use_bias=False,\n",
    "#                          kernel_initializer=tf.contrib.layers.xavier_initializer(), \n",
    "#                   kernel_regularizer=logits_regularizer)(x)\n",
    "    \n",
    "    \n",
    "# https://stackoverflow.com/questions/70447036/run-the-code-tensorflow-1-15-in-tensorflow-2-7\n",
    "    logits_regularizer = tf.keras.regularizers.l2(l=0.5 * (0.01))\n",
    "    preds = Dense(1, activation='sigmoid',use_bias=False,kernel_initializer=tf.compat.v1.keras.initializers.glorot_normal(), \n",
    "                  kernel_regularizer=logits_regularizer)(x)\n",
    "    \n",
    "    adam_opt = Adam(lr=0.0006, decay=0.01)\n",
    "        \n",
    "    model = Model(inputs=[sequence_input, input_avg], outputs=preds)\n",
    "    model.compile(loss='binary_crossentropy',\n",
    "                  optimizer=adam_opt,\n",
    "                  metrics=['acc'])\n",
    "    \n",
    "    return model"
   ]
  },
  {
   "cell_type": "code",
   "execution_count": 3,
   "metadata": {},
   "outputs": [],
   "source": [
    "type_of_ner = \"new\"\n",
    "\n",
    "x_train_lstm = pd.read_pickle(\"data/\"+type_of_ner+\"_x_train.pkl\")\n",
    "x_dev_lstm = pd.read_pickle(\"data/\"+type_of_ner+\"_x_dev.pkl\")\n",
    "x_test_lstm = pd.read_pickle(\"data/\"+type_of_ner+\"_x_test.pkl\")\n",
    "\n",
    "y_train = pd.read_pickle(\"data/\"+type_of_ner+\"_y_train.pkl\")\n",
    "y_dev = pd.read_pickle(\"data/\"+type_of_ner+\"_y_dev.pkl\")\n",
    "y_test = pd.read_pickle(\"data/\"+type_of_ner+\"_y_test.pkl\")\n",
    "\n",
    "ner_word2vec = pd.read_pickle(\"data/\"+type_of_ner+\"_ner_word2vec_limited_dict.pkl\")\n",
    "ner_fasttext = pd.read_pickle(\"data/\"+type_of_ner+\"_ner_fasttext_limited_dict.pkl\")\n",
    "ner_concat = pd.read_pickle(\"data/\"+type_of_ner+\"_ner_combined_limited_dict.pkl\")\n",
    "# ner_biobert = pd.read_pickle(\"data/\"+type_of_ner+\"_ner_biobert_limited_dict.pkl\")\n",
    "\n",
    "ner_biobert = pd.read_pickle(\"data/biobert_test_data.pkl\")\n",
    "\n",
    "train_ids = pd.read_pickle(\"data/\"+type_of_ner+\"_train_ids.pkl\")\n",
    "dev_ids = pd.read_pickle(\"data/\"+type_of_ner+\"_dev_ids.pkl\")\n",
    "test_ids = pd.read_pickle(\"data/\"+type_of_ner+\"_test_ids.pkl\")"
   ]
  },
  {
   "cell_type": "code",
   "execution_count": 4,
   "metadata": {},
   "outputs": [
    {
     "name": "stdout",
     "output_type": "stream",
     "text": [
      "Layer:  GRU\n",
      "Hidden unit:  256\n",
      "Embedding:  word2vec\n",
      "=============================\n",
      "Iteration number:  1\n",
      "Problem type:  mort_hosp\n",
      "__________________\n"
     ]
    },
    {
     "name": "stderr",
     "output_type": "stream",
     "text": [
      "2023-05-01 00:00:50.736522: I tensorflow/core/common_runtime/executor.cc:1197] [/device:CPU:0] (DEBUG INFO) Executor start aborting (this does not indicate an error and you can ignore this message): INVALID_ARGUMENT: You must feed a value for placeholder tensor 'gradients/split_2_grad/concat/split_2/split_dim' with dtype int32\n",
      "\t [[{{node gradients/split_2_grad/concat/split_2/split_dim}}]]\n",
      "2023-05-01 00:00:50.738107: I tensorflow/core/common_runtime/executor.cc:1197] [/device:CPU:0] (DEBUG INFO) Executor start aborting (this does not indicate an error and you can ignore this message): INVALID_ARGUMENT: You must feed a value for placeholder tensor 'gradients/split_grad/concat/split/split_dim' with dtype int32\n",
      "\t [[{{node gradients/split_grad/concat/split/split_dim}}]]\n",
      "2023-05-01 00:00:50.739203: I tensorflow/core/common_runtime/executor.cc:1197] [/device:CPU:0] (DEBUG INFO) Executor start aborting (this does not indicate an error and you can ignore this message): INVALID_ARGUMENT: You must feed a value for placeholder tensor 'gradients/split_1_grad/concat/split_1/split_dim' with dtype int32\n",
      "\t [[{{node gradients/split_1_grad/concat/split_1/split_dim}}]]\n"
     ]
    },
    {
     "name": "stdout",
     "output_type": "stream",
     "text": [
      "Epoch 1/70\n"
     ]
    },
    {
     "name": "stderr",
     "output_type": "stream",
     "text": [
      "2023-05-01 00:00:51.522392: I tensorflow/core/common_runtime/executor.cc:1197] [/device:CPU:0] (DEBUG INFO) Executor start aborting (this does not indicate an error and you can ignore this message): INVALID_ARGUMENT: You must feed a value for placeholder tensor 'gradients/split_2_grad/concat/split_2/split_dim' with dtype int32\n",
      "\t [[{{node gradients/split_2_grad/concat/split_2/split_dim}}]]\n",
      "2023-05-01 00:00:51.524287: I tensorflow/core/common_runtime/executor.cc:1197] [/device:CPU:0] (DEBUG INFO) Executor start aborting (this does not indicate an error and you can ignore this message): INVALID_ARGUMENT: You must feed a value for placeholder tensor 'gradients/split_grad/concat/split/split_dim' with dtype int32\n",
      "\t [[{{node gradients/split_grad/concat/split/split_dim}}]]\n",
      "2023-05-01 00:00:51.525578: I tensorflow/core/common_runtime/executor.cc:1197] [/device:CPU:0] (DEBUG INFO) Executor start aborting (this does not indicate an error and you can ignore this message): INVALID_ARGUMENT: You must feed a value for placeholder tensor 'gradients/split_1_grad/concat/split_1/split_dim' with dtype int32\n",
      "\t [[{{node gradients/split_1_grad/concat/split_1/split_dim}}]]\n",
      "2023-05-01 00:00:52.105383: I tensorflow/core/common_runtime/executor.cc:1197] [/device:CPU:0] (DEBUG INFO) Executor start aborting (this does not indicate an error and you can ignore this message): INVALID_ARGUMENT: You must feed a value for placeholder tensor 'gradients/split_2_grad/concat/split_2/split_dim' with dtype int32\n",
      "\t [[{{node gradients/split_2_grad/concat/split_2/split_dim}}]]\n",
      "2023-05-01 00:00:52.107295: I tensorflow/core/common_runtime/executor.cc:1197] [/device:CPU:0] (DEBUG INFO) Executor start aborting (this does not indicate an error and you can ignore this message): INVALID_ARGUMENT: You must feed a value for placeholder tensor 'gradients/split_grad/concat/split/split_dim' with dtype int32\n",
      "\t [[{{node gradients/split_grad/concat/split/split_dim}}]]\n",
      "2023-05-01 00:00:52.108552: I tensorflow/core/common_runtime/executor.cc:1197] [/device:CPU:0] (DEBUG INFO) Executor start aborting (this does not indicate an error and you can ignore this message): INVALID_ARGUMENT: You must feed a value for placeholder tensor 'gradients/split_1_grad/concat/split_1/split_dim' with dtype int32\n",
      "\t [[{{node gradients/split_1_grad/concat/split_1/split_dim}}]]\n"
     ]
    },
    {
     "name": "stdout",
     "output_type": "stream",
     "text": [
      "241/242 [============================>.] - ETA: 0s - loss: 0.2774 - acc: 0.9057"
     ]
    },
    {
     "name": "stderr",
     "output_type": "stream",
     "text": [
      "2023-05-01 00:01:00.121197: I tensorflow/core/common_runtime/executor.cc:1197] [/device:CPU:0] (DEBUG INFO) Executor start aborting (this does not indicate an error and you can ignore this message): INVALID_ARGUMENT: You must feed a value for placeholder tensor 'gradients/split_2_grad/concat/split_2/split_dim' with dtype int32\n",
      "\t [[{{node gradients/split_2_grad/concat/split_2/split_dim}}]]\n",
      "2023-05-01 00:01:00.122823: I tensorflow/core/common_runtime/executor.cc:1197] [/device:CPU:0] (DEBUG INFO) Executor start aborting (this does not indicate an error and you can ignore this message): INVALID_ARGUMENT: You must feed a value for placeholder tensor 'gradients/split_grad/concat/split/split_dim' with dtype int32\n",
      "\t [[{{node gradients/split_grad/concat/split/split_dim}}]]\n",
      "2023-05-01 00:01:00.123927: I tensorflow/core/common_runtime/executor.cc:1197] [/device:CPU:0] (DEBUG INFO) Executor start aborting (this does not indicate an error and you can ignore this message): INVALID_ARGUMENT: You must feed a value for placeholder tensor 'gradients/split_1_grad/concat/split_1/split_dim' with dtype int32\n",
      "\t [[{{node gradients/split_1_grad/concat/split_1/split_dim}}]]\n"
     ]
    },
    {
     "name": "stdout",
     "output_type": "stream",
     "text": [
      "\n",
      "Epoch 1: val_loss improved from inf to 0.23964, saving model to avg-word2vec-mort_hosp-best_model.hdf5\n",
      "242/242 [==============================] - 9s 32ms/step - loss: 0.2775 - acc: 0.9056 - val_loss: 0.2396 - val_acc: 0.9138\n",
      "Epoch 2/70\n",
      "241/242 [============================>.] - ETA: 0s - loss: 0.2425 - acc: 0.9149\n",
      "Epoch 2: val_loss improved from 0.23964 to 0.23222, saving model to avg-word2vec-mort_hosp-best_model.hdf5\n",
      "242/242 [==============================] - 7s 30ms/step - loss: 0.2423 - acc: 0.9150 - val_loss: 0.2322 - val_acc: 0.9161\n",
      "Epoch 3/70\n",
      "241/242 [============================>.] - ETA: 0s - loss: 0.2328 - acc: 0.9171\n",
      "Epoch 3: val_loss did not improve from 0.23222\n",
      "242/242 [==============================] - 7s 30ms/step - loss: 0.2327 - acc: 0.9171 - val_loss: 0.2336 - val_acc: 0.9161\n",
      "Epoch 4/70\n",
      "241/242 [============================>.] - ETA: 0s - loss: 0.2247 - acc: 0.9213\n",
      "Epoch 4: val_loss improved from 0.23222 to 0.23142, saving model to avg-word2vec-mort_hosp-best_model.hdf5\n",
      "242/242 [==============================] - 7s 30ms/step - loss: 0.2245 - acc: 0.9214 - val_loss: 0.2314 - val_acc: 0.9188\n",
      "Epoch 5/70\n",
      "241/242 [============================>.] - ETA: 0s - loss: 0.2226 - acc: 0.9206\n",
      "Epoch 5: val_loss improved from 0.23142 to 0.23025, saving model to avg-word2vec-mort_hosp-best_model.hdf5\n",
      "242/242 [==============================] - 7s 31ms/step - loss: 0.2226 - acc: 0.9207 - val_loss: 0.2303 - val_acc: 0.9179\n",
      "Epoch 6/70\n",
      "241/242 [============================>.] - ETA: 0s - loss: 0.2171 - acc: 0.9219\n",
      "Epoch 6: val_loss improved from 0.23025 to 0.22976, saving model to avg-word2vec-mort_hosp-best_model.hdf5\n",
      "242/242 [==============================] - 7s 31ms/step - loss: 0.2171 - acc: 0.9219 - val_loss: 0.2298 - val_acc: 0.9188\n",
      "Epoch 7/70\n",
      "241/242 [============================>.] - ETA: 0s - loss: 0.2144 - acc: 0.9258\n",
      "Epoch 7: val_loss improved from 0.22976 to 0.22946, saving model to avg-word2vec-mort_hosp-best_model.hdf5\n",
      "242/242 [==============================] - 7s 30ms/step - loss: 0.2143 - acc: 0.9258 - val_loss: 0.2295 - val_acc: 0.9143\n",
      "Epoch 8/70\n",
      "241/242 [============================>.] - ETA: 0s - loss: 0.2127 - acc: 0.9252\n",
      "Epoch 8: val_loss did not improve from 0.22946\n",
      "242/242 [==============================] - 7s 30ms/step - loss: 0.2126 - acc: 0.9253 - val_loss: 0.2297 - val_acc: 0.9175\n",
      "Epoch 9/70\n",
      "241/242 [============================>.] - ETA: 0s - loss: 0.2104 - acc: 0.9245\n",
      "Epoch 9: val_loss improved from 0.22946 to 0.22930, saving model to avg-word2vec-mort_hosp-best_model.hdf5\n",
      "242/242 [==============================] - 7s 30ms/step - loss: 0.2105 - acc: 0.9245 - val_loss: 0.2293 - val_acc: 0.9184\n",
      "Epoch 10/70\n",
      "241/242 [============================>.] - ETA: 0s - loss: 0.2097 - acc: 0.9249\n",
      "Epoch 10: val_loss did not improve from 0.22930\n",
      "242/242 [==============================] - 7s 30ms/step - loss: 0.2097 - acc: 0.9249 - val_loss: 0.2295 - val_acc: 0.9156\n",
      "Epoch 11/70\n",
      "241/242 [============================>.] - ETA: 0s - loss: 0.2083 - acc: 0.9268\n",
      "Epoch 11: val_loss improved from 0.22930 to 0.22873, saving model to avg-word2vec-mort_hosp-best_model.hdf5\n",
      "242/242 [==============================] - 7s 31ms/step - loss: 0.2082 - acc: 0.9268 - val_loss: 0.2287 - val_acc: 0.9156\n",
      "Epoch 12/70\n",
      "241/242 [============================>.] - ETA: 0s - loss: 0.2057 - acc: 0.9265\n",
      "Epoch 12: val_loss did not improve from 0.22873\n",
      "242/242 [==============================] - 8s 32ms/step - loss: 0.2057 - acc: 0.9265 - val_loss: 0.2294 - val_acc: 0.9156\n",
      "Epoch 13/70\n",
      "241/242 [============================>.] - ETA: 0s - loss: 0.2049 - acc: 0.9264\n",
      "Epoch 13: val_loss improved from 0.22873 to 0.22828, saving model to avg-word2vec-mort_hosp-best_model.hdf5\n",
      "242/242 [==============================] - 8s 32ms/step - loss: 0.2050 - acc: 0.9264 - val_loss: 0.2283 - val_acc: 0.9170\n",
      "Epoch 14/70\n",
      "241/242 [============================>.] - ETA: 0s - loss: 0.2035 - acc: 0.9281\n",
      "Epoch 14: val_loss did not improve from 0.22828\n",
      "242/242 [==============================] - 7s 31ms/step - loss: 0.2033 - acc: 0.9282 - val_loss: 0.2290 - val_acc: 0.9156\n",
      "Epoch 15/70\n",
      "241/242 [============================>.] - ETA: 0s - loss: 0.2029 - acc: 0.9273\n",
      "Epoch 15: val_loss improved from 0.22828 to 0.22815, saving model to avg-word2vec-mort_hosp-best_model.hdf5\n",
      "242/242 [==============================] - 7s 31ms/step - loss: 0.2028 - acc: 0.9273 - val_loss: 0.2282 - val_acc: 0.9152\n",
      "Epoch 16/70\n",
      "241/242 [============================>.] - ETA: 0s - loss: 0.2024 - acc: 0.9275\n",
      "Epoch 16: val_loss did not improve from 0.22815\n",
      "242/242 [==============================] - 7s 30ms/step - loss: 0.2023 - acc: 0.9275 - val_loss: 0.2284 - val_acc: 0.9161\n",
      "Epoch 17/70\n",
      "241/242 [============================>.] - ETA: 0s - loss: 0.2015 - acc: 0.9285\n",
      "Epoch 17: val_loss did not improve from 0.22815\n",
      "242/242 [==============================] - 7s 30ms/step - loss: 0.2014 - acc: 0.9285 - val_loss: 0.2290 - val_acc: 0.9166\n",
      "Epoch 18/70\n",
      "241/242 [============================>.] - ETA: 0s - loss: 0.2010 - acc: 0.9291\n",
      "Epoch 18: val_loss did not improve from 0.22815\n",
      "242/242 [==============================] - 7s 31ms/step - loss: 0.2008 - acc: 0.9291 - val_loss: 0.2291 - val_acc: 0.9161\n",
      "Epoch 19/70\n",
      "241/242 [============================>.] - ETA: 0s - loss: 0.1988 - acc: 0.9291\n",
      "Epoch 19: val_loss did not improve from 0.22815\n",
      "242/242 [==============================] - 7s 31ms/step - loss: 0.1989 - acc: 0.9290 - val_loss: 0.2289 - val_acc: 0.9170\n",
      "Epoch 20/70\n",
      "241/242 [============================>.] - ETA: 0s - loss: 0.1981 - acc: 0.9289\n",
      "Epoch 20: val_loss did not improve from 0.22815\n",
      "242/242 [==============================] - 7s 30ms/step - loss: 0.1981 - acc: 0.9289 - val_loss: 0.2287 - val_acc: 0.9175\n",
      "  7/138 [>.............................] - ETA: 1s "
     ]
    },
    {
     "name": "stderr",
     "output_type": "stream",
     "text": [
      "2023-05-01 00:03:21.930468: I tensorflow/core/common_runtime/executor.cc:1197] [/device:CPU:0] (DEBUG INFO) Executor start aborting (this does not indicate an error and you can ignore this message): INVALID_ARGUMENT: You must feed a value for placeholder tensor 'gradients/split_2_grad/concat/split_2/split_dim' with dtype int32\n",
      "\t [[{{node gradients/split_2_grad/concat/split_2/split_dim}}]]\n",
      "2023-05-01 00:03:21.932135: I tensorflow/core/common_runtime/executor.cc:1197] [/device:CPU:0] (DEBUG INFO) Executor start aborting (this does not indicate an error and you can ignore this message): INVALID_ARGUMENT: You must feed a value for placeholder tensor 'gradients/split_grad/concat/split/split_dim' with dtype int32\n",
      "\t [[{{node gradients/split_grad/concat/split/split_dim}}]]\n",
      "2023-05-01 00:03:21.933328: I tensorflow/core/common_runtime/executor.cc:1197] [/device:CPU:0] (DEBUG INFO) Executor start aborting (this does not indicate an error and you can ignore this message): INVALID_ARGUMENT: You must feed a value for placeholder tensor 'gradients/split_1_grad/concat/split_1/split_dim' with dtype int32\n",
      "\t [[{{node gradients/split_1_grad/concat/split_1/split_dim}}]]\n"
     ]
    },
    {
     "name": "stdout",
     "output_type": "stream",
     "text": [
      "138/138 [==============================] - 1s 9ms/step\n",
      "0.8831693426492718 0.589553143834439 0.9182790803551104 0.48493543758967\n",
      "Problem type:  mort_icu\n",
      "__________________\n"
     ]
    },
    {
     "name": "stderr",
     "output_type": "stream",
     "text": [
      "2023-05-01 00:03:24.819334: I tensorflow/core/common_runtime/executor.cc:1197] [/device:CPU:0] (DEBUG INFO) Executor start aborting (this does not indicate an error and you can ignore this message): INVALID_ARGUMENT: You must feed a value for placeholder tensor 'gradients/split_2_grad/concat/split_2/split_dim' with dtype int32\n",
      "\t [[{{node gradients/split_2_grad/concat/split_2/split_dim}}]]\n",
      "2023-05-01 00:03:24.820969: I tensorflow/core/common_runtime/executor.cc:1197] [/device:CPU:0] (DEBUG INFO) Executor start aborting (this does not indicate an error and you can ignore this message): INVALID_ARGUMENT: You must feed a value for placeholder tensor 'gradients/split_grad/concat/split/split_dim' with dtype int32\n",
      "\t [[{{node gradients/split_grad/concat/split/split_dim}}]]\n",
      "2023-05-01 00:03:24.822096: I tensorflow/core/common_runtime/executor.cc:1197] [/device:CPU:0] (DEBUG INFO) Executor start aborting (this does not indicate an error and you can ignore this message): INVALID_ARGUMENT: You must feed a value for placeholder tensor 'gradients/split_1_grad/concat/split_1/split_dim' with dtype int32\n",
      "\t [[{{node gradients/split_1_grad/concat/split_1/split_dim}}]]\n"
     ]
    },
    {
     "name": "stdout",
     "output_type": "stream",
     "text": [
      "Epoch 1/70\n"
     ]
    },
    {
     "name": "stderr",
     "output_type": "stream",
     "text": [
      "2023-05-01 00:03:25.278447: I tensorflow/core/common_runtime/executor.cc:1197] [/device:CPU:0] (DEBUG INFO) Executor start aborting (this does not indicate an error and you can ignore this message): INVALID_ARGUMENT: You must feed a value for placeholder tensor 'gradients/split_2_grad/concat/split_2/split_dim' with dtype int32\n",
      "\t [[{{node gradients/split_2_grad/concat/split_2/split_dim}}]]\n",
      "2023-05-01 00:03:25.280398: I tensorflow/core/common_runtime/executor.cc:1197] [/device:CPU:0] (DEBUG INFO) Executor start aborting (this does not indicate an error and you can ignore this message): INVALID_ARGUMENT: You must feed a value for placeholder tensor 'gradients/split_grad/concat/split/split_dim' with dtype int32\n",
      "\t [[{{node gradients/split_grad/concat/split/split_dim}}]]\n",
      "2023-05-01 00:03:25.281697: I tensorflow/core/common_runtime/executor.cc:1197] [/device:CPU:0] (DEBUG INFO) Executor start aborting (this does not indicate an error and you can ignore this message): INVALID_ARGUMENT: You must feed a value for placeholder tensor 'gradients/split_1_grad/concat/split_1/split_dim' with dtype int32\n",
      "\t [[{{node gradients/split_1_grad/concat/split_1/split_dim}}]]\n",
      "2023-05-01 00:03:25.824497: I tensorflow/core/common_runtime/executor.cc:1197] [/device:CPU:0] (DEBUG INFO) Executor start aborting (this does not indicate an error and you can ignore this message): INVALID_ARGUMENT: You must feed a value for placeholder tensor 'gradients/split_2_grad/concat/split_2/split_dim' with dtype int32\n",
      "\t [[{{node gradients/split_2_grad/concat/split_2/split_dim}}]]\n",
      "2023-05-01 00:03:25.826187: I tensorflow/core/common_runtime/executor.cc:1197] [/device:CPU:0] (DEBUG INFO) Executor start aborting (this does not indicate an error and you can ignore this message): INVALID_ARGUMENT: You must feed a value for placeholder tensor 'gradients/split_grad/concat/split/split_dim' with dtype int32\n",
      "\t [[{{node gradients/split_grad/concat/split/split_dim}}]]\n",
      "2023-05-01 00:03:25.827417: I tensorflow/core/common_runtime/executor.cc:1197] [/device:CPU:0] (DEBUG INFO) Executor start aborting (this does not indicate an error and you can ignore this message): INVALID_ARGUMENT: You must feed a value for placeholder tensor 'gradients/split_1_grad/concat/split_1/split_dim' with dtype int32\n",
      "\t [[{{node gradients/split_1_grad/concat/split_1/split_dim}}]]\n"
     ]
    },
    {
     "name": "stdout",
     "output_type": "stream",
     "text": [
      "241/242 [============================>.] - ETA: 0s - loss: 0.2189 - acc: 0.9308"
     ]
    },
    {
     "name": "stderr",
     "output_type": "stream",
     "text": [
      "2023-05-01 00:03:33.771572: I tensorflow/core/common_runtime/executor.cc:1197] [/device:CPU:0] (DEBUG INFO) Executor start aborting (this does not indicate an error and you can ignore this message): INVALID_ARGUMENT: You must feed a value for placeholder tensor 'gradients/split_2_grad/concat/split_2/split_dim' with dtype int32\n",
      "\t [[{{node gradients/split_2_grad/concat/split_2/split_dim}}]]\n",
      "2023-05-01 00:03:33.773122: I tensorflow/core/common_runtime/executor.cc:1197] [/device:CPU:0] (DEBUG INFO) Executor start aborting (this does not indicate an error and you can ignore this message): INVALID_ARGUMENT: You must feed a value for placeholder tensor 'gradients/split_grad/concat/split/split_dim' with dtype int32\n",
      "\t [[{{node gradients/split_grad/concat/split/split_dim}}]]\n",
      "2023-05-01 00:03:33.774247: I tensorflow/core/common_runtime/executor.cc:1197] [/device:CPU:0] (DEBUG INFO) Executor start aborting (this does not indicate an error and you can ignore this message): INVALID_ARGUMENT: You must feed a value for placeholder tensor 'gradients/split_1_grad/concat/split_1/split_dim' with dtype int32\n",
      "\t [[{{node gradients/split_1_grad/concat/split_1/split_dim}}]]\n"
     ]
    },
    {
     "name": "stdout",
     "output_type": "stream",
     "text": [
      "\n",
      "Epoch 1: val_loss improved from inf to 0.17884, saving model to avg-word2vec-mort_icu-best_model.hdf5\n",
      "242/242 [==============================] - 9s 32ms/step - loss: 0.2187 - acc: 0.9308 - val_loss: 0.1788 - val_acc: 0.9412\n",
      "Epoch 2/70\n",
      "241/242 [============================>.] - ETA: 0s - loss: 0.1790 - acc: 0.9441\n",
      "Epoch 2: val_loss improved from 0.17884 to 0.17397, saving model to avg-word2vec-mort_icu-best_model.hdf5\n",
      "242/242 [==============================] - 7s 30ms/step - loss: 0.1792 - acc: 0.9441 - val_loss: 0.1740 - val_acc: 0.9435\n",
      "Epoch 3/70\n",
      "241/242 [============================>.] - ETA: 0s - loss: 0.1705 - acc: 0.9457\n",
      "Epoch 3: val_loss improved from 0.17397 to 0.17145, saving model to avg-word2vec-mort_icu-best_model.hdf5\n",
      "242/242 [==============================] - 7s 31ms/step - loss: 0.1705 - acc: 0.9457 - val_loss: 0.1714 - val_acc: 0.9435\n",
      "Epoch 4/70\n",
      "241/242 [============================>.] - ETA: 0s - loss: 0.1651 - acc: 0.9468\n",
      "Epoch 4: val_loss improved from 0.17145 to 0.17061, saving model to avg-word2vec-mort_icu-best_model.hdf5\n",
      "242/242 [==============================] - 7s 31ms/step - loss: 0.1651 - acc: 0.9469 - val_loss: 0.1706 - val_acc: 0.9439\n",
      "Epoch 5/70\n",
      "241/242 [============================>.] - ETA: 0s - loss: 0.1619 - acc: 0.9479\n",
      "Epoch 5: val_loss improved from 0.17061 to 0.17057, saving model to avg-word2vec-mort_icu-best_model.hdf5\n",
      "242/242 [==============================] - 7s 30ms/step - loss: 0.1619 - acc: 0.9479 - val_loss: 0.1706 - val_acc: 0.9453\n",
      "Epoch 6/70\n",
      "241/242 [============================>.] - ETA: 0s - loss: 0.1580 - acc: 0.9483\n",
      "Epoch 6: val_loss did not improve from 0.17057\n",
      "242/242 [==============================] - 7s 30ms/step - loss: 0.1579 - acc: 0.9483 - val_loss: 0.1709 - val_acc: 0.9435\n",
      "Epoch 7/70\n",
      "241/242 [============================>.] - ETA: 0s - loss: 0.1561 - acc: 0.9501\n",
      "Epoch 7: val_loss improved from 0.17057 to 0.17044, saving model to avg-word2vec-mort_icu-best_model.hdf5\n",
      "242/242 [==============================] - 7s 31ms/step - loss: 0.1560 - acc: 0.9502 - val_loss: 0.1704 - val_acc: 0.9457\n",
      "Epoch 8/70\n",
      "241/242 [============================>.] - ETA: 0s - loss: 0.1536 - acc: 0.9505\n",
      "Epoch 8: val_loss did not improve from 0.17044\n",
      "242/242 [==============================] - 7s 31ms/step - loss: 0.1535 - acc: 0.9505 - val_loss: 0.1709 - val_acc: 0.9444\n",
      "Epoch 9/70\n",
      "241/242 [============================>.] - ETA: 0s - loss: 0.1522 - acc: 0.9498\n",
      "Epoch 9: val_loss improved from 0.17044 to 0.17043, saving model to avg-word2vec-mort_icu-best_model.hdf5\n",
      "242/242 [==============================] - 7s 30ms/step - loss: 0.1521 - acc: 0.9498 - val_loss: 0.1704 - val_acc: 0.9439\n",
      "Epoch 10/70\n",
      "241/242 [============================>.] - ETA: 0s - loss: 0.1522 - acc: 0.9498\n",
      "Epoch 10: val_loss did not improve from 0.17043\n",
      "242/242 [==============================] - 7s 30ms/step - loss: 0.1522 - acc: 0.9498 - val_loss: 0.1708 - val_acc: 0.9439\n",
      "Epoch 11/70\n",
      "241/242 [============================>.] - ETA: 0s - loss: 0.1500 - acc: 0.9518\n",
      "Epoch 11: val_loss did not improve from 0.17043\n",
      "242/242 [==============================] - 7s 30ms/step - loss: 0.1501 - acc: 0.9517 - val_loss: 0.1711 - val_acc: 0.9425\n",
      "Epoch 12/70\n",
      "241/242 [============================>.] - ETA: 0s - loss: 0.1498 - acc: 0.9506\n",
      "Epoch 12: val_loss did not improve from 0.17043\n",
      "242/242 [==============================] - 7s 30ms/step - loss: 0.1496 - acc: 0.9506 - val_loss: 0.1708 - val_acc: 0.9430\n",
      "Epoch 13/70\n",
      "241/242 [============================>.] - ETA: 0s - loss: 0.1479 - acc: 0.9516\n",
      "Epoch 13: val_loss did not improve from 0.17043\n",
      "242/242 [==============================] - 7s 30ms/step - loss: 0.1478 - acc: 0.9517 - val_loss: 0.1708 - val_acc: 0.9448\n",
      "Epoch 14/70\n",
      "241/242 [============================>.] - ETA: 0s - loss: 0.1456 - acc: 0.9523\n",
      "Epoch 14: val_loss did not improve from 0.17043\n",
      "242/242 [==============================] - 7s 30ms/step - loss: 0.1456 - acc: 0.9523 - val_loss: 0.1708 - val_acc: 0.9435\n",
      "  7/138 [>.............................] - ETA: 1s "
     ]
    },
    {
     "name": "stderr",
     "output_type": "stream",
     "text": [
      "2023-05-01 00:05:10.087491: I tensorflow/core/common_runtime/executor.cc:1197] [/device:CPU:0] (DEBUG INFO) Executor start aborting (this does not indicate an error and you can ignore this message): INVALID_ARGUMENT: You must feed a value for placeholder tensor 'gradients/split_2_grad/concat/split_2/split_dim' with dtype int32\n",
      "\t [[{{node gradients/split_2_grad/concat/split_2/split_dim}}]]\n",
      "2023-05-01 00:05:10.089146: I tensorflow/core/common_runtime/executor.cc:1197] [/device:CPU:0] (DEBUG INFO) Executor start aborting (this does not indicate an error and you can ignore this message): INVALID_ARGUMENT: You must feed a value for placeholder tensor 'gradients/split_grad/concat/split/split_dim' with dtype int32\n",
      "\t [[{{node gradients/split_grad/concat/split/split_dim}}]]\n",
      "2023-05-01 00:05:10.090219: I tensorflow/core/common_runtime/executor.cc:1197] [/device:CPU:0] (DEBUG INFO) Executor start aborting (this does not indicate an error and you can ignore this message): INVALID_ARGUMENT: You must feed a value for placeholder tensor 'gradients/split_1_grad/concat/split_1/split_dim' with dtype int32\n",
      "\t [[{{node gradients/split_1_grad/concat/split_1/split_dim}}]]\n"
     ]
    },
    {
     "name": "stdout",
     "output_type": "stream",
     "text": [
      "138/138 [==============================] - 1s 8ms/step\n",
      "0.8878276647673419 0.5265831542651319 0.9428636467106761 0.4578833693304535\n",
      "Problem type:  los_3\n",
      "__________________\n"
     ]
    },
    {
     "name": "stderr",
     "output_type": "stream",
     "text": [
      "2023-05-01 00:05:12.974388: I tensorflow/core/common_runtime/executor.cc:1197] [/device:CPU:0] (DEBUG INFO) Executor start aborting (this does not indicate an error and you can ignore this message): INVALID_ARGUMENT: You must feed a value for placeholder tensor 'gradients/split_2_grad/concat/split_2/split_dim' with dtype int32\n",
      "\t [[{{node gradients/split_2_grad/concat/split_2/split_dim}}]]\n",
      "2023-05-01 00:05:12.975910: I tensorflow/core/common_runtime/executor.cc:1197] [/device:CPU:0] (DEBUG INFO) Executor start aborting (this does not indicate an error and you can ignore this message): INVALID_ARGUMENT: You must feed a value for placeholder tensor 'gradients/split_grad/concat/split/split_dim' with dtype int32\n",
      "\t [[{{node gradients/split_grad/concat/split/split_dim}}]]\n",
      "2023-05-01 00:05:12.976974: I tensorflow/core/common_runtime/executor.cc:1197] [/device:CPU:0] (DEBUG INFO) Executor start aborting (this does not indicate an error and you can ignore this message): INVALID_ARGUMENT: You must feed a value for placeholder tensor 'gradients/split_1_grad/concat/split_1/split_dim' with dtype int32\n",
      "\t [[{{node gradients/split_1_grad/concat/split_1/split_dim}}]]\n"
     ]
    },
    {
     "name": "stdout",
     "output_type": "stream",
     "text": [
      "Epoch 1/70\n"
     ]
    },
    {
     "name": "stderr",
     "output_type": "stream",
     "text": [
      "2023-05-01 00:05:13.424722: I tensorflow/core/common_runtime/executor.cc:1197] [/device:CPU:0] (DEBUG INFO) Executor start aborting (this does not indicate an error and you can ignore this message): INVALID_ARGUMENT: You must feed a value for placeholder tensor 'gradients/split_2_grad/concat/split_2/split_dim' with dtype int32\n",
      "\t [[{{node gradients/split_2_grad/concat/split_2/split_dim}}]]\n",
      "2023-05-01 00:05:13.426392: I tensorflow/core/common_runtime/executor.cc:1197] [/device:CPU:0] (DEBUG INFO) Executor start aborting (this does not indicate an error and you can ignore this message): INVALID_ARGUMENT: You must feed a value for placeholder tensor 'gradients/split_grad/concat/split/split_dim' with dtype int32\n",
      "\t [[{{node gradients/split_grad/concat/split/split_dim}}]]\n",
      "2023-05-01 00:05:13.427810: I tensorflow/core/common_runtime/executor.cc:1197] [/device:CPU:0] (DEBUG INFO) Executor start aborting (this does not indicate an error and you can ignore this message): INVALID_ARGUMENT: You must feed a value for placeholder tensor 'gradients/split_1_grad/concat/split_1/split_dim' with dtype int32\n",
      "\t [[{{node gradients/split_1_grad/concat/split_1/split_dim}}]]\n",
      "2023-05-01 00:05:13.965436: I tensorflow/core/common_runtime/executor.cc:1197] [/device:CPU:0] (DEBUG INFO) Executor start aborting (this does not indicate an error and you can ignore this message): INVALID_ARGUMENT: You must feed a value for placeholder tensor 'gradients/split_2_grad/concat/split_2/split_dim' with dtype int32\n",
      "\t [[{{node gradients/split_2_grad/concat/split_2/split_dim}}]]\n",
      "2023-05-01 00:05:13.967082: I tensorflow/core/common_runtime/executor.cc:1197] [/device:CPU:0] (DEBUG INFO) Executor start aborting (this does not indicate an error and you can ignore this message): INVALID_ARGUMENT: You must feed a value for placeholder tensor 'gradients/split_grad/concat/split/split_dim' with dtype int32\n",
      "\t [[{{node gradients/split_grad/concat/split/split_dim}}]]\n",
      "2023-05-01 00:05:13.968358: I tensorflow/core/common_runtime/executor.cc:1197] [/device:CPU:0] (DEBUG INFO) Executor start aborting (this does not indicate an error and you can ignore this message): INVALID_ARGUMENT: You must feed a value for placeholder tensor 'gradients/split_1_grad/concat/split_1/split_dim' with dtype int32\n",
      "\t [[{{node gradients/split_1_grad/concat/split_1/split_dim}}]]\n"
     ]
    },
    {
     "name": "stdout",
     "output_type": "stream",
     "text": [
      "241/242 [============================>.] - ETA: 0s - loss: 0.6788 - acc: 0.6162"
     ]
    },
    {
     "name": "stderr",
     "output_type": "stream",
     "text": [
      "2023-05-01 00:05:21.880510: I tensorflow/core/common_runtime/executor.cc:1197] [/device:CPU:0] (DEBUG INFO) Executor start aborting (this does not indicate an error and you can ignore this message): INVALID_ARGUMENT: You must feed a value for placeholder tensor 'gradients/split_2_grad/concat/split_2/split_dim' with dtype int32\n",
      "\t [[{{node gradients/split_2_grad/concat/split_2/split_dim}}]]\n",
      "2023-05-01 00:05:21.882157: I tensorflow/core/common_runtime/executor.cc:1197] [/device:CPU:0] (DEBUG INFO) Executor start aborting (this does not indicate an error and you can ignore this message): INVALID_ARGUMENT: You must feed a value for placeholder tensor 'gradients/split_grad/concat/split/split_dim' with dtype int32\n",
      "\t [[{{node gradients/split_grad/concat/split/split_dim}}]]\n",
      "2023-05-01 00:05:21.883287: I tensorflow/core/common_runtime/executor.cc:1197] [/device:CPU:0] (DEBUG INFO) Executor start aborting (this does not indicate an error and you can ignore this message): INVALID_ARGUMENT: You must feed a value for placeholder tensor 'gradients/split_1_grad/concat/split_1/split_dim' with dtype int32\n",
      "\t [[{{node gradients/split_1_grad/concat/split_1/split_dim}}]]\n"
     ]
    },
    {
     "name": "stdout",
     "output_type": "stream",
     "text": [
      "\n",
      "Epoch 1: val_loss improved from inf to 0.63816, saving model to avg-word2vec-los_3-best_model.hdf5\n",
      "242/242 [==============================] - 9s 32ms/step - loss: 0.6788 - acc: 0.6162 - val_loss: 0.6382 - val_acc: 0.6539\n",
      "Epoch 2/70\n",
      "241/242 [============================>.] - ETA: 0s - loss: 0.6369 - acc: 0.6535\n",
      "Epoch 2: val_loss improved from 0.63816 to 0.62189, saving model to avg-word2vec-los_3-best_model.hdf5\n",
      "242/242 [==============================] - 7s 30ms/step - loss: 0.6370 - acc: 0.6533 - val_loss: 0.6219 - val_acc: 0.6762\n",
      "Epoch 3/70\n",
      "241/242 [============================>.] - ETA: 0s - loss: 0.6242 - acc: 0.6582\n",
      "Epoch 3: val_loss improved from 0.62189 to 0.61978, saving model to avg-word2vec-los_3-best_model.hdf5\n",
      "242/242 [==============================] - 7s 30ms/step - loss: 0.6240 - acc: 0.6583 - val_loss: 0.6198 - val_acc: 0.6781\n",
      "Epoch 4/70\n",
      "241/242 [============================>.] - ETA: 0s - loss: 0.6192 - acc: 0.6719\n",
      "Epoch 4: val_loss improved from 0.61978 to 0.61790, saving model to avg-word2vec-los_3-best_model.hdf5\n",
      "242/242 [==============================] - 7s 31ms/step - loss: 0.6191 - acc: 0.6719 - val_loss: 0.6179 - val_acc: 0.6721\n",
      "Epoch 5/70\n",
      "241/242 [============================>.] - ETA: 0s - loss: 0.6136 - acc: 0.6735\n",
      "Epoch 5: val_loss improved from 0.61790 to 0.61684, saving model to avg-word2vec-los_3-best_model.hdf5\n",
      "242/242 [==============================] - 7s 31ms/step - loss: 0.6135 - acc: 0.6736 - val_loss: 0.6168 - val_acc: 0.6781\n",
      "Epoch 6/70\n",
      "241/242 [============================>.] - ETA: 0s - loss: 0.6089 - acc: 0.6749\n",
      "Epoch 6: val_loss improved from 0.61684 to 0.61512, saving model to avg-word2vec-los_3-best_model.hdf5\n",
      "242/242 [==============================] - 7s 31ms/step - loss: 0.6089 - acc: 0.6748 - val_loss: 0.6151 - val_acc: 0.6758\n",
      "Epoch 7/70\n",
      "241/242 [============================>.] - ETA: 0s - loss: 0.6052 - acc: 0.6846\n",
      "Epoch 7: val_loss did not improve from 0.61512\n",
      "242/242 [==============================] - 7s 30ms/step - loss: 0.6051 - acc: 0.6848 - val_loss: 0.6157 - val_acc: 0.6762\n",
      "Epoch 8/70\n",
      "241/242 [============================>.] - ETA: 0s - loss: 0.6017 - acc: 0.6867\n",
      "Epoch 8: val_loss improved from 0.61512 to 0.61512, saving model to avg-word2vec-los_3-best_model.hdf5\n",
      "242/242 [==============================] - 7s 31ms/step - loss: 0.6018 - acc: 0.6864 - val_loss: 0.6151 - val_acc: 0.6785\n",
      "Epoch 9/70\n",
      "241/242 [============================>.] - ETA: 0s - loss: 0.6015 - acc: 0.6861\n",
      "Epoch 9: val_loss improved from 0.61512 to 0.61510, saving model to avg-word2vec-los_3-best_model.hdf5\n",
      "242/242 [==============================] - 7s 30ms/step - loss: 0.6016 - acc: 0.6860 - val_loss: 0.6151 - val_acc: 0.6753\n",
      "Epoch 10/70\n",
      "241/242 [============================>.] - ETA: 0s - loss: 0.5992 - acc: 0.6855\n",
      "Epoch 10: val_loss did not improve from 0.61510\n",
      "242/242 [==============================] - 7s 31ms/step - loss: 0.5992 - acc: 0.6853 - val_loss: 0.6156 - val_acc: 0.6781\n",
      "Epoch 11/70\n",
      "241/242 [============================>.] - ETA: 0s - loss: 0.5978 - acc: 0.6854\n",
      "Epoch 11: val_loss did not improve from 0.61510\n",
      "242/242 [==============================] - 7s 31ms/step - loss: 0.5977 - acc: 0.6855 - val_loss: 0.6153 - val_acc: 0.6753\n",
      "Epoch 12/70\n",
      "241/242 [============================>.] - ETA: 0s - loss: 0.5946 - acc: 0.6909\n",
      "Epoch 12: val_loss improved from 0.61510 to 0.61377, saving model to avg-word2vec-los_3-best_model.hdf5\n",
      "242/242 [==============================] - 7s 31ms/step - loss: 0.5946 - acc: 0.6909 - val_loss: 0.6138 - val_acc: 0.6785\n",
      "Epoch 13/70\n",
      "241/242 [============================>.] - ETA: 0s - loss: 0.5942 - acc: 0.6928\n",
      "Epoch 13: val_loss did not improve from 0.61377\n",
      "242/242 [==============================] - 7s 31ms/step - loss: 0.5942 - acc: 0.6928 - val_loss: 0.6146 - val_acc: 0.6776\n",
      "Epoch 14/70\n",
      "241/242 [============================>.] - ETA: 0s - loss: 0.5934 - acc: 0.6929\n",
      "Epoch 14: val_loss did not improve from 0.61377\n",
      "242/242 [==============================] - 7s 31ms/step - loss: 0.5934 - acc: 0.6930 - val_loss: 0.6151 - val_acc: 0.6744\n",
      "Epoch 15/70\n",
      "241/242 [============================>.] - ETA: 0s - loss: 0.5902 - acc: 0.6948\n",
      "Epoch 15: val_loss did not improve from 0.61377\n",
      "242/242 [==============================] - 7s 31ms/step - loss: 0.5902 - acc: 0.6948 - val_loss: 0.6157 - val_acc: 0.6762\n",
      "Epoch 16/70\n",
      "241/242 [============================>.] - ETA: 0s - loss: 0.5893 - acc: 0.6937\n",
      "Epoch 16: val_loss did not improve from 0.61377\n",
      "242/242 [==============================] - 7s 31ms/step - loss: 0.5893 - acc: 0.6937 - val_loss: 0.6150 - val_acc: 0.6726\n",
      "Epoch 17/70\n",
      "241/242 [============================>.] - ETA: 0s - loss: 0.5890 - acc: 0.6966\n",
      "Epoch 17: val_loss did not improve from 0.61377\n",
      "242/242 [==============================] - 7s 31ms/step - loss: 0.5890 - acc: 0.6964 - val_loss: 0.6151 - val_acc: 0.6767\n",
      "  7/138 [>.............................] - ETA: 1s "
     ]
    },
    {
     "name": "stderr",
     "output_type": "stream",
     "text": [
      "2023-05-01 00:07:21.460695: I tensorflow/core/common_runtime/executor.cc:1197] [/device:CPU:0] (DEBUG INFO) Executor start aborting (this does not indicate an error and you can ignore this message): INVALID_ARGUMENT: You must feed a value for placeholder tensor 'gradients/split_2_grad/concat/split_2/split_dim' with dtype int32\n",
      "\t [[{{node gradients/split_2_grad/concat/split_2/split_dim}}]]\n",
      "2023-05-01 00:07:21.462372: I tensorflow/core/common_runtime/executor.cc:1197] [/device:CPU:0] (DEBUG INFO) Executor start aborting (this does not indicate an error and you can ignore this message): INVALID_ARGUMENT: You must feed a value for placeholder tensor 'gradients/split_grad/concat/split/split_dim' with dtype int32\n",
      "\t [[{{node gradients/split_grad/concat/split/split_dim}}]]\n",
      "2023-05-01 00:07:21.463558: I tensorflow/core/common_runtime/executor.cc:1197] [/device:CPU:0] (DEBUG INFO) Executor start aborting (this does not indicate an error and you can ignore this message): INVALID_ARGUMENT: You must feed a value for placeholder tensor 'gradients/split_1_grad/concat/split_1/split_dim' with dtype int32\n",
      "\t [[{{node gradients/split_1_grad/concat/split_1/split_dim}}]]\n"
     ]
    },
    {
     "name": "stdout",
     "output_type": "stream",
     "text": [
      "138/138 [==============================] - 1s 9ms/step\n",
      "0.7020299925685503 0.6366268276615563 0.661962212610972 0.5498635950287966\n",
      "Problem type:  los_7\n",
      "__________________\n"
     ]
    },
    {
     "name": "stderr",
     "output_type": "stream",
     "text": [
      "2023-05-01 00:07:24.398434: I tensorflow/core/common_runtime/executor.cc:1197] [/device:CPU:0] (DEBUG INFO) Executor start aborting (this does not indicate an error and you can ignore this message): INVALID_ARGUMENT: You must feed a value for placeholder tensor 'gradients/split_2_grad/concat/split_2/split_dim' with dtype int32\n",
      "\t [[{{node gradients/split_2_grad/concat/split_2/split_dim}}]]\n",
      "2023-05-01 00:07:24.400316: I tensorflow/core/common_runtime/executor.cc:1197] [/device:CPU:0] (DEBUG INFO) Executor start aborting (this does not indicate an error and you can ignore this message): INVALID_ARGUMENT: You must feed a value for placeholder tensor 'gradients/split_grad/concat/split/split_dim' with dtype int32\n",
      "\t [[{{node gradients/split_grad/concat/split/split_dim}}]]\n",
      "2023-05-01 00:07:24.401755: I tensorflow/core/common_runtime/executor.cc:1197] [/device:CPU:0] (DEBUG INFO) Executor start aborting (this does not indicate an error and you can ignore this message): INVALID_ARGUMENT: You must feed a value for placeholder tensor 'gradients/split_1_grad/concat/split_1/split_dim' with dtype int32\n",
      "\t [[{{node gradients/split_1_grad/concat/split_1/split_dim}}]]\n"
     ]
    },
    {
     "name": "stdout",
     "output_type": "stream",
     "text": [
      "Epoch 1/70\n"
     ]
    },
    {
     "name": "stderr",
     "output_type": "stream",
     "text": [
      "2023-05-01 00:07:24.868103: I tensorflow/core/common_runtime/executor.cc:1197] [/device:CPU:0] (DEBUG INFO) Executor start aborting (this does not indicate an error and you can ignore this message): INVALID_ARGUMENT: You must feed a value for placeholder tensor 'gradients/split_2_grad/concat/split_2/split_dim' with dtype int32\n",
      "\t [[{{node gradients/split_2_grad/concat/split_2/split_dim}}]]\n",
      "2023-05-01 00:07:24.869850: I tensorflow/core/common_runtime/executor.cc:1197] [/device:CPU:0] (DEBUG INFO) Executor start aborting (this does not indicate an error and you can ignore this message): INVALID_ARGUMENT: You must feed a value for placeholder tensor 'gradients/split_grad/concat/split/split_dim' with dtype int32\n",
      "\t [[{{node gradients/split_grad/concat/split/split_dim}}]]\n",
      "2023-05-01 00:07:24.871134: I tensorflow/core/common_runtime/executor.cc:1197] [/device:CPU:0] (DEBUG INFO) Executor start aborting (this does not indicate an error and you can ignore this message): INVALID_ARGUMENT: You must feed a value for placeholder tensor 'gradients/split_1_grad/concat/split_1/split_dim' with dtype int32\n",
      "\t [[{{node gradients/split_1_grad/concat/split_1/split_dim}}]]\n",
      "2023-05-01 00:07:25.434348: I tensorflow/core/common_runtime/executor.cc:1197] [/device:CPU:0] (DEBUG INFO) Executor start aborting (this does not indicate an error and you can ignore this message): INVALID_ARGUMENT: You must feed a value for placeholder tensor 'gradients/split_2_grad/concat/split_2/split_dim' with dtype int32\n",
      "\t [[{{node gradients/split_2_grad/concat/split_2/split_dim}}]]\n",
      "2023-05-01 00:07:25.436070: I tensorflow/core/common_runtime/executor.cc:1197] [/device:CPU:0] (DEBUG INFO) Executor start aborting (this does not indicate an error and you can ignore this message): INVALID_ARGUMENT: You must feed a value for placeholder tensor 'gradients/split_grad/concat/split/split_dim' with dtype int32\n",
      "\t [[{{node gradients/split_grad/concat/split/split_dim}}]]\n",
      "2023-05-01 00:07:25.437378: I tensorflow/core/common_runtime/executor.cc:1197] [/device:CPU:0] (DEBUG INFO) Executor start aborting (this does not indicate an error and you can ignore this message): INVALID_ARGUMENT: You must feed a value for placeholder tensor 'gradients/split_1_grad/concat/split_1/split_dim' with dtype int32\n",
      "\t [[{{node gradients/split_1_grad/concat/split_1/split_dim}}]]\n"
     ]
    },
    {
     "name": "stdout",
     "output_type": "stream",
     "text": [
      "241/242 [============================>.] - ETA: 0s - loss: 0.2827 - acc: 0.9188"
     ]
    },
    {
     "name": "stderr",
     "output_type": "stream",
     "text": [
      "2023-05-01 00:07:33.785576: I tensorflow/core/common_runtime/executor.cc:1197] [/device:CPU:0] (DEBUG INFO) Executor start aborting (this does not indicate an error and you can ignore this message): INVALID_ARGUMENT: You must feed a value for placeholder tensor 'gradients/split_2_grad/concat/split_2/split_dim' with dtype int32\n",
      "\t [[{{node gradients/split_2_grad/concat/split_2/split_dim}}]]\n",
      "2023-05-01 00:07:33.787262: I tensorflow/core/common_runtime/executor.cc:1197] [/device:CPU:0] (DEBUG INFO) Executor start aborting (this does not indicate an error and you can ignore this message): INVALID_ARGUMENT: You must feed a value for placeholder tensor 'gradients/split_grad/concat/split/split_dim' with dtype int32\n",
      "\t [[{{node gradients/split_grad/concat/split/split_dim}}]]\n",
      "2023-05-01 00:07:33.788493: I tensorflow/core/common_runtime/executor.cc:1197] [/device:CPU:0] (DEBUG INFO) Executor start aborting (this does not indicate an error and you can ignore this message): INVALID_ARGUMENT: You must feed a value for placeholder tensor 'gradients/split_1_grad/concat/split_1/split_dim' with dtype int32\n",
      "\t [[{{node gradients/split_1_grad/concat/split_1/split_dim}}]]\n"
     ]
    },
    {
     "name": "stdout",
     "output_type": "stream",
     "text": [
      "\n",
      "Epoch 1: val_loss improved from inf to 0.26630, saving model to avg-word2vec-los_7-best_model.hdf5\n",
      "242/242 [==============================] - 10s 34ms/step - loss: 0.2829 - acc: 0.9187 - val_loss: 0.2663 - val_acc: 0.9238\n",
      "Epoch 2/70\n",
      "241/242 [============================>.] - ETA: 0s - loss: 0.2578 - acc: 0.9214\n",
      "Epoch 2: val_loss improved from 0.26630 to 0.26283, saving model to avg-word2vec-los_7-best_model.hdf5\n",
      "242/242 [==============================] - 8s 32ms/step - loss: 0.2576 - acc: 0.9214 - val_loss: 0.2628 - val_acc: 0.9234\n",
      "Epoch 3/70\n",
      "241/242 [============================>.] - ETA: 0s - loss: 0.2506 - acc: 0.9217\n",
      "Epoch 3: val_loss improved from 0.26283 to 0.26255, saving model to avg-word2vec-los_7-best_model.hdf5\n",
      "242/242 [==============================] - 7s 30ms/step - loss: 0.2505 - acc: 0.9218 - val_loss: 0.2625 - val_acc: 0.9234\n",
      "Epoch 4/70\n",
      "241/242 [============================>.] - ETA: 0s - loss: 0.2478 - acc: 0.9230\n",
      "Epoch 4: val_loss improved from 0.26255 to 0.26087, saving model to avg-word2vec-los_7-best_model.hdf5\n",
      "242/242 [==============================] - 7s 31ms/step - loss: 0.2476 - acc: 0.9231 - val_loss: 0.2609 - val_acc: 0.9238\n",
      "Epoch 5/70\n",
      "241/242 [============================>.] - ETA: 0s - loss: 0.2438 - acc: 0.9230\n",
      "Epoch 5: val_loss improved from 0.26087 to 0.26037, saving model to avg-word2vec-los_7-best_model.hdf5\n",
      "242/242 [==============================] - 7s 31ms/step - loss: 0.2440 - acc: 0.9229 - val_loss: 0.2604 - val_acc: 0.9238\n",
      "Epoch 6/70\n",
      "241/242 [============================>.] - ETA: 0s - loss: 0.2415 - acc: 0.9229\n",
      "Epoch 6: val_loss improved from 0.26037 to 0.26023, saving model to avg-word2vec-los_7-best_model.hdf5\n",
      "242/242 [==============================] - 7s 31ms/step - loss: 0.2415 - acc: 0.9229 - val_loss: 0.2602 - val_acc: 0.9238\n",
      "Epoch 7/70\n",
      "241/242 [============================>.] - ETA: 0s - loss: 0.2394 - acc: 0.9224\n",
      "Epoch 7: val_loss improved from 0.26023 to 0.26010, saving model to avg-word2vec-los_7-best_model.hdf5\n",
      "242/242 [==============================] - 7s 31ms/step - loss: 0.2396 - acc: 0.9223 - val_loss: 0.2601 - val_acc: 0.9243\n",
      "Epoch 8/70\n",
      "241/242 [============================>.] - ETA: 0s - loss: 0.2380 - acc: 0.9239\n",
      "Epoch 8: val_loss improved from 0.26010 to 0.25989, saving model to avg-word2vec-los_7-best_model.hdf5\n",
      "242/242 [==============================] - 7s 31ms/step - loss: 0.2382 - acc: 0.9238 - val_loss: 0.2599 - val_acc: 0.9243\n",
      "Epoch 9/70\n",
      "241/242 [============================>.] - ETA: 0s - loss: 0.2365 - acc: 0.9232\n",
      "Epoch 9: val_loss did not improve from 0.25989\n",
      "242/242 [==============================] - 7s 31ms/step - loss: 0.2363 - acc: 0.9233 - val_loss: 0.2603 - val_acc: 0.9243\n",
      "Epoch 10/70\n",
      "241/242 [============================>.] - ETA: 0s - loss: 0.2353 - acc: 0.9237\n",
      "Epoch 10: val_loss improved from 0.25989 to 0.25988, saving model to avg-word2vec-los_7-best_model.hdf5\n",
      "242/242 [==============================] - 7s 31ms/step - loss: 0.2351 - acc: 0.9238 - val_loss: 0.2599 - val_acc: 0.9238\n",
      "Epoch 11/70\n",
      "241/242 [============================>.] - ETA: 0s - loss: 0.2340 - acc: 0.9228\n",
      "Epoch 11: val_loss improved from 0.25988 to 0.25959, saving model to avg-word2vec-los_7-best_model.hdf5\n",
      "242/242 [==============================] - 7s 31ms/step - loss: 0.2339 - acc: 0.9229 - val_loss: 0.2596 - val_acc: 0.9243\n",
      "Epoch 12/70\n",
      "241/242 [============================>.] - ETA: 0s - loss: 0.2339 - acc: 0.9230\n",
      "Epoch 12: val_loss improved from 0.25959 to 0.25941, saving model to avg-word2vec-los_7-best_model.hdf5\n",
      "242/242 [==============================] - 7s 31ms/step - loss: 0.2338 - acc: 0.9231 - val_loss: 0.2594 - val_acc: 0.9238\n",
      "Epoch 13/70\n",
      "241/242 [============================>.] - ETA: 0s - loss: 0.2329 - acc: 0.9238\n",
      "Epoch 13: val_loss did not improve from 0.25941\n",
      "242/242 [==============================] - 7s 30ms/step - loss: 0.2331 - acc: 0.9236 - val_loss: 0.2596 - val_acc: 0.9234\n",
      "Epoch 14/70\n",
      "241/242 [============================>.] - ETA: 0s - loss: 0.2317 - acc: 0.9240\n",
      "Epoch 14: val_loss improved from 0.25941 to 0.25926, saving model to avg-word2vec-los_7-best_model.hdf5\n",
      "242/242 [==============================] - 7s 31ms/step - loss: 0.2318 - acc: 0.9240 - val_loss: 0.2593 - val_acc: 0.9234\n",
      "Epoch 15/70\n",
      "241/242 [============================>.] - ETA: 0s - loss: 0.2305 - acc: 0.9238\n",
      "Epoch 15: val_loss improved from 0.25926 to 0.25913, saving model to avg-word2vec-los_7-best_model.hdf5\n",
      "242/242 [==============================] - 7s 31ms/step - loss: 0.2303 - acc: 0.9238 - val_loss: 0.2591 - val_acc: 0.9238\n",
      "Epoch 16/70\n",
      "241/242 [============================>.] - ETA: 0s - loss: 0.2299 - acc: 0.9240\n",
      "Epoch 16: val_loss improved from 0.25913 to 0.25910, saving model to avg-word2vec-los_7-best_model.hdf5\n",
      "242/242 [==============================] - 8s 31ms/step - loss: 0.2298 - acc: 0.9241 - val_loss: 0.2591 - val_acc: 0.9238\n",
      "Epoch 17/70\n",
      "241/242 [============================>.] - ETA: 0s - loss: 0.2292 - acc: 0.9229\n",
      "Epoch 17: val_loss improved from 0.25910 to 0.25905, saving model to avg-word2vec-los_7-best_model.hdf5\n",
      "242/242 [==============================] - 7s 31ms/step - loss: 0.2291 - acc: 0.9230 - val_loss: 0.2590 - val_acc: 0.9234\n",
      "Epoch 18/70\n",
      "241/242 [============================>.] - ETA: 0s - loss: 0.2290 - acc: 0.9238\n",
      "Epoch 18: val_loss did not improve from 0.25905\n",
      "242/242 [==============================] - 8s 31ms/step - loss: 0.2290 - acc: 0.9238 - val_loss: 0.2593 - val_acc: 0.9234\n",
      "Epoch 19/70\n",
      "241/242 [============================>.] - ETA: 0s - loss: 0.2268 - acc: 0.9238\n",
      "Epoch 19: val_loss did not improve from 0.25905\n",
      "242/242 [==============================] - 7s 31ms/step - loss: 0.2268 - acc: 0.9238 - val_loss: 0.2591 - val_acc: 0.9234\n",
      "Epoch 20/70\n",
      "241/242 [============================>.] - ETA: 0s - loss: 0.2284 - acc: 0.9233\n",
      "Epoch 20: val_loss improved from 0.25905 to 0.25900, saving model to avg-word2vec-los_7-best_model.hdf5\n",
      "242/242 [==============================] - 7s 31ms/step - loss: 0.2283 - acc: 0.9234 - val_loss: 0.2590 - val_acc: 0.9234\n",
      "Epoch 21/70\n",
      "241/242 [============================>.] - ETA: 0s - loss: 0.2279 - acc: 0.9245\n",
      "Epoch 21: val_loss improved from 0.25900 to 0.25890, saving model to avg-word2vec-los_7-best_model.hdf5\n",
      "242/242 [==============================] - 7s 31ms/step - loss: 0.2280 - acc: 0.9245 - val_loss: 0.2589 - val_acc: 0.9234\n",
      "Epoch 22/70\n",
      "241/242 [============================>.] - ETA: 0s - loss: 0.2265 - acc: 0.9239\n",
      "Epoch 22: val_loss did not improve from 0.25890\n",
      "242/242 [==============================] - 7s 31ms/step - loss: 0.2266 - acc: 0.9238 - val_loss: 0.2589 - val_acc: 0.9234\n",
      "Epoch 23/70\n",
      "241/242 [============================>.] - ETA: 0s - loss: 0.2265 - acc: 0.9245\n",
      "Epoch 23: val_loss did not improve from 0.25890\n",
      "242/242 [==============================] - 7s 31ms/step - loss: 0.2265 - acc: 0.9245 - val_loss: 0.2594 - val_acc: 0.9234\n",
      "Epoch 24/70\n",
      "241/242 [============================>.] - ETA: 0s - loss: 0.2255 - acc: 0.9245\n",
      "Epoch 24: val_loss did not improve from 0.25890\n",
      "242/242 [==============================] - 7s 30ms/step - loss: 0.2256 - acc: 0.9243 - val_loss: 0.2591 - val_acc: 0.9234\n",
      "Epoch 25/70\n",
      "241/242 [============================>.] - ETA: 0s - loss: 0.2249 - acc: 0.9243\n",
      "Epoch 25: val_loss did not improve from 0.25890\n",
      "242/242 [==============================] - 7s 31ms/step - loss: 0.2251 - acc: 0.9242 - val_loss: 0.2591 - val_acc: 0.9234\n",
      "Epoch 26/70\n",
      "241/242 [============================>.] - ETA: 0s - loss: 0.2251 - acc: 0.9244\n",
      "Epoch 26: val_loss did not improve from 0.25890\n",
      "242/242 [==============================] - 7s 30ms/step - loss: 0.2251 - acc: 0.9243 - val_loss: 0.2591 - val_acc: 0.9234\n",
      "  7/138 [>.............................] - ETA: 1s "
     ]
    },
    {
     "name": "stderr",
     "output_type": "stream",
     "text": [
      "2023-05-01 00:10:40.691608: I tensorflow/core/common_runtime/executor.cc:1197] [/device:CPU:0] (DEBUG INFO) Executor start aborting (this does not indicate an error and you can ignore this message): INVALID_ARGUMENT: You must feed a value for placeholder tensor 'gradients/split_2_grad/concat/split_2/split_dim' with dtype int32\n",
      "\t [[{{node gradients/split_2_grad/concat/split_2/split_dim}}]]\n",
      "2023-05-01 00:10:40.693436: I tensorflow/core/common_runtime/executor.cc:1197] [/device:CPU:0] (DEBUG INFO) Executor start aborting (this does not indicate an error and you can ignore this message): INVALID_ARGUMENT: You must feed a value for placeholder tensor 'gradients/split_grad/concat/split/split_dim' with dtype int32\n",
      "\t [[{{node gradients/split_grad/concat/split/split_dim}}]]\n",
      "2023-05-01 00:10:40.694718: I tensorflow/core/common_runtime/executor.cc:1197] [/device:CPU:0] (DEBUG INFO) Executor start aborting (this does not indicate an error and you can ignore this message): INVALID_ARGUMENT: You must feed a value for placeholder tensor 'gradients/split_1_grad/concat/split_1/split_dim' with dtype int32\n",
      "\t [[{{node gradients/split_1_grad/concat/split_1/split_dim}}]]\n"
     ]
    },
    {
     "name": "stdout",
     "output_type": "stream",
     "text": [
      "138/138 [==============================] - 1s 9ms/step\n",
      "0.737591673275955 0.22519809287100512 0.9196448895970862 0.038147138964577665\n",
      "Iteration number:  2\n",
      "Problem type:  mort_hosp\n",
      "__________________\n"
     ]
    },
    {
     "name": "stderr",
     "output_type": "stream",
     "text": [
      "2023-05-01 00:10:43.617332: I tensorflow/core/common_runtime/executor.cc:1197] [/device:CPU:0] (DEBUG INFO) Executor start aborting (this does not indicate an error and you can ignore this message): INVALID_ARGUMENT: You must feed a value for placeholder tensor 'gradients/split_2_grad/concat/split_2/split_dim' with dtype int32\n",
      "\t [[{{node gradients/split_2_grad/concat/split_2/split_dim}}]]\n",
      "2023-05-01 00:10:43.618917: I tensorflow/core/common_runtime/executor.cc:1197] [/device:CPU:0] (DEBUG INFO) Executor start aborting (this does not indicate an error and you can ignore this message): INVALID_ARGUMENT: You must feed a value for placeholder tensor 'gradients/split_grad/concat/split/split_dim' with dtype int32\n",
      "\t [[{{node gradients/split_grad/concat/split/split_dim}}]]\n",
      "2023-05-01 00:10:43.620087: I tensorflow/core/common_runtime/executor.cc:1197] [/device:CPU:0] (DEBUG INFO) Executor start aborting (this does not indicate an error and you can ignore this message): INVALID_ARGUMENT: You must feed a value for placeholder tensor 'gradients/split_1_grad/concat/split_1/split_dim' with dtype int32\n",
      "\t [[{{node gradients/split_1_grad/concat/split_1/split_dim}}]]\n"
     ]
    },
    {
     "name": "stdout",
     "output_type": "stream",
     "text": [
      "Epoch 1/70\n"
     ]
    },
    {
     "name": "stderr",
     "output_type": "stream",
     "text": [
      "2023-05-01 00:10:44.065769: I tensorflow/core/common_runtime/executor.cc:1197] [/device:CPU:0] (DEBUG INFO) Executor start aborting (this does not indicate an error and you can ignore this message): INVALID_ARGUMENT: You must feed a value for placeholder tensor 'gradients/split_2_grad/concat/split_2/split_dim' with dtype int32\n",
      "\t [[{{node gradients/split_2_grad/concat/split_2/split_dim}}]]\n",
      "2023-05-01 00:10:44.067426: I tensorflow/core/common_runtime/executor.cc:1197] [/device:CPU:0] (DEBUG INFO) Executor start aborting (this does not indicate an error and you can ignore this message): INVALID_ARGUMENT: You must feed a value for placeholder tensor 'gradients/split_grad/concat/split/split_dim' with dtype int32\n",
      "\t [[{{node gradients/split_grad/concat/split/split_dim}}]]\n",
      "2023-05-01 00:10:44.068760: I tensorflow/core/common_runtime/executor.cc:1197] [/device:CPU:0] (DEBUG INFO) Executor start aborting (this does not indicate an error and you can ignore this message): INVALID_ARGUMENT: You must feed a value for placeholder tensor 'gradients/split_1_grad/concat/split_1/split_dim' with dtype int32\n",
      "\t [[{{node gradients/split_1_grad/concat/split_1/split_dim}}]]\n",
      "2023-05-01 00:10:44.611877: I tensorflow/core/common_runtime/executor.cc:1197] [/device:CPU:0] (DEBUG INFO) Executor start aborting (this does not indicate an error and you can ignore this message): INVALID_ARGUMENT: You must feed a value for placeholder tensor 'gradients/split_2_grad/concat/split_2/split_dim' with dtype int32\n",
      "\t [[{{node gradients/split_2_grad/concat/split_2/split_dim}}]]\n",
      "2023-05-01 00:10:44.613854: I tensorflow/core/common_runtime/executor.cc:1197] [/device:CPU:0] (DEBUG INFO) Executor start aborting (this does not indicate an error and you can ignore this message): INVALID_ARGUMENT: You must feed a value for placeholder tensor 'gradients/split_grad/concat/split/split_dim' with dtype int32\n",
      "\t [[{{node gradients/split_grad/concat/split/split_dim}}]]\n",
      "2023-05-01 00:10:44.615140: I tensorflow/core/common_runtime/executor.cc:1197] [/device:CPU:0] (DEBUG INFO) Executor start aborting (this does not indicate an error and you can ignore this message): INVALID_ARGUMENT: You must feed a value for placeholder tensor 'gradients/split_1_grad/concat/split_1/split_dim' with dtype int32\n",
      "\t [[{{node gradients/split_1_grad/concat/split_1/split_dim}}]]\n"
     ]
    },
    {
     "name": "stdout",
     "output_type": "stream",
     "text": [
      "241/242 [============================>.] - ETA: 0s - loss: 0.2850 - acc: 0.9005"
     ]
    },
    {
     "name": "stderr",
     "output_type": "stream",
     "text": [
      "2023-05-01 00:10:52.612396: I tensorflow/core/common_runtime/executor.cc:1197] [/device:CPU:0] (DEBUG INFO) Executor start aborting (this does not indicate an error and you can ignore this message): INVALID_ARGUMENT: You must feed a value for placeholder tensor 'gradients/split_2_grad/concat/split_2/split_dim' with dtype int32\n",
      "\t [[{{node gradients/split_2_grad/concat/split_2/split_dim}}]]\n",
      "2023-05-01 00:10:52.613988: I tensorflow/core/common_runtime/executor.cc:1197] [/device:CPU:0] (DEBUG INFO) Executor start aborting (this does not indicate an error and you can ignore this message): INVALID_ARGUMENT: You must feed a value for placeholder tensor 'gradients/split_grad/concat/split/split_dim' with dtype int32\n",
      "\t [[{{node gradients/split_grad/concat/split/split_dim}}]]\n",
      "2023-05-01 00:10:52.615106: I tensorflow/core/common_runtime/executor.cc:1197] [/device:CPU:0] (DEBUG INFO) Executor start aborting (this does not indicate an error and you can ignore this message): INVALID_ARGUMENT: You must feed a value for placeholder tensor 'gradients/split_1_grad/concat/split_1/split_dim' with dtype int32\n",
      "\t [[{{node gradients/split_1_grad/concat/split_1/split_dim}}]]\n"
     ]
    },
    {
     "name": "stdout",
     "output_type": "stream",
     "text": [
      "\n",
      "Epoch 1: val_loss improved from inf to 0.24380, saving model to avg-word2vec-mort_hosp-best_model.hdf5\n",
      "242/242 [==============================] - 9s 32ms/step - loss: 0.2848 - acc: 0.9006 - val_loss: 0.2438 - val_acc: 0.9120\n",
      "Epoch 2/70\n",
      "241/242 [============================>.] - ETA: 0s - loss: 0.2450 - acc: 0.9125\n",
      "Epoch 2: val_loss improved from 0.24380 to 0.23513, saving model to avg-word2vec-mort_hosp-best_model.hdf5\n",
      "242/242 [==============================] - 7s 30ms/step - loss: 0.2451 - acc: 0.9125 - val_loss: 0.2351 - val_acc: 0.9161\n",
      "Epoch 3/70\n",
      "241/242 [============================>.] - ETA: 0s - loss: 0.2341 - acc: 0.9179\n",
      "Epoch 3: val_loss did not improve from 0.23513\n",
      "242/242 [==============================] - 7s 30ms/step - loss: 0.2340 - acc: 0.9179 - val_loss: 0.2359 - val_acc: 0.9152\n",
      "Epoch 4/70\n",
      "241/242 [============================>.] - ETA: 0s - loss: 0.2264 - acc: 0.9206\n",
      "Epoch 4: val_loss did not improve from 0.23513\n",
      "242/242 [==============================] - 7s 31ms/step - loss: 0.2262 - acc: 0.9207 - val_loss: 0.2361 - val_acc: 0.9143\n",
      "Epoch 5/70\n",
      "241/242 [============================>.] - ETA: 0s - loss: 0.2215 - acc: 0.9210\n",
      "Epoch 5: val_loss improved from 0.23513 to 0.23390, saving model to avg-word2vec-mort_hosp-best_model.hdf5\n",
      "242/242 [==============================] - 7s 31ms/step - loss: 0.2213 - acc: 0.9211 - val_loss: 0.2339 - val_acc: 0.9115\n",
      "Epoch 6/70\n",
      "241/242 [============================>.] - ETA: 0s - loss: 0.2188 - acc: 0.9223\n",
      "Epoch 6: val_loss improved from 0.23390 to 0.23352, saving model to avg-word2vec-mort_hosp-best_model.hdf5\n",
      "242/242 [==============================] - 7s 31ms/step - loss: 0.2190 - acc: 0.9222 - val_loss: 0.2335 - val_acc: 0.9129\n",
      "Epoch 7/70\n",
      "241/242 [============================>.] - ETA: 0s - loss: 0.2172 - acc: 0.9221\n",
      "Epoch 7: val_loss improved from 0.23352 to 0.23310, saving model to avg-word2vec-mort_hosp-best_model.hdf5\n",
      "242/242 [==============================] - 7s 31ms/step - loss: 0.2171 - acc: 0.9222 - val_loss: 0.2331 - val_acc: 0.9161\n",
      "Epoch 8/70\n",
      "241/242 [============================>.] - ETA: 0s - loss: 0.2150 - acc: 0.9238\n",
      "Epoch 8: val_loss improved from 0.23310 to 0.23221, saving model to avg-word2vec-mort_hosp-best_model.hdf5\n",
      "242/242 [==============================] - 7s 30ms/step - loss: 0.2148 - acc: 0.9238 - val_loss: 0.2322 - val_acc: 0.9156\n",
      "Epoch 9/70\n",
      "241/242 [============================>.] - ETA: 0s - loss: 0.2120 - acc: 0.9252\n",
      "Epoch 9: val_loss did not improve from 0.23221\n",
      "242/242 [==============================] - 7s 31ms/step - loss: 0.2121 - acc: 0.9251 - val_loss: 0.2330 - val_acc: 0.9129\n",
      "Epoch 10/70\n",
      "241/242 [============================>.] - ETA: 0s - loss: 0.2110 - acc: 0.9242\n",
      "Epoch 10: val_loss did not improve from 0.23221\n",
      "242/242 [==============================] - 7s 31ms/step - loss: 0.2110 - acc: 0.9242 - val_loss: 0.2323 - val_acc: 0.9147\n",
      "Epoch 11/70\n",
      "241/242 [============================>.] - ETA: 0s - loss: 0.2096 - acc: 0.9249\n",
      "Epoch 11: val_loss improved from 0.23221 to 0.23213, saving model to avg-word2vec-mort_hosp-best_model.hdf5\n",
      "242/242 [==============================] - 7s 31ms/step - loss: 0.2095 - acc: 0.9249 - val_loss: 0.2321 - val_acc: 0.9156\n",
      "Epoch 12/70\n",
      "241/242 [============================>.] - ETA: 0s - loss: 0.2079 - acc: 0.9247\n",
      "Epoch 12: val_loss did not improve from 0.23213\n",
      "242/242 [==============================] - 7s 30ms/step - loss: 0.2078 - acc: 0.9247 - val_loss: 0.2326 - val_acc: 0.9138\n",
      "Epoch 13/70\n",
      "241/242 [============================>.] - ETA: 0s - loss: 0.2072 - acc: 0.9248\n",
      "Epoch 13: val_loss did not improve from 0.23213\n",
      "242/242 [==============================] - 7s 30ms/step - loss: 0.2072 - acc: 0.9248 - val_loss: 0.2330 - val_acc: 0.9161\n",
      "Epoch 14/70\n",
      "241/242 [============================>.] - ETA: 0s - loss: 0.2049 - acc: 0.9263\n",
      "Epoch 14: val_loss did not improve from 0.23213\n",
      "242/242 [==============================] - 7s 30ms/step - loss: 0.2052 - acc: 0.9261 - val_loss: 0.2331 - val_acc: 0.9143\n",
      "Epoch 15/70\n",
      "241/242 [============================>.] - ETA: 0s - loss: 0.2040 - acc: 0.9271\n",
      "Epoch 15: val_loss improved from 0.23213 to 0.23192, saving model to avg-word2vec-mort_hosp-best_model.hdf5\n",
      "242/242 [==============================] - 8s 31ms/step - loss: 0.2039 - acc: 0.9272 - val_loss: 0.2319 - val_acc: 0.9147\n",
      "Epoch 16/70\n",
      "241/242 [============================>.] - ETA: 0s - loss: 0.2033 - acc: 0.9281\n",
      "Epoch 16: val_loss did not improve from 0.23192\n",
      "242/242 [==============================] - 8s 32ms/step - loss: 0.2035 - acc: 0.9280 - val_loss: 0.2322 - val_acc: 0.9152\n",
      "Epoch 17/70\n",
      "241/242 [============================>.] - ETA: 0s - loss: 0.2047 - acc: 0.9264\n",
      "Epoch 17: val_loss did not improve from 0.23192\n",
      "242/242 [==============================] - 8s 31ms/step - loss: 0.2046 - acc: 0.9264 - val_loss: 0.2329 - val_acc: 0.9115\n",
      "Epoch 18/70\n",
      "241/242 [============================>.] - ETA: 0s - loss: 0.2026 - acc: 0.9276\n",
      "Epoch 18: val_loss did not improve from 0.23192\n",
      "242/242 [==============================] - 7s 30ms/step - loss: 0.2025 - acc: 0.9277 - val_loss: 0.2322 - val_acc: 0.9156\n",
      "Epoch 19/70\n",
      "241/242 [============================>.] - ETA: 0s - loss: 0.2008 - acc: 0.9282\n",
      "Epoch 19: val_loss did not improve from 0.23192\n",
      "242/242 [==============================] - 7s 30ms/step - loss: 0.2010 - acc: 0.9281 - val_loss: 0.2326 - val_acc: 0.9161\n",
      "Epoch 20/70\n",
      "241/242 [============================>.] - ETA: 0s - loss: 0.2010 - acc: 0.9269\n",
      "Epoch 20: val_loss did not improve from 0.23192\n",
      "242/242 [==============================] - 7s 30ms/step - loss: 0.2011 - acc: 0.9269 - val_loss: 0.2325 - val_acc: 0.9134\n",
      "  7/138 [>.............................] - ETA: 1s "
     ]
    },
    {
     "name": "stderr",
     "output_type": "stream",
     "text": [
      "2023-05-01 00:13:14.029864: I tensorflow/core/common_runtime/executor.cc:1197] [/device:CPU:0] (DEBUG INFO) Executor start aborting (this does not indicate an error and you can ignore this message): INVALID_ARGUMENT: You must feed a value for placeholder tensor 'gradients/split_2_grad/concat/split_2/split_dim' with dtype int32\n",
      "\t [[{{node gradients/split_2_grad/concat/split_2/split_dim}}]]\n",
      "2023-05-01 00:13:14.031558: I tensorflow/core/common_runtime/executor.cc:1197] [/device:CPU:0] (DEBUG INFO) Executor start aborting (this does not indicate an error and you can ignore this message): INVALID_ARGUMENT: You must feed a value for placeholder tensor 'gradients/split_grad/concat/split/split_dim' with dtype int32\n",
      "\t [[{{node gradients/split_grad/concat/split/split_dim}}]]\n",
      "2023-05-01 00:13:14.032692: I tensorflow/core/common_runtime/executor.cc:1197] [/device:CPU:0] (DEBUG INFO) Executor start aborting (this does not indicate an error and you can ignore this message): INVALID_ARGUMENT: You must feed a value for placeholder tensor 'gradients/split_1_grad/concat/split_1/split_dim' with dtype int32\n",
      "\t [[{{node gradients/split_1_grad/concat/split_1/split_dim}}]]\n"
     ]
    },
    {
     "name": "stdout",
     "output_type": "stream",
     "text": [
      "138/138 [==============================] - 1s 8ms/step\n",
      "0.8834753565882068 0.5887710685523555 0.9169132711131346 0.4733044733044734\n",
      "Problem type:  mort_icu\n",
      "__________________\n"
     ]
    },
    {
     "name": "stderr",
     "output_type": "stream",
     "text": [
      "2023-05-01 00:13:16.917563: I tensorflow/core/common_runtime/executor.cc:1197] [/device:CPU:0] (DEBUG INFO) Executor start aborting (this does not indicate an error and you can ignore this message): INVALID_ARGUMENT: You must feed a value for placeholder tensor 'gradients/split_2_grad/concat/split_2/split_dim' with dtype int32\n",
      "\t [[{{node gradients/split_2_grad/concat/split_2/split_dim}}]]\n",
      "2023-05-01 00:13:16.919191: I tensorflow/core/common_runtime/executor.cc:1197] [/device:CPU:0] (DEBUG INFO) Executor start aborting (this does not indicate an error and you can ignore this message): INVALID_ARGUMENT: You must feed a value for placeholder tensor 'gradients/split_grad/concat/split/split_dim' with dtype int32\n",
      "\t [[{{node gradients/split_grad/concat/split/split_dim}}]]\n",
      "2023-05-01 00:13:16.920288: I tensorflow/core/common_runtime/executor.cc:1197] [/device:CPU:0] (DEBUG INFO) Executor start aborting (this does not indicate an error and you can ignore this message): INVALID_ARGUMENT: You must feed a value for placeholder tensor 'gradients/split_1_grad/concat/split_1/split_dim' with dtype int32\n",
      "\t [[{{node gradients/split_1_grad/concat/split_1/split_dim}}]]\n"
     ]
    },
    {
     "name": "stdout",
     "output_type": "stream",
     "text": [
      "Epoch 1/70\n"
     ]
    },
    {
     "name": "stderr",
     "output_type": "stream",
     "text": [
      "2023-05-01 00:13:17.376821: I tensorflow/core/common_runtime/executor.cc:1197] [/device:CPU:0] (DEBUG INFO) Executor start aborting (this does not indicate an error and you can ignore this message): INVALID_ARGUMENT: You must feed a value for placeholder tensor 'gradients/split_2_grad/concat/split_2/split_dim' with dtype int32\n",
      "\t [[{{node gradients/split_2_grad/concat/split_2/split_dim}}]]\n",
      "2023-05-01 00:13:17.378516: I tensorflow/core/common_runtime/executor.cc:1197] [/device:CPU:0] (DEBUG INFO) Executor start aborting (this does not indicate an error and you can ignore this message): INVALID_ARGUMENT: You must feed a value for placeholder tensor 'gradients/split_grad/concat/split/split_dim' with dtype int32\n",
      "\t [[{{node gradients/split_grad/concat/split/split_dim}}]]\n",
      "2023-05-01 00:13:17.379726: I tensorflow/core/common_runtime/executor.cc:1197] [/device:CPU:0] (DEBUG INFO) Executor start aborting (this does not indicate an error and you can ignore this message): INVALID_ARGUMENT: You must feed a value for placeholder tensor 'gradients/split_1_grad/concat/split_1/split_dim' with dtype int32\n",
      "\t [[{{node gradients/split_1_grad/concat/split_1/split_dim}}]]\n",
      "2023-05-01 00:13:17.940857: I tensorflow/core/common_runtime/executor.cc:1197] [/device:CPU:0] (DEBUG INFO) Executor start aborting (this does not indicate an error and you can ignore this message): INVALID_ARGUMENT: You must feed a value for placeholder tensor 'gradients/split_2_grad/concat/split_2/split_dim' with dtype int32\n",
      "\t [[{{node gradients/split_2_grad/concat/split_2/split_dim}}]]\n",
      "2023-05-01 00:13:17.942537: I tensorflow/core/common_runtime/executor.cc:1197] [/device:CPU:0] (DEBUG INFO) Executor start aborting (this does not indicate an error and you can ignore this message): INVALID_ARGUMENT: You must feed a value for placeholder tensor 'gradients/split_grad/concat/split/split_dim' with dtype int32\n",
      "\t [[{{node gradients/split_grad/concat/split/split_dim}}]]\n",
      "2023-05-01 00:13:17.943832: I tensorflow/core/common_runtime/executor.cc:1197] [/device:CPU:0] (DEBUG INFO) Executor start aborting (this does not indicate an error and you can ignore this message): INVALID_ARGUMENT: You must feed a value for placeholder tensor 'gradients/split_1_grad/concat/split_1/split_dim' with dtype int32\n",
      "\t [[{{node gradients/split_1_grad/concat/split_1/split_dim}}]]\n"
     ]
    },
    {
     "name": "stdout",
     "output_type": "stream",
     "text": [
      "241/242 [============================>.] - ETA: 0s - loss: 0.2213 - acc: 0.9304"
     ]
    },
    {
     "name": "stderr",
     "output_type": "stream",
     "text": [
      "2023-05-01 00:13:25.775137: I tensorflow/core/common_runtime/executor.cc:1197] [/device:CPU:0] (DEBUG INFO) Executor start aborting (this does not indicate an error and you can ignore this message): INVALID_ARGUMENT: You must feed a value for placeholder tensor 'gradients/split_2_grad/concat/split_2/split_dim' with dtype int32\n",
      "\t [[{{node gradients/split_2_grad/concat/split_2/split_dim}}]]\n",
      "2023-05-01 00:13:25.776865: I tensorflow/core/common_runtime/executor.cc:1197] [/device:CPU:0] (DEBUG INFO) Executor start aborting (this does not indicate an error and you can ignore this message): INVALID_ARGUMENT: You must feed a value for placeholder tensor 'gradients/split_grad/concat/split/split_dim' with dtype int32\n",
      "\t [[{{node gradients/split_grad/concat/split/split_dim}}]]\n",
      "2023-05-01 00:13:25.777937: I tensorflow/core/common_runtime/executor.cc:1197] [/device:CPU:0] (DEBUG INFO) Executor start aborting (this does not indicate an error and you can ignore this message): INVALID_ARGUMENT: You must feed a value for placeholder tensor 'gradients/split_1_grad/concat/split_1/split_dim' with dtype int32\n",
      "\t [[{{node gradients/split_1_grad/concat/split_1/split_dim}}]]\n"
     ]
    },
    {
     "name": "stdout",
     "output_type": "stream",
     "text": [
      "\n",
      "Epoch 1: val_loss improved from inf to 0.17903, saving model to avg-word2vec-mort_icu-best_model.hdf5\n",
      "242/242 [==============================] - 9s 32ms/step - loss: 0.2212 - acc: 0.9305 - val_loss: 0.1790 - val_acc: 0.9421\n",
      "Epoch 2/70\n",
      "241/242 [============================>.] - ETA: 0s - loss: 0.1791 - acc: 0.9424\n",
      "Epoch 2: val_loss improved from 0.17903 to 0.17804, saving model to avg-word2vec-mort_icu-best_model.hdf5\n",
      "242/242 [==============================] - 7s 30ms/step - loss: 0.1791 - acc: 0.9424 - val_loss: 0.1780 - val_acc: 0.9416\n",
      "Epoch 3/70\n",
      "241/242 [============================>.] - ETA: 0s - loss: 0.1717 - acc: 0.9459\n",
      "Epoch 3: val_loss improved from 0.17804 to 0.17442, saving model to avg-word2vec-mort_icu-best_model.hdf5\n",
      "242/242 [==============================] - 7s 30ms/step - loss: 0.1717 - acc: 0.9459 - val_loss: 0.1744 - val_acc: 0.9425\n",
      "Epoch 4/70\n",
      "241/242 [============================>.] - ETA: 0s - loss: 0.1675 - acc: 0.9465\n",
      "Epoch 4: val_loss improved from 0.17442 to 0.17306, saving model to avg-word2vec-mort_icu-best_model.hdf5\n",
      "242/242 [==============================] - 7s 30ms/step - loss: 0.1674 - acc: 0.9466 - val_loss: 0.1731 - val_acc: 0.9439\n",
      "Epoch 5/70\n",
      "241/242 [============================>.] - ETA: 0s - loss: 0.1624 - acc: 0.9470\n",
      "Epoch 5: val_loss did not improve from 0.17306\n",
      "242/242 [==============================] - 7s 30ms/step - loss: 0.1624 - acc: 0.9470 - val_loss: 0.1734 - val_acc: 0.9435\n",
      "Epoch 6/70\n",
      "241/242 [============================>.] - ETA: 0s - loss: 0.1594 - acc: 0.9485\n",
      "Epoch 6: val_loss improved from 0.17306 to 0.17218, saving model to avg-word2vec-mort_icu-best_model.hdf5\n",
      "242/242 [==============================] - 7s 30ms/step - loss: 0.1596 - acc: 0.9484 - val_loss: 0.1722 - val_acc: 0.9430\n",
      "Epoch 7/70\n",
      "241/242 [============================>.] - ETA: 0s - loss: 0.1568 - acc: 0.9487\n",
      "Epoch 7: val_loss did not improve from 0.17218\n",
      "242/242 [==============================] - 7s 30ms/step - loss: 0.1567 - acc: 0.9487 - val_loss: 0.1728 - val_acc: 0.9421\n",
      "Epoch 8/70\n",
      "241/242 [============================>.] - ETA: 0s - loss: 0.1550 - acc: 0.9490\n",
      "Epoch 8: val_loss did not improve from 0.17218\n",
      "242/242 [==============================] - 7s 30ms/step - loss: 0.1550 - acc: 0.9490 - val_loss: 0.1726 - val_acc: 0.9425\n",
      "Epoch 9/70\n",
      "241/242 [============================>.] - ETA: 0s - loss: 0.1527 - acc: 0.9500\n",
      "Epoch 9: val_loss did not improve from 0.17218\n",
      "242/242 [==============================] - 7s 30ms/step - loss: 0.1528 - acc: 0.9500 - val_loss: 0.1725 - val_acc: 0.9416\n",
      "Epoch 10/70\n",
      "241/242 [============================>.] - ETA: 0s - loss: 0.1520 - acc: 0.9497\n",
      "Epoch 10: val_loss did not improve from 0.17218\n",
      "242/242 [==============================] - 7s 30ms/step - loss: 0.1521 - acc: 0.9496 - val_loss: 0.1729 - val_acc: 0.9435\n",
      "Epoch 11/70\n",
      "241/242 [============================>.] - ETA: 0s - loss: 0.1503 - acc: 0.9503\n",
      "Epoch 11: val_loss improved from 0.17218 to 0.17165, saving model to avg-word2vec-mort_icu-best_model.hdf5\n",
      "242/242 [==============================] - 7s 30ms/step - loss: 0.1502 - acc: 0.9503 - val_loss: 0.1716 - val_acc: 0.9425\n",
      "Epoch 12/70\n",
      "241/242 [============================>.] - ETA: 0s - loss: 0.1498 - acc: 0.9503\n",
      "Epoch 12: val_loss did not improve from 0.17165\n",
      "242/242 [==============================] - 7s 30ms/step - loss: 0.1497 - acc: 0.9504 - val_loss: 0.1718 - val_acc: 0.9421\n",
      "Epoch 13/70\n",
      "241/242 [============================>.] - ETA: 0s - loss: 0.1494 - acc: 0.9513\n",
      "Epoch 13: val_loss did not improve from 0.17165\n",
      "242/242 [==============================] - 7s 30ms/step - loss: 0.1493 - acc: 0.9514 - val_loss: 0.1720 - val_acc: 0.9430\n",
      "Epoch 14/70\n",
      "241/242 [============================>.] - ETA: 0s - loss: 0.1483 - acc: 0.9505\n",
      "Epoch 14: val_loss did not improve from 0.17165\n",
      "242/242 [==============================] - 7s 30ms/step - loss: 0.1482 - acc: 0.9506 - val_loss: 0.1717 - val_acc: 0.9416\n",
      "Epoch 15/70\n",
      "241/242 [============================>.] - ETA: 0s - loss: 0.1475 - acc: 0.9498\n",
      "Epoch 15: val_loss did not improve from 0.17165\n",
      "242/242 [==============================] - 7s 30ms/step - loss: 0.1474 - acc: 0.9498 - val_loss: 0.1719 - val_acc: 0.9430\n",
      "Epoch 16/70\n",
      "241/242 [============================>.] - ETA: 0s - loss: 0.1451 - acc: 0.9522\n",
      "Epoch 16: val_loss did not improve from 0.17165\n",
      "242/242 [==============================] - 7s 30ms/step - loss: 0.1451 - acc: 0.9522 - val_loss: 0.1720 - val_acc: 0.9425\n",
      "  7/138 [>.............................] - ETA: 1s "
     ]
    },
    {
     "name": "stderr",
     "output_type": "stream",
     "text": [
      "2023-05-01 00:15:15.722655: I tensorflow/core/common_runtime/executor.cc:1197] [/device:CPU:0] (DEBUG INFO) Executor start aborting (this does not indicate an error and you can ignore this message): INVALID_ARGUMENT: You must feed a value for placeholder tensor 'gradients/split_2_grad/concat/split_2/split_dim' with dtype int32\n",
      "\t [[{{node gradients/split_2_grad/concat/split_2/split_dim}}]]\n",
      "2023-05-01 00:15:15.724855: I tensorflow/core/common_runtime/executor.cc:1197] [/device:CPU:0] (DEBUG INFO) Executor start aborting (this does not indicate an error and you can ignore this message): INVALID_ARGUMENT: You must feed a value for placeholder tensor 'gradients/split_grad/concat/split/split_dim' with dtype int32\n",
      "\t [[{{node gradients/split_grad/concat/split/split_dim}}]]\n",
      "2023-05-01 00:15:15.726213: I tensorflow/core/common_runtime/executor.cc:1197] [/device:CPU:0] (DEBUG INFO) Executor start aborting (this does not indicate an error and you can ignore this message): INVALID_ARGUMENT: You must feed a value for placeholder tensor 'gradients/split_1_grad/concat/split_1/split_dim' with dtype int32\n",
      "\t [[{{node gradients/split_1_grad/concat/split_1/split_dim}}]]\n"
     ]
    },
    {
     "name": "stdout",
     "output_type": "stream",
     "text": [
      "138/138 [==============================] - 1s 8ms/step\n",
      "0.8874091782830499 0.5288489419645915 0.9424083769633508 0.44395604395604393\n",
      "Problem type:  los_3\n",
      "__________________\n"
     ]
    },
    {
     "name": "stderr",
     "output_type": "stream",
     "text": [
      "2023-05-01 00:15:18.620892: I tensorflow/core/common_runtime/executor.cc:1197] [/device:CPU:0] (DEBUG INFO) Executor start aborting (this does not indicate an error and you can ignore this message): INVALID_ARGUMENT: You must feed a value for placeholder tensor 'gradients/split_2_grad/concat/split_2/split_dim' with dtype int32\n",
      "\t [[{{node gradients/split_2_grad/concat/split_2/split_dim}}]]\n",
      "2023-05-01 00:15:18.622214: I tensorflow/core/common_runtime/executor.cc:1197] [/device:CPU:0] (DEBUG INFO) Executor start aborting (this does not indicate an error and you can ignore this message): INVALID_ARGUMENT: You must feed a value for placeholder tensor 'gradients/split_grad/concat/split/split_dim' with dtype int32\n",
      "\t [[{{node gradients/split_grad/concat/split/split_dim}}]]\n",
      "2023-05-01 00:15:18.623575: I tensorflow/core/common_runtime/executor.cc:1197] [/device:CPU:0] (DEBUG INFO) Executor start aborting (this does not indicate an error and you can ignore this message): INVALID_ARGUMENT: You must feed a value for placeholder tensor 'gradients/split_1_grad/concat/split_1/split_dim' with dtype int32\n",
      "\t [[{{node gradients/split_1_grad/concat/split_1/split_dim}}]]\n"
     ]
    },
    {
     "name": "stdout",
     "output_type": "stream",
     "text": [
      "Epoch 1/70\n"
     ]
    },
    {
     "name": "stderr",
     "output_type": "stream",
     "text": [
      "2023-05-01 00:15:19.074709: I tensorflow/core/common_runtime/executor.cc:1197] [/device:CPU:0] (DEBUG INFO) Executor start aborting (this does not indicate an error and you can ignore this message): INVALID_ARGUMENT: You must feed a value for placeholder tensor 'gradients/split_2_grad/concat/split_2/split_dim' with dtype int32\n",
      "\t [[{{node gradients/split_2_grad/concat/split_2/split_dim}}]]\n",
      "2023-05-01 00:15:19.076387: I tensorflow/core/common_runtime/executor.cc:1197] [/device:CPU:0] (DEBUG INFO) Executor start aborting (this does not indicate an error and you can ignore this message): INVALID_ARGUMENT: You must feed a value for placeholder tensor 'gradients/split_grad/concat/split/split_dim' with dtype int32\n",
      "\t [[{{node gradients/split_grad/concat/split/split_dim}}]]\n",
      "2023-05-01 00:15:19.077544: I tensorflow/core/common_runtime/executor.cc:1197] [/device:CPU:0] (DEBUG INFO) Executor start aborting (this does not indicate an error and you can ignore this message): INVALID_ARGUMENT: You must feed a value for placeholder tensor 'gradients/split_1_grad/concat/split_1/split_dim' with dtype int32\n",
      "\t [[{{node gradients/split_1_grad/concat/split_1/split_dim}}]]\n",
      "2023-05-01 00:15:19.629881: I tensorflow/core/common_runtime/executor.cc:1197] [/device:CPU:0] (DEBUG INFO) Executor start aborting (this does not indicate an error and you can ignore this message): INVALID_ARGUMENT: You must feed a value for placeholder tensor 'gradients/split_2_grad/concat/split_2/split_dim' with dtype int32\n",
      "\t [[{{node gradients/split_2_grad/concat/split_2/split_dim}}]]\n",
      "2023-05-01 00:15:19.631642: I tensorflow/core/common_runtime/executor.cc:1197] [/device:CPU:0] (DEBUG INFO) Executor start aborting (this does not indicate an error and you can ignore this message): INVALID_ARGUMENT: You must feed a value for placeholder tensor 'gradients/split_grad/concat/split/split_dim' with dtype int32\n",
      "\t [[{{node gradients/split_grad/concat/split/split_dim}}]]\n",
      "2023-05-01 00:15:19.632900: I tensorflow/core/common_runtime/executor.cc:1197] [/device:CPU:0] (DEBUG INFO) Executor start aborting (this does not indicate an error and you can ignore this message): INVALID_ARGUMENT: You must feed a value for placeholder tensor 'gradients/split_1_grad/concat/split_1/split_dim' with dtype int32\n",
      "\t [[{{node gradients/split_1_grad/concat/split_1/split_dim}}]]\n"
     ]
    },
    {
     "name": "stdout",
     "output_type": "stream",
     "text": [
      "241/242 [============================>.] - ETA: 0s - loss: 0.6815 - acc: 0.6178"
     ]
    },
    {
     "name": "stderr",
     "output_type": "stream",
     "text": [
      "2023-05-01 00:15:27.464966: I tensorflow/core/common_runtime/executor.cc:1197] [/device:CPU:0] (DEBUG INFO) Executor start aborting (this does not indicate an error and you can ignore this message): INVALID_ARGUMENT: You must feed a value for placeholder tensor 'gradients/split_2_grad/concat/split_2/split_dim' with dtype int32\n",
      "\t [[{{node gradients/split_2_grad/concat/split_2/split_dim}}]]\n",
      "2023-05-01 00:15:27.466526: I tensorflow/core/common_runtime/executor.cc:1197] [/device:CPU:0] (DEBUG INFO) Executor start aborting (this does not indicate an error and you can ignore this message): INVALID_ARGUMENT: You must feed a value for placeholder tensor 'gradients/split_grad/concat/split/split_dim' with dtype int32\n",
      "\t [[{{node gradients/split_grad/concat/split/split_dim}}]]\n",
      "2023-05-01 00:15:27.467675: I tensorflow/core/common_runtime/executor.cc:1197] [/device:CPU:0] (DEBUG INFO) Executor start aborting (this does not indicate an error and you can ignore this message): INVALID_ARGUMENT: You must feed a value for placeholder tensor 'gradients/split_1_grad/concat/split_1/split_dim' with dtype int32\n",
      "\t [[{{node gradients/split_1_grad/concat/split_1/split_dim}}]]\n"
     ]
    },
    {
     "name": "stdout",
     "output_type": "stream",
     "text": [
      "\n",
      "Epoch 1: val_loss improved from inf to 0.63269, saving model to avg-word2vec-los_3-best_model.hdf5\n",
      "242/242 [==============================] - 9s 32ms/step - loss: 0.6815 - acc: 0.6179 - val_loss: 0.6327 - val_acc: 0.6617\n",
      "Epoch 2/70\n",
      "241/242 [============================>.] - ETA: 0s - loss: 0.6397 - acc: 0.6540\n",
      "Epoch 2: val_loss improved from 0.63269 to 0.62828, saving model to avg-word2vec-los_3-best_model.hdf5\n",
      "242/242 [==============================] - 7s 30ms/step - loss: 0.6397 - acc: 0.6540 - val_loss: 0.6283 - val_acc: 0.6703\n",
      "Epoch 3/70\n",
      "241/242 [============================>.] - ETA: 0s - loss: 0.6271 - acc: 0.6672\n",
      "Epoch 3: val_loss improved from 0.62828 to 0.62349, saving model to avg-word2vec-los_3-best_model.hdf5\n",
      "242/242 [==============================] - 7s 30ms/step - loss: 0.6270 - acc: 0.6673 - val_loss: 0.6235 - val_acc: 0.6794\n",
      "Epoch 4/70\n",
      "241/242 [============================>.] - ETA: 0s - loss: 0.6198 - acc: 0.6701\n",
      "Epoch 4: val_loss improved from 0.62349 to 0.62198, saving model to avg-word2vec-los_3-best_model.hdf5\n",
      "242/242 [==============================] - 7s 30ms/step - loss: 0.6198 - acc: 0.6699 - val_loss: 0.6220 - val_acc: 0.6817\n",
      "Epoch 5/70\n",
      "241/242 [============================>.] - ETA: 0s - loss: 0.6165 - acc: 0.6730\n",
      "Epoch 5: val_loss improved from 0.62198 to 0.62093, saving model to avg-word2vec-los_3-best_model.hdf5\n",
      "242/242 [==============================] - 7s 30ms/step - loss: 0.6166 - acc: 0.6730 - val_loss: 0.6209 - val_acc: 0.6758\n",
      "Epoch 6/70\n",
      "241/242 [============================>.] - ETA: 0s - loss: 0.6118 - acc: 0.6811\n",
      "Epoch 6: val_loss improved from 0.62093 to 0.61934, saving model to avg-word2vec-los_3-best_model.hdf5\n",
      "242/242 [==============================] - 7s 30ms/step - loss: 0.6118 - acc: 0.6811 - val_loss: 0.6193 - val_acc: 0.6762\n",
      "Epoch 7/70\n",
      "241/242 [============================>.] - ETA: 0s - loss: 0.6074 - acc: 0.6822\n",
      "Epoch 7: val_loss did not improve from 0.61934\n",
      "242/242 [==============================] - 7s 30ms/step - loss: 0.6074 - acc: 0.6822 - val_loss: 0.6205 - val_acc: 0.6772\n",
      "Epoch 8/70\n",
      "241/242 [============================>.] - ETA: 0s - loss: 0.6048 - acc: 0.6870\n",
      "Epoch 8: val_loss improved from 0.61934 to 0.61875, saving model to avg-word2vec-los_3-best_model.hdf5\n",
      "242/242 [==============================] - 7s 30ms/step - loss: 0.6049 - acc: 0.6870 - val_loss: 0.6188 - val_acc: 0.6813\n",
      "Epoch 9/70\n",
      "241/242 [============================>.] - ETA: 0s - loss: 0.6043 - acc: 0.6835\n",
      "Epoch 9: val_loss improved from 0.61875 to 0.61790, saving model to avg-word2vec-los_3-best_model.hdf5\n",
      "242/242 [==============================] - 7s 30ms/step - loss: 0.6043 - acc: 0.6834 - val_loss: 0.6179 - val_acc: 0.6808\n",
      "Epoch 10/70\n",
      "241/242 [============================>.] - ETA: 0s - loss: 0.6010 - acc: 0.6889\n",
      "Epoch 10: val_loss improved from 0.61790 to 0.61760, saving model to avg-word2vec-los_3-best_model.hdf5\n",
      "242/242 [==============================] - 7s 30ms/step - loss: 0.6010 - acc: 0.6889 - val_loss: 0.6176 - val_acc: 0.6808\n",
      "Epoch 11/70\n",
      "241/242 [============================>.] - ETA: 0s - loss: 0.6003 - acc: 0.6886\n",
      "Epoch 11: val_loss did not improve from 0.61760\n",
      "242/242 [==============================] - 7s 30ms/step - loss: 0.6002 - acc: 0.6888 - val_loss: 0.6186 - val_acc: 0.6799\n",
      "Epoch 12/70\n",
      "241/242 [============================>.] - ETA: 0s - loss: 0.5967 - acc: 0.6931\n",
      "Epoch 12: val_loss improved from 0.61760 to 0.61749, saving model to avg-word2vec-los_3-best_model.hdf5\n",
      "242/242 [==============================] - 7s 30ms/step - loss: 0.5969 - acc: 0.6930 - val_loss: 0.6175 - val_acc: 0.6799\n",
      "Epoch 13/70\n",
      "241/242 [============================>.] - ETA: 0s - loss: 0.5949 - acc: 0.6947\n",
      "Epoch 13: val_loss improved from 0.61749 to 0.61709, saving model to avg-word2vec-los_3-best_model.hdf5\n",
      "242/242 [==============================] - 7s 30ms/step - loss: 0.5949 - acc: 0.6947 - val_loss: 0.6171 - val_acc: 0.6776\n",
      "Epoch 14/70\n",
      "241/242 [============================>.] - ETA: 0s - loss: 0.5940 - acc: 0.6926\n",
      "Epoch 14: val_loss did not improve from 0.61709\n",
      "242/242 [==============================] - 7s 30ms/step - loss: 0.5939 - acc: 0.6928 - val_loss: 0.6177 - val_acc: 0.6831\n",
      "Epoch 15/70\n",
      "241/242 [============================>.] - ETA: 0s - loss: 0.5927 - acc: 0.6961\n",
      "Epoch 15: val_loss did not improve from 0.61709\n",
      "242/242 [==============================] - 7s 30ms/step - loss: 0.5928 - acc: 0.6962 - val_loss: 0.6181 - val_acc: 0.6835\n",
      "Epoch 16/70\n",
      "241/242 [============================>.] - ETA: 0s - loss: 0.5910 - acc: 0.6982\n",
      "Epoch 16: val_loss improved from 0.61709 to 0.61616, saving model to avg-word2vec-los_3-best_model.hdf5\n",
      "242/242 [==============================] - 7s 30ms/step - loss: 0.5909 - acc: 0.6983 - val_loss: 0.6162 - val_acc: 0.6813\n",
      "Epoch 17/70\n",
      "241/242 [============================>.] - ETA: 0s - loss: 0.5920 - acc: 0.6953\n",
      "Epoch 17: val_loss did not improve from 0.61616\n",
      "242/242 [==============================] - 7s 30ms/step - loss: 0.5920 - acc: 0.6954 - val_loss: 0.6168 - val_acc: 0.6794\n",
      "Epoch 18/70\n",
      "241/242 [============================>.] - ETA: 0s - loss: 0.5896 - acc: 0.7023\n",
      "Epoch 18: val_loss did not improve from 0.61616\n",
      "242/242 [==============================] - 7s 30ms/step - loss: 0.5897 - acc: 0.7021 - val_loss: 0.6168 - val_acc: 0.6799\n",
      "Epoch 19/70\n",
      "241/242 [============================>.] - ETA: 0s - loss: 0.5881 - acc: 0.7014\n",
      "Epoch 19: val_loss did not improve from 0.61616\n",
      "242/242 [==============================] - 7s 30ms/step - loss: 0.5882 - acc: 0.7014 - val_loss: 0.6170 - val_acc: 0.6858\n",
      "Epoch 20/70\n",
      "241/242 [============================>.] - ETA: 0s - loss: 0.5906 - acc: 0.7017\n",
      "Epoch 20: val_loss did not improve from 0.61616\n",
      "242/242 [==============================] - 7s 31ms/step - loss: 0.5908 - acc: 0.7015 - val_loss: 0.6167 - val_acc: 0.6813\n",
      "Epoch 21/70\n",
      "241/242 [============================>.] - ETA: 0s - loss: 0.5859 - acc: 0.7022\n",
      "Epoch 21: val_loss did not improve from 0.61616\n",
      "242/242 [==============================] - 8s 31ms/step - loss: 0.5858 - acc: 0.7022 - val_loss: 0.6163 - val_acc: 0.6813\n",
      "  6/138 [>.............................] - ETA: 1s "
     ]
    },
    {
     "name": "stderr",
     "output_type": "stream",
     "text": [
      "2023-05-01 00:17:54.861475: I tensorflow/core/common_runtime/executor.cc:1197] [/device:CPU:0] (DEBUG INFO) Executor start aborting (this does not indicate an error and you can ignore this message): INVALID_ARGUMENT: You must feed a value for placeholder tensor 'gradients/split_2_grad/concat/split_2/split_dim' with dtype int32\n",
      "\t [[{{node gradients/split_2_grad/concat/split_2/split_dim}}]]\n",
      "2023-05-01 00:17:54.863291: I tensorflow/core/common_runtime/executor.cc:1197] [/device:CPU:0] (DEBUG INFO) Executor start aborting (this does not indicate an error and you can ignore this message): INVALID_ARGUMENT: You must feed a value for placeholder tensor 'gradients/split_grad/concat/split/split_dim' with dtype int32\n",
      "\t [[{{node gradients/split_grad/concat/split/split_dim}}]]\n",
      "2023-05-01 00:17:54.864700: I tensorflow/core/common_runtime/executor.cc:1197] [/device:CPU:0] (DEBUG INFO) Executor start aborting (this does not indicate an error and you can ignore this message): INVALID_ARGUMENT: You must feed a value for placeholder tensor 'gradients/split_1_grad/concat/split_1/split_dim' with dtype int32\n",
      "\t [[{{node gradients/split_1_grad/concat/split_1/split_dim}}]]\n"
     ]
    },
    {
     "name": "stdout",
     "output_type": "stream",
     "text": [
      "138/138 [==============================] - 2s 9ms/step\n",
      "0.7002553369876587 0.6353629017140798 0.6633280218529479 0.5589024753951685\n",
      "Problem type:  los_7\n",
      "__________________\n"
     ]
    },
    {
     "name": "stderr",
     "output_type": "stream",
     "text": [
      "2023-05-01 00:17:57.851752: I tensorflow/core/common_runtime/executor.cc:1197] [/device:CPU:0] (DEBUG INFO) Executor start aborting (this does not indicate an error and you can ignore this message): INVALID_ARGUMENT: You must feed a value for placeholder tensor 'gradients/split_2_grad/concat/split_2/split_dim' with dtype int32\n",
      "\t [[{{node gradients/split_2_grad/concat/split_2/split_dim}}]]\n",
      "2023-05-01 00:17:57.853603: I tensorflow/core/common_runtime/executor.cc:1197] [/device:CPU:0] (DEBUG INFO) Executor start aborting (this does not indicate an error and you can ignore this message): INVALID_ARGUMENT: You must feed a value for placeholder tensor 'gradients/split_grad/concat/split/split_dim' with dtype int32\n",
      "\t [[{{node gradients/split_grad/concat/split/split_dim}}]]\n",
      "2023-05-01 00:17:57.854800: I tensorflow/core/common_runtime/executor.cc:1197] [/device:CPU:0] (DEBUG INFO) Executor start aborting (this does not indicate an error and you can ignore this message): INVALID_ARGUMENT: You must feed a value for placeholder tensor 'gradients/split_1_grad/concat/split_1/split_dim' with dtype int32\n",
      "\t [[{{node gradients/split_1_grad/concat/split_1/split_dim}}]]\n"
     ]
    },
    {
     "name": "stdout",
     "output_type": "stream",
     "text": [
      "Epoch 1/70\n"
     ]
    },
    {
     "name": "stderr",
     "output_type": "stream",
     "text": [
      "2023-05-01 00:17:58.308880: I tensorflow/core/common_runtime/executor.cc:1197] [/device:CPU:0] (DEBUG INFO) Executor start aborting (this does not indicate an error and you can ignore this message): INVALID_ARGUMENT: You must feed a value for placeholder tensor 'gradients/split_2_grad/concat/split_2/split_dim' with dtype int32\n",
      "\t [[{{node gradients/split_2_grad/concat/split_2/split_dim}}]]\n",
      "2023-05-01 00:17:58.310862: I tensorflow/core/common_runtime/executor.cc:1197] [/device:CPU:0] (DEBUG INFO) Executor start aborting (this does not indicate an error and you can ignore this message): INVALID_ARGUMENT: You must feed a value for placeholder tensor 'gradients/split_grad/concat/split/split_dim' with dtype int32\n",
      "\t [[{{node gradients/split_grad/concat/split/split_dim}}]]\n",
      "2023-05-01 00:17:58.312207: I tensorflow/core/common_runtime/executor.cc:1197] [/device:CPU:0] (DEBUG INFO) Executor start aborting (this does not indicate an error and you can ignore this message): INVALID_ARGUMENT: You must feed a value for placeholder tensor 'gradients/split_1_grad/concat/split_1/split_dim' with dtype int32\n",
      "\t [[{{node gradients/split_1_grad/concat/split_1/split_dim}}]]\n",
      "2023-05-01 00:17:58.871471: I tensorflow/core/common_runtime/executor.cc:1197] [/device:CPU:0] (DEBUG INFO) Executor start aborting (this does not indicate an error and you can ignore this message): INVALID_ARGUMENT: You must feed a value for placeholder tensor 'gradients/split_2_grad/concat/split_2/split_dim' with dtype int32\n",
      "\t [[{{node gradients/split_2_grad/concat/split_2/split_dim}}]]\n",
      "2023-05-01 00:17:58.873233: I tensorflow/core/common_runtime/executor.cc:1197] [/device:CPU:0] (DEBUG INFO) Executor start aborting (this does not indicate an error and you can ignore this message): INVALID_ARGUMENT: You must feed a value for placeholder tensor 'gradients/split_grad/concat/split/split_dim' with dtype int32\n",
      "\t [[{{node gradients/split_grad/concat/split/split_dim}}]]\n",
      "2023-05-01 00:17:58.874574: I tensorflow/core/common_runtime/executor.cc:1197] [/device:CPU:0] (DEBUG INFO) Executor start aborting (this does not indicate an error and you can ignore this message): INVALID_ARGUMENT: You must feed a value for placeholder tensor 'gradients/split_1_grad/concat/split_1/split_dim' with dtype int32\n",
      "\t [[{{node gradients/split_1_grad/concat/split_1/split_dim}}]]\n"
     ]
    },
    {
     "name": "stdout",
     "output_type": "stream",
     "text": [
      "241/242 [============================>.] - ETA: 0s - loss: 0.2876 - acc: 0.9180"
     ]
    },
    {
     "name": "stderr",
     "output_type": "stream",
     "text": [
      "2023-05-01 00:18:06.851128: I tensorflow/core/common_runtime/executor.cc:1197] [/device:CPU:0] (DEBUG INFO) Executor start aborting (this does not indicate an error and you can ignore this message): INVALID_ARGUMENT: You must feed a value for placeholder tensor 'gradients/split_2_grad/concat/split_2/split_dim' with dtype int32\n",
      "\t [[{{node gradients/split_2_grad/concat/split_2/split_dim}}]]\n",
      "2023-05-01 00:18:06.852811: I tensorflow/core/common_runtime/executor.cc:1197] [/device:CPU:0] (DEBUG INFO) Executor start aborting (this does not indicate an error and you can ignore this message): INVALID_ARGUMENT: You must feed a value for placeholder tensor 'gradients/split_grad/concat/split/split_dim' with dtype int32\n",
      "\t [[{{node gradients/split_grad/concat/split/split_dim}}]]\n",
      "2023-05-01 00:18:06.853928: I tensorflow/core/common_runtime/executor.cc:1197] [/device:CPU:0] (DEBUG INFO) Executor start aborting (this does not indicate an error and you can ignore this message): INVALID_ARGUMENT: You must feed a value for placeholder tensor 'gradients/split_1_grad/concat/split_1/split_dim' with dtype int32\n",
      "\t [[{{node gradients/split_1_grad/concat/split_1/split_dim}}]]\n"
     ]
    },
    {
     "name": "stdout",
     "output_type": "stream",
     "text": [
      "\n",
      "Epoch 1: val_loss improved from inf to 0.26863, saving model to avg-word2vec-los_7-best_model.hdf5\n",
      "242/242 [==============================] - 9s 32ms/step - loss: 0.2876 - acc: 0.9181 - val_loss: 0.2686 - val_acc: 0.9248\n",
      "Epoch 2/70\n",
      "241/242 [============================>.] - ETA: 0s - loss: 0.2606 - acc: 0.9216\n",
      "Epoch 2: val_loss improved from 0.26863 to 0.26694, saving model to avg-word2vec-los_7-best_model.hdf5\n",
      "242/242 [==============================] - 7s 30ms/step - loss: 0.2605 - acc: 0.9216 - val_loss: 0.2669 - val_acc: 0.9238\n",
      "Epoch 3/70\n",
      "241/242 [============================>.] - ETA: 0s - loss: 0.2527 - acc: 0.9222\n",
      "Epoch 3: val_loss improved from 0.26694 to 0.26675, saving model to avg-word2vec-los_7-best_model.hdf5\n",
      "242/242 [==============================] - 7s 30ms/step - loss: 0.2528 - acc: 0.9221 - val_loss: 0.2667 - val_acc: 0.9225\n",
      "Epoch 4/70\n",
      "241/242 [============================>.] - ETA: 0s - loss: 0.2479 - acc: 0.9218\n",
      "Epoch 4: val_loss improved from 0.26675 to 0.26348, saving model to avg-word2vec-los_7-best_model.hdf5\n",
      "242/242 [==============================] - 7s 30ms/step - loss: 0.2479 - acc: 0.9218 - val_loss: 0.2635 - val_acc: 0.9248\n",
      "Epoch 5/70\n",
      "241/242 [============================>.] - ETA: 0s - loss: 0.2440 - acc: 0.9228\n",
      "Epoch 5: val_loss improved from 0.26348 to 0.26330, saving model to avg-word2vec-los_7-best_model.hdf5\n",
      "242/242 [==============================] - 7s 30ms/step - loss: 0.2440 - acc: 0.9229 - val_loss: 0.2633 - val_acc: 0.9243\n",
      "Epoch 6/70\n",
      "241/242 [============================>.] - ETA: 0s - loss: 0.2417 - acc: 0.9221\n",
      "Epoch 6: val_loss improved from 0.26330 to 0.26238, saving model to avg-word2vec-los_7-best_model.hdf5\n",
      "242/242 [==============================] - 7s 30ms/step - loss: 0.2418 - acc: 0.9221 - val_loss: 0.2624 - val_acc: 0.9243\n",
      "Epoch 7/70\n",
      "241/242 [============================>.] - ETA: 0s - loss: 0.2400 - acc: 0.9232\n",
      "Epoch 7: val_loss did not improve from 0.26238\n",
      "242/242 [==============================] - 7s 30ms/step - loss: 0.2405 - acc: 0.9229 - val_loss: 0.2636 - val_acc: 0.9238\n",
      "Epoch 8/70\n",
      "241/242 [============================>.] - ETA: 0s - loss: 0.2380 - acc: 0.9230\n",
      "Epoch 8: val_loss improved from 0.26238 to 0.26204, saving model to avg-word2vec-los_7-best_model.hdf5\n",
      "242/242 [==============================] - 7s 30ms/step - loss: 0.2379 - acc: 0.9230 - val_loss: 0.2620 - val_acc: 0.9243\n",
      "Epoch 9/70\n",
      "241/242 [============================>.] - ETA: 0s - loss: 0.2364 - acc: 0.9236\n",
      "Epoch 9: val_loss did not improve from 0.26204\n",
      "242/242 [==============================] - 7s 30ms/step - loss: 0.2367 - acc: 0.9234 - val_loss: 0.2621 - val_acc: 0.9243\n",
      "Epoch 10/70\n",
      "241/242 [============================>.] - ETA: 0s - loss: 0.2349 - acc: 0.9230\n",
      "Epoch 10: val_loss improved from 0.26204 to 0.26186, saving model to avg-word2vec-los_7-best_model.hdf5\n",
      "242/242 [==============================] - 7s 30ms/step - loss: 0.2348 - acc: 0.9230 - val_loss: 0.2619 - val_acc: 0.9243\n",
      "Epoch 11/70\n",
      "241/242 [============================>.] - ETA: 0s - loss: 0.2343 - acc: 0.9240\n",
      "Epoch 11: val_loss improved from 0.26186 to 0.26144, saving model to avg-word2vec-los_7-best_model.hdf5\n",
      "242/242 [==============================] - 7s 30ms/step - loss: 0.2345 - acc: 0.9240 - val_loss: 0.2614 - val_acc: 0.9243\n",
      "Epoch 12/70\n",
      "241/242 [============================>.] - ETA: 0s - loss: 0.2327 - acc: 0.9239\n",
      "Epoch 12: val_loss improved from 0.26144 to 0.26143, saving model to avg-word2vec-los_7-best_model.hdf5\n",
      "242/242 [==============================] - 7s 30ms/step - loss: 0.2326 - acc: 0.9240 - val_loss: 0.2614 - val_acc: 0.9243\n",
      "Epoch 13/70\n",
      "241/242 [============================>.] - ETA: 0s - loss: 0.2327 - acc: 0.9241\n",
      "Epoch 13: val_loss did not improve from 0.26143\n",
      "242/242 [==============================] - 7s 31ms/step - loss: 0.2326 - acc: 0.9242 - val_loss: 0.2617 - val_acc: 0.9243\n",
      "Epoch 14/70\n",
      "241/242 [============================>.] - ETA: 0s - loss: 0.2324 - acc: 0.9245\n",
      "Epoch 14: val_loss improved from 0.26143 to 0.26129, saving model to avg-word2vec-los_7-best_model.hdf5\n",
      "242/242 [==============================] - 8s 31ms/step - loss: 0.2325 - acc: 0.9244 - val_loss: 0.2613 - val_acc: 0.9243\n",
      "Epoch 15/70\n",
      "241/242 [============================>.] - ETA: 0s - loss: 0.2313 - acc: 0.9241\n",
      "Epoch 15: val_loss did not improve from 0.26129\n",
      "242/242 [==============================] - 7s 30ms/step - loss: 0.2314 - acc: 0.9240 - val_loss: 0.2613 - val_acc: 0.9243\n",
      "Epoch 16/70\n",
      "241/242 [============================>.] - ETA: 0s - loss: 0.2291 - acc: 0.9248\n",
      "Epoch 16: val_loss improved from 0.26129 to 0.26090, saving model to avg-word2vec-los_7-best_model.hdf5\n",
      "242/242 [==============================] - 7s 31ms/step - loss: 0.2290 - acc: 0.9248 - val_loss: 0.2609 - val_acc: 0.9243\n",
      "Epoch 17/70\n",
      "241/242 [============================>.] - ETA: 0s - loss: 0.2286 - acc: 0.9249\n",
      "Epoch 17: val_loss improved from 0.26090 to 0.26074, saving model to avg-word2vec-los_7-best_model.hdf5\n",
      "242/242 [==============================] - 7s 30ms/step - loss: 0.2286 - acc: 0.9249 - val_loss: 0.2607 - val_acc: 0.9243\n",
      "Epoch 18/70\n",
      "241/242 [============================>.] - ETA: 0s - loss: 0.2286 - acc: 0.9242\n",
      "Epoch 18: val_loss did not improve from 0.26074\n",
      "242/242 [==============================] - 7s 30ms/step - loss: 0.2287 - acc: 0.9242 - val_loss: 0.2609 - val_acc: 0.9243\n",
      "Epoch 19/70\n",
      "241/242 [============================>.] - ETA: 0s - loss: 0.2284 - acc: 0.9249\n",
      "Epoch 19: val_loss improved from 0.26074 to 0.26066, saving model to avg-word2vec-los_7-best_model.hdf5\n",
      "242/242 [==============================] - 7s 30ms/step - loss: 0.2289 - acc: 0.9247 - val_loss: 0.2607 - val_acc: 0.9243\n",
      "Epoch 20/70\n",
      "241/242 [============================>.] - ETA: 0s - loss: 0.2279 - acc: 0.9247\n",
      "Epoch 20: val_loss improved from 0.26066 to 0.26064, saving model to avg-word2vec-los_7-best_model.hdf5\n",
      "242/242 [==============================] - 7s 30ms/step - loss: 0.2280 - acc: 0.9246 - val_loss: 0.2606 - val_acc: 0.9243\n",
      "Epoch 21/70\n",
      "241/242 [============================>.] - ETA: 0s - loss: 0.2264 - acc: 0.9242\n",
      "Epoch 21: val_loss improved from 0.26064 to 0.26055, saving model to avg-word2vec-los_7-best_model.hdf5\n",
      "242/242 [==============================] - 7s 30ms/step - loss: 0.2262 - acc: 0.9243 - val_loss: 0.2606 - val_acc: 0.9243\n",
      "Epoch 22/70\n",
      "241/242 [============================>.] - ETA: 0s - loss: 0.2264 - acc: 0.9240\n",
      "Epoch 22: val_loss did not improve from 0.26055\n",
      "242/242 [==============================] - 7s 30ms/step - loss: 0.2264 - acc: 0.9240 - val_loss: 0.2606 - val_acc: 0.9243\n",
      "Epoch 23/70\n",
      "241/242 [============================>.] - ETA: 0s - loss: 0.2254 - acc: 0.9246\n",
      "Epoch 23: val_loss did not improve from 0.26055\n",
      "242/242 [==============================] - 7s 30ms/step - loss: 0.2252 - acc: 0.9247 - val_loss: 0.2606 - val_acc: 0.9238\n",
      "Epoch 24/70\n",
      "241/242 [============================>.] - ETA: 0s - loss: 0.2256 - acc: 0.9244\n",
      "Epoch 24: val_loss did not improve from 0.26055\n",
      "242/242 [==============================] - 7s 30ms/step - loss: 0.2260 - acc: 0.9243 - val_loss: 0.2607 - val_acc: 0.9243\n",
      "Epoch 25/70\n",
      "241/242 [============================>.] - ETA: 0s - loss: 0.2242 - acc: 0.9248\n",
      "Epoch 25: val_loss did not improve from 0.26055\n",
      "242/242 [==============================] - 7s 30ms/step - loss: 0.2241 - acc: 0.9248 - val_loss: 0.2607 - val_acc: 0.9243\n",
      "Epoch 26/70\n",
      "241/242 [============================>.] - ETA: 0s - loss: 0.2232 - acc: 0.9246\n",
      "Epoch 26: val_loss did not improve from 0.26055\n",
      "242/242 [==============================] - 7s 29ms/step - loss: 0.2231 - acc: 0.9246 - val_loss: 0.2606 - val_acc: 0.9238\n",
      "  7/138 [>.............................] - ETA: 1s "
     ]
    },
    {
     "name": "stderr",
     "output_type": "stream",
     "text": [
      "2023-05-01 00:21:10.000135: I tensorflow/core/common_runtime/executor.cc:1197] [/device:CPU:0] (DEBUG INFO) Executor start aborting (this does not indicate an error and you can ignore this message): INVALID_ARGUMENT: You must feed a value for placeholder tensor 'gradients/split_2_grad/concat/split_2/split_dim' with dtype int32\n",
      "\t [[{{node gradients/split_2_grad/concat/split_2/split_dim}}]]\n",
      "2023-05-01 00:21:10.001882: I tensorflow/core/common_runtime/executor.cc:1197] [/device:CPU:0] (DEBUG INFO) Executor start aborting (this does not indicate an error and you can ignore this message): INVALID_ARGUMENT: You must feed a value for placeholder tensor 'gradients/split_grad/concat/split/split_dim' with dtype int32\n",
      "\t [[{{node gradients/split_grad/concat/split/split_dim}}]]\n",
      "2023-05-01 00:21:10.002982: I tensorflow/core/common_runtime/executor.cc:1197] [/device:CPU:0] (DEBUG INFO) Executor start aborting (this does not indicate an error and you can ignore this message): INVALID_ARGUMENT: You must feed a value for placeholder tensor 'gradients/split_1_grad/concat/split_1/split_dim' with dtype int32\n",
      "\t [[{{node gradients/split_1_grad/concat/split_1/split_dim}}]]\n"
     ]
    },
    {
     "name": "stdout",
     "output_type": "stream",
     "text": [
      "138/138 [==============================] - 1s 8ms/step\n",
      "0.7381868589165244 0.23269934653355612 0.9207830639653996 0.05945945945945946\n",
      "Embedding:  fasttext\n",
      "=============================\n",
      "Iteration number:  1\n",
      "Problem type:  mort_hosp\n",
      "__________________\n"
     ]
    },
    {
     "name": "stderr",
     "output_type": "stream",
     "text": [
      "2023-05-01 00:21:13.511049: I tensorflow/core/common_runtime/executor.cc:1197] [/device:CPU:0] (DEBUG INFO) Executor start aborting (this does not indicate an error and you can ignore this message): INVALID_ARGUMENT: You must feed a value for placeholder tensor 'gradients/split_2_grad/concat/split_2/split_dim' with dtype int32\n",
      "\t [[{{node gradients/split_2_grad/concat/split_2/split_dim}}]]\n",
      "2023-05-01 00:21:13.512686: I tensorflow/core/common_runtime/executor.cc:1197] [/device:CPU:0] (DEBUG INFO) Executor start aborting (this does not indicate an error and you can ignore this message): INVALID_ARGUMENT: You must feed a value for placeholder tensor 'gradients/split_grad/concat/split/split_dim' with dtype int32\n",
      "\t [[{{node gradients/split_grad/concat/split/split_dim}}]]\n",
      "2023-05-01 00:21:13.513817: I tensorflow/core/common_runtime/executor.cc:1197] [/device:CPU:0] (DEBUG INFO) Executor start aborting (this does not indicate an error and you can ignore this message): INVALID_ARGUMENT: You must feed a value for placeholder tensor 'gradients/split_1_grad/concat/split_1/split_dim' with dtype int32\n",
      "\t [[{{node gradients/split_1_grad/concat/split_1/split_dim}}]]\n"
     ]
    },
    {
     "name": "stdout",
     "output_type": "stream",
     "text": [
      "Epoch 1/70\n"
     ]
    },
    {
     "name": "stderr",
     "output_type": "stream",
     "text": [
      "2023-05-01 00:21:13.971621: I tensorflow/core/common_runtime/executor.cc:1197] [/device:CPU:0] (DEBUG INFO) Executor start aborting (this does not indicate an error and you can ignore this message): INVALID_ARGUMENT: You must feed a value for placeholder tensor 'gradients/split_2_grad/concat/split_2/split_dim' with dtype int32\n",
      "\t [[{{node gradients/split_2_grad/concat/split_2/split_dim}}]]\n",
      "2023-05-01 00:21:13.973279: I tensorflow/core/common_runtime/executor.cc:1197] [/device:CPU:0] (DEBUG INFO) Executor start aborting (this does not indicate an error and you can ignore this message): INVALID_ARGUMENT: You must feed a value for placeholder tensor 'gradients/split_grad/concat/split/split_dim' with dtype int32\n",
      "\t [[{{node gradients/split_grad/concat/split/split_dim}}]]\n",
      "2023-05-01 00:21:13.974541: I tensorflow/core/common_runtime/executor.cc:1197] [/device:CPU:0] (DEBUG INFO) Executor start aborting (this does not indicate an error and you can ignore this message): INVALID_ARGUMENT: You must feed a value for placeholder tensor 'gradients/split_1_grad/concat/split_1/split_dim' with dtype int32\n",
      "\t [[{{node gradients/split_1_grad/concat/split_1/split_dim}}]]\n",
      "2023-05-01 00:21:14.532820: I tensorflow/core/common_runtime/executor.cc:1197] [/device:CPU:0] (DEBUG INFO) Executor start aborting (this does not indicate an error and you can ignore this message): INVALID_ARGUMENT: You must feed a value for placeholder tensor 'gradients/split_2_grad/concat/split_2/split_dim' with dtype int32\n",
      "\t [[{{node gradients/split_2_grad/concat/split_2/split_dim}}]]\n",
      "2023-05-01 00:21:14.534434: I tensorflow/core/common_runtime/executor.cc:1197] [/device:CPU:0] (DEBUG INFO) Executor start aborting (this does not indicate an error and you can ignore this message): INVALID_ARGUMENT: You must feed a value for placeholder tensor 'gradients/split_grad/concat/split/split_dim' with dtype int32\n",
      "\t [[{{node gradients/split_grad/concat/split/split_dim}}]]\n",
      "2023-05-01 00:21:14.535693: I tensorflow/core/common_runtime/executor.cc:1197] [/device:CPU:0] (DEBUG INFO) Executor start aborting (this does not indicate an error and you can ignore this message): INVALID_ARGUMENT: You must feed a value for placeholder tensor 'gradients/split_1_grad/concat/split_1/split_dim' with dtype int32\n",
      "\t [[{{node gradients/split_1_grad/concat/split_1/split_dim}}]]\n"
     ]
    },
    {
     "name": "stdout",
     "output_type": "stream",
     "text": [
      "241/242 [============================>.] - ETA: 0s - loss: 0.3081 - acc: 0.8983"
     ]
    },
    {
     "name": "stderr",
     "output_type": "stream",
     "text": [
      "2023-05-01 00:21:22.246382: I tensorflow/core/common_runtime/executor.cc:1197] [/device:CPU:0] (DEBUG INFO) Executor start aborting (this does not indicate an error and you can ignore this message): INVALID_ARGUMENT: You must feed a value for placeholder tensor 'gradients/split_2_grad/concat/split_2/split_dim' with dtype int32\n",
      "\t [[{{node gradients/split_2_grad/concat/split_2/split_dim}}]]\n",
      "2023-05-01 00:21:22.248038: I tensorflow/core/common_runtime/executor.cc:1197] [/device:CPU:0] (DEBUG INFO) Executor start aborting (this does not indicate an error and you can ignore this message): INVALID_ARGUMENT: You must feed a value for placeholder tensor 'gradients/split_grad/concat/split/split_dim' with dtype int32\n",
      "\t [[{{node gradients/split_grad/concat/split/split_dim}}]]\n",
      "2023-05-01 00:21:22.249195: I tensorflow/core/common_runtime/executor.cc:1197] [/device:CPU:0] (DEBUG INFO) Executor start aborting (this does not indicate an error and you can ignore this message): INVALID_ARGUMENT: You must feed a value for placeholder tensor 'gradients/split_1_grad/concat/split_1/split_dim' with dtype int32\n",
      "\t [[{{node gradients/split_1_grad/concat/split_1/split_dim}}]]\n"
     ]
    },
    {
     "name": "stdout",
     "output_type": "stream",
     "text": [
      "\n",
      "Epoch 1: val_loss improved from inf to 0.24439, saving model to avg-fasttext-mort_hosp-best_model.hdf5\n",
      "242/242 [==============================] - 9s 31ms/step - loss: 0.3079 - acc: 0.8984 - val_loss: 0.2444 - val_acc: 0.9134\n",
      "Epoch 2/70\n",
      "241/242 [============================>.] - ETA: 0s - loss: 0.2560 - acc: 0.9118\n",
      "Epoch 2: val_loss improved from 0.24439 to 0.23665, saving model to avg-fasttext-mort_hosp-best_model.hdf5\n",
      "242/242 [==============================] - 7s 30ms/step - loss: 0.2561 - acc: 0.9117 - val_loss: 0.2367 - val_acc: 0.9143\n",
      "Epoch 3/70\n",
      "241/242 [============================>.] - ETA: 0s - loss: 0.2438 - acc: 0.9147\n",
      "Epoch 3: val_loss improved from 0.23665 to 0.23640, saving model to avg-fasttext-mort_hosp-best_model.hdf5\n",
      "242/242 [==============================] - 7s 30ms/step - loss: 0.2442 - acc: 0.9145 - val_loss: 0.2364 - val_acc: 0.9161\n",
      "Epoch 4/70\n",
      "241/242 [============================>.] - ETA: 0s - loss: 0.2361 - acc: 0.9161\n",
      "Epoch 4: val_loss improved from 0.23640 to 0.23355, saving model to avg-fasttext-mort_hosp-best_model.hdf5\n",
      "242/242 [==============================] - 7s 30ms/step - loss: 0.2361 - acc: 0.9161 - val_loss: 0.2335 - val_acc: 0.9161\n",
      "Epoch 5/70\n",
      "241/242 [============================>.] - ETA: 0s - loss: 0.2290 - acc: 0.9177\n",
      "Epoch 5: val_loss improved from 0.23355 to 0.23160, saving model to avg-fasttext-mort_hosp-best_model.hdf5\n",
      "242/242 [==============================] - 7s 29ms/step - loss: 0.2292 - acc: 0.9177 - val_loss: 0.2316 - val_acc: 0.9147\n",
      "Epoch 6/70\n",
      "241/242 [============================>.] - ETA: 0s - loss: 0.2254 - acc: 0.9198\n",
      "Epoch 6: val_loss did not improve from 0.23160\n",
      "242/242 [==============================] - 7s 30ms/step - loss: 0.2256 - acc: 0.9197 - val_loss: 0.2323 - val_acc: 0.9138\n",
      "Epoch 7/70\n",
      "241/242 [============================>.] - ETA: 0s - loss: 0.2226 - acc: 0.9206\n",
      "Epoch 7: val_loss did not improve from 0.23160\n",
      "242/242 [==============================] - 7s 30ms/step - loss: 0.2226 - acc: 0.9205 - val_loss: 0.2324 - val_acc: 0.9129\n",
      "Epoch 8/70\n",
      "241/242 [============================>.] - ETA: 0s - loss: 0.2210 - acc: 0.9227\n",
      "Epoch 8: val_loss did not improve from 0.23160\n",
      "242/242 [==============================] - 7s 30ms/step - loss: 0.2210 - acc: 0.9227 - val_loss: 0.2330 - val_acc: 0.9152\n",
      "Epoch 9/70\n",
      "241/242 [============================>.] - ETA: 0s - loss: 0.2175 - acc: 0.9227\n",
      "Epoch 9: val_loss improved from 0.23160 to 0.23125, saving model to avg-fasttext-mort_hosp-best_model.hdf5\n",
      "242/242 [==============================] - 7s 30ms/step - loss: 0.2175 - acc: 0.9227 - val_loss: 0.2313 - val_acc: 0.9138\n",
      "Epoch 10/70\n",
      "241/242 [============================>.] - ETA: 0s - loss: 0.2168 - acc: 0.9228\n",
      "Epoch 10: val_loss did not improve from 0.23125\n",
      "242/242 [==============================] - 7s 29ms/step - loss: 0.2167 - acc: 0.9229 - val_loss: 0.2315 - val_acc: 0.9120\n",
      "Epoch 11/70\n",
      "241/242 [============================>.] - ETA: 0s - loss: 0.2152 - acc: 0.9219\n",
      "Epoch 11: val_loss did not improve from 0.23125\n",
      "242/242 [==============================] - 7s 30ms/step - loss: 0.2152 - acc: 0.9219 - val_loss: 0.2319 - val_acc: 0.9129\n",
      "Epoch 12/70\n",
      "241/242 [============================>.] - ETA: 0s - loss: 0.2137 - acc: 0.9245\n",
      "Epoch 12: val_loss did not improve from 0.23125\n",
      "242/242 [==============================] - 7s 30ms/step - loss: 0.2136 - acc: 0.9245 - val_loss: 0.2318 - val_acc: 0.9143\n",
      "Epoch 13/70\n",
      "241/242 [============================>.] - ETA: 0s - loss: 0.2118 - acc: 0.9245\n",
      "Epoch 13: val_loss did not improve from 0.23125\n",
      "242/242 [==============================] - 7s 30ms/step - loss: 0.2117 - acc: 0.9245 - val_loss: 0.2319 - val_acc: 0.9147\n",
      "Epoch 14/70\n",
      "241/242 [============================>.] - ETA: 0s - loss: 0.2107 - acc: 0.9246\n",
      "Epoch 14: val_loss did not improve from 0.23125\n",
      "242/242 [==============================] - 7s 30ms/step - loss: 0.2105 - acc: 0.9247 - val_loss: 0.2316 - val_acc: 0.9138\n",
      "  7/138 [>.............................] - ETA: 1s "
     ]
    },
    {
     "name": "stderr",
     "output_type": "stream",
     "text": [
      "2023-05-01 00:22:56.640271: I tensorflow/core/common_runtime/executor.cc:1197] [/device:CPU:0] (DEBUG INFO) Executor start aborting (this does not indicate an error and you can ignore this message): INVALID_ARGUMENT: You must feed a value for placeholder tensor 'gradients/split_2_grad/concat/split_2/split_dim' with dtype int32\n",
      "\t [[{{node gradients/split_2_grad/concat/split_2/split_dim}}]]\n",
      "2023-05-01 00:22:56.641980: I tensorflow/core/common_runtime/executor.cc:1197] [/device:CPU:0] (DEBUG INFO) Executor start aborting (this does not indicate an error and you can ignore this message): INVALID_ARGUMENT: You must feed a value for placeholder tensor 'gradients/split_grad/concat/split/split_dim' with dtype int32\n",
      "\t [[{{node gradients/split_grad/concat/split/split_dim}}]]\n",
      "2023-05-01 00:22:56.643124: I tensorflow/core/common_runtime/executor.cc:1197] [/device:CPU:0] (DEBUG INFO) Executor start aborting (this does not indicate an error and you can ignore this message): INVALID_ARGUMENT: You must feed a value for placeholder tensor 'gradients/split_1_grad/concat/split_1/split_dim' with dtype int32\n",
      "\t [[{{node gradients/split_1_grad/concat/split_1/split_dim}}]]\n"
     ]
    },
    {
     "name": "stdout",
     "output_type": "stream",
     "text": [
      "138/138 [==============================] - 2s 9ms/step\n",
      "0.8787157469308441 0.579498258296714 0.9155474618711587 0.4583941605839416\n",
      "Problem type:  mort_icu\n",
      "__________________\n"
     ]
    },
    {
     "name": "stderr",
     "output_type": "stream",
     "text": [
      "2023-05-01 00:22:59.618677: I tensorflow/core/common_runtime/executor.cc:1197] [/device:CPU:0] (DEBUG INFO) Executor start aborting (this does not indicate an error and you can ignore this message): INVALID_ARGUMENT: You must feed a value for placeholder tensor 'gradients/split_2_grad/concat/split_2/split_dim' with dtype int32\n",
      "\t [[{{node gradients/split_2_grad/concat/split_2/split_dim}}]]\n",
      "2023-05-01 00:22:59.620330: I tensorflow/core/common_runtime/executor.cc:1197] [/device:CPU:0] (DEBUG INFO) Executor start aborting (this does not indicate an error and you can ignore this message): INVALID_ARGUMENT: You must feed a value for placeholder tensor 'gradients/split_grad/concat/split/split_dim' with dtype int32\n",
      "\t [[{{node gradients/split_grad/concat/split/split_dim}}]]\n",
      "2023-05-01 00:22:59.621486: I tensorflow/core/common_runtime/executor.cc:1197] [/device:CPU:0] (DEBUG INFO) Executor start aborting (this does not indicate an error and you can ignore this message): INVALID_ARGUMENT: You must feed a value for placeholder tensor 'gradients/split_1_grad/concat/split_1/split_dim' with dtype int32\n",
      "\t [[{{node gradients/split_1_grad/concat/split_1/split_dim}}]]\n"
     ]
    },
    {
     "name": "stdout",
     "output_type": "stream",
     "text": [
      "Epoch 1/70\n"
     ]
    },
    {
     "name": "stderr",
     "output_type": "stream",
     "text": [
      "2023-05-01 00:23:00.070137: I tensorflow/core/common_runtime/executor.cc:1197] [/device:CPU:0] (DEBUG INFO) Executor start aborting (this does not indicate an error and you can ignore this message): INVALID_ARGUMENT: You must feed a value for placeholder tensor 'gradients/split_2_grad/concat/split_2/split_dim' with dtype int32\n",
      "\t [[{{node gradients/split_2_grad/concat/split_2/split_dim}}]]\n",
      "2023-05-01 00:23:00.071745: I tensorflow/core/common_runtime/executor.cc:1197] [/device:CPU:0] (DEBUG INFO) Executor start aborting (this does not indicate an error and you can ignore this message): INVALID_ARGUMENT: You must feed a value for placeholder tensor 'gradients/split_grad/concat/split/split_dim' with dtype int32\n",
      "\t [[{{node gradients/split_grad/concat/split/split_dim}}]]\n",
      "2023-05-01 00:23:00.072933: I tensorflow/core/common_runtime/executor.cc:1197] [/device:CPU:0] (DEBUG INFO) Executor start aborting (this does not indicate an error and you can ignore this message): INVALID_ARGUMENT: You must feed a value for placeholder tensor 'gradients/split_1_grad/concat/split_1/split_dim' with dtype int32\n",
      "\t [[{{node gradients/split_1_grad/concat/split_1/split_dim}}]]\n",
      "2023-05-01 00:23:00.612353: I tensorflow/core/common_runtime/executor.cc:1197] [/device:CPU:0] (DEBUG INFO) Executor start aborting (this does not indicate an error and you can ignore this message): INVALID_ARGUMENT: You must feed a value for placeholder tensor 'gradients/split_2_grad/concat/split_2/split_dim' with dtype int32\n",
      "\t [[{{node gradients/split_2_grad/concat/split_2/split_dim}}]]\n",
      "2023-05-01 00:23:00.614125: I tensorflow/core/common_runtime/executor.cc:1197] [/device:CPU:0] (DEBUG INFO) Executor start aborting (this does not indicate an error and you can ignore this message): INVALID_ARGUMENT: You must feed a value for placeholder tensor 'gradients/split_grad/concat/split/split_dim' with dtype int32\n",
      "\t [[{{node gradients/split_grad/concat/split/split_dim}}]]\n",
      "2023-05-01 00:23:00.615486: I tensorflow/core/common_runtime/executor.cc:1197] [/device:CPU:0] (DEBUG INFO) Executor start aborting (this does not indicate an error and you can ignore this message): INVALID_ARGUMENT: You must feed a value for placeholder tensor 'gradients/split_1_grad/concat/split_1/split_dim' with dtype int32\n",
      "\t [[{{node gradients/split_1_grad/concat/split_1/split_dim}}]]\n"
     ]
    },
    {
     "name": "stdout",
     "output_type": "stream",
     "text": [
      "241/242 [============================>.] - ETA: 0s - loss: 0.2234 - acc: 0.9307"
     ]
    },
    {
     "name": "stderr",
     "output_type": "stream",
     "text": [
      "2023-05-01 00:23:08.700052: I tensorflow/core/common_runtime/executor.cc:1197] [/device:CPU:0] (DEBUG INFO) Executor start aborting (this does not indicate an error and you can ignore this message): INVALID_ARGUMENT: You must feed a value for placeholder tensor 'gradients/split_2_grad/concat/split_2/split_dim' with dtype int32\n",
      "\t [[{{node gradients/split_2_grad/concat/split_2/split_dim}}]]\n",
      "2023-05-01 00:23:08.701676: I tensorflow/core/common_runtime/executor.cc:1197] [/device:CPU:0] (DEBUG INFO) Executor start aborting (this does not indicate an error and you can ignore this message): INVALID_ARGUMENT: You must feed a value for placeholder tensor 'gradients/split_grad/concat/split/split_dim' with dtype int32\n",
      "\t [[{{node gradients/split_grad/concat/split/split_dim}}]]\n",
      "2023-05-01 00:23:08.702909: I tensorflow/core/common_runtime/executor.cc:1197] [/device:CPU:0] (DEBUG INFO) Executor start aborting (this does not indicate an error and you can ignore this message): INVALID_ARGUMENT: You must feed a value for placeholder tensor 'gradients/split_1_grad/concat/split_1/split_dim' with dtype int32\n",
      "\t [[{{node gradients/split_1_grad/concat/split_1/split_dim}}]]\n"
     ]
    },
    {
     "name": "stdout",
     "output_type": "stream",
     "text": [
      "\n",
      "Epoch 1: val_loss improved from inf to 0.17570, saving model to avg-fasttext-mort_icu-best_model.hdf5\n",
      "242/242 [==============================] - 9s 33ms/step - loss: 0.2234 - acc: 0.9307 - val_loss: 0.1757 - val_acc: 0.9448\n",
      "Epoch 2/70\n",
      "241/242 [============================>.] - ETA: 0s - loss: 0.1851 - acc: 0.9398\n",
      "Epoch 2: val_loss improved from 0.17570 to 0.16957, saving model to avg-fasttext-mort_icu-best_model.hdf5\n",
      "242/242 [==============================] - 7s 30ms/step - loss: 0.1849 - acc: 0.9399 - val_loss: 0.1696 - val_acc: 0.9439\n",
      "Epoch 3/70\n",
      "241/242 [============================>.] - ETA: 0s - loss: 0.1725 - acc: 0.9436\n",
      "Epoch 3: val_loss improved from 0.16957 to 0.16809, saving model to avg-fasttext-mort_icu-best_model.hdf5\n",
      "242/242 [==============================] - 7s 30ms/step - loss: 0.1725 - acc: 0.9436 - val_loss: 0.1681 - val_acc: 0.9435\n",
      "Epoch 4/70\n",
      "241/242 [============================>.] - ETA: 0s - loss: 0.1681 - acc: 0.9430\n",
      "Epoch 4: val_loss improved from 0.16809 to 0.16724, saving model to avg-fasttext-mort_icu-best_model.hdf5\n",
      "242/242 [==============================] - 7s 30ms/step - loss: 0.1679 - acc: 0.9431 - val_loss: 0.1672 - val_acc: 0.9416\n",
      "Epoch 5/70\n",
      "241/242 [============================>.] - ETA: 0s - loss: 0.1622 - acc: 0.9449\n",
      "Epoch 5: val_loss improved from 0.16724 to 0.16696, saving model to avg-fasttext-mort_icu-best_model.hdf5\n",
      "242/242 [==============================] - 7s 30ms/step - loss: 0.1622 - acc: 0.9449 - val_loss: 0.1670 - val_acc: 0.9403\n",
      "Epoch 6/70\n",
      "241/242 [============================>.] - ETA: 0s - loss: 0.1611 - acc: 0.9465\n",
      "Epoch 6: val_loss did not improve from 0.16696\n",
      "242/242 [==============================] - 7s 30ms/step - loss: 0.1610 - acc: 0.9466 - val_loss: 0.1674 - val_acc: 0.9403\n",
      "Epoch 7/70\n",
      "241/242 [============================>.] - ETA: 0s - loss: 0.1587 - acc: 0.9470\n",
      "Epoch 7: val_loss did not improve from 0.16696\n",
      "242/242 [==============================] - 7s 29ms/step - loss: 0.1589 - acc: 0.9470 - val_loss: 0.1683 - val_acc: 0.9403\n",
      "Epoch 8/70\n",
      "241/242 [============================>.] - ETA: 0s - loss: 0.1573 - acc: 0.9475\n",
      "Epoch 8: val_loss did not improve from 0.16696\n",
      "242/242 [==============================] - 7s 30ms/step - loss: 0.1573 - acc: 0.9475 - val_loss: 0.1673 - val_acc: 0.9416\n",
      "Epoch 9/70\n",
      "241/242 [============================>.] - ETA: 0s - loss: 0.1551 - acc: 0.9467\n",
      "Epoch 9: val_loss did not improve from 0.16696\n",
      "242/242 [==============================] - 7s 30ms/step - loss: 0.1552 - acc: 0.9467 - val_loss: 0.1673 - val_acc: 0.9412\n",
      "Epoch 10/70\n",
      "241/242 [============================>.] - ETA: 0s - loss: 0.1527 - acc: 0.9485\n",
      "Epoch 10: val_loss did not improve from 0.16696\n",
      "242/242 [==============================] - 7s 30ms/step - loss: 0.1527 - acc: 0.9484 - val_loss: 0.1672 - val_acc: 0.9416\n",
      "  7/138 [>.............................] - ETA: 1s "
     ]
    },
    {
     "name": "stderr",
     "output_type": "stream",
     "text": [
      "2023-05-01 00:24:14.603626: I tensorflow/core/common_runtime/executor.cc:1197] [/device:CPU:0] (DEBUG INFO) Executor start aborting (this does not indicate an error and you can ignore this message): INVALID_ARGUMENT: You must feed a value for placeholder tensor 'gradients/split_2_grad/concat/split_2/split_dim' with dtype int32\n",
      "\t [[{{node gradients/split_2_grad/concat/split_2/split_dim}}]]\n",
      "2023-05-01 00:24:14.605245: I tensorflow/core/common_runtime/executor.cc:1197] [/device:CPU:0] (DEBUG INFO) Executor start aborting (this does not indicate an error and you can ignore this message): INVALID_ARGUMENT: You must feed a value for placeholder tensor 'gradients/split_grad/concat/split/split_dim' with dtype int32\n",
      "\t [[{{node gradients/split_grad/concat/split/split_dim}}]]\n",
      "2023-05-01 00:24:14.606356: I tensorflow/core/common_runtime/executor.cc:1197] [/device:CPU:0] (DEBUG INFO) Executor start aborting (this does not indicate an error and you can ignore this message): INVALID_ARGUMENT: You must feed a value for placeholder tensor 'gradients/split_1_grad/concat/split_1/split_dim' with dtype int32\n",
      "\t [[{{node gradients/split_1_grad/concat/split_1/split_dim}}]]\n"
     ]
    },
    {
     "name": "stdout",
     "output_type": "stream",
     "text": [
      "138/138 [==============================] - 1s 8ms/step\n",
      "0.888900426762523 0.5140640892549881 0.9412702025950376 0.4136363636363637\n",
      "Problem type:  los_3\n",
      "__________________\n"
     ]
    },
    {
     "name": "stderr",
     "output_type": "stream",
     "text": [
      "2023-05-01 00:24:17.456348: I tensorflow/core/common_runtime/executor.cc:1197] [/device:CPU:0] (DEBUG INFO) Executor start aborting (this does not indicate an error and you can ignore this message): INVALID_ARGUMENT: You must feed a value for placeholder tensor 'gradients/split_2_grad/concat/split_2/split_dim' with dtype int32\n",
      "\t [[{{node gradients/split_2_grad/concat/split_2/split_dim}}]]\n",
      "2023-05-01 00:24:17.458140: I tensorflow/core/common_runtime/executor.cc:1197] [/device:CPU:0] (DEBUG INFO) Executor start aborting (this does not indicate an error and you can ignore this message): INVALID_ARGUMENT: You must feed a value for placeholder tensor 'gradients/split_grad/concat/split/split_dim' with dtype int32\n",
      "\t [[{{node gradients/split_grad/concat/split/split_dim}}]]\n",
      "2023-05-01 00:24:17.459334: I tensorflow/core/common_runtime/executor.cc:1197] [/device:CPU:0] (DEBUG INFO) Executor start aborting (this does not indicate an error and you can ignore this message): INVALID_ARGUMENT: You must feed a value for placeholder tensor 'gradients/split_1_grad/concat/split_1/split_dim' with dtype int32\n",
      "\t [[{{node gradients/split_1_grad/concat/split_1/split_dim}}]]\n"
     ]
    },
    {
     "name": "stdout",
     "output_type": "stream",
     "text": [
      "Epoch 1/70\n"
     ]
    },
    {
     "name": "stderr",
     "output_type": "stream",
     "text": [
      "2023-05-01 00:24:17.912202: I tensorflow/core/common_runtime/executor.cc:1197] [/device:CPU:0] (DEBUG INFO) Executor start aborting (this does not indicate an error and you can ignore this message): INVALID_ARGUMENT: You must feed a value for placeholder tensor 'gradients/split_2_grad/concat/split_2/split_dim' with dtype int32\n",
      "\t [[{{node gradients/split_2_grad/concat/split_2/split_dim}}]]\n",
      "2023-05-01 00:24:17.913967: I tensorflow/core/common_runtime/executor.cc:1197] [/device:CPU:0] (DEBUG INFO) Executor start aborting (this does not indicate an error and you can ignore this message): INVALID_ARGUMENT: You must feed a value for placeholder tensor 'gradients/split_grad/concat/split/split_dim' with dtype int32\n",
      "\t [[{{node gradients/split_grad/concat/split/split_dim}}]]\n",
      "2023-05-01 00:24:17.915254: I tensorflow/core/common_runtime/executor.cc:1197] [/device:CPU:0] (DEBUG INFO) Executor start aborting (this does not indicate an error and you can ignore this message): INVALID_ARGUMENT: You must feed a value for placeholder tensor 'gradients/split_1_grad/concat/split_1/split_dim' with dtype int32\n",
      "\t [[{{node gradients/split_1_grad/concat/split_1/split_dim}}]]\n",
      "2023-05-01 00:24:18.461315: I tensorflow/core/common_runtime/executor.cc:1197] [/device:CPU:0] (DEBUG INFO) Executor start aborting (this does not indicate an error and you can ignore this message): INVALID_ARGUMENT: You must feed a value for placeholder tensor 'gradients/split_2_grad/concat/split_2/split_dim' with dtype int32\n",
      "\t [[{{node gradients/split_2_grad/concat/split_2/split_dim}}]]\n",
      "2023-05-01 00:24:18.463264: I tensorflow/core/common_runtime/executor.cc:1197] [/device:CPU:0] (DEBUG INFO) Executor start aborting (this does not indicate an error and you can ignore this message): INVALID_ARGUMENT: You must feed a value for placeholder tensor 'gradients/split_grad/concat/split/split_dim' with dtype int32\n",
      "\t [[{{node gradients/split_grad/concat/split/split_dim}}]]\n",
      "2023-05-01 00:24:18.464848: I tensorflow/core/common_runtime/executor.cc:1197] [/device:CPU:0] (DEBUG INFO) Executor start aborting (this does not indicate an error and you can ignore this message): INVALID_ARGUMENT: You must feed a value for placeholder tensor 'gradients/split_1_grad/concat/split_1/split_dim' with dtype int32\n",
      "\t [[{{node gradients/split_1_grad/concat/split_1/split_dim}}]]\n"
     ]
    },
    {
     "name": "stdout",
     "output_type": "stream",
     "text": [
      "241/242 [============================>.] - ETA: 0s - loss: 0.7216 - acc: 0.6056"
     ]
    },
    {
     "name": "stderr",
     "output_type": "stream",
     "text": [
      "2023-05-01 00:24:26.196396: I tensorflow/core/common_runtime/executor.cc:1197] [/device:CPU:0] (DEBUG INFO) Executor start aborting (this does not indicate an error and you can ignore this message): INVALID_ARGUMENT: You must feed a value for placeholder tensor 'gradients/split_2_grad/concat/split_2/split_dim' with dtype int32\n",
      "\t [[{{node gradients/split_2_grad/concat/split_2/split_dim}}]]\n",
      "2023-05-01 00:24:26.197907: I tensorflow/core/common_runtime/executor.cc:1197] [/device:CPU:0] (DEBUG INFO) Executor start aborting (this does not indicate an error and you can ignore this message): INVALID_ARGUMENT: You must feed a value for placeholder tensor 'gradients/split_grad/concat/split/split_dim' with dtype int32\n",
      "\t [[{{node gradients/split_grad/concat/split/split_dim}}]]\n",
      "2023-05-01 00:24:26.199040: I tensorflow/core/common_runtime/executor.cc:1197] [/device:CPU:0] (DEBUG INFO) Executor start aborting (this does not indicate an error and you can ignore this message): INVALID_ARGUMENT: You must feed a value for placeholder tensor 'gradients/split_1_grad/concat/split_1/split_dim' with dtype int32\n",
      "\t [[{{node gradients/split_1_grad/concat/split_1/split_dim}}]]\n"
     ]
    },
    {
     "name": "stdout",
     "output_type": "stream",
     "text": [
      "\n",
      "Epoch 1: val_loss improved from inf to 0.63387, saving model to avg-fasttext-los_3-best_model.hdf5\n",
      "242/242 [==============================] - 9s 31ms/step - loss: 0.7214 - acc: 0.6057 - val_loss: 0.6339 - val_acc: 0.6594\n",
      "Epoch 2/70\n",
      "241/242 [============================>.] - ETA: 0s - loss: 0.6575 - acc: 0.6491\n",
      "Epoch 2: val_loss improved from 0.63387 to 0.63073, saving model to avg-fasttext-los_3-best_model.hdf5\n",
      "242/242 [==============================] - 7s 30ms/step - loss: 0.6575 - acc: 0.6491 - val_loss: 0.6307 - val_acc: 0.6680\n",
      "Epoch 3/70\n",
      "241/242 [============================>.] - ETA: 0s - loss: 0.6404 - acc: 0.6559\n",
      "Epoch 3: val_loss improved from 0.63073 to 0.62871, saving model to avg-fasttext-los_3-best_model.hdf5\n",
      "242/242 [==============================] - 7s 30ms/step - loss: 0.6403 - acc: 0.6559 - val_loss: 0.6287 - val_acc: 0.6671\n",
      "Epoch 4/70\n",
      "241/242 [============================>.] - ETA: 0s - loss: 0.6367 - acc: 0.6597\n",
      "Epoch 4: val_loss improved from 0.62871 to 0.62469, saving model to avg-fasttext-los_3-best_model.hdf5\n",
      "242/242 [==============================] - 7s 29ms/step - loss: 0.6368 - acc: 0.6596 - val_loss: 0.6247 - val_acc: 0.6712\n",
      "Epoch 5/70\n",
      "241/242 [============================>.] - ETA: 0s - loss: 0.6287 - acc: 0.6686\n",
      "Epoch 5: val_loss improved from 0.62469 to 0.62372, saving model to avg-fasttext-los_3-best_model.hdf5\n",
      "242/242 [==============================] - 7s 29ms/step - loss: 0.6287 - acc: 0.6685 - val_loss: 0.6237 - val_acc: 0.6717\n",
      "Epoch 6/70\n",
      "241/242 [============================>.] - ETA: 0s - loss: 0.6210 - acc: 0.6722\n",
      "Epoch 6: val_loss did not improve from 0.62372\n",
      "242/242 [==============================] - 7s 30ms/step - loss: 0.6209 - acc: 0.6722 - val_loss: 0.6241 - val_acc: 0.6689\n",
      "Epoch 7/70\n",
      "241/242 [============================>.] - ETA: 0s - loss: 0.6196 - acc: 0.6750\n",
      "Epoch 7: val_loss did not improve from 0.62372\n",
      "242/242 [==============================] - 7s 29ms/step - loss: 0.6196 - acc: 0.6750 - val_loss: 0.6241 - val_acc: 0.6708\n",
      "Epoch 8/70\n",
      "241/242 [============================>.] - ETA: 0s - loss: 0.6147 - acc: 0.6766\n",
      "Epoch 8: val_loss improved from 0.62372 to 0.62085, saving model to avg-fasttext-los_3-best_model.hdf5\n",
      "242/242 [==============================] - 7s 29ms/step - loss: 0.6147 - acc: 0.6764 - val_loss: 0.6209 - val_acc: 0.6744\n",
      "Epoch 9/70\n",
      "241/242 [============================>.] - ETA: 0s - loss: 0.6131 - acc: 0.6797\n",
      "Epoch 9: val_loss did not improve from 0.62085\n",
      "242/242 [==============================] - 7s 29ms/step - loss: 0.6132 - acc: 0.6796 - val_loss: 0.6223 - val_acc: 0.6689\n",
      "Epoch 10/70\n",
      "241/242 [============================>.] - ETA: 0s - loss: 0.6121 - acc: 0.6782\n",
      "Epoch 10: val_loss improved from 0.62085 to 0.61933, saving model to avg-fasttext-los_3-best_model.hdf5\n",
      "242/242 [==============================] - 7s 29ms/step - loss: 0.6120 - acc: 0.6783 - val_loss: 0.6193 - val_acc: 0.6762\n",
      "Epoch 11/70\n",
      "241/242 [============================>.] - ETA: 0s - loss: 0.6071 - acc: 0.6823\n",
      "Epoch 11: val_loss did not improve from 0.61933\n",
      "242/242 [==============================] - 7s 29ms/step - loss: 0.6072 - acc: 0.6823 - val_loss: 0.6223 - val_acc: 0.6712\n",
      "Epoch 12/70\n",
      "241/242 [============================>.] - ETA: 0s - loss: 0.6071 - acc: 0.6852\n",
      "Epoch 12: val_loss did not improve from 0.61933\n",
      "242/242 [==============================] - 7s 30ms/step - loss: 0.6071 - acc: 0.6851 - val_loss: 0.6194 - val_acc: 0.6694\n",
      "Epoch 13/70\n",
      "241/242 [============================>.] - ETA: 0s - loss: 0.6019 - acc: 0.6898\n",
      "Epoch 13: val_loss did not improve from 0.61933\n",
      "242/242 [==============================] - 7s 30ms/step - loss: 0.6018 - acc: 0.6899 - val_loss: 0.6201 - val_acc: 0.6680\n",
      "Epoch 14/70\n",
      "241/242 [============================>.] - ETA: 0s - loss: 0.6014 - acc: 0.6910\n",
      "Epoch 14: val_loss did not improve from 0.61933\n",
      "242/242 [==============================] - 7s 29ms/step - loss: 0.6016 - acc: 0.6908 - val_loss: 0.6202 - val_acc: 0.6685\n",
      "Epoch 15/70\n",
      "241/242 [============================>.] - ETA: 0s - loss: 0.5988 - acc: 0.6904\n",
      "Epoch 15: val_loss did not improve from 0.61933\n",
      "242/242 [==============================] - 7s 29ms/step - loss: 0.5988 - acc: 0.6905 - val_loss: 0.6198 - val_acc: 0.6658\n",
      "  7/138 [>.............................] - ETA: 1s "
     ]
    },
    {
     "name": "stderr",
     "output_type": "stream",
     "text": [
      "2023-05-01 00:26:06.793541: I tensorflow/core/common_runtime/executor.cc:1197] [/device:CPU:0] (DEBUG INFO) Executor start aborting (this does not indicate an error and you can ignore this message): INVALID_ARGUMENT: You must feed a value for placeholder tensor 'gradients/split_2_grad/concat/split_2/split_dim' with dtype int32\n",
      "\t [[{{node gradients/split_2_grad/concat/split_2/split_dim}}]]\n",
      "2023-05-01 00:26:06.795175: I tensorflow/core/common_runtime/executor.cc:1197] [/device:CPU:0] (DEBUG INFO) Executor start aborting (this does not indicate an error and you can ignore this message): INVALID_ARGUMENT: You must feed a value for placeholder tensor 'gradients/split_grad/concat/split/split_dim' with dtype int32\n",
      "\t [[{{node gradients/split_grad/concat/split/split_dim}}]]\n",
      "2023-05-01 00:26:06.796333: I tensorflow/core/common_runtime/executor.cc:1197] [/device:CPU:0] (DEBUG INFO) Executor start aborting (this does not indicate an error and you can ignore this message): INVALID_ARGUMENT: You must feed a value for placeholder tensor 'gradients/split_1_grad/concat/split_1/split_dim' with dtype int32\n",
      "\t [[{{node gradients/split_1_grad/concat/split_1/split_dim}}]]\n"
     ]
    },
    {
     "name": "stdout",
     "output_type": "stream",
     "text": [
      "138/138 [==============================] - 1s 9ms/step\n",
      "0.6973829017376042 0.635736718707113 0.6555884361484179 0.5328805186786045\n",
      "Problem type:  los_7\n",
      "__________________\n"
     ]
    },
    {
     "name": "stderr",
     "output_type": "stream",
     "text": [
      "2023-05-01 00:26:09.686486: I tensorflow/core/common_runtime/executor.cc:1197] [/device:CPU:0] (DEBUG INFO) Executor start aborting (this does not indicate an error and you can ignore this message): INVALID_ARGUMENT: You must feed a value for placeholder tensor 'gradients/split_2_grad/concat/split_2/split_dim' with dtype int32\n",
      "\t [[{{node gradients/split_2_grad/concat/split_2/split_dim}}]]\n",
      "2023-05-01 00:26:09.688018: I tensorflow/core/common_runtime/executor.cc:1197] [/device:CPU:0] (DEBUG INFO) Executor start aborting (this does not indicate an error and you can ignore this message): INVALID_ARGUMENT: You must feed a value for placeholder tensor 'gradients/split_grad/concat/split/split_dim' with dtype int32\n",
      "\t [[{{node gradients/split_grad/concat/split/split_dim}}]]\n",
      "2023-05-01 00:26:09.689300: I tensorflow/core/common_runtime/executor.cc:1197] [/device:CPU:0] (DEBUG INFO) Executor start aborting (this does not indicate an error and you can ignore this message): INVALID_ARGUMENT: You must feed a value for placeholder tensor 'gradients/split_1_grad/concat/split_1/split_dim' with dtype int32\n",
      "\t [[{{node gradients/split_1_grad/concat/split_1/split_dim}}]]\n"
     ]
    },
    {
     "name": "stdout",
     "output_type": "stream",
     "text": [
      "Epoch 1/70\n"
     ]
    },
    {
     "name": "stderr",
     "output_type": "stream",
     "text": [
      "2023-05-01 00:26:10.147787: I tensorflow/core/common_runtime/executor.cc:1197] [/device:CPU:0] (DEBUG INFO) Executor start aborting (this does not indicate an error and you can ignore this message): INVALID_ARGUMENT: You must feed a value for placeholder tensor 'gradients/split_2_grad/concat/split_2/split_dim' with dtype int32\n",
      "\t [[{{node gradients/split_2_grad/concat/split_2/split_dim}}]]\n",
      "2023-05-01 00:26:10.149466: I tensorflow/core/common_runtime/executor.cc:1197] [/device:CPU:0] (DEBUG INFO) Executor start aborting (this does not indicate an error and you can ignore this message): INVALID_ARGUMENT: You must feed a value for placeholder tensor 'gradients/split_grad/concat/split/split_dim' with dtype int32\n",
      "\t [[{{node gradients/split_grad/concat/split/split_dim}}]]\n",
      "2023-05-01 00:26:10.150862: I tensorflow/core/common_runtime/executor.cc:1197] [/device:CPU:0] (DEBUG INFO) Executor start aborting (this does not indicate an error and you can ignore this message): INVALID_ARGUMENT: You must feed a value for placeholder tensor 'gradients/split_1_grad/concat/split_1/split_dim' with dtype int32\n",
      "\t [[{{node gradients/split_1_grad/concat/split_1/split_dim}}]]\n",
      "2023-05-01 00:26:10.696292: I tensorflow/core/common_runtime/executor.cc:1197] [/device:CPU:0] (DEBUG INFO) Executor start aborting (this does not indicate an error and you can ignore this message): INVALID_ARGUMENT: You must feed a value for placeholder tensor 'gradients/split_2_grad/concat/split_2/split_dim' with dtype int32\n",
      "\t [[{{node gradients/split_2_grad/concat/split_2/split_dim}}]]\n",
      "2023-05-01 00:26:10.698146: I tensorflow/core/common_runtime/executor.cc:1197] [/device:CPU:0] (DEBUG INFO) Executor start aborting (this does not indicate an error and you can ignore this message): INVALID_ARGUMENT: You must feed a value for placeholder tensor 'gradients/split_grad/concat/split/split_dim' with dtype int32\n",
      "\t [[{{node gradients/split_grad/concat/split/split_dim}}]]\n",
      "2023-05-01 00:26:10.699664: I tensorflow/core/common_runtime/executor.cc:1197] [/device:CPU:0] (DEBUG INFO) Executor start aborting (this does not indicate an error and you can ignore this message): INVALID_ARGUMENT: You must feed a value for placeholder tensor 'gradients/split_1_grad/concat/split_1/split_dim' with dtype int32\n",
      "\t [[{{node gradients/split_1_grad/concat/split_1/split_dim}}]]\n"
     ]
    },
    {
     "name": "stdout",
     "output_type": "stream",
     "text": [
      "241/242 [============================>.] - ETA: 0s - loss: 0.3207 - acc: 0.9110"
     ]
    },
    {
     "name": "stderr",
     "output_type": "stream",
     "text": [
      "2023-05-01 00:26:18.507724: I tensorflow/core/common_runtime/executor.cc:1197] [/device:CPU:0] (DEBUG INFO) Executor start aborting (this does not indicate an error and you can ignore this message): INVALID_ARGUMENT: You must feed a value for placeholder tensor 'gradients/split_2_grad/concat/split_2/split_dim' with dtype int32\n",
      "\t [[{{node gradients/split_2_grad/concat/split_2/split_dim}}]]\n",
      "2023-05-01 00:26:18.509380: I tensorflow/core/common_runtime/executor.cc:1197] [/device:CPU:0] (DEBUG INFO) Executor start aborting (this does not indicate an error and you can ignore this message): INVALID_ARGUMENT: You must feed a value for placeholder tensor 'gradients/split_grad/concat/split/split_dim' with dtype int32\n",
      "\t [[{{node gradients/split_grad/concat/split/split_dim}}]]\n",
      "2023-05-01 00:26:18.510499: I tensorflow/core/common_runtime/executor.cc:1197] [/device:CPU:0] (DEBUG INFO) Executor start aborting (this does not indicate an error and you can ignore this message): INVALID_ARGUMENT: You must feed a value for placeholder tensor 'gradients/split_1_grad/concat/split_1/split_dim' with dtype int32\n",
      "\t [[{{node gradients/split_1_grad/concat/split_1/split_dim}}]]\n"
     ]
    },
    {
     "name": "stdout",
     "output_type": "stream",
     "text": [
      "\n",
      "Epoch 1: val_loss improved from inf to 0.27880, saving model to avg-fasttext-los_7-best_model.hdf5\n",
      "242/242 [==============================] - 9s 32ms/step - loss: 0.3205 - acc: 0.9111 - val_loss: 0.2788 - val_acc: 0.9225\n",
      "Epoch 2/70\n",
      "241/242 [============================>.] - ETA: 0s - loss: 0.2687 - acc: 0.9199\n",
      "Epoch 2: val_loss improved from 0.27880 to 0.27123, saving model to avg-fasttext-los_7-best_model.hdf5\n",
      "242/242 [==============================] - 7s 30ms/step - loss: 0.2686 - acc: 0.9199 - val_loss: 0.2712 - val_acc: 0.9220\n",
      "Epoch 3/70\n",
      "241/242 [============================>.] - ETA: 0s - loss: 0.2606 - acc: 0.9214\n",
      "Epoch 3: val_loss did not improve from 0.27123\n",
      "242/242 [==============================] - 7s 29ms/step - loss: 0.2604 - acc: 0.9214 - val_loss: 0.2713 - val_acc: 0.9220\n",
      "Epoch 4/70\n",
      "241/242 [============================>.] - ETA: 0s - loss: 0.2561 - acc: 0.9212\n",
      "Epoch 4: val_loss improved from 0.27123 to 0.26931, saving model to avg-fasttext-los_7-best_model.hdf5\n",
      "242/242 [==============================] - 7s 29ms/step - loss: 0.2564 - acc: 0.9211 - val_loss: 0.2693 - val_acc: 0.9216\n",
      "Epoch 5/70\n",
      "241/242 [============================>.] - ETA: 0s - loss: 0.2486 - acc: 0.9221\n",
      "Epoch 5: val_loss improved from 0.26931 to 0.26865, saving model to avg-fasttext-los_7-best_model.hdf5\n",
      "242/242 [==============================] - 7s 30ms/step - loss: 0.2488 - acc: 0.9220 - val_loss: 0.2686 - val_acc: 0.9229\n",
      "Epoch 6/70\n",
      "241/242 [============================>.] - ETA: 0s - loss: 0.2496 - acc: 0.9212\n",
      "Epoch 6: val_loss did not improve from 0.26865\n",
      "242/242 [==============================] - 7s 30ms/step - loss: 0.2494 - acc: 0.9213 - val_loss: 0.2691 - val_acc: 0.9225\n",
      "Epoch 7/70\n",
      "241/242 [============================>.] - ETA: 0s - loss: 0.2440 - acc: 0.9227\n",
      "Epoch 7: val_loss improved from 0.26865 to 0.26696, saving model to avg-fasttext-los_7-best_model.hdf5\n",
      "242/242 [==============================] - 7s 30ms/step - loss: 0.2439 - acc: 0.9228 - val_loss: 0.2670 - val_acc: 0.9238\n",
      "Epoch 8/70\n",
      "241/242 [============================>.] - ETA: 0s - loss: 0.2437 - acc: 0.9219\n",
      "Epoch 8: val_loss improved from 0.26696 to 0.26684, saving model to avg-fasttext-los_7-best_model.hdf5\n",
      "242/242 [==============================] - 7s 30ms/step - loss: 0.2435 - acc: 0.9220 - val_loss: 0.2668 - val_acc: 0.9229\n",
      "Epoch 9/70\n",
      "241/242 [============================>.] - ETA: 0s - loss: 0.2415 - acc: 0.9225\n",
      "Epoch 9: val_loss improved from 0.26684 to 0.26655, saving model to avg-fasttext-los_7-best_model.hdf5\n",
      "242/242 [==============================] - 7s 30ms/step - loss: 0.2415 - acc: 0.9225 - val_loss: 0.2665 - val_acc: 0.9234\n",
      "Epoch 10/70\n",
      "241/242 [============================>.] - ETA: 0s - loss: 0.2425 - acc: 0.9229\n",
      "Epoch 10: val_loss improved from 0.26655 to 0.26624, saving model to avg-fasttext-los_7-best_model.hdf5\n",
      "242/242 [==============================] - 7s 31ms/step - loss: 0.2424 - acc: 0.9230 - val_loss: 0.2662 - val_acc: 0.9229\n",
      "Epoch 11/70\n",
      "241/242 [============================>.] - ETA: 0s - loss: 0.2388 - acc: 0.9230\n",
      "Epoch 11: val_loss improved from 0.26624 to 0.26582, saving model to avg-fasttext-los_7-best_model.hdf5\n",
      "242/242 [==============================] - 7s 30ms/step - loss: 0.2387 - acc: 0.9231 - val_loss: 0.2658 - val_acc: 0.9243\n",
      "Epoch 12/70\n",
      "241/242 [============================>.] - ETA: 0s - loss: 0.2383 - acc: 0.9228\n",
      "Epoch 12: val_loss improved from 0.26582 to 0.26546, saving model to avg-fasttext-los_7-best_model.hdf5\n",
      "242/242 [==============================] - 7s 31ms/step - loss: 0.2387 - acc: 0.9227 - val_loss: 0.2655 - val_acc: 0.9234\n",
      "Epoch 13/70\n",
      "241/242 [============================>.] - ETA: 0s - loss: 0.2368 - acc: 0.9231\n",
      "Epoch 13: val_loss did not improve from 0.26546\n",
      "242/242 [==============================] - 7s 30ms/step - loss: 0.2371 - acc: 0.9230 - val_loss: 0.2659 - val_acc: 0.9234\n",
      "Epoch 14/70\n",
      "241/242 [============================>.] - ETA: 0s - loss: 0.2371 - acc: 0.9236\n",
      "Epoch 14: val_loss did not improve from 0.26546\n",
      "242/242 [==============================] - 7s 30ms/step - loss: 0.2374 - acc: 0.9234 - val_loss: 0.2659 - val_acc: 0.9238\n",
      "Epoch 15/70\n",
      "241/242 [============================>.] - ETA: 0s - loss: 0.2339 - acc: 0.9234\n",
      "Epoch 15: val_loss did not improve from 0.26546\n",
      "242/242 [==============================] - 7s 30ms/step - loss: 0.2340 - acc: 0.9233 - val_loss: 0.2657 - val_acc: 0.9243\n",
      "Epoch 16/70\n",
      "241/242 [============================>.] - ETA: 0s - loss: 0.2338 - acc: 0.9241\n",
      "Epoch 16: val_loss improved from 0.26546 to 0.26544, saving model to avg-fasttext-los_7-best_model.hdf5\n",
      "242/242 [==============================] - 7s 31ms/step - loss: 0.2341 - acc: 0.9240 - val_loss: 0.2654 - val_acc: 0.9234\n",
      "Epoch 17/70\n",
      "241/242 [============================>.] - ETA: 0s - loss: 0.2330 - acc: 0.9244\n",
      "Epoch 17: val_loss did not improve from 0.26544\n",
      "242/242 [==============================] - 8s 32ms/step - loss: 0.2331 - acc: 0.9243 - val_loss: 0.2657 - val_acc: 0.9238\n",
      "Epoch 18/70\n",
      "241/242 [============================>.] - ETA: 0s - loss: 0.2314 - acc: 0.9241\n",
      "Epoch 18: val_loss did not improve from 0.26544\n",
      "242/242 [==============================] - 7s 31ms/step - loss: 0.2315 - acc: 0.9240 - val_loss: 0.2659 - val_acc: 0.9234\n",
      "Epoch 19/70\n",
      "241/242 [============================>.] - ETA: 0s - loss: 0.2310 - acc: 0.9232\n",
      "Epoch 19: val_loss did not improve from 0.26544\n",
      "242/242 [==============================] - 7s 30ms/step - loss: 0.2310 - acc: 0.9231 - val_loss: 0.2657 - val_acc: 0.9238\n",
      "Epoch 20/70\n",
      "241/242 [============================>.] - ETA: 0s - loss: 0.2318 - acc: 0.9234\n",
      "Epoch 20: val_loss did not improve from 0.26544\n",
      "242/242 [==============================] - 7s 30ms/step - loss: 0.2318 - acc: 0.9233 - val_loss: 0.2655 - val_acc: 0.9243\n",
      "Epoch 21/70\n",
      "241/242 [============================>.] - ETA: 0s - loss: 0.2307 - acc: 0.9237\n",
      "Epoch 21: val_loss did not improve from 0.26544\n",
      "242/242 [==============================] - 7s 30ms/step - loss: 0.2306 - acc: 0.9237 - val_loss: 0.2655 - val_acc: 0.9238\n",
      "  7/138 [>.............................] - ETA: 1s "
     ]
    },
    {
     "name": "stderr",
     "output_type": "stream",
     "text": [
      "2023-05-01 00:28:45.929299: I tensorflow/core/common_runtime/executor.cc:1197] [/device:CPU:0] (DEBUG INFO) Executor start aborting (this does not indicate an error and you can ignore this message): INVALID_ARGUMENT: You must feed a value for placeholder tensor 'gradients/split_2_grad/concat/split_2/split_dim' with dtype int32\n",
      "\t [[{{node gradients/split_2_grad/concat/split_2/split_dim}}]]\n",
      "2023-05-01 00:28:45.930872: I tensorflow/core/common_runtime/executor.cc:1197] [/device:CPU:0] (DEBUG INFO) Executor start aborting (this does not indicate an error and you can ignore this message): INVALID_ARGUMENT: You must feed a value for placeholder tensor 'gradients/split_grad/concat/split/split_dim' with dtype int32\n",
      "\t [[{{node gradients/split_grad/concat/split/split_dim}}]]\n",
      "2023-05-01 00:28:45.931970: I tensorflow/core/common_runtime/executor.cc:1197] [/device:CPU:0] (DEBUG INFO) Executor start aborting (this does not indicate an error and you can ignore this message): INVALID_ARGUMENT: You must feed a value for placeholder tensor 'gradients/split_1_grad/concat/split_1/split_dim' with dtype int32\n",
      "\t [[{{node gradients/split_1_grad/concat/split_1/split_dim}}]]\n"
     ]
    },
    {
     "name": "stdout",
     "output_type": "stream",
     "text": [
      "138/138 [==============================] - 1s 8ms/step\n",
      "0.7286142315810676 0.22328173453704156 0.9205554290917368 0.05929919137466308\n",
      "Iteration number:  2\n",
      "Problem type:  mort_hosp\n",
      "__________________\n"
     ]
    },
    {
     "name": "stderr",
     "output_type": "stream",
     "text": [
      "2023-05-01 00:28:48.828670: I tensorflow/core/common_runtime/executor.cc:1197] [/device:CPU:0] (DEBUG INFO) Executor start aborting (this does not indicate an error and you can ignore this message): INVALID_ARGUMENT: You must feed a value for placeholder tensor 'gradients/split_2_grad/concat/split_2/split_dim' with dtype int32\n",
      "\t [[{{node gradients/split_2_grad/concat/split_2/split_dim}}]]\n",
      "2023-05-01 00:28:48.830258: I tensorflow/core/common_runtime/executor.cc:1197] [/device:CPU:0] (DEBUG INFO) Executor start aborting (this does not indicate an error and you can ignore this message): INVALID_ARGUMENT: You must feed a value for placeholder tensor 'gradients/split_grad/concat/split/split_dim' with dtype int32\n",
      "\t [[{{node gradients/split_grad/concat/split/split_dim}}]]\n",
      "2023-05-01 00:28:48.831375: I tensorflow/core/common_runtime/executor.cc:1197] [/device:CPU:0] (DEBUG INFO) Executor start aborting (this does not indicate an error and you can ignore this message): INVALID_ARGUMENT: You must feed a value for placeholder tensor 'gradients/split_1_grad/concat/split_1/split_dim' with dtype int32\n",
      "\t [[{{node gradients/split_1_grad/concat/split_1/split_dim}}]]\n"
     ]
    },
    {
     "name": "stdout",
     "output_type": "stream",
     "text": [
      "Epoch 1/70\n"
     ]
    },
    {
     "name": "stderr",
     "output_type": "stream",
     "text": [
      "2023-05-01 00:28:49.280494: I tensorflow/core/common_runtime/executor.cc:1197] [/device:CPU:0] (DEBUG INFO) Executor start aborting (this does not indicate an error and you can ignore this message): INVALID_ARGUMENT: You must feed a value for placeholder tensor 'gradients/split_2_grad/concat/split_2/split_dim' with dtype int32\n",
      "\t [[{{node gradients/split_2_grad/concat/split_2/split_dim}}]]\n",
      "2023-05-01 00:28:49.282121: I tensorflow/core/common_runtime/executor.cc:1197] [/device:CPU:0] (DEBUG INFO) Executor start aborting (this does not indicate an error and you can ignore this message): INVALID_ARGUMENT: You must feed a value for placeholder tensor 'gradients/split_grad/concat/split/split_dim' with dtype int32\n",
      "\t [[{{node gradients/split_grad/concat/split/split_dim}}]]\n",
      "2023-05-01 00:28:49.283356: I tensorflow/core/common_runtime/executor.cc:1197] [/device:CPU:0] (DEBUG INFO) Executor start aborting (this does not indicate an error and you can ignore this message): INVALID_ARGUMENT: You must feed a value for placeholder tensor 'gradients/split_1_grad/concat/split_1/split_dim' with dtype int32\n",
      "\t [[{{node gradients/split_1_grad/concat/split_1/split_dim}}]]\n",
      "2023-05-01 00:28:49.825701: I tensorflow/core/common_runtime/executor.cc:1197] [/device:CPU:0] (DEBUG INFO) Executor start aborting (this does not indicate an error and you can ignore this message): INVALID_ARGUMENT: You must feed a value for placeholder tensor 'gradients/split_2_grad/concat/split_2/split_dim' with dtype int32\n",
      "\t [[{{node gradients/split_2_grad/concat/split_2/split_dim}}]]\n",
      "2023-05-01 00:28:49.827327: I tensorflow/core/common_runtime/executor.cc:1197] [/device:CPU:0] (DEBUG INFO) Executor start aborting (this does not indicate an error and you can ignore this message): INVALID_ARGUMENT: You must feed a value for placeholder tensor 'gradients/split_grad/concat/split/split_dim' with dtype int32\n",
      "\t [[{{node gradients/split_grad/concat/split/split_dim}}]]\n",
      "2023-05-01 00:28:49.828485: I tensorflow/core/common_runtime/executor.cc:1197] [/device:CPU:0] (DEBUG INFO) Executor start aborting (this does not indicate an error and you can ignore this message): INVALID_ARGUMENT: You must feed a value for placeholder tensor 'gradients/split_1_grad/concat/split_1/split_dim' with dtype int32\n",
      "\t [[{{node gradients/split_1_grad/concat/split_1/split_dim}}]]\n"
     ]
    },
    {
     "name": "stdout",
     "output_type": "stream",
     "text": [
      "241/242 [============================>.] - ETA: 0s - loss: 0.3141 - acc: 0.8957"
     ]
    },
    {
     "name": "stderr",
     "output_type": "stream",
     "text": [
      "2023-05-01 00:28:57.770873: I tensorflow/core/common_runtime/executor.cc:1197] [/device:CPU:0] (DEBUG INFO) Executor start aborting (this does not indicate an error and you can ignore this message): INVALID_ARGUMENT: You must feed a value for placeholder tensor 'gradients/split_2_grad/concat/split_2/split_dim' with dtype int32\n",
      "\t [[{{node gradients/split_2_grad/concat/split_2/split_dim}}]]\n",
      "2023-05-01 00:28:57.772483: I tensorflow/core/common_runtime/executor.cc:1197] [/device:CPU:0] (DEBUG INFO) Executor start aborting (this does not indicate an error and you can ignore this message): INVALID_ARGUMENT: You must feed a value for placeholder tensor 'gradients/split_grad/concat/split/split_dim' with dtype int32\n",
      "\t [[{{node gradients/split_grad/concat/split/split_dim}}]]\n",
      "2023-05-01 00:28:57.773603: I tensorflow/core/common_runtime/executor.cc:1197] [/device:CPU:0] (DEBUG INFO) Executor start aborting (this does not indicate an error and you can ignore this message): INVALID_ARGUMENT: You must feed a value for placeholder tensor 'gradients/split_1_grad/concat/split_1/split_dim' with dtype int32\n",
      "\t [[{{node gradients/split_1_grad/concat/split_1/split_dim}}]]\n"
     ]
    },
    {
     "name": "stdout",
     "output_type": "stream",
     "text": [
      "\n",
      "Epoch 1: val_loss improved from inf to 0.24816, saving model to avg-fasttext-mort_hosp-best_model.hdf5\n",
      "242/242 [==============================] - 9s 32ms/step - loss: 0.3142 - acc: 0.8957 - val_loss: 0.2482 - val_acc: 0.9120\n",
      "Epoch 2/70\n",
      "241/242 [============================>.] - ETA: 0s - loss: 0.2579 - acc: 0.9105\n",
      "Epoch 2: val_loss improved from 0.24816 to 0.23880, saving model to avg-fasttext-mort_hosp-best_model.hdf5\n",
      "242/242 [==============================] - 7s 30ms/step - loss: 0.2580 - acc: 0.9105 - val_loss: 0.2388 - val_acc: 0.9147\n",
      "Epoch 3/70\n",
      "241/242 [============================>.] - ETA: 0s - loss: 0.2442 - acc: 0.9147\n",
      "Epoch 3: val_loss improved from 0.23880 to 0.23551, saving model to avg-fasttext-mort_hosp-best_model.hdf5\n",
      "242/242 [==============================] - 7s 30ms/step - loss: 0.2441 - acc: 0.9148 - val_loss: 0.2355 - val_acc: 0.9152\n",
      "Epoch 4/70\n",
      "241/242 [============================>.] - ETA: 0s - loss: 0.2366 - acc: 0.9173\n",
      "Epoch 4: val_loss improved from 0.23551 to 0.23350, saving model to avg-fasttext-mort_hosp-best_model.hdf5\n",
      "242/242 [==============================] - 7s 30ms/step - loss: 0.2365 - acc: 0.9174 - val_loss: 0.2335 - val_acc: 0.9152\n",
      "Epoch 5/70\n",
      "241/242 [============================>.] - ETA: 0s - loss: 0.2289 - acc: 0.9198\n",
      "Epoch 5: val_loss improved from 0.23350 to 0.23274, saving model to avg-fasttext-mort_hosp-best_model.hdf5\n",
      "242/242 [==============================] - 7s 30ms/step - loss: 0.2290 - acc: 0.9198 - val_loss: 0.2327 - val_acc: 0.9152\n",
      "Epoch 6/70\n",
      "241/242 [============================>.] - ETA: 0s - loss: 0.2267 - acc: 0.9205\n",
      "Epoch 6: val_loss did not improve from 0.23274\n",
      "242/242 [==============================] - 7s 30ms/step - loss: 0.2268 - acc: 0.9203 - val_loss: 0.2349 - val_acc: 0.9134\n",
      "Epoch 7/70\n",
      "241/242 [============================>.] - ETA: 0s - loss: 0.2222 - acc: 0.9225\n",
      "Epoch 7: val_loss did not improve from 0.23274\n",
      "242/242 [==============================] - 7s 30ms/step - loss: 0.2224 - acc: 0.9223 - val_loss: 0.2345 - val_acc: 0.9138\n",
      "Epoch 8/70\n",
      "241/242 [============================>.] - ETA: 0s - loss: 0.2210 - acc: 0.9210\n",
      "Epoch 8: val_loss did not improve from 0.23274\n",
      "242/242 [==============================] - 7s 30ms/step - loss: 0.2211 - acc: 0.9210 - val_loss: 0.2337 - val_acc: 0.9134\n",
      "Epoch 9/70\n",
      "241/242 [============================>.] - ETA: 0s - loss: 0.2184 - acc: 0.9217\n",
      "Epoch 9: val_loss did not improve from 0.23274\n",
      "242/242 [==============================] - 7s 30ms/step - loss: 0.2183 - acc: 0.9218 - val_loss: 0.2345 - val_acc: 0.9134\n",
      "Epoch 10/70\n",
      "241/242 [============================>.] - ETA: 0s - loss: 0.2170 - acc: 0.9218\n",
      "Epoch 10: val_loss did not improve from 0.23274\n",
      "242/242 [==============================] - 7s 30ms/step - loss: 0.2170 - acc: 0.9218 - val_loss: 0.2329 - val_acc: 0.9156\n",
      "  7/138 [>.............................] - ETA: 1s "
     ]
    },
    {
     "name": "stderr",
     "output_type": "stream",
     "text": [
      "2023-05-01 00:30:04.085037: I tensorflow/core/common_runtime/executor.cc:1197] [/device:CPU:0] (DEBUG INFO) Executor start aborting (this does not indicate an error and you can ignore this message): INVALID_ARGUMENT: You must feed a value for placeholder tensor 'gradients/split_2_grad/concat/split_2/split_dim' with dtype int32\n",
      "\t [[{{node gradients/split_2_grad/concat/split_2/split_dim}}]]\n",
      "2023-05-01 00:30:04.087036: I tensorflow/core/common_runtime/executor.cc:1197] [/device:CPU:0] (DEBUG INFO) Executor start aborting (this does not indicate an error and you can ignore this message): INVALID_ARGUMENT: You must feed a value for placeholder tensor 'gradients/split_grad/concat/split/split_dim' with dtype int32\n",
      "\t [[{{node gradients/split_grad/concat/split/split_dim}}]]\n",
      "2023-05-01 00:30:04.088316: I tensorflow/core/common_runtime/executor.cc:1197] [/device:CPU:0] (DEBUG INFO) Executor start aborting (this does not indicate an error and you can ignore this message): INVALID_ARGUMENT: You must feed a value for placeholder tensor 'gradients/split_1_grad/concat/split_1/split_dim' with dtype int32\n",
      "\t [[{{node gradients/split_1_grad/concat/split_1/split_dim}}]]\n"
     ]
    },
    {
     "name": "stdout",
     "output_type": "stream",
     "text": [
      "138/138 [==============================] - 1s 9ms/step\n",
      "0.8765474195921054 0.5639867861149805 0.9166856362394719 0.4585798816568048\n",
      "Problem type:  mort_icu\n",
      "__________________\n"
     ]
    },
    {
     "name": "stderr",
     "output_type": "stream",
     "text": [
      "2023-05-01 00:30:06.998125: I tensorflow/core/common_runtime/executor.cc:1197] [/device:CPU:0] (DEBUG INFO) Executor start aborting (this does not indicate an error and you can ignore this message): INVALID_ARGUMENT: You must feed a value for placeholder tensor 'gradients/split_2_grad/concat/split_2/split_dim' with dtype int32\n",
      "\t [[{{node gradients/split_2_grad/concat/split_2/split_dim}}]]\n",
      "2023-05-01 00:30:06.999698: I tensorflow/core/common_runtime/executor.cc:1197] [/device:CPU:0] (DEBUG INFO) Executor start aborting (this does not indicate an error and you can ignore this message): INVALID_ARGUMENT: You must feed a value for placeholder tensor 'gradients/split_grad/concat/split/split_dim' with dtype int32\n",
      "\t [[{{node gradients/split_grad/concat/split/split_dim}}]]\n",
      "2023-05-01 00:30:07.000907: I tensorflow/core/common_runtime/executor.cc:1197] [/device:CPU:0] (DEBUG INFO) Executor start aborting (this does not indicate an error and you can ignore this message): INVALID_ARGUMENT: You must feed a value for placeholder tensor 'gradients/split_1_grad/concat/split_1/split_dim' with dtype int32\n",
      "\t [[{{node gradients/split_1_grad/concat/split_1/split_dim}}]]\n"
     ]
    },
    {
     "name": "stdout",
     "output_type": "stream",
     "text": [
      "Epoch 1/70\n"
     ]
    },
    {
     "name": "stderr",
     "output_type": "stream",
     "text": [
      "2023-05-01 00:30:07.454241: I tensorflow/core/common_runtime/executor.cc:1197] [/device:CPU:0] (DEBUG INFO) Executor start aborting (this does not indicate an error and you can ignore this message): INVALID_ARGUMENT: You must feed a value for placeholder tensor 'gradients/split_2_grad/concat/split_2/split_dim' with dtype int32\n",
      "\t [[{{node gradients/split_2_grad/concat/split_2/split_dim}}]]\n",
      "2023-05-01 00:30:07.455929: I tensorflow/core/common_runtime/executor.cc:1197] [/device:CPU:0] (DEBUG INFO) Executor start aborting (this does not indicate an error and you can ignore this message): INVALID_ARGUMENT: You must feed a value for placeholder tensor 'gradients/split_grad/concat/split/split_dim' with dtype int32\n",
      "\t [[{{node gradients/split_grad/concat/split/split_dim}}]]\n",
      "2023-05-01 00:30:07.457118: I tensorflow/core/common_runtime/executor.cc:1197] [/device:CPU:0] (DEBUG INFO) Executor start aborting (this does not indicate an error and you can ignore this message): INVALID_ARGUMENT: You must feed a value for placeholder tensor 'gradients/split_1_grad/concat/split_1/split_dim' with dtype int32\n",
      "\t [[{{node gradients/split_1_grad/concat/split_1/split_dim}}]]\n",
      "2023-05-01 00:30:08.000668: I tensorflow/core/common_runtime/executor.cc:1197] [/device:CPU:0] (DEBUG INFO) Executor start aborting (this does not indicate an error and you can ignore this message): INVALID_ARGUMENT: You must feed a value for placeholder tensor 'gradients/split_2_grad/concat/split_2/split_dim' with dtype int32\n",
      "\t [[{{node gradients/split_2_grad/concat/split_2/split_dim}}]]\n",
      "2023-05-01 00:30:08.002302: I tensorflow/core/common_runtime/executor.cc:1197] [/device:CPU:0] (DEBUG INFO) Executor start aborting (this does not indicate an error and you can ignore this message): INVALID_ARGUMENT: You must feed a value for placeholder tensor 'gradients/split_grad/concat/split/split_dim' with dtype int32\n",
      "\t [[{{node gradients/split_grad/concat/split/split_dim}}]]\n",
      "2023-05-01 00:30:08.003528: I tensorflow/core/common_runtime/executor.cc:1197] [/device:CPU:0] (DEBUG INFO) Executor start aborting (this does not indicate an error and you can ignore this message): INVALID_ARGUMENT: You must feed a value for placeholder tensor 'gradients/split_1_grad/concat/split_1/split_dim' with dtype int32\n",
      "\t [[{{node gradients/split_1_grad/concat/split_1/split_dim}}]]\n"
     ]
    },
    {
     "name": "stdout",
     "output_type": "stream",
     "text": [
      "241/242 [============================>.] - ETA: 0s - loss: 0.2313 - acc: 0.9302"
     ]
    },
    {
     "name": "stderr",
     "output_type": "stream",
     "text": [
      "2023-05-01 00:30:15.932755: I tensorflow/core/common_runtime/executor.cc:1197] [/device:CPU:0] (DEBUG INFO) Executor start aborting (this does not indicate an error and you can ignore this message): INVALID_ARGUMENT: You must feed a value for placeholder tensor 'gradients/split_2_grad/concat/split_2/split_dim' with dtype int32\n",
      "\t [[{{node gradients/split_2_grad/concat/split_2/split_dim}}]]\n",
      "2023-05-01 00:30:15.934392: I tensorflow/core/common_runtime/executor.cc:1197] [/device:CPU:0] (DEBUG INFO) Executor start aborting (this does not indicate an error and you can ignore this message): INVALID_ARGUMENT: You must feed a value for placeholder tensor 'gradients/split_grad/concat/split/split_dim' with dtype int32\n",
      "\t [[{{node gradients/split_grad/concat/split/split_dim}}]]\n",
      "2023-05-01 00:30:15.935565: I tensorflow/core/common_runtime/executor.cc:1197] [/device:CPU:0] (DEBUG INFO) Executor start aborting (this does not indicate an error and you can ignore this message): INVALID_ARGUMENT: You must feed a value for placeholder tensor 'gradients/split_1_grad/concat/split_1/split_dim' with dtype int32\n",
      "\t [[{{node gradients/split_1_grad/concat/split_1/split_dim}}]]\n"
     ]
    },
    {
     "name": "stdout",
     "output_type": "stream",
     "text": [
      "\n",
      "Epoch 1: val_loss improved from inf to 0.17921, saving model to avg-fasttext-mort_icu-best_model.hdf5\n",
      "242/242 [==============================] - 9s 32ms/step - loss: 0.2312 - acc: 0.9303 - val_loss: 0.1792 - val_acc: 0.9403\n",
      "Epoch 2/70\n",
      "241/242 [============================>.] - ETA: 0s - loss: 0.1897 - acc: 0.9391\n",
      "Epoch 2: val_loss improved from 0.17921 to 0.17327, saving model to avg-fasttext-mort_icu-best_model.hdf5\n",
      "242/242 [==============================] - 7s 31ms/step - loss: 0.1896 - acc: 0.9391 - val_loss: 0.1733 - val_acc: 0.9421\n",
      "Epoch 3/70\n",
      "241/242 [============================>.] - ETA: 0s - loss: 0.1777 - acc: 0.9436\n",
      "Epoch 3: val_loss improved from 0.17327 to 0.17297, saving model to avg-fasttext-mort_icu-best_model.hdf5\n",
      "242/242 [==============================] - 7s 31ms/step - loss: 0.1776 - acc: 0.9436 - val_loss: 0.1730 - val_acc: 0.9421\n",
      "Epoch 4/70\n",
      "241/242 [============================>.] - ETA: 0s - loss: 0.1732 - acc: 0.9453\n",
      "Epoch 4: val_loss improved from 0.17297 to 0.17087, saving model to avg-fasttext-mort_icu-best_model.hdf5\n",
      "242/242 [==============================] - 7s 30ms/step - loss: 0.1731 - acc: 0.9454 - val_loss: 0.1709 - val_acc: 0.9421\n",
      "Epoch 5/70\n",
      "241/242 [============================>.] - ETA: 0s - loss: 0.1694 - acc: 0.9454\n",
      "Epoch 5: val_loss did not improve from 0.17087\n",
      "242/242 [==============================] - 7s 30ms/step - loss: 0.1693 - acc: 0.9454 - val_loss: 0.1720 - val_acc: 0.9416\n",
      "Epoch 6/70\n",
      "241/242 [============================>.] - ETA: 0s - loss: 0.1637 - acc: 0.9471\n",
      "Epoch 6: val_loss did not improve from 0.17087\n",
      "242/242 [==============================] - 7s 30ms/step - loss: 0.1636 - acc: 0.9471 - val_loss: 0.1712 - val_acc: 0.9425\n",
      "Epoch 7/70\n",
      "241/242 [============================>.] - ETA: 0s - loss: 0.1593 - acc: 0.9481\n",
      "Epoch 7: val_loss improved from 0.17087 to 0.17085, saving model to avg-fasttext-mort_icu-best_model.hdf5\n",
      "242/242 [==============================] - 7s 30ms/step - loss: 0.1594 - acc: 0.9480 - val_loss: 0.1709 - val_acc: 0.9421\n",
      "Epoch 8/70\n",
      "241/242 [============================>.] - ETA: 0s - loss: 0.1586 - acc: 0.9480\n",
      "Epoch 8: val_loss improved from 0.17085 to 0.17068, saving model to avg-fasttext-mort_icu-best_model.hdf5\n",
      "242/242 [==============================] - 7s 30ms/step - loss: 0.1588 - acc: 0.9479 - val_loss: 0.1707 - val_acc: 0.9407\n",
      "Epoch 9/70\n",
      "241/242 [============================>.] - ETA: 0s - loss: 0.1567 - acc: 0.9488\n",
      "Epoch 9: val_loss did not improve from 0.17068\n",
      "242/242 [==============================] - 7s 30ms/step - loss: 0.1566 - acc: 0.9488 - val_loss: 0.1708 - val_acc: 0.9435\n",
      "Epoch 10/70\n",
      "241/242 [============================>.] - ETA: 0s - loss: 0.1564 - acc: 0.9485\n",
      "Epoch 10: val_loss improved from 0.17068 to 0.17057, saving model to avg-fasttext-mort_icu-best_model.hdf5\n",
      "242/242 [==============================] - 7s 30ms/step - loss: 0.1565 - acc: 0.9485 - val_loss: 0.1706 - val_acc: 0.9407\n",
      "Epoch 11/70\n",
      "241/242 [============================>.] - ETA: 0s - loss: 0.1553 - acc: 0.9493\n",
      "Epoch 11: val_loss did not improve from 0.17057\n",
      "242/242 [==============================] - 7s 30ms/step - loss: 0.1555 - acc: 0.9493 - val_loss: 0.1706 - val_acc: 0.9430\n",
      "Epoch 12/70\n",
      "241/242 [============================>.] - ETA: 0s - loss: 0.1534 - acc: 0.9495\n",
      "Epoch 12: val_loss did not improve from 0.17057\n",
      "242/242 [==============================] - 7s 30ms/step - loss: 0.1534 - acc: 0.9494 - val_loss: 0.1707 - val_acc: 0.9425\n",
      "Epoch 13/70\n",
      "241/242 [============================>.] - ETA: 0s - loss: 0.1515 - acc: 0.9492\n",
      "Epoch 13: val_loss improved from 0.17057 to 0.17042, saving model to avg-fasttext-mort_icu-best_model.hdf5\n",
      "242/242 [==============================] - 7s 30ms/step - loss: 0.1515 - acc: 0.9493 - val_loss: 0.1704 - val_acc: 0.9430\n",
      "Epoch 14/70\n",
      "241/242 [============================>.] - ETA: 0s - loss: 0.1506 - acc: 0.9508\n",
      "Epoch 14: val_loss did not improve from 0.17042\n",
      "242/242 [==============================] - 7s 30ms/step - loss: 0.1506 - acc: 0.9508 - val_loss: 0.1708 - val_acc: 0.9425\n",
      "Epoch 15/70\n",
      "241/242 [============================>.] - ETA: 0s - loss: 0.1497 - acc: 0.9503\n",
      "Epoch 15: val_loss did not improve from 0.17042\n",
      "242/242 [==============================] - 7s 30ms/step - loss: 0.1496 - acc: 0.9503 - val_loss: 0.1706 - val_acc: 0.9421\n",
      "Epoch 16/70\n",
      "241/242 [============================>.] - ETA: 0s - loss: 0.1487 - acc: 0.9520\n",
      "Epoch 16: val_loss did not improve from 0.17042\n",
      "242/242 [==============================] - 7s 30ms/step - loss: 0.1487 - acc: 0.9519 - val_loss: 0.1706 - val_acc: 0.9430\n",
      "Epoch 17/70\n",
      "241/242 [============================>.] - ETA: 0s - loss: 0.1483 - acc: 0.9515\n",
      "Epoch 17: val_loss did not improve from 0.17042\n",
      "242/242 [==============================] - 7s 30ms/step - loss: 0.1486 - acc: 0.9514 - val_loss: 0.1705 - val_acc: 0.9425\n",
      "Epoch 18/70\n",
      "241/242 [============================>.] - ETA: 0s - loss: 0.1468 - acc: 0.9516\n",
      "Epoch 18: val_loss did not improve from 0.17042\n",
      "242/242 [==============================] - 7s 30ms/step - loss: 0.1469 - acc: 0.9516 - val_loss: 0.1705 - val_acc: 0.9430\n",
      "  7/138 [>.............................] - ETA: 1s "
     ]
    },
    {
     "name": "stderr",
     "output_type": "stream",
     "text": [
      "2023-05-01 00:32:21.060368: I tensorflow/core/common_runtime/executor.cc:1197] [/device:CPU:0] (DEBUG INFO) Executor start aborting (this does not indicate an error and you can ignore this message): INVALID_ARGUMENT: You must feed a value for placeholder tensor 'gradients/split_2_grad/concat/split_2/split_dim' with dtype int32\n",
      "\t [[{{node gradients/split_2_grad/concat/split_2/split_dim}}]]\n",
      "2023-05-01 00:32:21.062031: I tensorflow/core/common_runtime/executor.cc:1197] [/device:CPU:0] (DEBUG INFO) Executor start aborting (this does not indicate an error and you can ignore this message): INVALID_ARGUMENT: You must feed a value for placeholder tensor 'gradients/split_grad/concat/split/split_dim' with dtype int32\n",
      "\t [[{{node gradients/split_grad/concat/split/split_dim}}]]\n",
      "2023-05-01 00:32:21.063108: I tensorflow/core/common_runtime/executor.cc:1197] [/device:CPU:0] (DEBUG INFO) Executor start aborting (this does not indicate an error and you can ignore this message): INVALID_ARGUMENT: You must feed a value for placeholder tensor 'gradients/split_1_grad/concat/split_1/split_dim' with dtype int32\n",
      "\t [[{{node gradients/split_1_grad/concat/split_1/split_dim}}]]\n"
     ]
    },
    {
     "name": "stdout",
     "output_type": "stream",
     "text": [
      "138/138 [==============================] - 1s 8ms/step\n",
      "0.8874552430266566 0.516092434059835 0.9412702025950376 0.42920353982300885\n",
      "Problem type:  los_3\n",
      "__________________\n"
     ]
    },
    {
     "name": "stderr",
     "output_type": "stream",
     "text": [
      "2023-05-01 00:32:23.945338: I tensorflow/core/common_runtime/executor.cc:1197] [/device:CPU:0] (DEBUG INFO) Executor start aborting (this does not indicate an error and you can ignore this message): INVALID_ARGUMENT: You must feed a value for placeholder tensor 'gradients/split_2_grad/concat/split_2/split_dim' with dtype int32\n",
      "\t [[{{node gradients/split_2_grad/concat/split_2/split_dim}}]]\n",
      "2023-05-01 00:32:23.947009: I tensorflow/core/common_runtime/executor.cc:1197] [/device:CPU:0] (DEBUG INFO) Executor start aborting (this does not indicate an error and you can ignore this message): INVALID_ARGUMENT: You must feed a value for placeholder tensor 'gradients/split_grad/concat/split/split_dim' with dtype int32\n",
      "\t [[{{node gradients/split_grad/concat/split/split_dim}}]]\n",
      "2023-05-01 00:32:23.948159: I tensorflow/core/common_runtime/executor.cc:1197] [/device:CPU:0] (DEBUG INFO) Executor start aborting (this does not indicate an error and you can ignore this message): INVALID_ARGUMENT: You must feed a value for placeholder tensor 'gradients/split_1_grad/concat/split_1/split_dim' with dtype int32\n",
      "\t [[{{node gradients/split_1_grad/concat/split_1/split_dim}}]]\n"
     ]
    },
    {
     "name": "stdout",
     "output_type": "stream",
     "text": [
      "Epoch 1/70\n"
     ]
    },
    {
     "name": "stderr",
     "output_type": "stream",
     "text": [
      "2023-05-01 00:32:24.393375: I tensorflow/core/common_runtime/executor.cc:1197] [/device:CPU:0] (DEBUG INFO) Executor start aborting (this does not indicate an error and you can ignore this message): INVALID_ARGUMENT: You must feed a value for placeholder tensor 'gradients/split_2_grad/concat/split_2/split_dim' with dtype int32\n",
      "\t [[{{node gradients/split_2_grad/concat/split_2/split_dim}}]]\n",
      "2023-05-01 00:32:24.395055: I tensorflow/core/common_runtime/executor.cc:1197] [/device:CPU:0] (DEBUG INFO) Executor start aborting (this does not indicate an error and you can ignore this message): INVALID_ARGUMENT: You must feed a value for placeholder tensor 'gradients/split_grad/concat/split/split_dim' with dtype int32\n",
      "\t [[{{node gradients/split_grad/concat/split/split_dim}}]]\n",
      "2023-05-01 00:32:24.396289: I tensorflow/core/common_runtime/executor.cc:1197] [/device:CPU:0] (DEBUG INFO) Executor start aborting (this does not indicate an error and you can ignore this message): INVALID_ARGUMENT: You must feed a value for placeholder tensor 'gradients/split_1_grad/concat/split_1/split_dim' with dtype int32\n",
      "\t [[{{node gradients/split_1_grad/concat/split_1/split_dim}}]]\n",
      "2023-05-01 00:32:24.941333: I tensorflow/core/common_runtime/executor.cc:1197] [/device:CPU:0] (DEBUG INFO) Executor start aborting (this does not indicate an error and you can ignore this message): INVALID_ARGUMENT: You must feed a value for placeholder tensor 'gradients/split_2_grad/concat/split_2/split_dim' with dtype int32\n",
      "\t [[{{node gradients/split_2_grad/concat/split_2/split_dim}}]]\n",
      "2023-05-01 00:32:24.942998: I tensorflow/core/common_runtime/executor.cc:1197] [/device:CPU:0] (DEBUG INFO) Executor start aborting (this does not indicate an error and you can ignore this message): INVALID_ARGUMENT: You must feed a value for placeholder tensor 'gradients/split_grad/concat/split/split_dim' with dtype int32\n",
      "\t [[{{node gradients/split_grad/concat/split/split_dim}}]]\n",
      "2023-05-01 00:32:24.944236: I tensorflow/core/common_runtime/executor.cc:1197] [/device:CPU:0] (DEBUG INFO) Executor start aborting (this does not indicate an error and you can ignore this message): INVALID_ARGUMENT: You must feed a value for placeholder tensor 'gradients/split_1_grad/concat/split_1/split_dim' with dtype int32\n",
      "\t [[{{node gradients/split_1_grad/concat/split_1/split_dim}}]]\n"
     ]
    },
    {
     "name": "stdout",
     "output_type": "stream",
     "text": [
      "241/242 [============================>.] - ETA: 0s - loss: 0.7008 - acc: 0.6116"
     ]
    },
    {
     "name": "stderr",
     "output_type": "stream",
     "text": [
      "2023-05-01 00:32:32.740523: I tensorflow/core/common_runtime/executor.cc:1197] [/device:CPU:0] (DEBUG INFO) Executor start aborting (this does not indicate an error and you can ignore this message): INVALID_ARGUMENT: You must feed a value for placeholder tensor 'gradients/split_2_grad/concat/split_2/split_dim' with dtype int32\n",
      "\t [[{{node gradients/split_2_grad/concat/split_2/split_dim}}]]\n",
      "2023-05-01 00:32:32.741982: I tensorflow/core/common_runtime/executor.cc:1197] [/device:CPU:0] (DEBUG INFO) Executor start aborting (this does not indicate an error and you can ignore this message): INVALID_ARGUMENT: You must feed a value for placeholder tensor 'gradients/split_grad/concat/split/split_dim' with dtype int32\n",
      "\t [[{{node gradients/split_grad/concat/split/split_dim}}]]\n",
      "2023-05-01 00:32:32.743376: I tensorflow/core/common_runtime/executor.cc:1197] [/device:CPU:0] (DEBUG INFO) Executor start aborting (this does not indicate an error and you can ignore this message): INVALID_ARGUMENT: You must feed a value for placeholder tensor 'gradients/split_1_grad/concat/split_1/split_dim' with dtype int32\n",
      "\t [[{{node gradients/split_1_grad/concat/split_1/split_dim}}]]\n"
     ]
    },
    {
     "name": "stdout",
     "output_type": "stream",
     "text": [
      "\n",
      "Epoch 1: val_loss improved from inf to 0.63490, saving model to avg-fasttext-los_3-best_model.hdf5\n",
      "242/242 [==============================] - 9s 31ms/step - loss: 0.7008 - acc: 0.6114 - val_loss: 0.6349 - val_acc: 0.6639\n",
      "Epoch 2/70\n",
      "241/242 [============================>.] - ETA: 0s - loss: 0.6514 - acc: 0.6472\n",
      "Epoch 2: val_loss improved from 0.63490 to 0.62661, saving model to avg-fasttext-los_3-best_model.hdf5\n",
      "242/242 [==============================] - 7s 30ms/step - loss: 0.6513 - acc: 0.6473 - val_loss: 0.6266 - val_acc: 0.6694\n",
      "Epoch 3/70\n",
      "241/242 [============================>.] - ETA: 0s - loss: 0.6382 - acc: 0.6581\n",
      "Epoch 3: val_loss improved from 0.62661 to 0.62269, saving model to avg-fasttext-los_3-best_model.hdf5\n",
      "242/242 [==============================] - 7s 30ms/step - loss: 0.6383 - acc: 0.6579 - val_loss: 0.6227 - val_acc: 0.6740\n",
      "Epoch 4/70\n",
      "241/242 [============================>.] - ETA: 0s - loss: 0.6258 - acc: 0.6631\n",
      "Epoch 4: val_loss improved from 0.62269 to 0.62223, saving model to avg-fasttext-los_3-best_model.hdf5\n",
      "242/242 [==============================] - 7s 30ms/step - loss: 0.6257 - acc: 0.6632 - val_loss: 0.6222 - val_acc: 0.6776\n",
      "Epoch 5/70\n",
      "241/242 [============================>.] - ETA: 0s - loss: 0.6241 - acc: 0.6692\n",
      "Epoch 5: val_loss improved from 0.62223 to 0.62101, saving model to avg-fasttext-los_3-best_model.hdf5\n",
      "242/242 [==============================] - 7s 30ms/step - loss: 0.6239 - acc: 0.6693 - val_loss: 0.6210 - val_acc: 0.6749\n",
      "Epoch 6/70\n",
      "241/242 [============================>.] - ETA: 0s - loss: 0.6176 - acc: 0.6747\n",
      "Epoch 6: val_loss did not improve from 0.62101\n",
      "242/242 [==============================] - 7s 30ms/step - loss: 0.6176 - acc: 0.6748 - val_loss: 0.6212 - val_acc: 0.6781\n",
      "Epoch 7/70\n",
      "241/242 [============================>.] - ETA: 0s - loss: 0.6179 - acc: 0.6735\n",
      "Epoch 7: val_loss did not improve from 0.62101\n",
      "242/242 [==============================] - 7s 30ms/step - loss: 0.6179 - acc: 0.6735 - val_loss: 0.6212 - val_acc: 0.6767\n",
      "Epoch 8/70\n",
      "241/242 [============================>.] - ETA: 0s - loss: 0.6121 - acc: 0.6786\n",
      "Epoch 8: val_loss improved from 0.62101 to 0.62033, saving model to avg-fasttext-los_3-best_model.hdf5\n",
      "242/242 [==============================] - 8s 31ms/step - loss: 0.6121 - acc: 0.6786 - val_loss: 0.6203 - val_acc: 0.6776\n",
      "Epoch 9/70\n",
      "241/242 [============================>.] - ETA: 0s - loss: 0.6097 - acc: 0.6810\n",
      "Epoch 9: val_loss improved from 0.62033 to 0.61964, saving model to avg-fasttext-los_3-best_model.hdf5\n",
      "242/242 [==============================] - 8s 31ms/step - loss: 0.6097 - acc: 0.6810 - val_loss: 0.6196 - val_acc: 0.6731\n",
      "Epoch 10/70\n",
      "241/242 [============================>.] - ETA: 0s - loss: 0.6058 - acc: 0.6859\n",
      "Epoch 10: val_loss did not improve from 0.61964\n",
      "242/242 [==============================] - 7s 30ms/step - loss: 0.6057 - acc: 0.6860 - val_loss: 0.6197 - val_acc: 0.6735\n",
      "Epoch 11/70\n",
      "241/242 [============================>.] - ETA: 0s - loss: 0.6040 - acc: 0.6857\n",
      "Epoch 11: val_loss improved from 0.61964 to 0.61900, saving model to avg-fasttext-los_3-best_model.hdf5\n",
      "242/242 [==============================] - 7s 30ms/step - loss: 0.6040 - acc: 0.6857 - val_loss: 0.6190 - val_acc: 0.6758\n",
      "Epoch 12/70\n",
      "241/242 [============================>.] - ETA: 0s - loss: 0.6033 - acc: 0.6878\n",
      "Epoch 12: val_loss did not improve from 0.61900\n",
      "242/242 [==============================] - 7s 30ms/step - loss: 0.6033 - acc: 0.6878 - val_loss: 0.6215 - val_acc: 0.6712\n",
      "Epoch 13/70\n",
      "241/242 [============================>.] - ETA: 0s - loss: 0.6024 - acc: 0.6871\n",
      "Epoch 13: val_loss did not improve from 0.61900\n",
      "242/242 [==============================] - 7s 30ms/step - loss: 0.6022 - acc: 0.6873 - val_loss: 0.6198 - val_acc: 0.6762\n",
      "Epoch 14/70\n",
      "241/242 [============================>.] - ETA: 0s - loss: 0.5992 - acc: 0.6902\n",
      "Epoch 14: val_loss did not improve from 0.61900\n",
      "242/242 [==============================] - 7s 30ms/step - loss: 0.5993 - acc: 0.6901 - val_loss: 0.6196 - val_acc: 0.6758\n",
      "Epoch 15/70\n",
      "241/242 [============================>.] - ETA: 0s - loss: 0.5993 - acc: 0.6922\n",
      "Epoch 15: val_loss did not improve from 0.61900\n",
      "242/242 [==============================] - 7s 30ms/step - loss: 0.5993 - acc: 0.6921 - val_loss: 0.6199 - val_acc: 0.6735\n",
      "Epoch 16/70\n",
      "241/242 [============================>.] - ETA: 0s - loss: 0.5975 - acc: 0.6902\n",
      "Epoch 16: val_loss did not improve from 0.61900\n",
      "242/242 [==============================] - 7s 30ms/step - loss: 0.5974 - acc: 0.6902 - val_loss: 0.6191 - val_acc: 0.6735\n",
      "  7/138 [>.............................] - ETA: 1s "
     ]
    },
    {
     "name": "stderr",
     "output_type": "stream",
     "text": [
      "2023-05-01 00:34:22.744006: I tensorflow/core/common_runtime/executor.cc:1197] [/device:CPU:0] (DEBUG INFO) Executor start aborting (this does not indicate an error and you can ignore this message): INVALID_ARGUMENT: You must feed a value for placeholder tensor 'gradients/split_2_grad/concat/split_2/split_dim' with dtype int32\n",
      "\t [[{{node gradients/split_2_grad/concat/split_2/split_dim}}]]\n",
      "2023-05-01 00:34:22.745648: I tensorflow/core/common_runtime/executor.cc:1197] [/device:CPU:0] (DEBUG INFO) Executor start aborting (this does not indicate an error and you can ignore this message): INVALID_ARGUMENT: You must feed a value for placeholder tensor 'gradients/split_grad/concat/split/split_dim' with dtype int32\n",
      "\t [[{{node gradients/split_grad/concat/split/split_dim}}]]\n",
      "2023-05-01 00:34:22.746784: I tensorflow/core/common_runtime/executor.cc:1197] [/device:CPU:0] (DEBUG INFO) Executor start aborting (this does not indicate an error and you can ignore this message): INVALID_ARGUMENT: You must feed a value for placeholder tensor 'gradients/split_1_grad/concat/split_1/split_dim' with dtype int32\n",
      "\t [[{{node gradients/split_1_grad/concat/split_1/split_dim}}]]\n"
     ]
    },
    {
     "name": "stdout",
     "output_type": "stream",
     "text": [
      "138/138 [==============================] - 1s 9ms/step\n",
      "0.7001176116887599 0.6319313361778284 0.661279307989984 0.5613207547169811\n",
      "Problem type:  los_7\n",
      "__________________\n"
     ]
    },
    {
     "name": "stderr",
     "output_type": "stream",
     "text": [
      "2023-05-01 00:34:25.656578: I tensorflow/core/common_runtime/executor.cc:1197] [/device:CPU:0] (DEBUG INFO) Executor start aborting (this does not indicate an error and you can ignore this message): INVALID_ARGUMENT: You must feed a value for placeholder tensor 'gradients/split_2_grad/concat/split_2/split_dim' with dtype int32\n",
      "\t [[{{node gradients/split_2_grad/concat/split_2/split_dim}}]]\n",
      "2023-05-01 00:34:25.658180: I tensorflow/core/common_runtime/executor.cc:1197] [/device:CPU:0] (DEBUG INFO) Executor start aborting (this does not indicate an error and you can ignore this message): INVALID_ARGUMENT: You must feed a value for placeholder tensor 'gradients/split_grad/concat/split/split_dim' with dtype int32\n",
      "\t [[{{node gradients/split_grad/concat/split/split_dim}}]]\n",
      "2023-05-01 00:34:25.659363: I tensorflow/core/common_runtime/executor.cc:1197] [/device:CPU:0] (DEBUG INFO) Executor start aborting (this does not indicate an error and you can ignore this message): INVALID_ARGUMENT: You must feed a value for placeholder tensor 'gradients/split_1_grad/concat/split_1/split_dim' with dtype int32\n",
      "\t [[{{node gradients/split_1_grad/concat/split_1/split_dim}}]]\n"
     ]
    },
    {
     "name": "stdout",
     "output_type": "stream",
     "text": [
      "Epoch 1/70\n"
     ]
    },
    {
     "name": "stderr",
     "output_type": "stream",
     "text": [
      "2023-05-01 00:34:26.108184: I tensorflow/core/common_runtime/executor.cc:1197] [/device:CPU:0] (DEBUG INFO) Executor start aborting (this does not indicate an error and you can ignore this message): INVALID_ARGUMENT: You must feed a value for placeholder tensor 'gradients/split_2_grad/concat/split_2/split_dim' with dtype int32\n",
      "\t [[{{node gradients/split_2_grad/concat/split_2/split_dim}}]]\n",
      "2023-05-01 00:34:26.110099: I tensorflow/core/common_runtime/executor.cc:1197] [/device:CPU:0] (DEBUG INFO) Executor start aborting (this does not indicate an error and you can ignore this message): INVALID_ARGUMENT: You must feed a value for placeholder tensor 'gradients/split_grad/concat/split/split_dim' with dtype int32\n",
      "\t [[{{node gradients/split_grad/concat/split/split_dim}}]]\n",
      "2023-05-01 00:34:26.111272: I tensorflow/core/common_runtime/executor.cc:1197] [/device:CPU:0] (DEBUG INFO) Executor start aborting (this does not indicate an error and you can ignore this message): INVALID_ARGUMENT: You must feed a value for placeholder tensor 'gradients/split_1_grad/concat/split_1/split_dim' with dtype int32\n",
      "\t [[{{node gradients/split_1_grad/concat/split_1/split_dim}}]]\n",
      "2023-05-01 00:34:26.651708: I tensorflow/core/common_runtime/executor.cc:1197] [/device:CPU:0] (DEBUG INFO) Executor start aborting (this does not indicate an error and you can ignore this message): INVALID_ARGUMENT: You must feed a value for placeholder tensor 'gradients/split_2_grad/concat/split_2/split_dim' with dtype int32\n",
      "\t [[{{node gradients/split_2_grad/concat/split_2/split_dim}}]]\n",
      "2023-05-01 00:34:26.653837: I tensorflow/core/common_runtime/executor.cc:1197] [/device:CPU:0] (DEBUG INFO) Executor start aborting (this does not indicate an error and you can ignore this message): INVALID_ARGUMENT: You must feed a value for placeholder tensor 'gradients/split_grad/concat/split/split_dim' with dtype int32\n",
      "\t [[{{node gradients/split_grad/concat/split/split_dim}}]]\n",
      "2023-05-01 00:34:26.655210: I tensorflow/core/common_runtime/executor.cc:1197] [/device:CPU:0] (DEBUG INFO) Executor start aborting (this does not indicate an error and you can ignore this message): INVALID_ARGUMENT: You must feed a value for placeholder tensor 'gradients/split_1_grad/concat/split_1/split_dim' with dtype int32\n",
      "\t [[{{node gradients/split_1_grad/concat/split_1/split_dim}}]]\n"
     ]
    },
    {
     "name": "stdout",
     "output_type": "stream",
     "text": [
      "241/242 [============================>.] - ETA: 0s - loss: 0.2958 - acc: 0.9177"
     ]
    },
    {
     "name": "stderr",
     "output_type": "stream",
     "text": [
      "2023-05-01 00:34:34.594010: I tensorflow/core/common_runtime/executor.cc:1197] [/device:CPU:0] (DEBUG INFO) Executor start aborting (this does not indicate an error and you can ignore this message): INVALID_ARGUMENT: You must feed a value for placeholder tensor 'gradients/split_2_grad/concat/split_2/split_dim' with dtype int32\n",
      "\t [[{{node gradients/split_2_grad/concat/split_2/split_dim}}]]\n",
      "2023-05-01 00:34:34.595781: I tensorflow/core/common_runtime/executor.cc:1197] [/device:CPU:0] (DEBUG INFO) Executor start aborting (this does not indicate an error and you can ignore this message): INVALID_ARGUMENT: You must feed a value for placeholder tensor 'gradients/split_grad/concat/split/split_dim' with dtype int32\n",
      "\t [[{{node gradients/split_grad/concat/split/split_dim}}]]\n",
      "2023-05-01 00:34:34.596967: I tensorflow/core/common_runtime/executor.cc:1197] [/device:CPU:0] (DEBUG INFO) Executor start aborting (this does not indicate an error and you can ignore this message): INVALID_ARGUMENT: You must feed a value for placeholder tensor 'gradients/split_1_grad/concat/split_1/split_dim' with dtype int32\n",
      "\t [[{{node gradients/split_1_grad/concat/split_1/split_dim}}]]\n"
     ]
    },
    {
     "name": "stdout",
     "output_type": "stream",
     "text": [
      "\n",
      "Epoch 1: val_loss improved from inf to 0.27519, saving model to avg-fasttext-los_7-best_model.hdf5\n",
      "242/242 [==============================] - 9s 32ms/step - loss: 0.2958 - acc: 0.9177 - val_loss: 0.2752 - val_acc: 0.9225\n",
      "Epoch 2/70\n",
      "241/242 [============================>.] - ETA: 0s - loss: 0.2660 - acc: 0.9203\n",
      "Epoch 2: val_loss improved from 0.27519 to 0.26675, saving model to avg-fasttext-los_7-best_model.hdf5\n",
      "242/242 [==============================] - 7s 30ms/step - loss: 0.2662 - acc: 0.9202 - val_loss: 0.2668 - val_acc: 0.9225\n",
      "Epoch 3/70\n",
      "241/242 [============================>.] - ETA: 0s - loss: 0.2564 - acc: 0.9208\n",
      "Epoch 3: val_loss did not improve from 0.26675\n",
      "242/242 [==============================] - 7s 30ms/step - loss: 0.2566 - acc: 0.9207 - val_loss: 0.2668 - val_acc: 0.9234\n",
      "Epoch 4/70\n",
      "241/242 [============================>.] - ETA: 0s - loss: 0.2526 - acc: 0.9216\n",
      "Epoch 4: val_loss improved from 0.26675 to 0.26659, saving model to avg-fasttext-los_7-best_model.hdf5\n",
      "242/242 [==============================] - 7s 30ms/step - loss: 0.2528 - acc: 0.9216 - val_loss: 0.2666 - val_acc: 0.9225\n",
      "Epoch 5/70\n",
      "241/242 [============================>.] - ETA: 0s - loss: 0.2495 - acc: 0.9219\n",
      "Epoch 5: val_loss improved from 0.26659 to 0.26537, saving model to avg-fasttext-los_7-best_model.hdf5\n",
      "242/242 [==============================] - 7s 30ms/step - loss: 0.2497 - acc: 0.9218 - val_loss: 0.2654 - val_acc: 0.9229\n",
      "Epoch 6/70\n",
      "241/242 [============================>.] - ETA: 0s - loss: 0.2459 - acc: 0.9223\n",
      "Epoch 6: val_loss did not improve from 0.26537\n",
      "242/242 [==============================] - 7s 30ms/step - loss: 0.2458 - acc: 0.9223 - val_loss: 0.2659 - val_acc: 0.9225\n",
      "Epoch 7/70\n",
      "241/242 [============================>.] - ETA: 0s - loss: 0.2420 - acc: 0.9230\n",
      "Epoch 7: val_loss did not improve from 0.26537\n",
      "242/242 [==============================] - 7s 30ms/step - loss: 0.2419 - acc: 0.9230 - val_loss: 0.2662 - val_acc: 0.9229\n",
      "Epoch 8/70\n",
      "241/242 [============================>.] - ETA: 0s - loss: 0.2411 - acc: 0.9229\n",
      "Epoch 8: val_loss did not improve from 0.26537\n",
      "242/242 [==============================] - 7s 30ms/step - loss: 0.2415 - acc: 0.9227 - val_loss: 0.2664 - val_acc: 0.9234\n",
      "Epoch 9/70\n",
      "241/242 [============================>.] - ETA: 0s - loss: 0.2383 - acc: 0.9225\n",
      "Epoch 9: val_loss did not improve from 0.26537\n",
      "242/242 [==============================] - 7s 30ms/step - loss: 0.2384 - acc: 0.9225 - val_loss: 0.2661 - val_acc: 0.9234\n",
      "Epoch 10/70\n",
      "241/242 [============================>.] - ETA: 0s - loss: 0.2401 - acc: 0.9227\n",
      "Epoch 10: val_loss improved from 0.26537 to 0.26532, saving model to avg-fasttext-los_7-best_model.hdf5\n",
      "242/242 [==============================] - 7s 30ms/step - loss: 0.2402 - acc: 0.9227 - val_loss: 0.2653 - val_acc: 0.9229\n",
      "Epoch 11/70\n",
      "241/242 [============================>.] - ETA: 0s - loss: 0.2382 - acc: 0.9227\n",
      "Epoch 11: val_loss did not improve from 0.26532\n",
      "242/242 [==============================] - 7s 31ms/step - loss: 0.2382 - acc: 0.9227 - val_loss: 0.2661 - val_acc: 0.9229\n",
      "Epoch 12/70\n",
      "241/242 [============================>.] - ETA: 0s - loss: 0.2367 - acc: 0.9234\n",
      "Epoch 12: val_loss did not improve from 0.26532\n",
      "242/242 [==============================] - 7s 30ms/step - loss: 0.2365 - acc: 0.9234 - val_loss: 0.2664 - val_acc: 0.9229\n",
      "Epoch 13/70\n",
      "241/242 [============================>.] - ETA: 0s - loss: 0.2353 - acc: 0.9226\n",
      "Epoch 13: val_loss did not improve from 0.26532\n",
      "242/242 [==============================] - 7s 30ms/step - loss: 0.2352 - acc: 0.9227 - val_loss: 0.2658 - val_acc: 0.9234\n",
      "Epoch 14/70\n",
      "241/242 [============================>.] - ETA: 0s - loss: 0.2362 - acc: 0.9225\n",
      "Epoch 14: val_loss did not improve from 0.26532\n",
      "242/242 [==============================] - 7s 30ms/step - loss: 0.2362 - acc: 0.9225 - val_loss: 0.2658 - val_acc: 0.9229\n",
      "Epoch 15/70\n",
      "241/242 [============================>.] - ETA: 0s - loss: 0.2337 - acc: 0.9232\n",
      "Epoch 15: val_loss did not improve from 0.26532\n",
      "242/242 [==============================] - 7s 30ms/step - loss: 0.2336 - acc: 0.9232 - val_loss: 0.2656 - val_acc: 0.9229\n",
      "  7/138 [>.............................] - ETA: 1s "
     ]
    },
    {
     "name": "stderr",
     "output_type": "stream",
     "text": [
      "2023-05-01 00:36:17.395291: I tensorflow/core/common_runtime/executor.cc:1197] [/device:CPU:0] (DEBUG INFO) Executor start aborting (this does not indicate an error and you can ignore this message): INVALID_ARGUMENT: You must feed a value for placeholder tensor 'gradients/split_2_grad/concat/split_2/split_dim' with dtype int32\n",
      "\t [[{{node gradients/split_2_grad/concat/split_2/split_dim}}]]\n",
      "2023-05-01 00:36:17.397369: I tensorflow/core/common_runtime/executor.cc:1197] [/device:CPU:0] (DEBUG INFO) Executor start aborting (this does not indicate an error and you can ignore this message): INVALID_ARGUMENT: You must feed a value for placeholder tensor 'gradients/split_grad/concat/split/split_dim' with dtype int32\n",
      "\t [[{{node gradients/split_grad/concat/split/split_dim}}]]\n",
      "2023-05-01 00:36:17.398693: I tensorflow/core/common_runtime/executor.cc:1197] [/device:CPU:0] (DEBUG INFO) Executor start aborting (this does not indicate an error and you can ignore this message): INVALID_ARGUMENT: You must feed a value for placeholder tensor 'gradients/split_1_grad/concat/split_1/split_dim' with dtype int32\n",
      "\t [[{{node gradients/split_1_grad/concat/split_1/split_dim}}]]\n"
     ]
    },
    {
     "name": "stdout",
     "output_type": "stream",
     "text": [
      "138/138 [==============================] - 1s 8ms/step\n",
      "0.7306984304164341 0.22060289245992382 0.9207830639653996 0.04918032786885246\n",
      "Embedding:  concat\n",
      "=============================\n",
      "Iteration number:  1\n",
      "Problem type:  mort_hosp\n",
      "__________________\n"
     ]
    },
    {
     "name": "stderr",
     "output_type": "stream",
     "text": [
      "2023-05-01 00:36:21.556241: I tensorflow/core/common_runtime/executor.cc:1197] [/device:CPU:0] (DEBUG INFO) Executor start aborting (this does not indicate an error and you can ignore this message): INVALID_ARGUMENT: You must feed a value for placeholder tensor 'gradients/split_2_grad/concat/split_2/split_dim' with dtype int32\n",
      "\t [[{{node gradients/split_2_grad/concat/split_2/split_dim}}]]\n",
      "2023-05-01 00:36:21.557941: I tensorflow/core/common_runtime/executor.cc:1197] [/device:CPU:0] (DEBUG INFO) Executor start aborting (this does not indicate an error and you can ignore this message): INVALID_ARGUMENT: You must feed a value for placeholder tensor 'gradients/split_grad/concat/split/split_dim' with dtype int32\n",
      "\t [[{{node gradients/split_grad/concat/split/split_dim}}]]\n",
      "2023-05-01 00:36:21.559065: I tensorflow/core/common_runtime/executor.cc:1197] [/device:CPU:0] (DEBUG INFO) Executor start aborting (this does not indicate an error and you can ignore this message): INVALID_ARGUMENT: You must feed a value for placeholder tensor 'gradients/split_1_grad/concat/split_1/split_dim' with dtype int32\n",
      "\t [[{{node gradients/split_1_grad/concat/split_1/split_dim}}]]\n"
     ]
    },
    {
     "name": "stdout",
     "output_type": "stream",
     "text": [
      "Epoch 1/70\n"
     ]
    },
    {
     "name": "stderr",
     "output_type": "stream",
     "text": [
      "2023-05-01 00:36:22.024187: I tensorflow/core/common_runtime/executor.cc:1197] [/device:CPU:0] (DEBUG INFO) Executor start aborting (this does not indicate an error and you can ignore this message): INVALID_ARGUMENT: You must feed a value for placeholder tensor 'gradients/split_2_grad/concat/split_2/split_dim' with dtype int32\n",
      "\t [[{{node gradients/split_2_grad/concat/split_2/split_dim}}]]\n",
      "2023-05-01 00:36:22.025752: I tensorflow/core/common_runtime/executor.cc:1197] [/device:CPU:0] (DEBUG INFO) Executor start aborting (this does not indicate an error and you can ignore this message): INVALID_ARGUMENT: You must feed a value for placeholder tensor 'gradients/split_grad/concat/split/split_dim' with dtype int32\n",
      "\t [[{{node gradients/split_grad/concat/split/split_dim}}]]\n",
      "2023-05-01 00:36:22.026998: I tensorflow/core/common_runtime/executor.cc:1197] [/device:CPU:0] (DEBUG INFO) Executor start aborting (this does not indicate an error and you can ignore this message): INVALID_ARGUMENT: You must feed a value for placeholder tensor 'gradients/split_1_grad/concat/split_1/split_dim' with dtype int32\n",
      "\t [[{{node gradients/split_1_grad/concat/split_1/split_dim}}]]\n",
      "2023-05-01 00:36:22.577988: I tensorflow/core/common_runtime/executor.cc:1197] [/device:CPU:0] (DEBUG INFO) Executor start aborting (this does not indicate an error and you can ignore this message): INVALID_ARGUMENT: You must feed a value for placeholder tensor 'gradients/split_2_grad/concat/split_2/split_dim' with dtype int32\n",
      "\t [[{{node gradients/split_2_grad/concat/split_2/split_dim}}]]\n",
      "2023-05-01 00:36:22.579789: I tensorflow/core/common_runtime/executor.cc:1197] [/device:CPU:0] (DEBUG INFO) Executor start aborting (this does not indicate an error and you can ignore this message): INVALID_ARGUMENT: You must feed a value for placeholder tensor 'gradients/split_grad/concat/split/split_dim' with dtype int32\n",
      "\t [[{{node gradients/split_grad/concat/split/split_dim}}]]\n",
      "2023-05-01 00:36:22.581041: I tensorflow/core/common_runtime/executor.cc:1197] [/device:CPU:0] (DEBUG INFO) Executor start aborting (this does not indicate an error and you can ignore this message): INVALID_ARGUMENT: You must feed a value for placeholder tensor 'gradients/split_1_grad/concat/split_1/split_dim' with dtype int32\n",
      "\t [[{{node gradients/split_1_grad/concat/split_1/split_dim}}]]\n"
     ]
    },
    {
     "name": "stdout",
     "output_type": "stream",
     "text": [
      "241/242 [============================>.] - ETA: 0s - loss: 0.2935 - acc: 0.9007"
     ]
    },
    {
     "name": "stderr",
     "output_type": "stream",
     "text": [
      "2023-05-01 00:36:30.438258: I tensorflow/core/common_runtime/executor.cc:1197] [/device:CPU:0] (DEBUG INFO) Executor start aborting (this does not indicate an error and you can ignore this message): INVALID_ARGUMENT: You must feed a value for placeholder tensor 'gradients/split_2_grad/concat/split_2/split_dim' with dtype int32\n",
      "\t [[{{node gradients/split_2_grad/concat/split_2/split_dim}}]]\n",
      "2023-05-01 00:36:30.440070: I tensorflow/core/common_runtime/executor.cc:1197] [/device:CPU:0] (DEBUG INFO) Executor start aborting (this does not indicate an error and you can ignore this message): INVALID_ARGUMENT: You must feed a value for placeholder tensor 'gradients/split_grad/concat/split/split_dim' with dtype int32\n",
      "\t [[{{node gradients/split_grad/concat/split/split_dim}}]]\n",
      "2023-05-01 00:36:30.441172: I tensorflow/core/common_runtime/executor.cc:1197] [/device:CPU:0] (DEBUG INFO) Executor start aborting (this does not indicate an error and you can ignore this message): INVALID_ARGUMENT: You must feed a value for placeholder tensor 'gradients/split_1_grad/concat/split_1/split_dim' with dtype int32\n",
      "\t [[{{node gradients/split_1_grad/concat/split_1/split_dim}}]]\n"
     ]
    },
    {
     "name": "stdout",
     "output_type": "stream",
     "text": [
      "\n",
      "Epoch 1: val_loss improved from inf to 0.24314, saving model to avg-concat-mort_hosp-best_model.hdf5\n",
      "242/242 [==============================] - 9s 32ms/step - loss: 0.2934 - acc: 0.9007 - val_loss: 0.2431 - val_acc: 0.9170\n",
      "Epoch 2/70\n",
      "241/242 [============================>.] - ETA: 0s - loss: 0.2491 - acc: 0.9129\n",
      "Epoch 2: val_loss improved from 0.24314 to 0.24022, saving model to avg-concat-mort_hosp-best_model.hdf5\n",
      "242/242 [==============================] - 7s 30ms/step - loss: 0.2490 - acc: 0.9129 - val_loss: 0.2402 - val_acc: 0.9156\n",
      "Epoch 3/70\n",
      "241/242 [============================>.] - ETA: 0s - loss: 0.2391 - acc: 0.9174\n",
      "Epoch 3: val_loss improved from 0.24022 to 0.23665, saving model to avg-concat-mort_hosp-best_model.hdf5\n",
      "242/242 [==============================] - 7s 30ms/step - loss: 0.2390 - acc: 0.9175 - val_loss: 0.2366 - val_acc: 0.9175\n",
      "Epoch 4/70\n",
      "241/242 [============================>.] - ETA: 0s - loss: 0.2304 - acc: 0.9191\n",
      "Epoch 4: val_loss improved from 0.23665 to 0.23369, saving model to avg-concat-mort_hosp-best_model.hdf5\n",
      "242/242 [==============================] - 7s 30ms/step - loss: 0.2305 - acc: 0.9191 - val_loss: 0.2337 - val_acc: 0.9175\n",
      "Epoch 5/70\n",
      "241/242 [============================>.] - ETA: 0s - loss: 0.2242 - acc: 0.9208\n",
      "Epoch 5: val_loss improved from 0.23369 to 0.23335, saving model to avg-concat-mort_hosp-best_model.hdf5\n",
      "242/242 [==============================] - 7s 30ms/step - loss: 0.2242 - acc: 0.9207 - val_loss: 0.2333 - val_acc: 0.9152\n",
      "Epoch 6/70\n",
      "241/242 [============================>.] - ETA: 0s - loss: 0.2214 - acc: 0.9225\n",
      "Epoch 6: val_loss improved from 0.23335 to 0.23209, saving model to avg-concat-mort_hosp-best_model.hdf5\n",
      "242/242 [==============================] - 7s 30ms/step - loss: 0.2216 - acc: 0.9222 - val_loss: 0.2321 - val_acc: 0.9143\n",
      "Epoch 7/70\n",
      "241/242 [============================>.] - ETA: 0s - loss: 0.2185 - acc: 0.9236\n",
      "Epoch 7: val_loss improved from 0.23209 to 0.23209, saving model to avg-concat-mort_hosp-best_model.hdf5\n",
      "242/242 [==============================] - 7s 30ms/step - loss: 0.2184 - acc: 0.9237 - val_loss: 0.2321 - val_acc: 0.9143\n",
      "Epoch 8/70\n",
      "241/242 [============================>.] - ETA: 0s - loss: 0.2155 - acc: 0.9242\n",
      "Epoch 8: val_loss improved from 0.23209 to 0.23078, saving model to avg-concat-mort_hosp-best_model.hdf5\n",
      "242/242 [==============================] - 7s 30ms/step - loss: 0.2153 - acc: 0.9243 - val_loss: 0.2308 - val_acc: 0.9143\n",
      "Epoch 9/70\n",
      "241/242 [============================>.] - ETA: 0s - loss: 0.2125 - acc: 0.9254\n",
      "Epoch 9: val_loss did not improve from 0.23078\n",
      "242/242 [==============================] - 7s 29ms/step - loss: 0.2125 - acc: 0.9254 - val_loss: 0.2320 - val_acc: 0.9138\n",
      "Epoch 10/70\n",
      "241/242 [============================>.] - ETA: 0s - loss: 0.2111 - acc: 0.9238\n",
      "Epoch 10: val_loss did not improve from 0.23078\n",
      "242/242 [==============================] - 7s 30ms/step - loss: 0.2110 - acc: 0.9238 - val_loss: 0.2324 - val_acc: 0.9134\n",
      "Epoch 11/70\n",
      "241/242 [============================>.] - ETA: 0s - loss: 0.2107 - acc: 0.9251\n",
      "Epoch 11: val_loss did not improve from 0.23078\n",
      "242/242 [==============================] - 7s 30ms/step - loss: 0.2108 - acc: 0.9249 - val_loss: 0.2310 - val_acc: 0.9138\n",
      "Epoch 12/70\n",
      "241/242 [============================>.] - ETA: 0s - loss: 0.2082 - acc: 0.9264\n",
      "Epoch 12: val_loss did not improve from 0.23078\n",
      "242/242 [==============================] - 7s 30ms/step - loss: 0.2084 - acc: 0.9264 - val_loss: 0.2311 - val_acc: 0.9129\n",
      "Epoch 13/70\n",
      "241/242 [============================>.] - ETA: 0s - loss: 0.2067 - acc: 0.9265\n",
      "Epoch 13: val_loss did not improve from 0.23078\n",
      "242/242 [==============================] - 7s 30ms/step - loss: 0.2066 - acc: 0.9265 - val_loss: 0.2311 - val_acc: 0.9138\n",
      "  7/138 [>.............................] - ETA: 1s "
     ]
    },
    {
     "name": "stderr",
     "output_type": "stream",
     "text": [
      "2023-05-01 00:37:58.847367: I tensorflow/core/common_runtime/executor.cc:1197] [/device:CPU:0] (DEBUG INFO) Executor start aborting (this does not indicate an error and you can ignore this message): INVALID_ARGUMENT: You must feed a value for placeholder tensor 'gradients/split_2_grad/concat/split_2/split_dim' with dtype int32\n",
      "\t [[{{node gradients/split_2_grad/concat/split_2/split_dim}}]]\n",
      "2023-05-01 00:37:58.848992: I tensorflow/core/common_runtime/executor.cc:1197] [/device:CPU:0] (DEBUG INFO) Executor start aborting (this does not indicate an error and you can ignore this message): INVALID_ARGUMENT: You must feed a value for placeholder tensor 'gradients/split_grad/concat/split/split_dim' with dtype int32\n",
      "\t [[{{node gradients/split_grad/concat/split/split_dim}}]]\n",
      "2023-05-01 00:37:58.850119: I tensorflow/core/common_runtime/executor.cc:1197] [/device:CPU:0] (DEBUG INFO) Executor start aborting (this does not indicate an error and you can ignore this message): INVALID_ARGUMENT: You must feed a value for placeholder tensor 'gradients/split_1_grad/concat/split_1/split_dim' with dtype int32\n",
      "\t [[{{node gradients/split_1_grad/concat/split_1/split_dim}}]]\n"
     ]
    },
    {
     "name": "stdout",
     "output_type": "stream",
     "text": [
      "138/138 [==============================] - 1s 8ms/step\n",
      "0.8822485685651553 0.5932584166241568 0.919189619849761 0.4817518248175182\n",
      "Problem type:  mort_icu\n",
      "__________________\n"
     ]
    },
    {
     "name": "stderr",
     "output_type": "stream",
     "text": [
      "2023-05-01 00:38:01.723139: I tensorflow/core/common_runtime/executor.cc:1197] [/device:CPU:0] (DEBUG INFO) Executor start aborting (this does not indicate an error and you can ignore this message): INVALID_ARGUMENT: You must feed a value for placeholder tensor 'gradients/split_2_grad/concat/split_2/split_dim' with dtype int32\n",
      "\t [[{{node gradients/split_2_grad/concat/split_2/split_dim}}]]\n",
      "2023-05-01 00:38:01.724720: I tensorflow/core/common_runtime/executor.cc:1197] [/device:CPU:0] (DEBUG INFO) Executor start aborting (this does not indicate an error and you can ignore this message): INVALID_ARGUMENT: You must feed a value for placeholder tensor 'gradients/split_grad/concat/split/split_dim' with dtype int32\n",
      "\t [[{{node gradients/split_grad/concat/split/split_dim}}]]\n",
      "2023-05-01 00:38:01.725944: I tensorflow/core/common_runtime/executor.cc:1197] [/device:CPU:0] (DEBUG INFO) Executor start aborting (this does not indicate an error and you can ignore this message): INVALID_ARGUMENT: You must feed a value for placeholder tensor 'gradients/split_1_grad/concat/split_1/split_dim' with dtype int32\n",
      "\t [[{{node gradients/split_1_grad/concat/split_1/split_dim}}]]\n"
     ]
    },
    {
     "name": "stdout",
     "output_type": "stream",
     "text": [
      "Epoch 1/70\n"
     ]
    },
    {
     "name": "stderr",
     "output_type": "stream",
     "text": [
      "2023-05-01 00:38:02.187567: I tensorflow/core/common_runtime/executor.cc:1197] [/device:CPU:0] (DEBUG INFO) Executor start aborting (this does not indicate an error and you can ignore this message): INVALID_ARGUMENT: You must feed a value for placeholder tensor 'gradients/split_2_grad/concat/split_2/split_dim' with dtype int32\n",
      "\t [[{{node gradients/split_2_grad/concat/split_2/split_dim}}]]\n",
      "2023-05-01 00:38:02.189006: I tensorflow/core/common_runtime/executor.cc:1197] [/device:CPU:0] (DEBUG INFO) Executor start aborting (this does not indicate an error and you can ignore this message): INVALID_ARGUMENT: You must feed a value for placeholder tensor 'gradients/split_grad/concat/split/split_dim' with dtype int32\n",
      "\t [[{{node gradients/split_grad/concat/split/split_dim}}]]\n",
      "2023-05-01 00:38:02.190380: I tensorflow/core/common_runtime/executor.cc:1197] [/device:CPU:0] (DEBUG INFO) Executor start aborting (this does not indicate an error and you can ignore this message): INVALID_ARGUMENT: You must feed a value for placeholder tensor 'gradients/split_1_grad/concat/split_1/split_dim' with dtype int32\n",
      "\t [[{{node gradients/split_1_grad/concat/split_1/split_dim}}]]\n",
      "2023-05-01 00:38:02.733540: I tensorflow/core/common_runtime/executor.cc:1197] [/device:CPU:0] (DEBUG INFO) Executor start aborting (this does not indicate an error and you can ignore this message): INVALID_ARGUMENT: You must feed a value for placeholder tensor 'gradients/split_2_grad/concat/split_2/split_dim' with dtype int32\n",
      "\t [[{{node gradients/split_2_grad/concat/split_2/split_dim}}]]\n",
      "2023-05-01 00:38:02.735191: I tensorflow/core/common_runtime/executor.cc:1197] [/device:CPU:0] (DEBUG INFO) Executor start aborting (this does not indicate an error and you can ignore this message): INVALID_ARGUMENT: You must feed a value for placeholder tensor 'gradients/split_grad/concat/split/split_dim' with dtype int32\n",
      "\t [[{{node gradients/split_grad/concat/split/split_dim}}]]\n",
      "2023-05-01 00:38:02.736483: I tensorflow/core/common_runtime/executor.cc:1197] [/device:CPU:0] (DEBUG INFO) Executor start aborting (this does not indicate an error and you can ignore this message): INVALID_ARGUMENT: You must feed a value for placeholder tensor 'gradients/split_1_grad/concat/split_1/split_dim' with dtype int32\n",
      "\t [[{{node gradients/split_1_grad/concat/split_1/split_dim}}]]\n"
     ]
    },
    {
     "name": "stdout",
     "output_type": "stream",
     "text": [
      "241/242 [============================>.] - ETA: 0s - loss: 0.2285 - acc: 0.9299"
     ]
    },
    {
     "name": "stderr",
     "output_type": "stream",
     "text": [
      "2023-05-01 00:38:10.587994: I tensorflow/core/common_runtime/executor.cc:1197] [/device:CPU:0] (DEBUG INFO) Executor start aborting (this does not indicate an error and you can ignore this message): INVALID_ARGUMENT: You must feed a value for placeholder tensor 'gradients/split_2_grad/concat/split_2/split_dim' with dtype int32\n",
      "\t [[{{node gradients/split_2_grad/concat/split_2/split_dim}}]]\n",
      "2023-05-01 00:38:10.589635: I tensorflow/core/common_runtime/executor.cc:1197] [/device:CPU:0] (DEBUG INFO) Executor start aborting (this does not indicate an error and you can ignore this message): INVALID_ARGUMENT: You must feed a value for placeholder tensor 'gradients/split_grad/concat/split/split_dim' with dtype int32\n",
      "\t [[{{node gradients/split_grad/concat/split/split_dim}}]]\n",
      "2023-05-01 00:38:10.590842: I tensorflow/core/common_runtime/executor.cc:1197] [/device:CPU:0] (DEBUG INFO) Executor start aborting (this does not indicate an error and you can ignore this message): INVALID_ARGUMENT: You must feed a value for placeholder tensor 'gradients/split_1_grad/concat/split_1/split_dim' with dtype int32\n",
      "\t [[{{node gradients/split_1_grad/concat/split_1/split_dim}}]]\n"
     ]
    },
    {
     "name": "stdout",
     "output_type": "stream",
     "text": [
      "\n",
      "Epoch 1: val_loss improved from inf to 0.17825, saving model to avg-concat-mort_icu-best_model.hdf5\n",
      "242/242 [==============================] - 9s 32ms/step - loss: 0.2284 - acc: 0.9300 - val_loss: 0.1782 - val_acc: 0.9444\n",
      "Epoch 2/70\n",
      "241/242 [============================>.] - ETA: 0s - loss: 0.1858 - acc: 0.9394\n",
      "Epoch 2: val_loss improved from 0.17825 to 0.17290, saving model to avg-concat-mort_icu-best_model.hdf5\n",
      "242/242 [==============================] - 7s 30ms/step - loss: 0.1857 - acc: 0.9395 - val_loss: 0.1729 - val_acc: 0.9430\n",
      "Epoch 3/70\n",
      "241/242 [============================>.] - ETA: 0s - loss: 0.1740 - acc: 0.9438\n",
      "Epoch 3: val_loss did not improve from 0.17290\n",
      "242/242 [==============================] - 7s 30ms/step - loss: 0.1739 - acc: 0.9438 - val_loss: 0.1736 - val_acc: 0.9416\n",
      "Epoch 4/70\n",
      "241/242 [============================>.] - ETA: 0s - loss: 0.1687 - acc: 0.9444\n",
      "Epoch 4: val_loss improved from 0.17290 to 0.16994, saving model to avg-concat-mort_icu-best_model.hdf5\n",
      "242/242 [==============================] - 7s 31ms/step - loss: 0.1686 - acc: 0.9444 - val_loss: 0.1699 - val_acc: 0.9439\n",
      "Epoch 5/70\n",
      "241/242 [============================>.] - ETA: 0s - loss: 0.1646 - acc: 0.9453\n",
      "Epoch 5: val_loss improved from 0.16994 to 0.16988, saving model to avg-concat-mort_icu-best_model.hdf5\n",
      "242/242 [==============================] - 8s 31ms/step - loss: 0.1644 - acc: 0.9454 - val_loss: 0.1699 - val_acc: 0.9439\n",
      "Epoch 6/70\n",
      "241/242 [============================>.] - ETA: 0s - loss: 0.1594 - acc: 0.9482\n",
      "Epoch 6: val_loss did not improve from 0.16988\n",
      "242/242 [==============================] - 7s 30ms/step - loss: 0.1598 - acc: 0.9481 - val_loss: 0.1700 - val_acc: 0.9448\n",
      "Epoch 7/70\n",
      "241/242 [============================>.] - ETA: 0s - loss: 0.1580 - acc: 0.9487\n",
      "Epoch 7: val_loss improved from 0.16988 to 0.16904, saving model to avg-concat-mort_icu-best_model.hdf5\n",
      "242/242 [==============================] - 7s 30ms/step - loss: 0.1579 - acc: 0.9487 - val_loss: 0.1690 - val_acc: 0.9448\n",
      "Epoch 8/70\n",
      "241/242 [============================>.] - ETA: 0s - loss: 0.1541 - acc: 0.9483\n",
      "Epoch 8: val_loss did not improve from 0.16904\n",
      "242/242 [==============================] - 7s 30ms/step - loss: 0.1541 - acc: 0.9484 - val_loss: 0.1693 - val_acc: 0.9439\n",
      "Epoch 9/70\n",
      "241/242 [============================>.] - ETA: 0s - loss: 0.1547 - acc: 0.9497\n",
      "Epoch 9: val_loss improved from 0.16904 to 0.16886, saving model to avg-concat-mort_icu-best_model.hdf5\n",
      "242/242 [==============================] - 7s 30ms/step - loss: 0.1547 - acc: 0.9497 - val_loss: 0.1689 - val_acc: 0.9453\n",
      "Epoch 10/70\n",
      "241/242 [============================>.] - ETA: 0s - loss: 0.1512 - acc: 0.9501\n",
      "Epoch 10: val_loss did not improve from 0.16886\n",
      "242/242 [==============================] - 7s 30ms/step - loss: 0.1512 - acc: 0.9501 - val_loss: 0.1700 - val_acc: 0.9448\n",
      "Epoch 11/70\n",
      "241/242 [============================>.] - ETA: 0s - loss: 0.1500 - acc: 0.9502\n",
      "Epoch 11: val_loss did not improve from 0.16886\n",
      "242/242 [==============================] - 7s 30ms/step - loss: 0.1498 - acc: 0.9503 - val_loss: 0.1695 - val_acc: 0.9448\n",
      "Epoch 12/70\n",
      "241/242 [============================>.] - ETA: 0s - loss: 0.1485 - acc: 0.9507\n",
      "Epoch 12: val_loss did not improve from 0.16886\n",
      "242/242 [==============================] - 7s 30ms/step - loss: 0.1484 - acc: 0.9508 - val_loss: 0.1699 - val_acc: 0.9471\n",
      "Epoch 13/70\n",
      "241/242 [============================>.] - ETA: 0s - loss: 0.1471 - acc: 0.9505\n",
      "Epoch 13: val_loss did not improve from 0.16886\n",
      "242/242 [==============================] - 7s 30ms/step - loss: 0.1470 - acc: 0.9505 - val_loss: 0.1694 - val_acc: 0.9476\n",
      "Epoch 14/70\n",
      "241/242 [============================>.] - ETA: 0s - loss: 0.1467 - acc: 0.9520\n",
      "Epoch 14: val_loss improved from 0.16886 to 0.16885, saving model to avg-concat-mort_icu-best_model.hdf5\n",
      "242/242 [==============================] - 7s 30ms/step - loss: 0.1466 - acc: 0.9521 - val_loss: 0.1689 - val_acc: 0.9476\n",
      "Epoch 15/70\n",
      "241/242 [============================>.] - ETA: 0s - loss: 0.1448 - acc: 0.9509\n",
      "Epoch 15: val_loss improved from 0.16885 to 0.16865, saving model to avg-concat-mort_icu-best_model.hdf5\n",
      "242/242 [==============================] - 7s 30ms/step - loss: 0.1448 - acc: 0.9508 - val_loss: 0.1687 - val_acc: 0.9457\n",
      "Epoch 16/70\n",
      "241/242 [============================>.] - ETA: 0s - loss: 0.1438 - acc: 0.9523\n",
      "Epoch 16: val_loss did not improve from 0.16865\n",
      "242/242 [==============================] - 7s 30ms/step - loss: 0.1437 - acc: 0.9524 - val_loss: 0.1693 - val_acc: 0.9466\n",
      "Epoch 17/70\n",
      "241/242 [============================>.] - ETA: 0s - loss: 0.1433 - acc: 0.9517\n",
      "Epoch 17: val_loss did not improve from 0.16865\n",
      "242/242 [==============================] - 7s 30ms/step - loss: 0.1433 - acc: 0.9517 - val_loss: 0.1687 - val_acc: 0.9462\n",
      "Epoch 18/70\n",
      "241/242 [============================>.] - ETA: 0s - loss: 0.1425 - acc: 0.9522\n",
      "Epoch 18: val_loss did not improve from 0.16865\n",
      "242/242 [==============================] - 7s 30ms/step - loss: 0.1426 - acc: 0.9522 - val_loss: 0.1688 - val_acc: 0.9462\n",
      "Epoch 19/70\n",
      "241/242 [============================>.] - ETA: 0s - loss: 0.1414 - acc: 0.9527\n",
      "Epoch 19: val_loss did not improve from 0.16865\n",
      "242/242 [==============================] - 7s 30ms/step - loss: 0.1415 - acc: 0.9527 - val_loss: 0.1691 - val_acc: 0.9453\n",
      "Epoch 20/70\n",
      "241/242 [============================>.] - ETA: 0s - loss: 0.1402 - acc: 0.9521\n",
      "Epoch 20: val_loss did not improve from 0.16865\n",
      "242/242 [==============================] - 7s 30ms/step - loss: 0.1401 - acc: 0.9521 - val_loss: 0.1690 - val_acc: 0.9466\n",
      "  7/138 [>.............................] - ETA: 1s "
     ]
    },
    {
     "name": "stderr",
     "output_type": "stream",
     "text": [
      "2023-05-01 00:40:29.725617: I tensorflow/core/common_runtime/executor.cc:1197] [/device:CPU:0] (DEBUG INFO) Executor start aborting (this does not indicate an error and you can ignore this message): INVALID_ARGUMENT: You must feed a value for placeholder tensor 'gradients/split_2_grad/concat/split_2/split_dim' with dtype int32\n",
      "\t [[{{node gradients/split_2_grad/concat/split_2/split_dim}}]]\n",
      "2023-05-01 00:40:29.727428: I tensorflow/core/common_runtime/executor.cc:1197] [/device:CPU:0] (DEBUG INFO) Executor start aborting (this does not indicate an error and you can ignore this message): INVALID_ARGUMENT: You must feed a value for placeholder tensor 'gradients/split_grad/concat/split/split_dim' with dtype int32\n",
      "\t [[{{node gradients/split_grad/concat/split/split_dim}}]]\n",
      "2023-05-01 00:40:29.728610: I tensorflow/core/common_runtime/executor.cc:1197] [/device:CPU:0] (DEBUG INFO) Executor start aborting (this does not indicate an error and you can ignore this message): INVALID_ARGUMENT: You must feed a value for placeholder tensor 'gradients/split_1_grad/concat/split_1/split_dim' with dtype int32\n",
      "\t [[{{node gradients/split_1_grad/concat/split_1/split_dim}}]]\n"
     ]
    },
    {
     "name": "stdout",
     "output_type": "stream",
     "text": [
      "138/138 [==============================] - 1s 8ms/step\n",
      "0.8948271635204708 0.5401709320465983 0.9453676303209652 0.49367088607594933\n",
      "Problem type:  los_3\n",
      "__________________\n"
     ]
    },
    {
     "name": "stderr",
     "output_type": "stream",
     "text": [
      "2023-05-01 00:40:32.606455: I tensorflow/core/common_runtime/executor.cc:1197] [/device:CPU:0] (DEBUG INFO) Executor start aborting (this does not indicate an error and you can ignore this message): INVALID_ARGUMENT: You must feed a value for placeholder tensor 'gradients/split_2_grad/concat/split_2/split_dim' with dtype int32\n",
      "\t [[{{node gradients/split_2_grad/concat/split_2/split_dim}}]]\n",
      "2023-05-01 00:40:32.608167: I tensorflow/core/common_runtime/executor.cc:1197] [/device:CPU:0] (DEBUG INFO) Executor start aborting (this does not indicate an error and you can ignore this message): INVALID_ARGUMENT: You must feed a value for placeholder tensor 'gradients/split_grad/concat/split/split_dim' with dtype int32\n",
      "\t [[{{node gradients/split_grad/concat/split/split_dim}}]]\n",
      "2023-05-01 00:40:32.609356: I tensorflow/core/common_runtime/executor.cc:1197] [/device:CPU:0] (DEBUG INFO) Executor start aborting (this does not indicate an error and you can ignore this message): INVALID_ARGUMENT: You must feed a value for placeholder tensor 'gradients/split_1_grad/concat/split_1/split_dim' with dtype int32\n",
      "\t [[{{node gradients/split_1_grad/concat/split_1/split_dim}}]]\n"
     ]
    },
    {
     "name": "stdout",
     "output_type": "stream",
     "text": [
      "Epoch 1/70\n"
     ]
    },
    {
     "name": "stderr",
     "output_type": "stream",
     "text": [
      "2023-05-01 00:40:33.066354: I tensorflow/core/common_runtime/executor.cc:1197] [/device:CPU:0] (DEBUG INFO) Executor start aborting (this does not indicate an error and you can ignore this message): INVALID_ARGUMENT: You must feed a value for placeholder tensor 'gradients/split_2_grad/concat/split_2/split_dim' with dtype int32\n",
      "\t [[{{node gradients/split_2_grad/concat/split_2/split_dim}}]]\n",
      "2023-05-01 00:40:33.068209: I tensorflow/core/common_runtime/executor.cc:1197] [/device:CPU:0] (DEBUG INFO) Executor start aborting (this does not indicate an error and you can ignore this message): INVALID_ARGUMENT: You must feed a value for placeholder tensor 'gradients/split_grad/concat/split/split_dim' with dtype int32\n",
      "\t [[{{node gradients/split_grad/concat/split/split_dim}}]]\n",
      "2023-05-01 00:40:33.069393: I tensorflow/core/common_runtime/executor.cc:1197] [/device:CPU:0] (DEBUG INFO) Executor start aborting (this does not indicate an error and you can ignore this message): INVALID_ARGUMENT: You must feed a value for placeholder tensor 'gradients/split_1_grad/concat/split_1/split_dim' with dtype int32\n",
      "\t [[{{node gradients/split_1_grad/concat/split_1/split_dim}}]]\n",
      "2023-05-01 00:40:33.619440: I tensorflow/core/common_runtime/executor.cc:1197] [/device:CPU:0] (DEBUG INFO) Executor start aborting (this does not indicate an error and you can ignore this message): INVALID_ARGUMENT: You must feed a value for placeholder tensor 'gradients/split_2_grad/concat/split_2/split_dim' with dtype int32\n",
      "\t [[{{node gradients/split_2_grad/concat/split_2/split_dim}}]]\n",
      "2023-05-01 00:40:33.621175: I tensorflow/core/common_runtime/executor.cc:1197] [/device:CPU:0] (DEBUG INFO) Executor start aborting (this does not indicate an error and you can ignore this message): INVALID_ARGUMENT: You must feed a value for placeholder tensor 'gradients/split_grad/concat/split/split_dim' with dtype int32\n",
      "\t [[{{node gradients/split_grad/concat/split/split_dim}}]]\n",
      "2023-05-01 00:40:33.622666: I tensorflow/core/common_runtime/executor.cc:1197] [/device:CPU:0] (DEBUG INFO) Executor start aborting (this does not indicate an error and you can ignore this message): INVALID_ARGUMENT: You must feed a value for placeholder tensor 'gradients/split_1_grad/concat/split_1/split_dim' with dtype int32\n",
      "\t [[{{node gradients/split_1_grad/concat/split_1/split_dim}}]]\n"
     ]
    },
    {
     "name": "stdout",
     "output_type": "stream",
     "text": [
      "241/242 [============================>.] - ETA: 0s - loss: 0.7043 - acc: 0.6131"
     ]
    },
    {
     "name": "stderr",
     "output_type": "stream",
     "text": [
      "2023-05-01 00:40:41.498223: I tensorflow/core/common_runtime/executor.cc:1197] [/device:CPU:0] (DEBUG INFO) Executor start aborting (this does not indicate an error and you can ignore this message): INVALID_ARGUMENT: You must feed a value for placeholder tensor 'gradients/split_2_grad/concat/split_2/split_dim' with dtype int32\n",
      "\t [[{{node gradients/split_2_grad/concat/split_2/split_dim}}]]\n",
      "2023-05-01 00:40:41.499995: I tensorflow/core/common_runtime/executor.cc:1197] [/device:CPU:0] (DEBUG INFO) Executor start aborting (this does not indicate an error and you can ignore this message): INVALID_ARGUMENT: You must feed a value for placeholder tensor 'gradients/split_grad/concat/split/split_dim' with dtype int32\n",
      "\t [[{{node gradients/split_grad/concat/split/split_dim}}]]\n",
      "2023-05-01 00:40:41.501196: I tensorflow/core/common_runtime/executor.cc:1197] [/device:CPU:0] (DEBUG INFO) Executor start aborting (this does not indicate an error and you can ignore this message): INVALID_ARGUMENT: You must feed a value for placeholder tensor 'gradients/split_1_grad/concat/split_1/split_dim' with dtype int32\n",
      "\t [[{{node gradients/split_1_grad/concat/split_1/split_dim}}]]\n"
     ]
    },
    {
     "name": "stdout",
     "output_type": "stream",
     "text": [
      "\n",
      "Epoch 1: val_loss improved from inf to 0.64006, saving model to avg-concat-los_3-best_model.hdf5\n",
      "242/242 [==============================] - 9s 32ms/step - loss: 0.7041 - acc: 0.6132 - val_loss: 0.6401 - val_acc: 0.6594\n",
      "Epoch 2/70\n",
      "241/242 [============================>.] - ETA: 0s - loss: 0.6466 - acc: 0.6536\n",
      "Epoch 2: val_loss improved from 0.64006 to 0.62894, saving model to avg-concat-los_3-best_model.hdf5\n",
      "242/242 [==============================] - 7s 30ms/step - loss: 0.6467 - acc: 0.6534 - val_loss: 0.6289 - val_acc: 0.6689\n",
      "Epoch 3/70\n",
      "241/242 [============================>.] - ETA: 0s - loss: 0.6330 - acc: 0.6657\n",
      "Epoch 3: val_loss improved from 0.62894 to 0.62758, saving model to avg-concat-los_3-best_model.hdf5\n",
      "242/242 [==============================] - 7s 30ms/step - loss: 0.6330 - acc: 0.6657 - val_loss: 0.6276 - val_acc: 0.6699\n",
      "Epoch 4/70\n",
      "241/242 [============================>.] - ETA: 0s - loss: 0.6251 - acc: 0.6692\n",
      "Epoch 4: val_loss improved from 0.62758 to 0.62391, saving model to avg-concat-los_3-best_model.hdf5\n",
      "242/242 [==============================] - 7s 30ms/step - loss: 0.6250 - acc: 0.6691 - val_loss: 0.6239 - val_acc: 0.6680\n",
      "Epoch 5/70\n",
      "241/242 [============================>.] - ETA: 0s - loss: 0.6169 - acc: 0.6776\n",
      "Epoch 5: val_loss improved from 0.62391 to 0.62304, saving model to avg-concat-los_3-best_model.hdf5\n",
      "242/242 [==============================] - 7s 30ms/step - loss: 0.6169 - acc: 0.6776 - val_loss: 0.6230 - val_acc: 0.6726\n",
      "Epoch 6/70\n",
      "241/242 [============================>.] - ETA: 0s - loss: 0.6133 - acc: 0.6820\n",
      "Epoch 6: val_loss improved from 0.62304 to 0.62130, saving model to avg-concat-los_3-best_model.hdf5\n",
      "242/242 [==============================] - 7s 30ms/step - loss: 0.6132 - acc: 0.6820 - val_loss: 0.6213 - val_acc: 0.6767\n",
      "Epoch 7/70\n",
      "241/242 [============================>.] - ETA: 0s - loss: 0.6096 - acc: 0.6840\n",
      "Epoch 7: val_loss did not improve from 0.62130\n",
      "242/242 [==============================] - 7s 30ms/step - loss: 0.6097 - acc: 0.6839 - val_loss: 0.6248 - val_acc: 0.6712\n",
      "Epoch 8/70\n",
      "241/242 [============================>.] - ETA: 0s - loss: 0.6068 - acc: 0.6848\n",
      "Epoch 8: val_loss did not improve from 0.62130\n",
      "242/242 [==============================] - 7s 30ms/step - loss: 0.6068 - acc: 0.6850 - val_loss: 0.6220 - val_acc: 0.6758\n",
      "Epoch 9/70\n",
      "241/242 [============================>.] - ETA: 0s - loss: 0.6043 - acc: 0.6882\n",
      "Epoch 9: val_loss did not improve from 0.62130\n",
      "242/242 [==============================] - 7s 30ms/step - loss: 0.6043 - acc: 0.6881 - val_loss: 0.6215 - val_acc: 0.6785\n",
      "Epoch 10/70\n",
      "241/242 [============================>.] - ETA: 0s - loss: 0.6046 - acc: 0.6883\n",
      "Epoch 10: val_loss improved from 0.62130 to 0.61889, saving model to avg-concat-los_3-best_model.hdf5\n",
      "242/242 [==============================] - 7s 30ms/step - loss: 0.6047 - acc: 0.6883 - val_loss: 0.6189 - val_acc: 0.6794\n",
      "Epoch 11/70\n",
      "241/242 [============================>.] - ETA: 0s - loss: 0.5989 - acc: 0.6898\n",
      "Epoch 11: val_loss did not improve from 0.61889\n",
      "242/242 [==============================] - 7s 30ms/step - loss: 0.5990 - acc: 0.6897 - val_loss: 0.6197 - val_acc: 0.6794\n",
      "Epoch 12/70\n",
      "241/242 [============================>.] - ETA: 0s - loss: 0.5998 - acc: 0.6900\n",
      "Epoch 12: val_loss improved from 0.61889 to 0.61838, saving model to avg-concat-los_3-best_model.hdf5\n",
      "242/242 [==============================] - 7s 30ms/step - loss: 0.5997 - acc: 0.6899 - val_loss: 0.6184 - val_acc: 0.6776\n",
      "Epoch 13/70\n",
      "241/242 [============================>.] - ETA: 0s - loss: 0.5952 - acc: 0.6924\n",
      "Epoch 13: val_loss did not improve from 0.61838\n",
      "242/242 [==============================] - 7s 30ms/step - loss: 0.5951 - acc: 0.6925 - val_loss: 0.6210 - val_acc: 0.6740\n",
      "Epoch 14/70\n",
      "241/242 [============================>.] - ETA: 0s - loss: 0.5929 - acc: 0.6965\n",
      "Epoch 14: val_loss did not improve from 0.61838\n",
      "242/242 [==============================] - 7s 30ms/step - loss: 0.5927 - acc: 0.6966 - val_loss: 0.6199 - val_acc: 0.6758\n",
      "Epoch 15/70\n",
      "241/242 [============================>.] - ETA: 0s - loss: 0.5928 - acc: 0.6963\n",
      "Epoch 15: val_loss did not improve from 0.61838\n",
      "242/242 [==============================] - 7s 30ms/step - loss: 0.5929 - acc: 0.6962 - val_loss: 0.6198 - val_acc: 0.6776\n",
      "Epoch 16/70\n",
      "241/242 [============================>.] - ETA: 0s - loss: 0.5907 - acc: 0.7001\n",
      "Epoch 16: val_loss improved from 0.61838 to 0.61836, saving model to avg-concat-los_3-best_model.hdf5\n",
      "242/242 [==============================] - 7s 30ms/step - loss: 0.5906 - acc: 0.7002 - val_loss: 0.6184 - val_acc: 0.6831\n",
      "Epoch 17/70\n",
      "241/242 [============================>.] - ETA: 0s - loss: 0.5909 - acc: 0.6952\n",
      "Epoch 17: val_loss did not improve from 0.61836\n",
      "242/242 [==============================] - 7s 30ms/step - loss: 0.5909 - acc: 0.6951 - val_loss: 0.6187 - val_acc: 0.6803\n",
      "Epoch 18/70\n",
      "241/242 [============================>.] - ETA: 0s - loss: 0.5888 - acc: 0.6965\n",
      "Epoch 18: val_loss improved from 0.61836 to 0.61810, saving model to avg-concat-los_3-best_model.hdf5\n",
      "242/242 [==============================] - 7s 30ms/step - loss: 0.5887 - acc: 0.6965 - val_loss: 0.6181 - val_acc: 0.6803\n",
      "Epoch 19/70\n",
      "241/242 [============================>.] - ETA: 0s - loss: 0.5868 - acc: 0.7016\n",
      "Epoch 19: val_loss did not improve from 0.61810\n",
      "242/242 [==============================] - 7s 30ms/step - loss: 0.5868 - acc: 0.7017 - val_loss: 0.6188 - val_acc: 0.6790\n",
      "Epoch 20/70\n",
      "241/242 [============================>.] - ETA: 0s - loss: 0.5870 - acc: 0.7009\n",
      "Epoch 20: val_loss did not improve from 0.61810\n",
      "242/242 [==============================] - 7s 30ms/step - loss: 0.5869 - acc: 0.7010 - val_loss: 0.6201 - val_acc: 0.6735\n",
      "Epoch 21/70\n",
      "241/242 [============================>.] - ETA: 0s - loss: 0.5879 - acc: 0.7032\n",
      "Epoch 21: val_loss did not improve from 0.61810\n",
      "242/242 [==============================] - 7s 30ms/step - loss: 0.5879 - acc: 0.7032 - val_loss: 0.6198 - val_acc: 0.6753\n",
      "Epoch 22/70\n",
      "241/242 [============================>.] - ETA: 0s - loss: 0.5843 - acc: 0.7038\n",
      "Epoch 22: val_loss improved from 0.61810 to 0.61759, saving model to avg-concat-los_3-best_model.hdf5\n",
      "242/242 [==============================] - 7s 30ms/step - loss: 0.5843 - acc: 0.7037 - val_loss: 0.6176 - val_acc: 0.6790\n",
      "Epoch 23/70\n",
      "241/242 [============================>.] - ETA: 0s - loss: 0.5830 - acc: 0.7048\n",
      "Epoch 23: val_loss did not improve from 0.61759\n",
      "242/242 [==============================] - 7s 30ms/step - loss: 0.5829 - acc: 0.7050 - val_loss: 0.6184 - val_acc: 0.6753\n",
      "Epoch 24/70\n",
      "241/242 [============================>.] - ETA: 0s - loss: 0.5844 - acc: 0.7057\n",
      "Epoch 24: val_loss did not improve from 0.61759\n",
      "242/242 [==============================] - 7s 30ms/step - loss: 0.5844 - acc: 0.7057 - val_loss: 0.6187 - val_acc: 0.6735\n",
      "Epoch 25/70\n",
      "241/242 [============================>.] - ETA: 0s - loss: 0.5817 - acc: 0.7092\n",
      "Epoch 25: val_loss did not improve from 0.61759\n",
      "242/242 [==============================] - 7s 30ms/step - loss: 0.5819 - acc: 0.7090 - val_loss: 0.6183 - val_acc: 0.6753\n",
      "Epoch 26/70\n",
      "241/242 [============================>.] - ETA: 0s - loss: 0.5817 - acc: 0.7066\n",
      "Epoch 26: val_loss did not improve from 0.61759\n",
      "242/242 [==============================] - 8s 31ms/step - loss: 0.5817 - acc: 0.7065 - val_loss: 0.6186 - val_acc: 0.6740\n",
      "Epoch 27/70\n",
      "241/242 [============================>.] - ETA: 0s - loss: 0.5787 - acc: 0.7079\n",
      "Epoch 27: val_loss did not improve from 0.61759\n",
      "242/242 [==============================] - 8s 31ms/step - loss: 0.5785 - acc: 0.7080 - val_loss: 0.6189 - val_acc: 0.6749\n",
      "  7/138 [>.............................] - ETA: 1s "
     ]
    },
    {
     "name": "stderr",
     "output_type": "stream",
     "text": [
      "2023-05-01 00:43:51.151553: I tensorflow/core/common_runtime/executor.cc:1197] [/device:CPU:0] (DEBUG INFO) Executor start aborting (this does not indicate an error and you can ignore this message): INVALID_ARGUMENT: You must feed a value for placeholder tensor 'gradients/split_2_grad/concat/split_2/split_dim' with dtype int32\n",
      "\t [[{{node gradients/split_2_grad/concat/split_2/split_dim}}]]\n",
      "2023-05-01 00:43:51.153201: I tensorflow/core/common_runtime/executor.cc:1197] [/device:CPU:0] (DEBUG INFO) Executor start aborting (this does not indicate an error and you can ignore this message): INVALID_ARGUMENT: You must feed a value for placeholder tensor 'gradients/split_grad/concat/split/split_dim' with dtype int32\n",
      "\t [[{{node gradients/split_grad/concat/split/split_dim}}]]\n",
      "2023-05-01 00:43:51.154350: I tensorflow/core/common_runtime/executor.cc:1197] [/device:CPU:0] (DEBUG INFO) Executor start aborting (this does not indicate an error and you can ignore this message): INVALID_ARGUMENT: You must feed a value for placeholder tensor 'gradients/split_1_grad/concat/split_1/split_dim' with dtype int32\n",
      "\t [[{{node gradients/split_1_grad/concat/split_1/split_dim}}]]\n"
     ]
    },
    {
     "name": "stdout",
     "output_type": "stream",
     "text": [
      "138/138 [==============================] - 1s 9ms/step\n",
      "0.7035522752727512 0.6404645706168338 0.669018893694514 0.5677764565992864\n",
      "Problem type:  los_7\n",
      "__________________\n"
     ]
    },
    {
     "name": "stderr",
     "output_type": "stream",
     "text": [
      "2023-05-01 00:43:54.068820: I tensorflow/core/common_runtime/executor.cc:1197] [/device:CPU:0] (DEBUG INFO) Executor start aborting (this does not indicate an error and you can ignore this message): INVALID_ARGUMENT: You must feed a value for placeholder tensor 'gradients/split_2_grad/concat/split_2/split_dim' with dtype int32\n",
      "\t [[{{node gradients/split_2_grad/concat/split_2/split_dim}}]]\n",
      "2023-05-01 00:43:54.070150: I tensorflow/core/common_runtime/executor.cc:1197] [/device:CPU:0] (DEBUG INFO) Executor start aborting (this does not indicate an error and you can ignore this message): INVALID_ARGUMENT: You must feed a value for placeholder tensor 'gradients/split_grad/concat/split/split_dim' with dtype int32\n",
      "\t [[{{node gradients/split_grad/concat/split/split_dim}}]]\n",
      "2023-05-01 00:43:54.071322: I tensorflow/core/common_runtime/executor.cc:1197] [/device:CPU:0] (DEBUG INFO) Executor start aborting (this does not indicate an error and you can ignore this message): INVALID_ARGUMENT: You must feed a value for placeholder tensor 'gradients/split_1_grad/concat/split_1/split_dim' with dtype int32\n",
      "\t [[{{node gradients/split_1_grad/concat/split_1/split_dim}}]]\n"
     ]
    },
    {
     "name": "stdout",
     "output_type": "stream",
     "text": [
      "Epoch 1/70\n"
     ]
    },
    {
     "name": "stderr",
     "output_type": "stream",
     "text": [
      "2023-05-01 00:43:54.532476: I tensorflow/core/common_runtime/executor.cc:1197] [/device:CPU:0] (DEBUG INFO) Executor start aborting (this does not indicate an error and you can ignore this message): INVALID_ARGUMENT: You must feed a value for placeholder tensor 'gradients/split_2_grad/concat/split_2/split_dim' with dtype int32\n",
      "\t [[{{node gradients/split_2_grad/concat/split_2/split_dim}}]]\n",
      "2023-05-01 00:43:54.534266: I tensorflow/core/common_runtime/executor.cc:1197] [/device:CPU:0] (DEBUG INFO) Executor start aborting (this does not indicate an error and you can ignore this message): INVALID_ARGUMENT: You must feed a value for placeholder tensor 'gradients/split_grad/concat/split/split_dim' with dtype int32\n",
      "\t [[{{node gradients/split_grad/concat/split/split_dim}}]]\n",
      "2023-05-01 00:43:54.535580: I tensorflow/core/common_runtime/executor.cc:1197] [/device:CPU:0] (DEBUG INFO) Executor start aborting (this does not indicate an error and you can ignore this message): INVALID_ARGUMENT: You must feed a value for placeholder tensor 'gradients/split_1_grad/concat/split_1/split_dim' with dtype int32\n",
      "\t [[{{node gradients/split_1_grad/concat/split_1/split_dim}}]]\n",
      "2023-05-01 00:43:55.079782: I tensorflow/core/common_runtime/executor.cc:1197] [/device:CPU:0] (DEBUG INFO) Executor start aborting (this does not indicate an error and you can ignore this message): INVALID_ARGUMENT: You must feed a value for placeholder tensor 'gradients/split_2_grad/concat/split_2/split_dim' with dtype int32\n",
      "\t [[{{node gradients/split_2_grad/concat/split_2/split_dim}}]]\n",
      "2023-05-01 00:43:55.081344: I tensorflow/core/common_runtime/executor.cc:1197] [/device:CPU:0] (DEBUG INFO) Executor start aborting (this does not indicate an error and you can ignore this message): INVALID_ARGUMENT: You must feed a value for placeholder tensor 'gradients/split_grad/concat/split/split_dim' with dtype int32\n",
      "\t [[{{node gradients/split_grad/concat/split/split_dim}}]]\n",
      "2023-05-01 00:43:55.082693: I tensorflow/core/common_runtime/executor.cc:1197] [/device:CPU:0] (DEBUG INFO) Executor start aborting (this does not indicate an error and you can ignore this message): INVALID_ARGUMENT: You must feed a value for placeholder tensor 'gradients/split_1_grad/concat/split_1/split_dim' with dtype int32\n",
      "\t [[{{node gradients/split_1_grad/concat/split_1/split_dim}}]]\n"
     ]
    },
    {
     "name": "stdout",
     "output_type": "stream",
     "text": [
      "241/242 [============================>.] - ETA: 0s - loss: 0.3103 - acc: 0.9105"
     ]
    },
    {
     "name": "stderr",
     "output_type": "stream",
     "text": [
      "2023-05-01 00:44:02.939833: I tensorflow/core/common_runtime/executor.cc:1197] [/device:CPU:0] (DEBUG INFO) Executor start aborting (this does not indicate an error and you can ignore this message): INVALID_ARGUMENT: You must feed a value for placeholder tensor 'gradients/split_2_grad/concat/split_2/split_dim' with dtype int32\n",
      "\t [[{{node gradients/split_2_grad/concat/split_2/split_dim}}]]\n",
      "2023-05-01 00:44:02.941657: I tensorflow/core/common_runtime/executor.cc:1197] [/device:CPU:0] (DEBUG INFO) Executor start aborting (this does not indicate an error and you can ignore this message): INVALID_ARGUMENT: You must feed a value for placeholder tensor 'gradients/split_grad/concat/split/split_dim' with dtype int32\n",
      "\t [[{{node gradients/split_grad/concat/split/split_dim}}]]\n",
      "2023-05-01 00:44:02.942808: I tensorflow/core/common_runtime/executor.cc:1197] [/device:CPU:0] (DEBUG INFO) Executor start aborting (this does not indicate an error and you can ignore this message): INVALID_ARGUMENT: You must feed a value for placeholder tensor 'gradients/split_1_grad/concat/split_1/split_dim' with dtype int32\n",
      "\t [[{{node gradients/split_1_grad/concat/split_1/split_dim}}]]\n"
     ]
    },
    {
     "name": "stdout",
     "output_type": "stream",
     "text": [
      "\n",
      "Epoch 1: val_loss improved from inf to 0.27222, saving model to avg-concat-los_7-best_model.hdf5\n",
      "242/242 [==============================] - 9s 32ms/step - loss: 0.3101 - acc: 0.9106 - val_loss: 0.2722 - val_acc: 0.9238\n",
      "Epoch 2/70\n",
      "241/242 [============================>.] - ETA: 0s - loss: 0.2625 - acc: 0.9206\n",
      "Epoch 2: val_loss improved from 0.27222 to 0.26611, saving model to avg-concat-los_7-best_model.hdf5\n",
      "242/242 [==============================] - 7s 30ms/step - loss: 0.2630 - acc: 0.9205 - val_loss: 0.2661 - val_acc: 0.9252\n",
      "Epoch 3/70\n",
      "241/242 [============================>.] - ETA: 0s - loss: 0.2558 - acc: 0.9215\n",
      "Epoch 3: val_loss improved from 0.26611 to 0.26495, saving model to avg-concat-los_7-best_model.hdf5\n",
      "242/242 [==============================] - 7s 30ms/step - loss: 0.2559 - acc: 0.9215 - val_loss: 0.2650 - val_acc: 0.9248\n",
      "Epoch 4/70\n",
      "241/242 [============================>.] - ETA: 0s - loss: 0.2501 - acc: 0.9227\n",
      "Epoch 4: val_loss improved from 0.26495 to 0.26467, saving model to avg-concat-los_7-best_model.hdf5\n",
      "242/242 [==============================] - 7s 30ms/step - loss: 0.2503 - acc: 0.9227 - val_loss: 0.2647 - val_acc: 0.9257\n",
      "Epoch 5/70\n",
      "241/242 [============================>.] - ETA: 0s - loss: 0.2451 - acc: 0.9226\n",
      "Epoch 5: val_loss improved from 0.26467 to 0.26416, saving model to avg-concat-los_7-best_model.hdf5\n",
      "242/242 [==============================] - 7s 31ms/step - loss: 0.2449 - acc: 0.9227 - val_loss: 0.2642 - val_acc: 0.9243\n",
      "Epoch 6/70\n",
      "241/242 [============================>.] - ETA: 0s - loss: 0.2433 - acc: 0.9227\n",
      "Epoch 6: val_loss improved from 0.26416 to 0.26343, saving model to avg-concat-los_7-best_model.hdf5\n",
      "242/242 [==============================] - 7s 31ms/step - loss: 0.2435 - acc: 0.9227 - val_loss: 0.2634 - val_acc: 0.9257\n",
      "Epoch 7/70\n",
      "241/242 [============================>.] - ETA: 0s - loss: 0.2414 - acc: 0.9230\n",
      "Epoch 7: val_loss did not improve from 0.26343\n",
      "242/242 [==============================] - 7s 30ms/step - loss: 0.2412 - acc: 0.9231 - val_loss: 0.2636 - val_acc: 0.9257\n",
      "Epoch 8/70\n",
      "241/242 [============================>.] - ETA: 0s - loss: 0.2378 - acc: 0.9237\n",
      "Epoch 8: val_loss improved from 0.26343 to 0.26253, saving model to avg-concat-los_7-best_model.hdf5\n",
      "242/242 [==============================] - 7s 30ms/step - loss: 0.2378 - acc: 0.9237 - val_loss: 0.2625 - val_acc: 0.9252\n",
      "Epoch 9/70\n",
      "241/242 [============================>.] - ETA: 0s - loss: 0.2392 - acc: 0.9232\n",
      "Epoch 9: val_loss improved from 0.26253 to 0.26249, saving model to avg-concat-los_7-best_model.hdf5\n",
      "242/242 [==============================] - 7s 30ms/step - loss: 0.2394 - acc: 0.9232 - val_loss: 0.2625 - val_acc: 0.9252\n",
      "Epoch 10/70\n",
      "241/242 [============================>.] - ETA: 0s - loss: 0.2356 - acc: 0.9236\n",
      "Epoch 10: val_loss did not improve from 0.26249\n",
      "242/242 [==============================] - 7s 30ms/step - loss: 0.2356 - acc: 0.9236 - val_loss: 0.2630 - val_acc: 0.9248\n",
      "Epoch 11/70\n",
      "241/242 [============================>.] - ETA: 0s - loss: 0.2356 - acc: 0.9235\n",
      "Epoch 11: val_loss did not improve from 0.26249\n",
      "242/242 [==============================] - 7s 30ms/step - loss: 0.2356 - acc: 0.9235 - val_loss: 0.2627 - val_acc: 0.9243\n",
      "Epoch 12/70\n",
      "241/242 [============================>.] - ETA: 0s - loss: 0.2343 - acc: 0.9230\n",
      "Epoch 12: val_loss did not improve from 0.26249\n",
      "242/242 [==============================] - 7s 30ms/step - loss: 0.2341 - acc: 0.9231 - val_loss: 0.2625 - val_acc: 0.9243\n",
      "Epoch 13/70\n",
      "241/242 [============================>.] - ETA: 0s - loss: 0.2326 - acc: 0.9236\n",
      "Epoch 13: val_loss did not improve from 0.26249\n",
      "242/242 [==============================] - 7s 30ms/step - loss: 0.2325 - acc: 0.9236 - val_loss: 0.2628 - val_acc: 0.9238\n",
      "Epoch 14/70\n",
      "241/242 [============================>.] - ETA: 0s - loss: 0.2314 - acc: 0.9234\n",
      "Epoch 14: val_loss improved from 0.26249 to 0.26216, saving model to avg-concat-los_7-best_model.hdf5\n",
      "242/242 [==============================] - 7s 30ms/step - loss: 0.2313 - acc: 0.9234 - val_loss: 0.2622 - val_acc: 0.9243\n",
      "Epoch 15/70\n",
      "241/242 [============================>.] - ETA: 0s - loss: 0.2310 - acc: 0.9241\n",
      "Epoch 15: val_loss did not improve from 0.26216\n",
      "242/242 [==============================] - 7s 30ms/step - loss: 0.2308 - acc: 0.9242 - val_loss: 0.2622 - val_acc: 0.9238\n",
      "Epoch 16/70\n",
      "241/242 [============================>.] - ETA: 0s - loss: 0.2298 - acc: 0.9249\n",
      "Epoch 16: val_loss improved from 0.26216 to 0.26144, saving model to avg-concat-los_7-best_model.hdf5\n",
      "242/242 [==============================] - 7s 30ms/step - loss: 0.2298 - acc: 0.9248 - val_loss: 0.2614 - val_acc: 0.9243\n",
      "Epoch 17/70\n",
      "241/242 [============================>.] - ETA: 0s - loss: 0.2294 - acc: 0.9241\n",
      "Epoch 17: val_loss did not improve from 0.26144\n",
      "242/242 [==============================] - 7s 30ms/step - loss: 0.2294 - acc: 0.9242 - val_loss: 0.2616 - val_acc: 0.9243\n",
      "Epoch 18/70\n",
      "241/242 [============================>.] - ETA: 0s - loss: 0.2296 - acc: 0.9242\n",
      "Epoch 18: val_loss did not improve from 0.26144\n",
      "242/242 [==============================] - 7s 30ms/step - loss: 0.2295 - acc: 0.9243 - val_loss: 0.2615 - val_acc: 0.9238\n",
      "Epoch 19/70\n",
      "241/242 [============================>.] - ETA: 0s - loss: 0.2265 - acc: 0.9249\n",
      "Epoch 19: val_loss did not improve from 0.26144\n",
      "242/242 [==============================] - 7s 30ms/step - loss: 0.2265 - acc: 0.9249 - val_loss: 0.2622 - val_acc: 0.9238\n",
      "Epoch 20/70\n",
      "241/242 [============================>.] - ETA: 0s - loss: 0.2275 - acc: 0.9236\n",
      "Epoch 20: val_loss did not improve from 0.26144\n",
      "242/242 [==============================] - 7s 30ms/step - loss: 0.2273 - acc: 0.9236 - val_loss: 0.2619 - val_acc: 0.9243\n",
      "Epoch 21/70\n",
      "241/242 [============================>.] - ETA: 0s - loss: 0.2267 - acc: 0.9245\n",
      "Epoch 21: val_loss did not improve from 0.26144\n",
      "242/242 [==============================] - 7s 30ms/step - loss: 0.2267 - acc: 0.9245 - val_loss: 0.2616 - val_acc: 0.9243\n",
      "  7/138 [>.............................] - ETA: 1s "
     ]
    },
    {
     "name": "stderr",
     "output_type": "stream",
     "text": [
      "2023-05-01 00:46:29.853166: I tensorflow/core/common_runtime/executor.cc:1197] [/device:CPU:0] (DEBUG INFO) Executor start aborting (this does not indicate an error and you can ignore this message): INVALID_ARGUMENT: You must feed a value for placeholder tensor 'gradients/split_2_grad/concat/split_2/split_dim' with dtype int32\n",
      "\t [[{{node gradients/split_2_grad/concat/split_2/split_dim}}]]\n",
      "2023-05-01 00:46:29.854926: I tensorflow/core/common_runtime/executor.cc:1197] [/device:CPU:0] (DEBUG INFO) Executor start aborting (this does not indicate an error and you can ignore this message): INVALID_ARGUMENT: You must feed a value for placeholder tensor 'gradients/split_grad/concat/split/split_dim' with dtype int32\n",
      "\t [[{{node gradients/split_grad/concat/split/split_dim}}]]\n",
      "2023-05-01 00:46:29.856141: I tensorflow/core/common_runtime/executor.cc:1197] [/device:CPU:0] (DEBUG INFO) Executor start aborting (this does not indicate an error and you can ignore this message): INVALID_ARGUMENT: You must feed a value for placeholder tensor 'gradients/split_1_grad/concat/split_1/split_dim' with dtype int32\n",
      "\t [[{{node gradients/split_1_grad/concat/split_1/split_dim}}]]\n"
     ]
    },
    {
     "name": "stdout",
     "output_type": "stream",
     "text": [
      "138/138 [==============================] - 1s 8ms/step\n",
      "0.7217363754243582 0.2160144611262373 0.9203277942180742 0.038461538461538464\n",
      "Iteration number:  2\n",
      "Problem type:  mort_hosp\n",
      "__________________\n"
     ]
    },
    {
     "name": "stderr",
     "output_type": "stream",
     "text": [
      "2023-05-01 00:46:32.724060: I tensorflow/core/common_runtime/executor.cc:1197] [/device:CPU:0] (DEBUG INFO) Executor start aborting (this does not indicate an error and you can ignore this message): INVALID_ARGUMENT: You must feed a value for placeholder tensor 'gradients/split_2_grad/concat/split_2/split_dim' with dtype int32\n",
      "\t [[{{node gradients/split_2_grad/concat/split_2/split_dim}}]]\n",
      "2023-05-01 00:46:32.725684: I tensorflow/core/common_runtime/executor.cc:1197] [/device:CPU:0] (DEBUG INFO) Executor start aborting (this does not indicate an error and you can ignore this message): INVALID_ARGUMENT: You must feed a value for placeholder tensor 'gradients/split_grad/concat/split/split_dim' with dtype int32\n",
      "\t [[{{node gradients/split_grad/concat/split/split_dim}}]]\n",
      "2023-05-01 00:46:32.726815: I tensorflow/core/common_runtime/executor.cc:1197] [/device:CPU:0] (DEBUG INFO) Executor start aborting (this does not indicate an error and you can ignore this message): INVALID_ARGUMENT: You must feed a value for placeholder tensor 'gradients/split_1_grad/concat/split_1/split_dim' with dtype int32\n",
      "\t [[{{node gradients/split_1_grad/concat/split_1/split_dim}}]]\n"
     ]
    },
    {
     "name": "stdout",
     "output_type": "stream",
     "text": [
      "Epoch 1/70\n"
     ]
    },
    {
     "name": "stderr",
     "output_type": "stream",
     "text": [
      "2023-05-01 00:46:33.203337: I tensorflow/core/common_runtime/executor.cc:1197] [/device:CPU:0] (DEBUG INFO) Executor start aborting (this does not indicate an error and you can ignore this message): INVALID_ARGUMENT: You must feed a value for placeholder tensor 'gradients/split_2_grad/concat/split_2/split_dim' with dtype int32\n",
      "\t [[{{node gradients/split_2_grad/concat/split_2/split_dim}}]]\n",
      "2023-05-01 00:46:33.205121: I tensorflow/core/common_runtime/executor.cc:1197] [/device:CPU:0] (DEBUG INFO) Executor start aborting (this does not indicate an error and you can ignore this message): INVALID_ARGUMENT: You must feed a value for placeholder tensor 'gradients/split_grad/concat/split/split_dim' with dtype int32\n",
      "\t [[{{node gradients/split_grad/concat/split/split_dim}}]]\n",
      "2023-05-01 00:46:33.206467: I tensorflow/core/common_runtime/executor.cc:1197] [/device:CPU:0] (DEBUG INFO) Executor start aborting (this does not indicate an error and you can ignore this message): INVALID_ARGUMENT: You must feed a value for placeholder tensor 'gradients/split_1_grad/concat/split_1/split_dim' with dtype int32\n",
      "\t [[{{node gradients/split_1_grad/concat/split_1/split_dim}}]]\n",
      "2023-05-01 00:46:33.758956: I tensorflow/core/common_runtime/executor.cc:1197] [/device:CPU:0] (DEBUG INFO) Executor start aborting (this does not indicate an error and you can ignore this message): INVALID_ARGUMENT: You must feed a value for placeholder tensor 'gradients/split_2_grad/concat/split_2/split_dim' with dtype int32\n",
      "\t [[{{node gradients/split_2_grad/concat/split_2/split_dim}}]]\n",
      "2023-05-01 00:46:33.760680: I tensorflow/core/common_runtime/executor.cc:1197] [/device:CPU:0] (DEBUG INFO) Executor start aborting (this does not indicate an error and you can ignore this message): INVALID_ARGUMENT: You must feed a value for placeholder tensor 'gradients/split_grad/concat/split/split_dim' with dtype int32\n",
      "\t [[{{node gradients/split_grad/concat/split/split_dim}}]]\n",
      "2023-05-01 00:46:33.761844: I tensorflow/core/common_runtime/executor.cc:1197] [/device:CPU:0] (DEBUG INFO) Executor start aborting (this does not indicate an error and you can ignore this message): INVALID_ARGUMENT: You must feed a value for placeholder tensor 'gradients/split_1_grad/concat/split_1/split_dim' with dtype int32\n",
      "\t [[{{node gradients/split_1_grad/concat/split_1/split_dim}}]]\n"
     ]
    },
    {
     "name": "stdout",
     "output_type": "stream",
     "text": [
      "241/242 [============================>.] - ETA: 0s - loss: 0.3020 - acc: 0.8965"
     ]
    },
    {
     "name": "stderr",
     "output_type": "stream",
     "text": [
      "2023-05-01 00:46:41.532748: I tensorflow/core/common_runtime/executor.cc:1197] [/device:CPU:0] (DEBUG INFO) Executor start aborting (this does not indicate an error and you can ignore this message): INVALID_ARGUMENT: You must feed a value for placeholder tensor 'gradients/split_2_grad/concat/split_2/split_dim' with dtype int32\n",
      "\t [[{{node gradients/split_2_grad/concat/split_2/split_dim}}]]\n",
      "2023-05-01 00:46:41.534255: I tensorflow/core/common_runtime/executor.cc:1197] [/device:CPU:0] (DEBUG INFO) Executor start aborting (this does not indicate an error and you can ignore this message): INVALID_ARGUMENT: You must feed a value for placeholder tensor 'gradients/split_grad/concat/split/split_dim' with dtype int32\n",
      "\t [[{{node gradients/split_grad/concat/split/split_dim}}]]\n",
      "2023-05-01 00:46:41.535397: I tensorflow/core/common_runtime/executor.cc:1197] [/device:CPU:0] (DEBUG INFO) Executor start aborting (this does not indicate an error and you can ignore this message): INVALID_ARGUMENT: You must feed a value for placeholder tensor 'gradients/split_1_grad/concat/split_1/split_dim' with dtype int32\n",
      "\t [[{{node gradients/split_1_grad/concat/split_1/split_dim}}]]\n"
     ]
    },
    {
     "name": "stdout",
     "output_type": "stream",
     "text": [
      "\n",
      "Epoch 1: val_loss improved from inf to 0.23527, saving model to avg-concat-mort_hosp-best_model.hdf5\n",
      "242/242 [==============================] - 9s 31ms/step - loss: 0.3019 - acc: 0.8964 - val_loss: 0.2353 - val_acc: 0.9156\n",
      "Epoch 2/70\n",
      "241/242 [============================>.] - ETA: 0s - loss: 0.2501 - acc: 0.9121\n",
      "Epoch 2: val_loss improved from 0.23527 to 0.23176, saving model to avg-concat-mort_hosp-best_model.hdf5\n",
      "242/242 [==============================] - 7s 30ms/step - loss: 0.2501 - acc: 0.9122 - val_loss: 0.2318 - val_acc: 0.9156\n",
      "Epoch 3/70\n",
      "241/242 [============================>.] - ETA: 0s - loss: 0.2389 - acc: 0.9162\n",
      "Epoch 3: val_loss improved from 0.23176 to 0.23043, saving model to avg-concat-mort_hosp-best_model.hdf5\n",
      "242/242 [==============================] - 7s 30ms/step - loss: 0.2391 - acc: 0.9161 - val_loss: 0.2304 - val_acc: 0.9175\n",
      "Epoch 4/70\n",
      "241/242 [============================>.] - ETA: 0s - loss: 0.2330 - acc: 0.9175\n",
      "Epoch 4: val_loss did not improve from 0.23043\n",
      "242/242 [==============================] - 7s 31ms/step - loss: 0.2329 - acc: 0.9175 - val_loss: 0.2309 - val_acc: 0.9156\n",
      "Epoch 5/70\n",
      "241/242 [============================>.] - ETA: 0s - loss: 0.2253 - acc: 0.9192\n",
      "Epoch 5: val_loss improved from 0.23043 to 0.23029, saving model to avg-concat-mort_hosp-best_model.hdf5\n",
      "242/242 [==============================] - 7s 31ms/step - loss: 0.2253 - acc: 0.9192 - val_loss: 0.2303 - val_acc: 0.9166\n",
      "Epoch 6/70\n",
      "241/242 [============================>.] - ETA: 0s - loss: 0.2211 - acc: 0.9218\n",
      "Epoch 6: val_loss improved from 0.23029 to 0.22949, saving model to avg-concat-mort_hosp-best_model.hdf5\n",
      "242/242 [==============================] - 7s 31ms/step - loss: 0.2210 - acc: 0.9218 - val_loss: 0.2295 - val_acc: 0.9147\n",
      "Epoch 7/70\n",
      "241/242 [============================>.] - ETA: 0s - loss: 0.2173 - acc: 0.9225\n",
      "Epoch 7: val_loss improved from 0.22949 to 0.22826, saving model to avg-concat-mort_hosp-best_model.hdf5\n",
      "242/242 [==============================] - 7s 31ms/step - loss: 0.2174 - acc: 0.9224 - val_loss: 0.2283 - val_acc: 0.9152\n",
      "Epoch 8/70\n",
      "241/242 [============================>.] - ETA: 0s - loss: 0.2162 - acc: 0.9236\n",
      "Epoch 8: val_loss improved from 0.22826 to 0.22779, saving model to avg-concat-mort_hosp-best_model.hdf5\n",
      "242/242 [==============================] - 7s 31ms/step - loss: 0.2161 - acc: 0.9236 - val_loss: 0.2278 - val_acc: 0.9138\n",
      "Epoch 9/70\n",
      "241/242 [============================>.] - ETA: 0s - loss: 0.2138 - acc: 0.9232\n",
      "Epoch 9: val_loss did not improve from 0.22779\n",
      "242/242 [==============================] - 7s 31ms/step - loss: 0.2140 - acc: 0.9231 - val_loss: 0.2283 - val_acc: 0.9147\n",
      "Epoch 10/70\n",
      "241/242 [============================>.] - ETA: 0s - loss: 0.2127 - acc: 0.9232\n",
      "Epoch 10: val_loss improved from 0.22779 to 0.22727, saving model to avg-concat-mort_hosp-best_model.hdf5\n",
      "242/242 [==============================] - 7s 31ms/step - loss: 0.2128 - acc: 0.9232 - val_loss: 0.2273 - val_acc: 0.9152\n",
      "Epoch 11/70\n",
      "241/242 [============================>.] - ETA: 0s - loss: 0.2098 - acc: 0.9243\n",
      "Epoch 11: val_loss did not improve from 0.22727\n",
      "242/242 [==============================] - 7s 31ms/step - loss: 0.2097 - acc: 0.9244 - val_loss: 0.2277 - val_acc: 0.9147\n",
      "Epoch 12/70\n",
      "241/242 [============================>.] - ETA: 0s - loss: 0.2095 - acc: 0.9254\n",
      "Epoch 12: val_loss did not improve from 0.22727\n",
      "242/242 [==============================] - 7s 31ms/step - loss: 0.2093 - acc: 0.9255 - val_loss: 0.2275 - val_acc: 0.9147\n",
      "Epoch 13/70\n",
      "241/242 [============================>.] - ETA: 0s - loss: 0.2088 - acc: 0.9234\n",
      "Epoch 13: val_loss did not improve from 0.22727\n",
      "242/242 [==============================] - 7s 31ms/step - loss: 0.2087 - acc: 0.9234 - val_loss: 0.2278 - val_acc: 0.9147\n",
      "Epoch 14/70\n",
      "241/242 [============================>.] - ETA: 0s - loss: 0.2077 - acc: 0.9269\n",
      "Epoch 14: val_loss improved from 0.22727 to 0.22722, saving model to avg-concat-mort_hosp-best_model.hdf5\n",
      "242/242 [==============================] - 7s 31ms/step - loss: 0.2076 - acc: 0.9269 - val_loss: 0.2272 - val_acc: 0.9156\n",
      "Epoch 15/70\n",
      "241/242 [============================>.] - ETA: 0s - loss: 0.2054 - acc: 0.9245\n",
      "Epoch 15: val_loss did not improve from 0.22722\n",
      "242/242 [==============================] - 7s 31ms/step - loss: 0.2053 - acc: 0.9245 - val_loss: 0.2278 - val_acc: 0.9143\n",
      "Epoch 16/70\n",
      "241/242 [============================>.] - ETA: 0s - loss: 0.2039 - acc: 0.9268\n",
      "Epoch 16: val_loss did not improve from 0.22722\n",
      "242/242 [==============================] - 7s 31ms/step - loss: 0.2039 - acc: 0.9267 - val_loss: 0.2279 - val_acc: 0.9129\n",
      "Epoch 17/70\n",
      "241/242 [============================>.] - ETA: 0s - loss: 0.2023 - acc: 0.9267\n",
      "Epoch 17: val_loss did not improve from 0.22722\n",
      "242/242 [==============================] - 7s 31ms/step - loss: 0.2026 - acc: 0.9267 - val_loss: 0.2274 - val_acc: 0.9143\n",
      "Epoch 18/70\n",
      "241/242 [============================>.] - ETA: 0s - loss: 0.2007 - acc: 0.9263\n",
      "Epoch 18: val_loss did not improve from 0.22722\n",
      "242/242 [==============================] - 8s 31ms/step - loss: 0.2005 - acc: 0.9264 - val_loss: 0.2280 - val_acc: 0.9147\n",
      "Epoch 19/70\n",
      "241/242 [============================>.] - ETA: 0s - loss: 0.2014 - acc: 0.9258\n",
      "Epoch 19: val_loss did not improve from 0.22722\n",
      "242/242 [==============================] - 8s 32ms/step - loss: 0.2015 - acc: 0.9258 - val_loss: 0.2277 - val_acc: 0.9147\n",
      "  7/138 [>.............................] - ETA: 1s "
     ]
    },
    {
     "name": "stderr",
     "output_type": "stream",
     "text": [
      "2023-05-01 00:48:56.638693: I tensorflow/core/common_runtime/executor.cc:1197] [/device:CPU:0] (DEBUG INFO) Executor start aborting (this does not indicate an error and you can ignore this message): INVALID_ARGUMENT: You must feed a value for placeholder tensor 'gradients/split_2_grad/concat/split_2/split_dim' with dtype int32\n",
      "\t [[{{node gradients/split_2_grad/concat/split_2/split_dim}}]]\n",
      "2023-05-01 00:48:56.640479: I tensorflow/core/common_runtime/executor.cc:1197] [/device:CPU:0] (DEBUG INFO) Executor start aborting (this does not indicate an error and you can ignore this message): INVALID_ARGUMENT: You must feed a value for placeholder tensor 'gradients/split_grad/concat/split/split_dim' with dtype int32\n",
      "\t [[{{node gradients/split_grad/concat/split/split_dim}}]]\n",
      "2023-05-01 00:48:56.641758: I tensorflow/core/common_runtime/executor.cc:1197] [/device:CPU:0] (DEBUG INFO) Executor start aborting (this does not indicate an error and you can ignore this message): INVALID_ARGUMENT: You must feed a value for placeholder tensor 'gradients/split_1_grad/concat/split_1/split_dim' with dtype int32\n",
      "\t [[{{node gradients/split_1_grad/concat/split_1/split_dim}}]]\n"
     ]
    },
    {
     "name": "stdout",
     "output_type": "stream",
     "text": [
      "138/138 [==============================] - 2s 10ms/step\n",
      "0.8833939350223117 0.5946557680747812 0.9201001593444116 0.4830633284241532\n",
      "Problem type:  mort_icu\n",
      "__________________\n"
     ]
    },
    {
     "name": "stderr",
     "output_type": "stream",
     "text": [
      "2023-05-01 00:48:59.738232: I tensorflow/core/common_runtime/executor.cc:1197] [/device:CPU:0] (DEBUG INFO) Executor start aborting (this does not indicate an error and you can ignore this message): INVALID_ARGUMENT: You must feed a value for placeholder tensor 'gradients/split_2_grad/concat/split_2/split_dim' with dtype int32\n",
      "\t [[{{node gradients/split_2_grad/concat/split_2/split_dim}}]]\n",
      "2023-05-01 00:48:59.740248: I tensorflow/core/common_runtime/executor.cc:1197] [/device:CPU:0] (DEBUG INFO) Executor start aborting (this does not indicate an error and you can ignore this message): INVALID_ARGUMENT: You must feed a value for placeholder tensor 'gradients/split_grad/concat/split/split_dim' with dtype int32\n",
      "\t [[{{node gradients/split_grad/concat/split/split_dim}}]]\n",
      "2023-05-01 00:48:59.741636: I tensorflow/core/common_runtime/executor.cc:1197] [/device:CPU:0] (DEBUG INFO) Executor start aborting (this does not indicate an error and you can ignore this message): INVALID_ARGUMENT: You must feed a value for placeholder tensor 'gradients/split_1_grad/concat/split_1/split_dim' with dtype int32\n",
      "\t [[{{node gradients/split_1_grad/concat/split_1/split_dim}}]]\n"
     ]
    },
    {
     "name": "stdout",
     "output_type": "stream",
     "text": [
      "Epoch 1/70\n"
     ]
    },
    {
     "name": "stderr",
     "output_type": "stream",
     "text": [
      "2023-05-01 00:49:00.203045: I tensorflow/core/common_runtime/executor.cc:1197] [/device:CPU:0] (DEBUG INFO) Executor start aborting (this does not indicate an error and you can ignore this message): INVALID_ARGUMENT: You must feed a value for placeholder tensor 'gradients/split_2_grad/concat/split_2/split_dim' with dtype int32\n",
      "\t [[{{node gradients/split_2_grad/concat/split_2/split_dim}}]]\n",
      "2023-05-01 00:49:00.204757: I tensorflow/core/common_runtime/executor.cc:1197] [/device:CPU:0] (DEBUG INFO) Executor start aborting (this does not indicate an error and you can ignore this message): INVALID_ARGUMENT: You must feed a value for placeholder tensor 'gradients/split_grad/concat/split/split_dim' with dtype int32\n",
      "\t [[{{node gradients/split_grad/concat/split/split_dim}}]]\n",
      "2023-05-01 00:49:00.206106: I tensorflow/core/common_runtime/executor.cc:1197] [/device:CPU:0] (DEBUG INFO) Executor start aborting (this does not indicate an error and you can ignore this message): INVALID_ARGUMENT: You must feed a value for placeholder tensor 'gradients/split_1_grad/concat/split_1/split_dim' with dtype int32\n",
      "\t [[{{node gradients/split_1_grad/concat/split_1/split_dim}}]]\n",
      "2023-05-01 00:49:00.760883: I tensorflow/core/common_runtime/executor.cc:1197] [/device:CPU:0] (DEBUG INFO) Executor start aborting (this does not indicate an error and you can ignore this message): INVALID_ARGUMENT: You must feed a value for placeholder tensor 'gradients/split_2_grad/concat/split_2/split_dim' with dtype int32\n",
      "\t [[{{node gradients/split_2_grad/concat/split_2/split_dim}}]]\n",
      "2023-05-01 00:49:00.762793: I tensorflow/core/common_runtime/executor.cc:1197] [/device:CPU:0] (DEBUG INFO) Executor start aborting (this does not indicate an error and you can ignore this message): INVALID_ARGUMENT: You must feed a value for placeholder tensor 'gradients/split_grad/concat/split/split_dim' with dtype int32\n",
      "\t [[{{node gradients/split_grad/concat/split/split_dim}}]]\n",
      "2023-05-01 00:49:00.764109: I tensorflow/core/common_runtime/executor.cc:1197] [/device:CPU:0] (DEBUG INFO) Executor start aborting (this does not indicate an error and you can ignore this message): INVALID_ARGUMENT: You must feed a value for placeholder tensor 'gradients/split_1_grad/concat/split_1/split_dim' with dtype int32\n",
      "\t [[{{node gradients/split_1_grad/concat/split_1/split_dim}}]]\n"
     ]
    },
    {
     "name": "stdout",
     "output_type": "stream",
     "text": [
      "241/242 [============================>.] - ETA: 0s - loss: 0.2234 - acc: 0.9319"
     ]
    },
    {
     "name": "stderr",
     "output_type": "stream",
     "text": [
      "2023-05-01 00:49:08.928666: I tensorflow/core/common_runtime/executor.cc:1197] [/device:CPU:0] (DEBUG INFO) Executor start aborting (this does not indicate an error and you can ignore this message): INVALID_ARGUMENT: You must feed a value for placeholder tensor 'gradients/split_2_grad/concat/split_2/split_dim' with dtype int32\n",
      "\t [[{{node gradients/split_2_grad/concat/split_2/split_dim}}]]\n",
      "2023-05-01 00:49:08.930218: I tensorflow/core/common_runtime/executor.cc:1197] [/device:CPU:0] (DEBUG INFO) Executor start aborting (this does not indicate an error and you can ignore this message): INVALID_ARGUMENT: You must feed a value for placeholder tensor 'gradients/split_grad/concat/split/split_dim' with dtype int32\n",
      "\t [[{{node gradients/split_grad/concat/split/split_dim}}]]\n",
      "2023-05-01 00:49:08.931425: I tensorflow/core/common_runtime/executor.cc:1197] [/device:CPU:0] (DEBUG INFO) Executor start aborting (this does not indicate an error and you can ignore this message): INVALID_ARGUMENT: You must feed a value for placeholder tensor 'gradients/split_1_grad/concat/split_1/split_dim' with dtype int32\n",
      "\t [[{{node gradients/split_1_grad/concat/split_1/split_dim}}]]\n"
     ]
    },
    {
     "name": "stdout",
     "output_type": "stream",
     "text": [
      "\n",
      "Epoch 1: val_loss improved from inf to 0.17513, saving model to avg-concat-mort_icu-best_model.hdf5\n",
      "242/242 [==============================] - 9s 33ms/step - loss: 0.2238 - acc: 0.9318 - val_loss: 0.1751 - val_acc: 0.9425\n",
      "Epoch 2/70\n",
      "241/242 [============================>.] - ETA: 0s - loss: 0.1837 - acc: 0.9421\n",
      "Epoch 2: val_loss improved from 0.17513 to 0.17430, saving model to avg-concat-mort_icu-best_model.hdf5\n",
      "242/242 [==============================] - 8s 31ms/step - loss: 0.1838 - acc: 0.9420 - val_loss: 0.1743 - val_acc: 0.9412\n",
      "Epoch 3/70\n",
      "241/242 [============================>.] - ETA: 0s - loss: 0.1728 - acc: 0.9434\n",
      "Epoch 3: val_loss improved from 0.17430 to 0.16933, saving model to avg-concat-mort_icu-best_model.hdf5\n",
      "242/242 [==============================] - 7s 31ms/step - loss: 0.1730 - acc: 0.9433 - val_loss: 0.1693 - val_acc: 0.9421\n",
      "Epoch 4/70\n",
      "241/242 [============================>.] - ETA: 0s - loss: 0.1677 - acc: 0.9446\n",
      "Epoch 4: val_loss improved from 0.16933 to 0.16823, saving model to avg-concat-mort_icu-best_model.hdf5\n",
      "242/242 [==============================] - 7s 31ms/step - loss: 0.1677 - acc: 0.9445 - val_loss: 0.1682 - val_acc: 0.9430\n",
      "Epoch 5/70\n",
      "241/242 [============================>.] - ETA: 0s - loss: 0.1628 - acc: 0.9470\n",
      "Epoch 5: val_loss improved from 0.16823 to 0.16813, saving model to avg-concat-mort_icu-best_model.hdf5\n",
      "242/242 [==============================] - 8s 31ms/step - loss: 0.1629 - acc: 0.9470 - val_loss: 0.1681 - val_acc: 0.9435\n",
      "Epoch 6/70\n",
      "241/242 [============================>.] - ETA: 0s - loss: 0.1583 - acc: 0.9481\n",
      "Epoch 6: val_loss did not improve from 0.16813\n",
      "242/242 [==============================] - 8s 31ms/step - loss: 0.1582 - acc: 0.9481 - val_loss: 0.1682 - val_acc: 0.9439\n",
      "Epoch 7/70\n",
      "241/242 [============================>.] - ETA: 0s - loss: 0.1566 - acc: 0.9487\n",
      "Epoch 7: val_loss improved from 0.16813 to 0.16780, saving model to avg-concat-mort_icu-best_model.hdf5\n",
      "242/242 [==============================] - 8s 31ms/step - loss: 0.1565 - acc: 0.9488 - val_loss: 0.1678 - val_acc: 0.9444\n",
      "Epoch 8/70\n",
      "241/242 [============================>.] - ETA: 0s - loss: 0.1535 - acc: 0.9492\n",
      "Epoch 8: val_loss improved from 0.16780 to 0.16775, saving model to avg-concat-mort_icu-best_model.hdf5\n",
      "242/242 [==============================] - 8s 32ms/step - loss: 0.1534 - acc: 0.9492 - val_loss: 0.1678 - val_acc: 0.9430\n",
      "Epoch 9/70\n",
      "241/242 [============================>.] - ETA: 0s - loss: 0.1523 - acc: 0.9488\n",
      "Epoch 9: val_loss improved from 0.16775 to 0.16720, saving model to avg-concat-mort_icu-best_model.hdf5\n",
      "242/242 [==============================] - 8s 31ms/step - loss: 0.1522 - acc: 0.9489 - val_loss: 0.1672 - val_acc: 0.9448\n",
      "Epoch 10/70\n",
      "241/242 [============================>.] - ETA: 0s - loss: 0.1493 - acc: 0.9503\n",
      "Epoch 10: val_loss did not improve from 0.16720\n",
      "242/242 [==============================] - 7s 31ms/step - loss: 0.1494 - acc: 0.9503 - val_loss: 0.1675 - val_acc: 0.9439\n",
      "Epoch 11/70\n",
      "241/242 [============================>.] - ETA: 0s - loss: 0.1488 - acc: 0.9505\n",
      "Epoch 11: val_loss did not improve from 0.16720\n",
      "242/242 [==============================] - 7s 31ms/step - loss: 0.1489 - acc: 0.9505 - val_loss: 0.1675 - val_acc: 0.9435\n",
      "Epoch 12/70\n",
      "241/242 [============================>.] - ETA: 0s - loss: 0.1477 - acc: 0.9507\n",
      "Epoch 12: val_loss did not improve from 0.16720\n",
      "242/242 [==============================] - 7s 31ms/step - loss: 0.1477 - acc: 0.9506 - val_loss: 0.1677 - val_acc: 0.9435\n",
      "Epoch 13/70\n",
      "241/242 [============================>.] - ETA: 0s - loss: 0.1454 - acc: 0.9519\n",
      "Epoch 13: val_loss did not improve from 0.16720\n",
      "242/242 [==============================] - 8s 31ms/step - loss: 0.1455 - acc: 0.9518 - val_loss: 0.1673 - val_acc: 0.9444\n",
      "Epoch 14/70\n",
      "241/242 [============================>.] - ETA: 0s - loss: 0.1451 - acc: 0.9520\n",
      "Epoch 14: val_loss did not improve from 0.16720\n",
      "242/242 [==============================] - 7s 31ms/step - loss: 0.1450 - acc: 0.9520 - val_loss: 0.1675 - val_acc: 0.9430\n",
      "  7/138 [>.............................] - ETA: 1s "
     ]
    },
    {
     "name": "stderr",
     "output_type": "stream",
     "text": [
      "2023-05-01 00:50:47.402260: I tensorflow/core/common_runtime/executor.cc:1197] [/device:CPU:0] (DEBUG INFO) Executor start aborting (this does not indicate an error and you can ignore this message): INVALID_ARGUMENT: You must feed a value for placeholder tensor 'gradients/split_2_grad/concat/split_2/split_dim' with dtype int32\n",
      "\t [[{{node gradients/split_2_grad/concat/split_2/split_dim}}]]\n",
      "2023-05-01 00:50:47.404066: I tensorflow/core/common_runtime/executor.cc:1197] [/device:CPU:0] (DEBUG INFO) Executor start aborting (this does not indicate an error and you can ignore this message): INVALID_ARGUMENT: You must feed a value for placeholder tensor 'gradients/split_grad/concat/split/split_dim' with dtype int32\n",
      "\t [[{{node gradients/split_grad/concat/split/split_dim}}]]\n",
      "2023-05-01 00:50:47.405316: I tensorflow/core/common_runtime/executor.cc:1197] [/device:CPU:0] (DEBUG INFO) Executor start aborting (this does not indicate an error and you can ignore this message): INVALID_ARGUMENT: You must feed a value for placeholder tensor 'gradients/split_1_grad/concat/split_1/split_dim' with dtype int32\n",
      "\t [[{{node gradients/split_1_grad/concat/split_1/split_dim}}]]\n"
     ]
    },
    {
     "name": "stdout",
     "output_type": "stream",
     "text": [
      "138/138 [==============================] - 1s 9ms/step\n",
      "0.890640737160819 0.5264595996044272 0.9444570908263146 0.4672489082969432\n",
      "Problem type:  los_3\n",
      "__________________\n"
     ]
    },
    {
     "name": "stderr",
     "output_type": "stream",
     "text": [
      "2023-05-01 00:50:50.340857: I tensorflow/core/common_runtime/executor.cc:1197] [/device:CPU:0] (DEBUG INFO) Executor start aborting (this does not indicate an error and you can ignore this message): INVALID_ARGUMENT: You must feed a value for placeholder tensor 'gradients/split_2_grad/concat/split_2/split_dim' with dtype int32\n",
      "\t [[{{node gradients/split_2_grad/concat/split_2/split_dim}}]]\n",
      "2023-05-01 00:50:50.342643: I tensorflow/core/common_runtime/executor.cc:1197] [/device:CPU:0] (DEBUG INFO) Executor start aborting (this does not indicate an error and you can ignore this message): INVALID_ARGUMENT: You must feed a value for placeholder tensor 'gradients/split_grad/concat/split/split_dim' with dtype int32\n",
      "\t [[{{node gradients/split_grad/concat/split/split_dim}}]]\n",
      "2023-05-01 00:50:50.343866: I tensorflow/core/common_runtime/executor.cc:1197] [/device:CPU:0] (DEBUG INFO) Executor start aborting (this does not indicate an error and you can ignore this message): INVALID_ARGUMENT: You must feed a value for placeholder tensor 'gradients/split_1_grad/concat/split_1/split_dim' with dtype int32\n",
      "\t [[{{node gradients/split_1_grad/concat/split_1/split_dim}}]]\n"
     ]
    },
    {
     "name": "stdout",
     "output_type": "stream",
     "text": [
      "Epoch 1/70\n"
     ]
    },
    {
     "name": "stderr",
     "output_type": "stream",
     "text": [
      "2023-05-01 00:50:50.821026: I tensorflow/core/common_runtime/executor.cc:1197] [/device:CPU:0] (DEBUG INFO) Executor start aborting (this does not indicate an error and you can ignore this message): INVALID_ARGUMENT: You must feed a value for placeholder tensor 'gradients/split_2_grad/concat/split_2/split_dim' with dtype int32\n",
      "\t [[{{node gradients/split_2_grad/concat/split_2/split_dim}}]]\n",
      "2023-05-01 00:50:50.822845: I tensorflow/core/common_runtime/executor.cc:1197] [/device:CPU:0] (DEBUG INFO) Executor start aborting (this does not indicate an error and you can ignore this message): INVALID_ARGUMENT: You must feed a value for placeholder tensor 'gradients/split_grad/concat/split/split_dim' with dtype int32\n",
      "\t [[{{node gradients/split_grad/concat/split/split_dim}}]]\n",
      "2023-05-01 00:50:50.824223: I tensorflow/core/common_runtime/executor.cc:1197] [/device:CPU:0] (DEBUG INFO) Executor start aborting (this does not indicate an error and you can ignore this message): INVALID_ARGUMENT: You must feed a value for placeholder tensor 'gradients/split_1_grad/concat/split_1/split_dim' with dtype int32\n",
      "\t [[{{node gradients/split_1_grad/concat/split_1/split_dim}}]]\n",
      "2023-05-01 00:50:51.378010: I tensorflow/core/common_runtime/executor.cc:1197] [/device:CPU:0] (DEBUG INFO) Executor start aborting (this does not indicate an error and you can ignore this message): INVALID_ARGUMENT: You must feed a value for placeholder tensor 'gradients/split_2_grad/concat/split_2/split_dim' with dtype int32\n",
      "\t [[{{node gradients/split_2_grad/concat/split_2/split_dim}}]]\n",
      "2023-05-01 00:50:51.379676: I tensorflow/core/common_runtime/executor.cc:1197] [/device:CPU:0] (DEBUG INFO) Executor start aborting (this does not indicate an error and you can ignore this message): INVALID_ARGUMENT: You must feed a value for placeholder tensor 'gradients/split_grad/concat/split/split_dim' with dtype int32\n",
      "\t [[{{node gradients/split_grad/concat/split/split_dim}}]]\n",
      "2023-05-01 00:50:51.381112: I tensorflow/core/common_runtime/executor.cc:1197] [/device:CPU:0] (DEBUG INFO) Executor start aborting (this does not indicate an error and you can ignore this message): INVALID_ARGUMENT: You must feed a value for placeholder tensor 'gradients/split_1_grad/concat/split_1/split_dim' with dtype int32\n",
      "\t [[{{node gradients/split_1_grad/concat/split_1/split_dim}}]]\n"
     ]
    },
    {
     "name": "stdout",
     "output_type": "stream",
     "text": [
      "241/242 [============================>.] - ETA: 0s - loss: 0.6932 - acc: 0.6136"
     ]
    },
    {
     "name": "stderr",
     "output_type": "stream",
     "text": [
      "2023-05-01 00:50:59.415632: I tensorflow/core/common_runtime/executor.cc:1197] [/device:CPU:0] (DEBUG INFO) Executor start aborting (this does not indicate an error and you can ignore this message): INVALID_ARGUMENT: You must feed a value for placeholder tensor 'gradients/split_2_grad/concat/split_2/split_dim' with dtype int32\n",
      "\t [[{{node gradients/split_2_grad/concat/split_2/split_dim}}]]\n",
      "2023-05-01 00:50:59.417432: I tensorflow/core/common_runtime/executor.cc:1197] [/device:CPU:0] (DEBUG INFO) Executor start aborting (this does not indicate an error and you can ignore this message): INVALID_ARGUMENT: You must feed a value for placeholder tensor 'gradients/split_grad/concat/split/split_dim' with dtype int32\n",
      "\t [[{{node gradients/split_grad/concat/split/split_dim}}]]\n",
      "2023-05-01 00:50:59.418594: I tensorflow/core/common_runtime/executor.cc:1197] [/device:CPU:0] (DEBUG INFO) Executor start aborting (this does not indicate an error and you can ignore this message): INVALID_ARGUMENT: You must feed a value for placeholder tensor 'gradients/split_1_grad/concat/split_1/split_dim' with dtype int32\n",
      "\t [[{{node gradients/split_1_grad/concat/split_1/split_dim}}]]\n"
     ]
    },
    {
     "name": "stdout",
     "output_type": "stream",
     "text": [
      "\n",
      "Epoch 1: val_loss improved from inf to 0.63176, saving model to avg-concat-los_3-best_model.hdf5\n",
      "242/242 [==============================] - 9s 32ms/step - loss: 0.6932 - acc: 0.6136 - val_loss: 0.6318 - val_acc: 0.6589\n",
      "Epoch 2/70\n",
      "241/242 [============================>.] - ETA: 0s - loss: 0.6388 - acc: 0.6534\n",
      "Epoch 2: val_loss improved from 0.63176 to 0.62263, saving model to avg-concat-los_3-best_model.hdf5\n",
      "242/242 [==============================] - 8s 31ms/step - loss: 0.6388 - acc: 0.6534 - val_loss: 0.6226 - val_acc: 0.6676\n",
      "Epoch 3/70\n",
      "241/242 [============================>.] - ETA: 0s - loss: 0.6241 - acc: 0.6695\n",
      "Epoch 3: val_loss improved from 0.62263 to 0.62092, saving model to avg-concat-los_3-best_model.hdf5\n",
      "242/242 [==============================] - 7s 31ms/step - loss: 0.6241 - acc: 0.6695 - val_loss: 0.6209 - val_acc: 0.6653\n",
      "Epoch 4/70\n",
      "241/242 [============================>.] - ETA: 0s - loss: 0.6180 - acc: 0.6739\n",
      "Epoch 4: val_loss improved from 0.62092 to 0.62062, saving model to avg-concat-los_3-best_model.hdf5\n",
      "242/242 [==============================] - 7s 30ms/step - loss: 0.6182 - acc: 0.6737 - val_loss: 0.6206 - val_acc: 0.6662\n",
      "Epoch 5/70\n",
      "241/242 [============================>.] - ETA: 0s - loss: 0.6132 - acc: 0.6769\n",
      "Epoch 5: val_loss did not improve from 0.62062\n",
      "242/242 [==============================] - 7s 31ms/step - loss: 0.6131 - acc: 0.6769 - val_loss: 0.6210 - val_acc: 0.6676\n",
      "Epoch 6/70\n",
      "241/242 [============================>.] - ETA: 0s - loss: 0.6096 - acc: 0.6781\n",
      "Epoch 6: val_loss improved from 0.62062 to 0.61841, saving model to avg-concat-los_3-best_model.hdf5\n",
      "242/242 [==============================] - 7s 31ms/step - loss: 0.6095 - acc: 0.6782 - val_loss: 0.6184 - val_acc: 0.6694\n",
      "Epoch 7/70\n",
      "241/242 [============================>.] - ETA: 0s - loss: 0.6052 - acc: 0.6839\n",
      "Epoch 7: val_loss did not improve from 0.61841\n",
      "242/242 [==============================] - 7s 31ms/step - loss: 0.6052 - acc: 0.6839 - val_loss: 0.6188 - val_acc: 0.6731\n",
      "Epoch 8/70\n",
      "241/242 [============================>.] - ETA: 0s - loss: 0.6034 - acc: 0.6853\n",
      "Epoch 8: val_loss improved from 0.61841 to 0.61781, saving model to avg-concat-los_3-best_model.hdf5\n",
      "242/242 [==============================] - 8s 31ms/step - loss: 0.6034 - acc: 0.6853 - val_loss: 0.6178 - val_acc: 0.6753\n",
      "Epoch 9/70\n",
      "241/242 [============================>.] - ETA: 0s - loss: 0.6012 - acc: 0.6891\n",
      "Epoch 9: val_loss did not improve from 0.61781\n",
      "242/242 [==============================] - 7s 30ms/step - loss: 0.6011 - acc: 0.6892 - val_loss: 0.6184 - val_acc: 0.6731\n",
      "Epoch 10/70\n",
      "241/242 [============================>.] - ETA: 0s - loss: 0.5989 - acc: 0.6901\n",
      "Epoch 10: val_loss did not improve from 0.61781\n",
      "242/242 [==============================] - 7s 31ms/step - loss: 0.5989 - acc: 0.6901 - val_loss: 0.6188 - val_acc: 0.6717\n",
      "Epoch 11/70\n",
      "241/242 [============================>.] - ETA: 0s - loss: 0.5977 - acc: 0.6941\n",
      "Epoch 11: val_loss improved from 0.61781 to 0.61766, saving model to avg-concat-los_3-best_model.hdf5\n",
      "242/242 [==============================] - 8s 31ms/step - loss: 0.5978 - acc: 0.6941 - val_loss: 0.6177 - val_acc: 0.6767\n",
      "Epoch 12/70\n",
      "241/242 [============================>.] - ETA: 0s - loss: 0.5919 - acc: 0.6938\n",
      "Epoch 12: val_loss did not improve from 0.61766\n",
      "242/242 [==============================] - 8s 31ms/step - loss: 0.5920 - acc: 0.6938 - val_loss: 0.6191 - val_acc: 0.6703\n",
      "Epoch 13/70\n",
      "241/242 [============================>.] - ETA: 0s - loss: 0.5943 - acc: 0.6918\n",
      "Epoch 13: val_loss did not improve from 0.61766\n",
      "242/242 [==============================] - 8s 31ms/step - loss: 0.5943 - acc: 0.6918 - val_loss: 0.6184 - val_acc: 0.6731\n",
      "Epoch 14/70\n",
      "241/242 [============================>.] - ETA: 0s - loss: 0.5917 - acc: 0.6961\n",
      "Epoch 14: val_loss did not improve from 0.61766\n",
      "242/242 [==============================] - 8s 31ms/step - loss: 0.5917 - acc: 0.6959 - val_loss: 0.6204 - val_acc: 0.6712\n",
      "Epoch 15/70\n",
      "241/242 [============================>.] - ETA: 0s - loss: 0.5912 - acc: 0.6957\n",
      "Epoch 15: val_loss did not improve from 0.61766\n",
      "242/242 [==============================] - 8s 31ms/step - loss: 0.5911 - acc: 0.6958 - val_loss: 0.6189 - val_acc: 0.6712\n",
      "Epoch 16/70\n",
      "241/242 [============================>.] - ETA: 0s - loss: 0.5896 - acc: 0.6974\n",
      "Epoch 16: val_loss did not improve from 0.61766\n",
      "242/242 [==============================] - 8s 31ms/step - loss: 0.5898 - acc: 0.6973 - val_loss: 0.6186 - val_acc: 0.6699\n",
      "  7/138 [>.............................] - ETA: 1s "
     ]
    },
    {
     "name": "stderr",
     "output_type": "stream",
     "text": [
      "2023-05-01 00:52:52.512445: I tensorflow/core/common_runtime/executor.cc:1197] [/device:CPU:0] (DEBUG INFO) Executor start aborting (this does not indicate an error and you can ignore this message): INVALID_ARGUMENT: You must feed a value for placeholder tensor 'gradients/split_2_grad/concat/split_2/split_dim' with dtype int32\n",
      "\t [[{{node gradients/split_2_grad/concat/split_2/split_dim}}]]\n",
      "2023-05-01 00:52:52.514256: I tensorflow/core/common_runtime/executor.cc:1197] [/device:CPU:0] (DEBUG INFO) Executor start aborting (this does not indicate an error and you can ignore this message): INVALID_ARGUMENT: You must feed a value for placeholder tensor 'gradients/split_grad/concat/split/split_dim' with dtype int32\n",
      "\t [[{{node gradients/split_grad/concat/split/split_dim}}]]\n",
      "2023-05-01 00:52:52.515431: I tensorflow/core/common_runtime/executor.cc:1197] [/device:CPU:0] (DEBUG INFO) Executor start aborting (this does not indicate an error and you can ignore this message): INVALID_ARGUMENT: You must feed a value for placeholder tensor 'gradients/split_1_grad/concat/split_1/split_dim' with dtype int32\n",
      "\t [[{{node gradients/split_1_grad/concat/split_1/split_dim}}]]\n"
     ]
    },
    {
     "name": "stdout",
     "output_type": "stream",
     "text": [
      "138/138 [==============================] - 1s 9ms/step\n",
      "0.7002354350997317 0.6375584249726014 0.6637832916002732 0.5544494720965308\n",
      "Problem type:  los_7\n",
      "__________________\n"
     ]
    },
    {
     "name": "stderr",
     "output_type": "stream",
     "text": [
      "2023-05-01 00:52:55.440266: I tensorflow/core/common_runtime/executor.cc:1197] [/device:CPU:0] (DEBUG INFO) Executor start aborting (this does not indicate an error and you can ignore this message): INVALID_ARGUMENT: You must feed a value for placeholder tensor 'gradients/split_2_grad/concat/split_2/split_dim' with dtype int32\n",
      "\t [[{{node gradients/split_2_grad/concat/split_2/split_dim}}]]\n",
      "2023-05-01 00:52:55.441812: I tensorflow/core/common_runtime/executor.cc:1197] [/device:CPU:0] (DEBUG INFO) Executor start aborting (this does not indicate an error and you can ignore this message): INVALID_ARGUMENT: You must feed a value for placeholder tensor 'gradients/split_grad/concat/split/split_dim' with dtype int32\n",
      "\t [[{{node gradients/split_grad/concat/split/split_dim}}]]\n",
      "2023-05-01 00:52:55.443029: I tensorflow/core/common_runtime/executor.cc:1197] [/device:CPU:0] (DEBUG INFO) Executor start aborting (this does not indicate an error and you can ignore this message): INVALID_ARGUMENT: You must feed a value for placeholder tensor 'gradients/split_1_grad/concat/split_1/split_dim' with dtype int32\n",
      "\t [[{{node gradients/split_1_grad/concat/split_1/split_dim}}]]\n"
     ]
    },
    {
     "name": "stdout",
     "output_type": "stream",
     "text": [
      "Epoch 1/70\n"
     ]
    },
    {
     "name": "stderr",
     "output_type": "stream",
     "text": [
      "2023-05-01 00:52:55.908453: I tensorflow/core/common_runtime/executor.cc:1197] [/device:CPU:0] (DEBUG INFO) Executor start aborting (this does not indicate an error and you can ignore this message): INVALID_ARGUMENT: You must feed a value for placeholder tensor 'gradients/split_2_grad/concat/split_2/split_dim' with dtype int32\n",
      "\t [[{{node gradients/split_2_grad/concat/split_2/split_dim}}]]\n",
      "2023-05-01 00:52:55.910125: I tensorflow/core/common_runtime/executor.cc:1197] [/device:CPU:0] (DEBUG INFO) Executor start aborting (this does not indicate an error and you can ignore this message): INVALID_ARGUMENT: You must feed a value for placeholder tensor 'gradients/split_grad/concat/split/split_dim' with dtype int32\n",
      "\t [[{{node gradients/split_grad/concat/split/split_dim}}]]\n",
      "2023-05-01 00:52:55.911338: I tensorflow/core/common_runtime/executor.cc:1197] [/device:CPU:0] (DEBUG INFO) Executor start aborting (this does not indicate an error and you can ignore this message): INVALID_ARGUMENT: You must feed a value for placeholder tensor 'gradients/split_1_grad/concat/split_1/split_dim' with dtype int32\n",
      "\t [[{{node gradients/split_1_grad/concat/split_1/split_dim}}]]\n",
      "2023-05-01 00:52:56.457467: I tensorflow/core/common_runtime/executor.cc:1197] [/device:CPU:0] (DEBUG INFO) Executor start aborting (this does not indicate an error and you can ignore this message): INVALID_ARGUMENT: You must feed a value for placeholder tensor 'gradients/split_2_grad/concat/split_2/split_dim' with dtype int32\n",
      "\t [[{{node gradients/split_2_grad/concat/split_2/split_dim}}]]\n",
      "2023-05-01 00:52:56.459058: I tensorflow/core/common_runtime/executor.cc:1197] [/device:CPU:0] (DEBUG INFO) Executor start aborting (this does not indicate an error and you can ignore this message): INVALID_ARGUMENT: You must feed a value for placeholder tensor 'gradients/split_grad/concat/split/split_dim' with dtype int32\n",
      "\t [[{{node gradients/split_grad/concat/split/split_dim}}]]\n",
      "2023-05-01 00:52:56.460348: I tensorflow/core/common_runtime/executor.cc:1197] [/device:CPU:0] (DEBUG INFO) Executor start aborting (this does not indicate an error and you can ignore this message): INVALID_ARGUMENT: You must feed a value for placeholder tensor 'gradients/split_1_grad/concat/split_1/split_dim' with dtype int32\n",
      "\t [[{{node gradients/split_1_grad/concat/split_1/split_dim}}]]\n"
     ]
    },
    {
     "name": "stdout",
     "output_type": "stream",
     "text": [
      "241/242 [============================>.] - ETA: 0s - loss: 0.2883 - acc: 0.9180"
     ]
    },
    {
     "name": "stderr",
     "output_type": "stream",
     "text": [
      "2023-05-01 00:53:04.472917: I tensorflow/core/common_runtime/executor.cc:1197] [/device:CPU:0] (DEBUG INFO) Executor start aborting (this does not indicate an error and you can ignore this message): INVALID_ARGUMENT: You must feed a value for placeholder tensor 'gradients/split_2_grad/concat/split_2/split_dim' with dtype int32\n",
      "\t [[{{node gradients/split_2_grad/concat/split_2/split_dim}}]]\n",
      "2023-05-01 00:53:04.474469: I tensorflow/core/common_runtime/executor.cc:1197] [/device:CPU:0] (DEBUG INFO) Executor start aborting (this does not indicate an error and you can ignore this message): INVALID_ARGUMENT: You must feed a value for placeholder tensor 'gradients/split_grad/concat/split/split_dim' with dtype int32\n",
      "\t [[{{node gradients/split_grad/concat/split/split_dim}}]]\n",
      "2023-05-01 00:53:04.475700: I tensorflow/core/common_runtime/executor.cc:1197] [/device:CPU:0] (DEBUG INFO) Executor start aborting (this does not indicate an error and you can ignore this message): INVALID_ARGUMENT: You must feed a value for placeholder tensor 'gradients/split_1_grad/concat/split_1/split_dim' with dtype int32\n",
      "\t [[{{node gradients/split_1_grad/concat/split_1/split_dim}}]]\n"
     ]
    },
    {
     "name": "stdout",
     "output_type": "stream",
     "text": [
      "\n",
      "Epoch 1: val_loss improved from inf to 0.27140, saving model to avg-concat-los_7-best_model.hdf5\n",
      "242/242 [==============================] - 9s 32ms/step - loss: 0.2886 - acc: 0.9178 - val_loss: 0.2714 - val_acc: 0.9216\n",
      "Epoch 2/70\n",
      "241/242 [============================>.] - ETA: 0s - loss: 0.2617 - acc: 0.9206\n",
      "Epoch 2: val_loss improved from 0.27140 to 0.26518, saving model to avg-concat-los_7-best_model.hdf5\n",
      "242/242 [==============================] - 7s 31ms/step - loss: 0.2619 - acc: 0.9206 - val_loss: 0.2652 - val_acc: 0.9243\n",
      "Epoch 3/70\n",
      "241/242 [============================>.] - ETA: 0s - loss: 0.2543 - acc: 0.9223\n",
      "Epoch 3: val_loss did not improve from 0.26518\n",
      "242/242 [==============================] - 7s 31ms/step - loss: 0.2541 - acc: 0.9224 - val_loss: 0.2675 - val_acc: 0.9248\n",
      "Epoch 4/70\n",
      "241/242 [============================>.] - ETA: 0s - loss: 0.2481 - acc: 0.9221\n",
      "Epoch 4: val_loss improved from 0.26518 to 0.26337, saving model to avg-concat-los_7-best_model.hdf5\n",
      "242/242 [==============================] - 7s 31ms/step - loss: 0.2482 - acc: 0.9221 - val_loss: 0.2634 - val_acc: 0.9248\n",
      "Epoch 5/70\n",
      "241/242 [============================>.] - ETA: 0s - loss: 0.2426 - acc: 0.9230\n",
      "Epoch 5: val_loss did not improve from 0.26337\n",
      "242/242 [==============================] - 7s 30ms/step - loss: 0.2429 - acc: 0.9229 - val_loss: 0.2638 - val_acc: 0.9238\n",
      "Epoch 6/70\n",
      "241/242 [============================>.] - ETA: 0s - loss: 0.2408 - acc: 0.9230\n",
      "Epoch 6: val_loss improved from 0.26337 to 0.26273, saving model to avg-concat-los_7-best_model.hdf5\n",
      "242/242 [==============================] - 7s 31ms/step - loss: 0.2406 - acc: 0.9231 - val_loss: 0.2627 - val_acc: 0.9243\n",
      "Epoch 7/70\n",
      "241/242 [============================>.] - ETA: 0s - loss: 0.2395 - acc: 0.9232\n",
      "Epoch 7: val_loss did not improve from 0.26273\n",
      "242/242 [==============================] - 7s 31ms/step - loss: 0.2394 - acc: 0.9232 - val_loss: 0.2632 - val_acc: 0.9243\n",
      "Epoch 8/70\n",
      "241/242 [============================>.] - ETA: 0s - loss: 0.2371 - acc: 0.9233\n",
      "Epoch 8: val_loss did not improve from 0.26273\n",
      "242/242 [==============================] - 7s 31ms/step - loss: 0.2370 - acc: 0.9234 - val_loss: 0.2632 - val_acc: 0.9243\n",
      "Epoch 9/70\n",
      "241/242 [============================>.] - ETA: 0s - loss: 0.2357 - acc: 0.9230\n",
      "Epoch 9: val_loss improved from 0.26273 to 0.26221, saving model to avg-concat-los_7-best_model.hdf5\n",
      "242/242 [==============================] - 8s 32ms/step - loss: 0.2358 - acc: 0.9230 - val_loss: 0.2622 - val_acc: 0.9243\n",
      "Epoch 10/70\n",
      "241/242 [============================>.] - ETA: 0s - loss: 0.2359 - acc: 0.9239\n",
      "Epoch 10: val_loss did not improve from 0.26221\n",
      "242/242 [==============================] - 8s 32ms/step - loss: 0.2359 - acc: 0.9238 - val_loss: 0.2633 - val_acc: 0.9243\n",
      "Epoch 11/70\n",
      "241/242 [============================>.] - ETA: 0s - loss: 0.2336 - acc: 0.9239\n",
      "Epoch 11: val_loss improved from 0.26221 to 0.26219, saving model to avg-concat-los_7-best_model.hdf5\n",
      "242/242 [==============================] - 7s 31ms/step - loss: 0.2339 - acc: 0.9238 - val_loss: 0.2622 - val_acc: 0.9243\n",
      "Epoch 12/70\n",
      "241/242 [============================>.] - ETA: 0s - loss: 0.2306 - acc: 0.9241\n",
      "Epoch 12: val_loss did not improve from 0.26219\n",
      "242/242 [==============================] - 7s 30ms/step - loss: 0.2308 - acc: 0.9240 - val_loss: 0.2622 - val_acc: 0.9238\n",
      "Epoch 13/70\n",
      "241/242 [============================>.] - ETA: 0s - loss: 0.2313 - acc: 0.9238\n",
      "Epoch 13: val_loss improved from 0.26219 to 0.26212, saving model to avg-concat-los_7-best_model.hdf5\n",
      "242/242 [==============================] - 7s 31ms/step - loss: 0.2311 - acc: 0.9239 - val_loss: 0.2621 - val_acc: 0.9238\n",
      "Epoch 14/70\n",
      "241/242 [============================>.] - ETA: 0s - loss: 0.2297 - acc: 0.9238\n",
      "Epoch 14: val_loss did not improve from 0.26212\n",
      "242/242 [==============================] - 7s 31ms/step - loss: 0.2296 - acc: 0.9238 - val_loss: 0.2624 - val_acc: 0.9238\n",
      "Epoch 15/70\n",
      "241/242 [============================>.] - ETA: 0s - loss: 0.2290 - acc: 0.9246\n",
      "Epoch 15: val_loss did not improve from 0.26212\n",
      "242/242 [==============================] - 7s 30ms/step - loss: 0.2290 - acc: 0.9246 - val_loss: 0.2624 - val_acc: 0.9238\n",
      "Epoch 16/70\n",
      "241/242 [============================>.] - ETA: 0s - loss: 0.2283 - acc: 0.9244\n",
      "Epoch 16: val_loss did not improve from 0.26212\n",
      "242/242 [==============================] - 7s 30ms/step - loss: 0.2282 - acc: 0.9244 - val_loss: 0.2623 - val_acc: 0.9238\n",
      "Epoch 17/70\n",
      "241/242 [============================>.] - ETA: 0s - loss: 0.2285 - acc: 0.9251\n",
      "Epoch 17: val_loss improved from 0.26212 to 0.26198, saving model to avg-concat-los_7-best_model.hdf5\n",
      "242/242 [==============================] - 7s 30ms/step - loss: 0.2284 - acc: 0.9251 - val_loss: 0.2620 - val_acc: 0.9238\n",
      "Epoch 18/70\n",
      "241/242 [============================>.] - ETA: 0s - loss: 0.2278 - acc: 0.9249\n",
      "Epoch 18: val_loss improved from 0.26198 to 0.26187, saving model to avg-concat-los_7-best_model.hdf5\n",
      "242/242 [==============================] - 7s 30ms/step - loss: 0.2278 - acc: 0.9249 - val_loss: 0.2619 - val_acc: 0.9238\n",
      "Epoch 19/70\n",
      "241/242 [============================>.] - ETA: 0s - loss: 0.2260 - acc: 0.9247\n",
      "Epoch 19: val_loss did not improve from 0.26187\n",
      "242/242 [==============================] - 7s 30ms/step - loss: 0.2262 - acc: 0.9245 - val_loss: 0.2620 - val_acc: 0.9238\n",
      "Epoch 20/70\n",
      "241/242 [============================>.] - ETA: 0s - loss: 0.2241 - acc: 0.9248\n",
      "Epoch 20: val_loss did not improve from 0.26187\n",
      "242/242 [==============================] - 7s 30ms/step - loss: 0.2242 - acc: 0.9248 - val_loss: 0.2623 - val_acc: 0.9238\n",
      "Epoch 21/70\n",
      "241/242 [============================>.] - ETA: 0s - loss: 0.2241 - acc: 0.9250\n",
      "Epoch 21: val_loss improved from 0.26187 to 0.26179, saving model to avg-concat-los_7-best_model.hdf5\n",
      "242/242 [==============================] - 7s 30ms/step - loss: 0.2241 - acc: 0.9250 - val_loss: 0.2618 - val_acc: 0.9238\n",
      "Epoch 22/70\n",
      "241/242 [============================>.] - ETA: 0s - loss: 0.2232 - acc: 0.9257\n",
      "Epoch 22: val_loss did not improve from 0.26179\n",
      "242/242 [==============================] - 7s 30ms/step - loss: 0.2233 - acc: 0.9256 - val_loss: 0.2621 - val_acc: 0.9238\n",
      "Epoch 23/70\n",
      "241/242 [============================>.] - ETA: 0s - loss: 0.2233 - acc: 0.9254\n",
      "Epoch 23: val_loss did not improve from 0.26179\n",
      "242/242 [==============================] - 7s 30ms/step - loss: 0.2232 - acc: 0.9254 - val_loss: 0.2621 - val_acc: 0.9238\n",
      "Epoch 24/70\n",
      "241/242 [============================>.] - ETA: 0s - loss: 0.2225 - acc: 0.9248\n",
      "Epoch 24: val_loss did not improve from 0.26179\n",
      "242/242 [==============================] - 7s 30ms/step - loss: 0.2225 - acc: 0.9248 - val_loss: 0.2622 - val_acc: 0.9238\n",
      "Epoch 25/70\n",
      "241/242 [============================>.] - ETA: 0s - loss: 0.2234 - acc: 0.9252\n",
      "Epoch 25: val_loss did not improve from 0.26179\n",
      "242/242 [==============================] - 7s 30ms/step - loss: 0.2233 - acc: 0.9253 - val_loss: 0.2623 - val_acc: 0.9238\n",
      "Epoch 26/70\n",
      "241/242 [============================>.] - ETA: 0s - loss: 0.2220 - acc: 0.9252\n",
      "Epoch 26: val_loss did not improve from 0.26179\n",
      "242/242 [==============================] - 7s 30ms/step - loss: 0.2221 - acc: 0.9252 - val_loss: 0.2623 - val_acc: 0.9238\n",
      "  7/138 [>.............................] - ETA: 1s "
     ]
    },
    {
     "name": "stderr",
     "output_type": "stream",
     "text": [
      "2023-05-01 00:56:09.756145: I tensorflow/core/common_runtime/executor.cc:1197] [/device:CPU:0] (DEBUG INFO) Executor start aborting (this does not indicate an error and you can ignore this message): INVALID_ARGUMENT: You must feed a value for placeholder tensor 'gradients/split_2_grad/concat/split_2/split_dim' with dtype int32\n",
      "\t [[{{node gradients/split_2_grad/concat/split_2/split_dim}}]]\n",
      "2023-05-01 00:56:09.757758: I tensorflow/core/common_runtime/executor.cc:1197] [/device:CPU:0] (DEBUG INFO) Executor start aborting (this does not indicate an error and you can ignore this message): INVALID_ARGUMENT: You must feed a value for placeholder tensor 'gradients/split_grad/concat/split/split_dim' with dtype int32\n",
      "\t [[{{node gradients/split_grad/concat/split/split_dim}}]]\n",
      "2023-05-01 00:56:09.758914: I tensorflow/core/common_runtime/executor.cc:1197] [/device:CPU:0] (DEBUG INFO) Executor start aborting (this does not indicate an error and you can ignore this message): INVALID_ARGUMENT: You must feed a value for placeholder tensor 'gradients/split_1_grad/concat/split_1/split_dim' with dtype int32\n",
      "\t [[{{node gradients/split_1_grad/concat/split_1/split_dim}}]]\n"
     ]
    },
    {
     "name": "stdout",
     "output_type": "stream",
     "text": [
      "138/138 [==============================] - 1s 8ms/step\n",
      "0.724539552918368 0.22031598658191767 0.9196448895970862 0.038147138964577665\n",
      "Embedding:  biobert\n",
      "=============================\n",
      "Iteration number:  1\n",
      "Problem type:  mort_hosp\n",
      "__________________\n"
     ]
    },
    {
     "name": "stderr",
     "output_type": "stream",
     "text": [
      "2023-05-01 00:56:13.059469: I tensorflow/core/common_runtime/executor.cc:1197] [/device:CPU:0] (DEBUG INFO) Executor start aborting (this does not indicate an error and you can ignore this message): INVALID_ARGUMENT: You must feed a value for placeholder tensor 'gradients/split_2_grad/concat/split_2/split_dim' with dtype int32\n",
      "\t [[{{node gradients/split_2_grad/concat/split_2/split_dim}}]]\n",
      "2023-05-01 00:56:13.061350: I tensorflow/core/common_runtime/executor.cc:1197] [/device:CPU:0] (DEBUG INFO) Executor start aborting (this does not indicate an error and you can ignore this message): INVALID_ARGUMENT: You must feed a value for placeholder tensor 'gradients/split_grad/concat/split/split_dim' with dtype int32\n",
      "\t [[{{node gradients/split_grad/concat/split/split_dim}}]]\n",
      "2023-05-01 00:56:13.062463: I tensorflow/core/common_runtime/executor.cc:1197] [/device:CPU:0] (DEBUG INFO) Executor start aborting (this does not indicate an error and you can ignore this message): INVALID_ARGUMENT: You must feed a value for placeholder tensor 'gradients/split_1_grad/concat/split_1/split_dim' with dtype int32\n",
      "\t [[{{node gradients/split_1_grad/concat/split_1/split_dim}}]]\n"
     ]
    },
    {
     "name": "stdout",
     "output_type": "stream",
     "text": [
      "Epoch 1/70\n"
     ]
    },
    {
     "name": "stderr",
     "output_type": "stream",
     "text": [
      "2023-05-01 00:56:13.566770: I tensorflow/core/common_runtime/executor.cc:1197] [/device:CPU:0] (DEBUG INFO) Executor start aborting (this does not indicate an error and you can ignore this message): INVALID_ARGUMENT: You must feed a value for placeholder tensor 'gradients/split_2_grad/concat/split_2/split_dim' with dtype int32\n",
      "\t [[{{node gradients/split_2_grad/concat/split_2/split_dim}}]]\n",
      "2023-05-01 00:56:13.568631: I tensorflow/core/common_runtime/executor.cc:1197] [/device:CPU:0] (DEBUG INFO) Executor start aborting (this does not indicate an error and you can ignore this message): INVALID_ARGUMENT: You must feed a value for placeholder tensor 'gradients/split_grad/concat/split/split_dim' with dtype int32\n",
      "\t [[{{node gradients/split_grad/concat/split/split_dim}}]]\n",
      "2023-05-01 00:56:13.569864: I tensorflow/core/common_runtime/executor.cc:1197] [/device:CPU:0] (DEBUG INFO) Executor start aborting (this does not indicate an error and you can ignore this message): INVALID_ARGUMENT: You must feed a value for placeholder tensor 'gradients/split_1_grad/concat/split_1/split_dim' with dtype int32\n",
      "\t [[{{node gradients/split_1_grad/concat/split_1/split_dim}}]]\n",
      "2023-05-01 00:56:14.120509: I tensorflow/core/common_runtime/executor.cc:1197] [/device:CPU:0] (DEBUG INFO) Executor start aborting (this does not indicate an error and you can ignore this message): INVALID_ARGUMENT: You must feed a value for placeholder tensor 'gradients/split_2_grad/concat/split_2/split_dim' with dtype int32\n",
      "\t [[{{node gradients/split_2_grad/concat/split_2/split_dim}}]]\n",
      "2023-05-01 00:56:14.122192: I tensorflow/core/common_runtime/executor.cc:1197] [/device:CPU:0] (DEBUG INFO) Executor start aborting (this does not indicate an error and you can ignore this message): INVALID_ARGUMENT: You must feed a value for placeholder tensor 'gradients/split_grad/concat/split/split_dim' with dtype int32\n",
      "\t [[{{node gradients/split_grad/concat/split/split_dim}}]]\n",
      "2023-05-01 00:56:14.123355: I tensorflow/core/common_runtime/executor.cc:1197] [/device:CPU:0] (DEBUG INFO) Executor start aborting (this does not indicate an error and you can ignore this message): INVALID_ARGUMENT: You must feed a value for placeholder tensor 'gradients/split_1_grad/concat/split_1/split_dim' with dtype int32\n",
      "\t [[{{node gradients/split_1_grad/concat/split_1/split_dim}}]]\n"
     ]
    },
    {
     "name": "stdout",
     "output_type": "stream",
     "text": [
      "241/242 [============================>.] - ETA: 0s - loss: 0.2703 - acc: 0.9062"
     ]
    },
    {
     "name": "stderr",
     "output_type": "stream",
     "text": [
      "2023-05-01 00:56:22.086761: I tensorflow/core/common_runtime/executor.cc:1197] [/device:CPU:0] (DEBUG INFO) Executor start aborting (this does not indicate an error and you can ignore this message): INVALID_ARGUMENT: You must feed a value for placeholder tensor 'gradients/split_2_grad/concat/split_2/split_dim' with dtype int32\n",
      "\t [[{{node gradients/split_2_grad/concat/split_2/split_dim}}]]\n",
      "2023-05-01 00:56:22.088067: I tensorflow/core/common_runtime/executor.cc:1197] [/device:CPU:0] (DEBUG INFO) Executor start aborting (this does not indicate an error and you can ignore this message): INVALID_ARGUMENT: You must feed a value for placeholder tensor 'gradients/split_grad/concat/split/split_dim' with dtype int32\n",
      "\t [[{{node gradients/split_grad/concat/split/split_dim}}]]\n",
      "2023-05-01 00:56:22.089483: I tensorflow/core/common_runtime/executor.cc:1197] [/device:CPU:0] (DEBUG INFO) Executor start aborting (this does not indicate an error and you can ignore this message): INVALID_ARGUMENT: You must feed a value for placeholder tensor 'gradients/split_1_grad/concat/split_1/split_dim' with dtype int32\n",
      "\t [[{{node gradients/split_1_grad/concat/split_1/split_dim}}]]\n"
     ]
    },
    {
     "name": "stdout",
     "output_type": "stream",
     "text": [
      "\n",
      "Epoch 1: val_loss improved from inf to 0.23414, saving model to avg-biobert-mort_hosp-best_model.hdf5\n",
      "242/242 [==============================] - 9s 32ms/step - loss: 0.2704 - acc: 0.9061 - val_loss: 0.2341 - val_acc: 0.9166\n",
      "Epoch 2/70\n",
      "241/242 [============================>.] - ETA: 0s - loss: 0.2376 - acc: 0.9142\n",
      "Epoch 2: val_loss improved from 0.23414 to 0.23008, saving model to avg-biobert-mort_hosp-best_model.hdf5\n",
      "242/242 [==============================] - 7s 31ms/step - loss: 0.2375 - acc: 0.9143 - val_loss: 0.2301 - val_acc: 0.9184\n",
      "Epoch 3/70\n",
      "241/242 [============================>.] - ETA: 0s - loss: 0.2292 - acc: 0.9173\n",
      "Epoch 3: val_loss improved from 0.23008 to 0.22730, saving model to avg-biobert-mort_hosp-best_model.hdf5\n",
      "242/242 [==============================] - 7s 31ms/step - loss: 0.2293 - acc: 0.9173 - val_loss: 0.2273 - val_acc: 0.9179\n",
      "Epoch 4/70\n",
      "241/242 [============================>.] - ETA: 0s - loss: 0.2229 - acc: 0.9196\n",
      "Epoch 4: val_loss did not improve from 0.22730\n",
      "242/242 [==============================] - 7s 31ms/step - loss: 0.2233 - acc: 0.9196 - val_loss: 0.2279 - val_acc: 0.9202\n",
      "Epoch 5/70\n",
      "241/242 [============================>.] - ETA: 0s - loss: 0.2204 - acc: 0.9198\n",
      "Epoch 5: val_loss improved from 0.22730 to 0.22724, saving model to avg-biobert-mort_hosp-best_model.hdf5\n",
      "242/242 [==============================] - 7s 31ms/step - loss: 0.2206 - acc: 0.9197 - val_loss: 0.2272 - val_acc: 0.9193\n",
      "Epoch 6/70\n",
      "241/242 [============================>.] - ETA: 0s - loss: 0.2183 - acc: 0.9212\n",
      "Epoch 6: val_loss improved from 0.22724 to 0.22618, saving model to avg-biobert-mort_hosp-best_model.hdf5\n",
      "242/242 [==============================] - 7s 31ms/step - loss: 0.2182 - acc: 0.9212 - val_loss: 0.2262 - val_acc: 0.9193\n",
      "Epoch 7/70\n",
      "241/242 [============================>.] - ETA: 0s - loss: 0.2147 - acc: 0.9226\n",
      "Epoch 7: val_loss did not improve from 0.22618\n",
      "242/242 [==============================] - 7s 31ms/step - loss: 0.2146 - acc: 0.9227 - val_loss: 0.2265 - val_acc: 0.9197\n",
      "Epoch 8/70\n",
      "241/242 [============================>.] - ETA: 0s - loss: 0.2139 - acc: 0.9210\n",
      "Epoch 8: val_loss did not improve from 0.22618\n",
      "242/242 [==============================] - 7s 30ms/step - loss: 0.2137 - acc: 0.9211 - val_loss: 0.2271 - val_acc: 0.9193\n",
      "Epoch 9/70\n",
      "241/242 [============================>.] - ETA: 0s - loss: 0.2118 - acc: 0.9225\n",
      "Epoch 9: val_loss did not improve from 0.22618\n",
      "242/242 [==============================] - 7s 30ms/step - loss: 0.2117 - acc: 0.9226 - val_loss: 0.2268 - val_acc: 0.9188\n",
      "Epoch 10/70\n",
      "241/242 [============================>.] - ETA: 0s - loss: 0.2101 - acc: 0.9228\n",
      "Epoch 10: val_loss did not improve from 0.22618\n",
      "242/242 [==============================] - 7s 30ms/step - loss: 0.2101 - acc: 0.9228 - val_loss: 0.2275 - val_acc: 0.9188\n",
      "Epoch 11/70\n",
      "241/242 [============================>.] - ETA: 0s - loss: 0.2096 - acc: 0.9230\n",
      "Epoch 11: val_loss did not improve from 0.22618\n",
      "242/242 [==============================] - 7s 30ms/step - loss: 0.2096 - acc: 0.9230 - val_loss: 0.2265 - val_acc: 0.9197\n",
      "  7/138 [>.............................] - ETA: 1s "
     ]
    },
    {
     "name": "stderr",
     "output_type": "stream",
     "text": [
      "2023-05-01 00:57:36.775510: I tensorflow/core/common_runtime/executor.cc:1197] [/device:CPU:0] (DEBUG INFO) Executor start aborting (this does not indicate an error and you can ignore this message): INVALID_ARGUMENT: You must feed a value for placeholder tensor 'gradients/split_2_grad/concat/split_2/split_dim' with dtype int32\n",
      "\t [[{{node gradients/split_2_grad/concat/split_2/split_dim}}]]\n",
      "2023-05-01 00:57:36.777192: I tensorflow/core/common_runtime/executor.cc:1197] [/device:CPU:0] (DEBUG INFO) Executor start aborting (this does not indicate an error and you can ignore this message): INVALID_ARGUMENT: You must feed a value for placeholder tensor 'gradients/split_grad/concat/split/split_dim' with dtype int32\n",
      "\t [[{{node gradients/split_grad/concat/split/split_dim}}]]\n",
      "2023-05-01 00:57:36.778356: I tensorflow/core/common_runtime/executor.cc:1197] [/device:CPU:0] (DEBUG INFO) Executor start aborting (this does not indicate an error and you can ignore this message): INVALID_ARGUMENT: You must feed a value for placeholder tensor 'gradients/split_1_grad/concat/split_1/split_dim' with dtype int32\n",
      "\t [[{{node gradients/split_1_grad/concat/split_1/split_dim}}]]\n"
     ]
    },
    {
     "name": "stdout",
     "output_type": "stream",
     "text": [
      "138/138 [==============================] - 1s 8ms/step\n",
      "0.8872436996648054 0.5835805065184181 0.9164580013658092 0.4626647144948756\n",
      "Problem type:  mort_icu\n",
      "__________________\n"
     ]
    },
    {
     "name": "stderr",
     "output_type": "stream",
     "text": [
      "2023-05-01 00:57:39.672674: I tensorflow/core/common_runtime/executor.cc:1197] [/device:CPU:0] (DEBUG INFO) Executor start aborting (this does not indicate an error and you can ignore this message): INVALID_ARGUMENT: You must feed a value for placeholder tensor 'gradients/split_2_grad/concat/split_2/split_dim' with dtype int32\n",
      "\t [[{{node gradients/split_2_grad/concat/split_2/split_dim}}]]\n",
      "2023-05-01 00:57:39.674323: I tensorflow/core/common_runtime/executor.cc:1197] [/device:CPU:0] (DEBUG INFO) Executor start aborting (this does not indicate an error and you can ignore this message): INVALID_ARGUMENT: You must feed a value for placeholder tensor 'gradients/split_grad/concat/split/split_dim' with dtype int32\n",
      "\t [[{{node gradients/split_grad/concat/split/split_dim}}]]\n",
      "2023-05-01 00:57:39.675625: I tensorflow/core/common_runtime/executor.cc:1197] [/device:CPU:0] (DEBUG INFO) Executor start aborting (this does not indicate an error and you can ignore this message): INVALID_ARGUMENT: You must feed a value for placeholder tensor 'gradients/split_1_grad/concat/split_1/split_dim' with dtype int32\n",
      "\t [[{{node gradients/split_1_grad/concat/split_1/split_dim}}]]\n"
     ]
    },
    {
     "name": "stdout",
     "output_type": "stream",
     "text": [
      "Epoch 1/70\n"
     ]
    },
    {
     "name": "stderr",
     "output_type": "stream",
     "text": [
      "2023-05-01 00:57:40.165548: I tensorflow/core/common_runtime/executor.cc:1197] [/device:CPU:0] (DEBUG INFO) Executor start aborting (this does not indicate an error and you can ignore this message): INVALID_ARGUMENT: You must feed a value for placeholder tensor 'gradients/split_2_grad/concat/split_2/split_dim' with dtype int32\n",
      "\t [[{{node gradients/split_2_grad/concat/split_2/split_dim}}]]\n",
      "2023-05-01 00:57:40.167280: I tensorflow/core/common_runtime/executor.cc:1197] [/device:CPU:0] (DEBUG INFO) Executor start aborting (this does not indicate an error and you can ignore this message): INVALID_ARGUMENT: You must feed a value for placeholder tensor 'gradients/split_grad/concat/split/split_dim' with dtype int32\n",
      "\t [[{{node gradients/split_grad/concat/split/split_dim}}]]\n",
      "2023-05-01 00:57:40.168449: I tensorflow/core/common_runtime/executor.cc:1197] [/device:CPU:0] (DEBUG INFO) Executor start aborting (this does not indicate an error and you can ignore this message): INVALID_ARGUMENT: You must feed a value for placeholder tensor 'gradients/split_1_grad/concat/split_1/split_dim' with dtype int32\n",
      "\t [[{{node gradients/split_1_grad/concat/split_1/split_dim}}]]\n",
      "2023-05-01 00:57:40.725551: I tensorflow/core/common_runtime/executor.cc:1197] [/device:CPU:0] (DEBUG INFO) Executor start aborting (this does not indicate an error and you can ignore this message): INVALID_ARGUMENT: You must feed a value for placeholder tensor 'gradients/split_2_grad/concat/split_2/split_dim' with dtype int32\n",
      "\t [[{{node gradients/split_2_grad/concat/split_2/split_dim}}]]\n",
      "2023-05-01 00:57:40.727346: I tensorflow/core/common_runtime/executor.cc:1197] [/device:CPU:0] (DEBUG INFO) Executor start aborting (this does not indicate an error and you can ignore this message): INVALID_ARGUMENT: You must feed a value for placeholder tensor 'gradients/split_grad/concat/split/split_dim' with dtype int32\n",
      "\t [[{{node gradients/split_grad/concat/split/split_dim}}]]\n",
      "2023-05-01 00:57:40.728619: I tensorflow/core/common_runtime/executor.cc:1197] [/device:CPU:0] (DEBUG INFO) Executor start aborting (this does not indicate an error and you can ignore this message): INVALID_ARGUMENT: You must feed a value for placeholder tensor 'gradients/split_1_grad/concat/split_1/split_dim' with dtype int32\n",
      "\t [[{{node gradients/split_1_grad/concat/split_1/split_dim}}]]\n"
     ]
    },
    {
     "name": "stdout",
     "output_type": "stream",
     "text": [
      "241/242 [============================>.] - ETA: 0s - loss: 0.1999 - acc: 0.9358"
     ]
    },
    {
     "name": "stderr",
     "output_type": "stream",
     "text": [
      "2023-05-01 00:57:48.725276: I tensorflow/core/common_runtime/executor.cc:1197] [/device:CPU:0] (DEBUG INFO) Executor start aborting (this does not indicate an error and you can ignore this message): INVALID_ARGUMENT: You must feed a value for placeholder tensor 'gradients/split_2_grad/concat/split_2/split_dim' with dtype int32\n",
      "\t [[{{node gradients/split_2_grad/concat/split_2/split_dim}}]]\n",
      "2023-05-01 00:57:48.726930: I tensorflow/core/common_runtime/executor.cc:1197] [/device:CPU:0] (DEBUG INFO) Executor start aborting (this does not indicate an error and you can ignore this message): INVALID_ARGUMENT: You must feed a value for placeholder tensor 'gradients/split_grad/concat/split/split_dim' with dtype int32\n",
      "\t [[{{node gradients/split_grad/concat/split/split_dim}}]]\n",
      "2023-05-01 00:57:48.728147: I tensorflow/core/common_runtime/executor.cc:1197] [/device:CPU:0] (DEBUG INFO) Executor start aborting (this does not indicate an error and you can ignore this message): INVALID_ARGUMENT: You must feed a value for placeholder tensor 'gradients/split_1_grad/concat/split_1/split_dim' with dtype int32\n",
      "\t [[{{node gradients/split_1_grad/concat/split_1/split_dim}}]]\n"
     ]
    },
    {
     "name": "stdout",
     "output_type": "stream",
     "text": [
      "\n",
      "Epoch 1: val_loss improved from inf to 0.17372, saving model to avg-biobert-mort_icu-best_model.hdf5\n",
      "242/242 [==============================] - 9s 32ms/step - loss: 0.1997 - acc: 0.9359 - val_loss: 0.1737 - val_acc: 0.9435\n",
      "Epoch 2/70\n",
      "241/242 [============================>.] - ETA: 0s - loss: 0.1738 - acc: 0.9425\n",
      "Epoch 2: val_loss improved from 0.17372 to 0.16579, saving model to avg-biobert-mort_icu-best_model.hdf5\n",
      "242/242 [==============================] - 7s 31ms/step - loss: 0.1737 - acc: 0.9425 - val_loss: 0.1658 - val_acc: 0.9444\n",
      "Epoch 3/70\n",
      "241/242 [============================>.] - ETA: 0s - loss: 0.1649 - acc: 0.9446\n",
      "Epoch 3: val_loss improved from 0.16579 to 0.16469, saving model to avg-biobert-mort_icu-best_model.hdf5\n",
      "242/242 [==============================] - 7s 31ms/step - loss: 0.1650 - acc: 0.9446 - val_loss: 0.1647 - val_acc: 0.9430\n",
      "Epoch 4/70\n",
      "241/242 [============================>.] - ETA: 0s - loss: 0.1609 - acc: 0.9463\n",
      "Epoch 4: val_loss improved from 0.16469 to 0.16338, saving model to avg-biobert-mort_icu-best_model.hdf5\n",
      "242/242 [==============================] - 7s 31ms/step - loss: 0.1608 - acc: 0.9463 - val_loss: 0.1634 - val_acc: 0.9425\n",
      "Epoch 5/70\n",
      "241/242 [============================>.] - ETA: 0s - loss: 0.1582 - acc: 0.9462\n",
      "Epoch 5: val_loss improved from 0.16338 to 0.16275, saving model to avg-biobert-mort_icu-best_model.hdf5\n",
      "242/242 [==============================] - 7s 31ms/step - loss: 0.1581 - acc: 0.9462 - val_loss: 0.1628 - val_acc: 0.9430\n",
      "Epoch 6/70\n",
      "241/242 [============================>.] - ETA: 0s - loss: 0.1546 - acc: 0.9478\n",
      "Epoch 6: val_loss did not improve from 0.16275\n",
      "242/242 [==============================] - 7s 31ms/step - loss: 0.1546 - acc: 0.9478 - val_loss: 0.1635 - val_acc: 0.9435\n",
      "Epoch 7/70\n",
      "241/242 [============================>.] - ETA: 0s - loss: 0.1536 - acc: 0.9477\n",
      "Epoch 7: val_loss did not improve from 0.16275\n",
      "242/242 [==============================] - 7s 31ms/step - loss: 0.1537 - acc: 0.9477 - val_loss: 0.1643 - val_acc: 0.9425\n",
      "Epoch 8/70\n",
      "241/242 [============================>.] - ETA: 0s - loss: 0.1527 - acc: 0.9489\n",
      "Epoch 8: val_loss improved from 0.16275 to 0.16264, saving model to avg-biobert-mort_icu-best_model.hdf5\n",
      "242/242 [==============================] - 7s 31ms/step - loss: 0.1528 - acc: 0.9488 - val_loss: 0.1626 - val_acc: 0.9448\n",
      "Epoch 9/70\n",
      "241/242 [============================>.] - ETA: 0s - loss: 0.1510 - acc: 0.9488\n",
      "Epoch 9: val_loss did not improve from 0.16264\n",
      "242/242 [==============================] - 7s 30ms/step - loss: 0.1509 - acc: 0.9489 - val_loss: 0.1627 - val_acc: 0.9439\n",
      "Epoch 10/70\n",
      "241/242 [============================>.] - ETA: 0s - loss: 0.1497 - acc: 0.9484\n",
      "Epoch 10: val_loss did not improve from 0.16264\n",
      "242/242 [==============================] - 7s 30ms/step - loss: 0.1499 - acc: 0.9483 - val_loss: 0.1637 - val_acc: 0.9425\n",
      "Epoch 11/70\n",
      "241/242 [============================>.] - ETA: 0s - loss: 0.1488 - acc: 0.9492\n",
      "Epoch 11: val_loss did not improve from 0.16264\n",
      "242/242 [==============================] - 7s 30ms/step - loss: 0.1488 - acc: 0.9492 - val_loss: 0.1637 - val_acc: 0.9435\n",
      "Epoch 12/70\n",
      "241/242 [============================>.] - ETA: 0s - loss: 0.1478 - acc: 0.9494\n",
      "Epoch 12: val_loss did not improve from 0.16264\n",
      "242/242 [==============================] - 7s 31ms/step - loss: 0.1478 - acc: 0.9493 - val_loss: 0.1634 - val_acc: 0.9430\n",
      "Epoch 13/70\n",
      "241/242 [============================>.] - ETA: 0s - loss: 0.1474 - acc: 0.9500\n",
      "Epoch 13: val_loss did not improve from 0.16264\n",
      "242/242 [==============================] - 8s 32ms/step - loss: 0.1473 - acc: 0.9501 - val_loss: 0.1632 - val_acc: 0.9439\n",
      "  7/138 [>.............................] - ETA: 1s "
     ]
    },
    {
     "name": "stderr",
     "output_type": "stream",
     "text": [
      "2023-05-01 00:59:18.775992: I tensorflow/core/common_runtime/executor.cc:1197] [/device:CPU:0] (DEBUG INFO) Executor start aborting (this does not indicate an error and you can ignore this message): INVALID_ARGUMENT: You must feed a value for placeholder tensor 'gradients/split_2_grad/concat/split_2/split_dim' with dtype int32\n",
      "\t [[{{node gradients/split_2_grad/concat/split_2/split_dim}}]]\n",
      "2023-05-01 00:59:18.777628: I tensorflow/core/common_runtime/executor.cc:1197] [/device:CPU:0] (DEBUG INFO) Executor start aborting (this does not indicate an error and you can ignore this message): INVALID_ARGUMENT: You must feed a value for placeholder tensor 'gradients/split_grad/concat/split/split_dim' with dtype int32\n",
      "\t [[{{node gradients/split_grad/concat/split/split_dim}}]]\n",
      "2023-05-01 00:59:18.778834: I tensorflow/core/common_runtime/executor.cc:1197] [/device:CPU:0] (DEBUG INFO) Executor start aborting (this does not indicate an error and you can ignore this message): INVALID_ARGUMENT: You must feed a value for placeholder tensor 'gradients/split_1_grad/concat/split_1/split_dim' with dtype int32\n",
      "\t [[{{node gradients/split_1_grad/concat/split_1/split_dim}}]]\n"
     ]
    },
    {
     "name": "stdout",
     "output_type": "stream",
     "text": [
      "138/138 [==============================] - 1s 9ms/step\n",
      "0.8914933252967272 0.531057580732208 0.9433189164580014 0.43537414965986393\n",
      "Problem type:  los_3\n",
      "__________________\n"
     ]
    },
    {
     "name": "stderr",
     "output_type": "stream",
     "text": [
      "2023-05-01 00:59:21.733784: I tensorflow/core/common_runtime/executor.cc:1197] [/device:CPU:0] (DEBUG INFO) Executor start aborting (this does not indicate an error and you can ignore this message): INVALID_ARGUMENT: You must feed a value for placeholder tensor 'gradients/split_2_grad/concat/split_2/split_dim' with dtype int32\n",
      "\t [[{{node gradients/split_2_grad/concat/split_2/split_dim}}]]\n",
      "2023-05-01 00:59:21.735338: I tensorflow/core/common_runtime/executor.cc:1197] [/device:CPU:0] (DEBUG INFO) Executor start aborting (this does not indicate an error and you can ignore this message): INVALID_ARGUMENT: You must feed a value for placeholder tensor 'gradients/split_grad/concat/split/split_dim' with dtype int32\n",
      "\t [[{{node gradients/split_grad/concat/split/split_dim}}]]\n",
      "2023-05-01 00:59:21.736538: I tensorflow/core/common_runtime/executor.cc:1197] [/device:CPU:0] (DEBUG INFO) Executor start aborting (this does not indicate an error and you can ignore this message): INVALID_ARGUMENT: You must feed a value for placeholder tensor 'gradients/split_1_grad/concat/split_1/split_dim' with dtype int32\n",
      "\t [[{{node gradients/split_1_grad/concat/split_1/split_dim}}]]\n"
     ]
    },
    {
     "name": "stdout",
     "output_type": "stream",
     "text": [
      "Epoch 1/70\n"
     ]
    },
    {
     "name": "stderr",
     "output_type": "stream",
     "text": [
      "2023-05-01 00:59:22.220733: I tensorflow/core/common_runtime/executor.cc:1197] [/device:CPU:0] (DEBUG INFO) Executor start aborting (this does not indicate an error and you can ignore this message): INVALID_ARGUMENT: You must feed a value for placeholder tensor 'gradients/split_2_grad/concat/split_2/split_dim' with dtype int32\n",
      "\t [[{{node gradients/split_2_grad/concat/split_2/split_dim}}]]\n",
      "2023-05-01 00:59:22.222421: I tensorflow/core/common_runtime/executor.cc:1197] [/device:CPU:0] (DEBUG INFO) Executor start aborting (this does not indicate an error and you can ignore this message): INVALID_ARGUMENT: You must feed a value for placeholder tensor 'gradients/split_grad/concat/split/split_dim' with dtype int32\n",
      "\t [[{{node gradients/split_grad/concat/split/split_dim}}]]\n",
      "2023-05-01 00:59:22.223827: I tensorflow/core/common_runtime/executor.cc:1197] [/device:CPU:0] (DEBUG INFO) Executor start aborting (this does not indicate an error and you can ignore this message): INVALID_ARGUMENT: You must feed a value for placeholder tensor 'gradients/split_1_grad/concat/split_1/split_dim' with dtype int32\n",
      "\t [[{{node gradients/split_1_grad/concat/split_1/split_dim}}]]\n",
      "2023-05-01 00:59:22.764682: I tensorflow/core/common_runtime/executor.cc:1197] [/device:CPU:0] (DEBUG INFO) Executor start aborting (this does not indicate an error and you can ignore this message): INVALID_ARGUMENT: You must feed a value for placeholder tensor 'gradients/split_2_grad/concat/split_2/split_dim' with dtype int32\n",
      "\t [[{{node gradients/split_2_grad/concat/split_2/split_dim}}]]\n",
      "2023-05-01 00:59:22.766391: I tensorflow/core/common_runtime/executor.cc:1197] [/device:CPU:0] (DEBUG INFO) Executor start aborting (this does not indicate an error and you can ignore this message): INVALID_ARGUMENT: You must feed a value for placeholder tensor 'gradients/split_grad/concat/split/split_dim' with dtype int32\n",
      "\t [[{{node gradients/split_grad/concat/split/split_dim}}]]\n",
      "2023-05-01 00:59:22.767649: I tensorflow/core/common_runtime/executor.cc:1197] [/device:CPU:0] (DEBUG INFO) Executor start aborting (this does not indicate an error and you can ignore this message): INVALID_ARGUMENT: You must feed a value for placeholder tensor 'gradients/split_1_grad/concat/split_1/split_dim' with dtype int32\n",
      "\t [[{{node gradients/split_1_grad/concat/split_1/split_dim}}]]\n"
     ]
    },
    {
     "name": "stdout",
     "output_type": "stream",
     "text": [
      "241/242 [============================>.] - ETA: 0s - loss: 0.6529 - acc: 0.6374"
     ]
    },
    {
     "name": "stderr",
     "output_type": "stream",
     "text": [
      "2023-05-01 00:59:30.813073: I tensorflow/core/common_runtime/executor.cc:1197] [/device:CPU:0] (DEBUG INFO) Executor start aborting (this does not indicate an error and you can ignore this message): INVALID_ARGUMENT: You must feed a value for placeholder tensor 'gradients/split_2_grad/concat/split_2/split_dim' with dtype int32\n",
      "\t [[{{node gradients/split_2_grad/concat/split_2/split_dim}}]]\n",
      "2023-05-01 00:59:30.814699: I tensorflow/core/common_runtime/executor.cc:1197] [/device:CPU:0] (DEBUG INFO) Executor start aborting (this does not indicate an error and you can ignore this message): INVALID_ARGUMENT: You must feed a value for placeholder tensor 'gradients/split_grad/concat/split/split_dim' with dtype int32\n",
      "\t [[{{node gradients/split_grad/concat/split/split_dim}}]]\n",
      "2023-05-01 00:59:30.815816: I tensorflow/core/common_runtime/executor.cc:1197] [/device:CPU:0] (DEBUG INFO) Executor start aborting (this does not indicate an error and you can ignore this message): INVALID_ARGUMENT: You must feed a value for placeholder tensor 'gradients/split_1_grad/concat/split_1/split_dim' with dtype int32\n",
      "\t [[{{node gradients/split_1_grad/concat/split_1/split_dim}}]]\n"
     ]
    },
    {
     "name": "stdout",
     "output_type": "stream",
     "text": [
      "\n",
      "Epoch 1: val_loss improved from inf to 0.62894, saving model to avg-biobert-los_3-best_model.hdf5\n",
      "242/242 [==============================] - 9s 32ms/step - loss: 0.6527 - acc: 0.6377 - val_loss: 0.6289 - val_acc: 0.6717\n",
      "Epoch 2/70\n",
      "241/242 [============================>.] - ETA: 0s - loss: 0.6289 - acc: 0.6634\n",
      "Epoch 2: val_loss improved from 0.62894 to 0.61645, saving model to avg-biobert-los_3-best_model.hdf5\n",
      "242/242 [==============================] - 7s 31ms/step - loss: 0.6290 - acc: 0.6633 - val_loss: 0.6165 - val_acc: 0.6849\n",
      "Epoch 3/70\n",
      "241/242 [============================>.] - ETA: 0s - loss: 0.6193 - acc: 0.6702\n",
      "Epoch 3: val_loss improved from 0.61645 to 0.61168, saving model to avg-biobert-los_3-best_model.hdf5\n",
      "242/242 [==============================] - 7s 31ms/step - loss: 0.6193 - acc: 0.6701 - val_loss: 0.6117 - val_acc: 0.6794\n",
      "Epoch 4/70\n",
      "241/242 [============================>.] - ETA: 0s - loss: 0.6143 - acc: 0.6765\n",
      "Epoch 4: val_loss improved from 0.61168 to 0.61006, saving model to avg-biobert-los_3-best_model.hdf5\n",
      "242/242 [==============================] - 7s 30ms/step - loss: 0.6143 - acc: 0.6765 - val_loss: 0.6101 - val_acc: 0.6849\n",
      "Epoch 5/70\n",
      "241/242 [============================>.] - ETA: 0s - loss: 0.6101 - acc: 0.6765\n",
      "Epoch 5: val_loss did not improve from 0.61006\n",
      "242/242 [==============================] - 7s 31ms/step - loss: 0.6102 - acc: 0.6765 - val_loss: 0.6102 - val_acc: 0.6817\n",
      "Epoch 6/70\n",
      "241/242 [============================>.] - ETA: 0s - loss: 0.6065 - acc: 0.6842\n",
      "Epoch 6: val_loss improved from 0.61006 to 0.60911, saving model to avg-biobert-los_3-best_model.hdf5\n",
      "242/242 [==============================] - 7s 30ms/step - loss: 0.6066 - acc: 0.6842 - val_loss: 0.6091 - val_acc: 0.6785\n",
      "Epoch 7/70\n",
      "241/242 [============================>.] - ETA: 0s - loss: 0.6037 - acc: 0.6848\n",
      "Epoch 7: val_loss improved from 0.60911 to 0.60854, saving model to avg-biobert-los_3-best_model.hdf5\n",
      "242/242 [==============================] - 7s 30ms/step - loss: 0.6038 - acc: 0.6849 - val_loss: 0.6085 - val_acc: 0.6762\n",
      "Epoch 8/70\n",
      "241/242 [============================>.] - ETA: 0s - loss: 0.6018 - acc: 0.6874\n",
      "Epoch 8: val_loss did not improve from 0.60854\n",
      "242/242 [==============================] - 7s 30ms/step - loss: 0.6018 - acc: 0.6874 - val_loss: 0.6086 - val_acc: 0.6808\n",
      "Epoch 9/70\n",
      "241/242 [============================>.] - ETA: 0s - loss: 0.5987 - acc: 0.6911\n",
      "Epoch 9: val_loss improved from 0.60854 to 0.60692, saving model to avg-biobert-los_3-best_model.hdf5\n",
      "242/242 [==============================] - 7s 31ms/step - loss: 0.5987 - acc: 0.6911 - val_loss: 0.6069 - val_acc: 0.6781\n",
      "Epoch 10/70\n",
      "241/242 [============================>.] - ETA: 0s - loss: 0.5975 - acc: 0.6901\n",
      "Epoch 10: val_loss did not improve from 0.60692\n",
      "242/242 [==============================] - 7s 31ms/step - loss: 0.5975 - acc: 0.6901 - val_loss: 0.6079 - val_acc: 0.6785\n",
      "Epoch 11/70\n",
      "241/242 [============================>.] - ETA: 0s - loss: 0.5953 - acc: 0.6950\n",
      "Epoch 11: val_loss did not improve from 0.60692\n",
      "242/242 [==============================] - 7s 30ms/step - loss: 0.5953 - acc: 0.6949 - val_loss: 0.6079 - val_acc: 0.6794\n",
      "Epoch 12/70\n",
      "241/242 [============================>.] - ETA: 0s - loss: 0.5952 - acc: 0.6944\n",
      "Epoch 12: val_loss did not improve from 0.60692\n",
      "242/242 [==============================] - 7s 30ms/step - loss: 0.5951 - acc: 0.6945 - val_loss: 0.6073 - val_acc: 0.6803\n",
      "Epoch 13/70\n",
      "241/242 [============================>.] - ETA: 0s - loss: 0.5931 - acc: 0.6948\n",
      "Epoch 13: val_loss improved from 0.60692 to 0.60684, saving model to avg-biobert-los_3-best_model.hdf5\n",
      "242/242 [==============================] - 7s 30ms/step - loss: 0.5930 - acc: 0.6950 - val_loss: 0.6068 - val_acc: 0.6781\n",
      "Epoch 14/70\n",
      "241/242 [============================>.] - ETA: 0s - loss: 0.5913 - acc: 0.6970\n",
      "Epoch 14: val_loss did not improve from 0.60684\n",
      "242/242 [==============================] - 7s 30ms/step - loss: 0.5912 - acc: 0.6971 - val_loss: 0.6075 - val_acc: 0.6762\n",
      "Epoch 15/70\n",
      "241/242 [============================>.] - ETA: 0s - loss: 0.5903 - acc: 0.6963\n",
      "Epoch 15: val_loss improved from 0.60684 to 0.60606, saving model to avg-biobert-los_3-best_model.hdf5\n",
      "242/242 [==============================] - 7s 30ms/step - loss: 0.5902 - acc: 0.6965 - val_loss: 0.6061 - val_acc: 0.6772\n",
      "Epoch 16/70\n",
      "241/242 [============================>.] - ETA: 0s - loss: 0.5898 - acc: 0.6978\n",
      "Epoch 16: val_loss did not improve from 0.60606\n",
      "242/242 [==============================] - 7s 30ms/step - loss: 0.5899 - acc: 0.6978 - val_loss: 0.6064 - val_acc: 0.6772\n",
      "Epoch 17/70\n",
      "241/242 [============================>.] - ETA: 0s - loss: 0.5886 - acc: 0.7002\n",
      "Epoch 17: val_loss did not improve from 0.60606\n",
      "242/242 [==============================] - 7s 30ms/step - loss: 0.5885 - acc: 0.7003 - val_loss: 0.6064 - val_acc: 0.6776\n",
      "Epoch 18/70\n",
      "241/242 [============================>.] - ETA: 0s - loss: 0.5877 - acc: 0.6996\n",
      "Epoch 18: val_loss did not improve from 0.60606\n",
      "242/242 [==============================] - 7s 30ms/step - loss: 0.5878 - acc: 0.6996 - val_loss: 0.6075 - val_acc: 0.6781\n",
      "Epoch 19/70\n",
      "241/242 [============================>.] - ETA: 0s - loss: 0.5875 - acc: 0.7004\n",
      "Epoch 19: val_loss improved from 0.60606 to 0.60581, saving model to avg-biobert-los_3-best_model.hdf5\n",
      "242/242 [==============================] - 7s 30ms/step - loss: 0.5875 - acc: 0.7004 - val_loss: 0.6058 - val_acc: 0.6790\n",
      "Epoch 20/70\n",
      "241/242 [============================>.] - ETA: 0s - loss: 0.5858 - acc: 0.7047\n",
      "Epoch 20: val_loss did not improve from 0.60581\n",
      "242/242 [==============================] - 7s 30ms/step - loss: 0.5857 - acc: 0.7048 - val_loss: 0.6073 - val_acc: 0.6772\n",
      "Epoch 21/70\n",
      "241/242 [============================>.] - ETA: 0s - loss: 0.5860 - acc: 0.7020\n",
      "Epoch 21: val_loss did not improve from 0.60581\n",
      "242/242 [==============================] - 7s 30ms/step - loss: 0.5860 - acc: 0.7020 - val_loss: 0.6066 - val_acc: 0.6813\n",
      "Epoch 22/70\n",
      "241/242 [============================>.] - ETA: 0s - loss: 0.5848 - acc: 0.7016\n",
      "Epoch 22: val_loss did not improve from 0.60581\n",
      "242/242 [==============================] - 7s 30ms/step - loss: 0.5849 - acc: 0.7016 - val_loss: 0.6064 - val_acc: 0.6817\n",
      "Epoch 23/70\n",
      "241/242 [============================>.] - ETA: 0s - loss: 0.5841 - acc: 0.7023\n",
      "Epoch 23: val_loss did not improve from 0.60581\n",
      "242/242 [==============================] - 7s 30ms/step - loss: 0.5842 - acc: 0.7022 - val_loss: 0.6069 - val_acc: 0.6785\n",
      "Epoch 24/70\n",
      "241/242 [============================>.] - ETA: 0s - loss: 0.5827 - acc: 0.7034\n",
      "Epoch 24: val_loss did not improve from 0.60581\n",
      "242/242 [==============================] - 7s 30ms/step - loss: 0.5827 - acc: 0.7033 - val_loss: 0.6063 - val_acc: 0.6803\n",
      "  7/138 [>.............................] - ETA: 1s "
     ]
    },
    {
     "name": "stderr",
     "output_type": "stream",
     "text": [
      "2023-05-01 01:02:20.077042: I tensorflow/core/common_runtime/executor.cc:1197] [/device:CPU:0] (DEBUG INFO) Executor start aborting (this does not indicate an error and you can ignore this message): INVALID_ARGUMENT: You must feed a value for placeholder tensor 'gradients/split_2_grad/concat/split_2/split_dim' with dtype int32\n",
      "\t [[{{node gradients/split_2_grad/concat/split_2/split_dim}}]]\n",
      "2023-05-01 01:02:20.078624: I tensorflow/core/common_runtime/executor.cc:1197] [/device:CPU:0] (DEBUG INFO) Executor start aborting (this does not indicate an error and you can ignore this message): INVALID_ARGUMENT: You must feed a value for placeholder tensor 'gradients/split_grad/concat/split/split_dim' with dtype int32\n",
      "\t [[{{node gradients/split_grad/concat/split/split_dim}}]]\n",
      "2023-05-01 01:02:20.079771: I tensorflow/core/common_runtime/executor.cc:1197] [/device:CPU:0] (DEBUG INFO) Executor start aborting (this does not indicate an error and you can ignore this message): INVALID_ARGUMENT: You must feed a value for placeholder tensor 'gradients/split_1_grad/concat/split_1/split_dim' with dtype int32\n",
      "\t [[{{node gradients/split_1_grad/concat/split_1/split_dim}}]]\n"
     ]
    },
    {
     "name": "stdout",
     "output_type": "stream",
     "text": [
      "138/138 [==============================] - 1s 8ms/step\n",
      "0.7038491098139597 0.6399669951974302 0.6592305941270202 0.5434583714547118\n",
      "Problem type:  los_7\n",
      "__________________\n"
     ]
    },
    {
     "name": "stderr",
     "output_type": "stream",
     "text": [
      "2023-05-01 01:02:22.961400: I tensorflow/core/common_runtime/executor.cc:1197] [/device:CPU:0] (DEBUG INFO) Executor start aborting (this does not indicate an error and you can ignore this message): INVALID_ARGUMENT: You must feed a value for placeholder tensor 'gradients/split_2_grad/concat/split_2/split_dim' with dtype int32\n",
      "\t [[{{node gradients/split_2_grad/concat/split_2/split_dim}}]]\n",
      "2023-05-01 01:02:22.962954: I tensorflow/core/common_runtime/executor.cc:1197] [/device:CPU:0] (DEBUG INFO) Executor start aborting (this does not indicate an error and you can ignore this message): INVALID_ARGUMENT: You must feed a value for placeholder tensor 'gradients/split_grad/concat/split/split_dim' with dtype int32\n",
      "\t [[{{node gradients/split_grad/concat/split/split_dim}}]]\n",
      "2023-05-01 01:02:22.964095: I tensorflow/core/common_runtime/executor.cc:1197] [/device:CPU:0] (DEBUG INFO) Executor start aborting (this does not indicate an error and you can ignore this message): INVALID_ARGUMENT: You must feed a value for placeholder tensor 'gradients/split_1_grad/concat/split_1/split_dim' with dtype int32\n",
      "\t [[{{node gradients/split_1_grad/concat/split_1/split_dim}}]]\n"
     ]
    },
    {
     "name": "stdout",
     "output_type": "stream",
     "text": [
      "Epoch 1/70\n"
     ]
    },
    {
     "name": "stderr",
     "output_type": "stream",
     "text": [
      "2023-05-01 01:02:23.447945: I tensorflow/core/common_runtime/executor.cc:1197] [/device:CPU:0] (DEBUG INFO) Executor start aborting (this does not indicate an error and you can ignore this message): INVALID_ARGUMENT: You must feed a value for placeholder tensor 'gradients/split_2_grad/concat/split_2/split_dim' with dtype int32\n",
      "\t [[{{node gradients/split_2_grad/concat/split_2/split_dim}}]]\n",
      "2023-05-01 01:02:23.449604: I tensorflow/core/common_runtime/executor.cc:1197] [/device:CPU:0] (DEBUG INFO) Executor start aborting (this does not indicate an error and you can ignore this message): INVALID_ARGUMENT: You must feed a value for placeholder tensor 'gradients/split_grad/concat/split/split_dim' with dtype int32\n",
      "\t [[{{node gradients/split_grad/concat/split/split_dim}}]]\n",
      "2023-05-01 01:02:23.450793: I tensorflow/core/common_runtime/executor.cc:1197] [/device:CPU:0] (DEBUG INFO) Executor start aborting (this does not indicate an error and you can ignore this message): INVALID_ARGUMENT: You must feed a value for placeholder tensor 'gradients/split_1_grad/concat/split_1/split_dim' with dtype int32\n",
      "\t [[{{node gradients/split_1_grad/concat/split_1/split_dim}}]]\n",
      "2023-05-01 01:02:23.993151: I tensorflow/core/common_runtime/executor.cc:1197] [/device:CPU:0] (DEBUG INFO) Executor start aborting (this does not indicate an error and you can ignore this message): INVALID_ARGUMENT: You must feed a value for placeholder tensor 'gradients/split_2_grad/concat/split_2/split_dim' with dtype int32\n",
      "\t [[{{node gradients/split_2_grad/concat/split_2/split_dim}}]]\n",
      "2023-05-01 01:02:23.994816: I tensorflow/core/common_runtime/executor.cc:1197] [/device:CPU:0] (DEBUG INFO) Executor start aborting (this does not indicate an error and you can ignore this message): INVALID_ARGUMENT: You must feed a value for placeholder tensor 'gradients/split_grad/concat/split/split_dim' with dtype int32\n",
      "\t [[{{node gradients/split_grad/concat/split/split_dim}}]]\n",
      "2023-05-01 01:02:23.996052: I tensorflow/core/common_runtime/executor.cc:1197] [/device:CPU:0] (DEBUG INFO) Executor start aborting (this does not indicate an error and you can ignore this message): INVALID_ARGUMENT: You must feed a value for placeholder tensor 'gradients/split_1_grad/concat/split_1/split_dim' with dtype int32\n",
      "\t [[{{node gradients/split_1_grad/concat/split_1/split_dim}}]]\n"
     ]
    },
    {
     "name": "stdout",
     "output_type": "stream",
     "text": [
      "241/242 [============================>.] - ETA: 0s - loss: 0.2698 - acc: 0.9201"
     ]
    },
    {
     "name": "stderr",
     "output_type": "stream",
     "text": [
      "2023-05-01 01:02:31.873686: I tensorflow/core/common_runtime/executor.cc:1197] [/device:CPU:0] (DEBUG INFO) Executor start aborting (this does not indicate an error and you can ignore this message): INVALID_ARGUMENT: You must feed a value for placeholder tensor 'gradients/split_2_grad/concat/split_2/split_dim' with dtype int32\n",
      "\t [[{{node gradients/split_2_grad/concat/split_2/split_dim}}]]\n",
      "2023-05-01 01:02:31.875312: I tensorflow/core/common_runtime/executor.cc:1197] [/device:CPU:0] (DEBUG INFO) Executor start aborting (this does not indicate an error and you can ignore this message): INVALID_ARGUMENT: You must feed a value for placeholder tensor 'gradients/split_grad/concat/split/split_dim' with dtype int32\n",
      "\t [[{{node gradients/split_grad/concat/split/split_dim}}]]\n",
      "2023-05-01 01:02:31.876548: I tensorflow/core/common_runtime/executor.cc:1197] [/device:CPU:0] (DEBUG INFO) Executor start aborting (this does not indicate an error and you can ignore this message): INVALID_ARGUMENT: You must feed a value for placeholder tensor 'gradients/split_1_grad/concat/split_1/split_dim' with dtype int32\n",
      "\t [[{{node gradients/split_1_grad/concat/split_1/split_dim}}]]\n"
     ]
    },
    {
     "name": "stdout",
     "output_type": "stream",
     "text": [
      "\n",
      "Epoch 1: val_loss improved from inf to 0.25674, saving model to avg-biobert-los_7-best_model.hdf5\n",
      "242/242 [==============================] - 9s 32ms/step - loss: 0.2697 - acc: 0.9201 - val_loss: 0.2567 - val_acc: 0.9234\n",
      "Epoch 2/70\n",
      "241/242 [============================>.] - ETA: 0s - loss: 0.2516 - acc: 0.9222\n",
      "Epoch 2: val_loss improved from 0.25674 to 0.25568, saving model to avg-biobert-los_7-best_model.hdf5\n",
      "242/242 [==============================] - 7s 30ms/step - loss: 0.2518 - acc: 0.9221 - val_loss: 0.2557 - val_acc: 0.9238\n",
      "Epoch 3/70\n",
      "241/242 [============================>.] - ETA: 0s - loss: 0.2470 - acc: 0.9224\n",
      "Epoch 3: val_loss improved from 0.25568 to 0.25487, saving model to avg-biobert-los_7-best_model.hdf5\n",
      "242/242 [==============================] - 7s 30ms/step - loss: 0.2473 - acc: 0.9223 - val_loss: 0.2549 - val_acc: 0.9238\n",
      "Epoch 4/70\n",
      "241/242 [============================>.] - ETA: 0s - loss: 0.2433 - acc: 0.9227\n",
      "Epoch 4: val_loss improved from 0.25487 to 0.25460, saving model to avg-biobert-los_7-best_model.hdf5\n",
      "242/242 [==============================] - 7s 30ms/step - loss: 0.2436 - acc: 0.9227 - val_loss: 0.2546 - val_acc: 0.9238\n",
      "Epoch 5/70\n",
      "241/242 [============================>.] - ETA: 0s - loss: 0.2427 - acc: 0.9228\n",
      "Epoch 5: val_loss did not improve from 0.25460\n",
      "242/242 [==============================] - 7s 30ms/step - loss: 0.2427 - acc: 0.9228 - val_loss: 0.2550 - val_acc: 0.9238\n",
      "Epoch 6/70\n",
      "241/242 [============================>.] - ETA: 0s - loss: 0.2398 - acc: 0.9227\n",
      "Epoch 6: val_loss did not improve from 0.25460\n",
      "242/242 [==============================] - 7s 31ms/step - loss: 0.2399 - acc: 0.9226 - val_loss: 0.2547 - val_acc: 0.9238\n",
      "Epoch 7/70\n",
      "241/242 [============================>.] - ETA: 0s - loss: 0.2396 - acc: 0.9225\n",
      "Epoch 7: val_loss improved from 0.25460 to 0.25429, saving model to avg-biobert-los_7-best_model.hdf5\n",
      "242/242 [==============================] - 7s 30ms/step - loss: 0.2394 - acc: 0.9225 - val_loss: 0.2543 - val_acc: 0.9238\n",
      "Epoch 8/70\n",
      "241/242 [============================>.] - ETA: 0s - loss: 0.2374 - acc: 0.9228\n",
      "Epoch 8: val_loss improved from 0.25429 to 0.25412, saving model to avg-biobert-los_7-best_model.hdf5\n",
      "242/242 [==============================] - 7s 30ms/step - loss: 0.2376 - acc: 0.9227 - val_loss: 0.2541 - val_acc: 0.9238\n",
      "Epoch 9/70\n",
      "241/242 [============================>.] - ETA: 0s - loss: 0.2371 - acc: 0.9228\n",
      "Epoch 9: val_loss improved from 0.25412 to 0.25396, saving model to avg-biobert-los_7-best_model.hdf5\n",
      "242/242 [==============================] - 7s 30ms/step - loss: 0.2372 - acc: 0.9227 - val_loss: 0.2540 - val_acc: 0.9238\n",
      "Epoch 10/70\n",
      "241/242 [============================>.] - ETA: 0s - loss: 0.2354 - acc: 0.9226\n",
      "Epoch 10: val_loss did not improve from 0.25396\n",
      "242/242 [==============================] - 7s 30ms/step - loss: 0.2355 - acc: 0.9226 - val_loss: 0.2542 - val_acc: 0.9238\n",
      "Epoch 11/70\n",
      "241/242 [============================>.] - ETA: 0s - loss: 0.2356 - acc: 0.9228\n",
      "Epoch 11: val_loss improved from 0.25396 to 0.25385, saving model to avg-biobert-los_7-best_model.hdf5\n",
      "242/242 [==============================] - 7s 30ms/step - loss: 0.2356 - acc: 0.9229 - val_loss: 0.2538 - val_acc: 0.9238\n",
      "Epoch 12/70\n",
      "241/242 [============================>.] - ETA: 0s - loss: 0.2344 - acc: 0.9229\n",
      "Epoch 12: val_loss did not improve from 0.25385\n",
      "242/242 [==============================] - 7s 30ms/step - loss: 0.2342 - acc: 0.9230 - val_loss: 0.2539 - val_acc: 0.9238\n",
      "Epoch 13/70\n",
      "241/242 [============================>.] - ETA: 0s - loss: 0.2339 - acc: 0.9227\n",
      "Epoch 13: val_loss did not improve from 0.25385\n",
      "242/242 [==============================] - 7s 30ms/step - loss: 0.2338 - acc: 0.9227 - val_loss: 0.2541 - val_acc: 0.9238\n",
      "Epoch 14/70\n",
      "241/242 [============================>.] - ETA: 0s - loss: 0.2321 - acc: 0.9231\n",
      "Epoch 14: val_loss did not improve from 0.25385\n",
      "242/242 [==============================] - 7s 31ms/step - loss: 0.2325 - acc: 0.9230 - val_loss: 0.2539 - val_acc: 0.9238\n",
      "Epoch 15/70\n",
      "241/242 [============================>.] - ETA: 0s - loss: 0.2330 - acc: 0.9231\n",
      "Epoch 15: val_loss improved from 0.25385 to 0.25374, saving model to avg-biobert-los_7-best_model.hdf5\n",
      "242/242 [==============================] - 7s 30ms/step - loss: 0.2329 - acc: 0.9232 - val_loss: 0.2537 - val_acc: 0.9238\n",
      "Epoch 16/70\n",
      "241/242 [============================>.] - ETA: 0s - loss: 0.2317 - acc: 0.9231\n",
      "Epoch 16: val_loss did not improve from 0.25374\n",
      "242/242 [==============================] - 8s 31ms/step - loss: 0.2319 - acc: 0.9231 - val_loss: 0.2539 - val_acc: 0.9238\n",
      "Epoch 17/70\n",
      "241/242 [============================>.] - ETA: 0s - loss: 0.2317 - acc: 0.9234\n",
      "Epoch 17: val_loss did not improve from 0.25374\n",
      "242/242 [==============================] - 8s 32ms/step - loss: 0.2318 - acc: 0.9233 - val_loss: 0.2538 - val_acc: 0.9238\n",
      "Epoch 18/70\n",
      "241/242 [============================>.] - ETA: 0s - loss: 0.2309 - acc: 0.9232\n",
      "Epoch 18: val_loss did not improve from 0.25374\n",
      "242/242 [==============================] - 8s 31ms/step - loss: 0.2310 - acc: 0.9231 - val_loss: 0.2539 - val_acc: 0.9234\n",
      "Epoch 19/70\n",
      "241/242 [============================>.] - ETA: 0s - loss: 0.2308 - acc: 0.9231\n",
      "Epoch 19: val_loss did not improve from 0.25374\n",
      "242/242 [==============================] - 7s 31ms/step - loss: 0.2307 - acc: 0.9232 - val_loss: 0.2539 - val_acc: 0.9234\n",
      "Epoch 20/70\n",
      "241/242 [============================>.] - ETA: 0s - loss: 0.2304 - acc: 0.9230\n",
      "Epoch 20: val_loss did not improve from 0.25374\n",
      "242/242 [==============================] - 7s 31ms/step - loss: 0.2303 - acc: 0.9230 - val_loss: 0.2541 - val_acc: 0.9234\n",
      "  7/138 [>.............................] - ETA: 1s "
     ]
    },
    {
     "name": "stderr",
     "output_type": "stream",
     "text": [
      "2023-05-01 01:04:52.668505: I tensorflow/core/common_runtime/executor.cc:1197] [/device:CPU:0] (DEBUG INFO) Executor start aborting (this does not indicate an error and you can ignore this message): INVALID_ARGUMENT: You must feed a value for placeholder tensor 'gradients/split_2_grad/concat/split_2/split_dim' with dtype int32\n",
      "\t [[{{node gradients/split_2_grad/concat/split_2/split_dim}}]]\n",
      "2023-05-01 01:04:52.670086: I tensorflow/core/common_runtime/executor.cc:1197] [/device:CPU:0] (DEBUG INFO) Executor start aborting (this does not indicate an error and you can ignore this message): INVALID_ARGUMENT: You must feed a value for placeholder tensor 'gradients/split_grad/concat/split/split_dim' with dtype int32\n",
      "\t [[{{node gradients/split_grad/concat/split/split_dim}}]]\n",
      "2023-05-01 01:04:52.671156: I tensorflow/core/common_runtime/executor.cc:1197] [/device:CPU:0] (DEBUG INFO) Executor start aborting (this does not indicate an error and you can ignore this message): INVALID_ARGUMENT: You must feed a value for placeholder tensor 'gradients/split_1_grad/concat/split_1/split_dim' with dtype int32\n",
      "\t [[{{node gradients/split_1_grad/concat/split_1/split_dim}}]]\n"
     ]
    },
    {
     "name": "stdout",
     "output_type": "stream",
     "text": [
      "138/138 [==============================] - 1s 8ms/step\n",
      "0.7485606438915489 0.2422168565178887 0.919872524470749 0.016759776536312852\n",
      "Iteration number:  2\n",
      "Problem type:  mort_hosp\n",
      "__________________\n"
     ]
    },
    {
     "name": "stderr",
     "output_type": "stream",
     "text": [
      "2023-05-01 01:04:55.544320: I tensorflow/core/common_runtime/executor.cc:1197] [/device:CPU:0] (DEBUG INFO) Executor start aborting (this does not indicate an error and you can ignore this message): INVALID_ARGUMENT: You must feed a value for placeholder tensor 'gradients/split_2_grad/concat/split_2/split_dim' with dtype int32\n",
      "\t [[{{node gradients/split_2_grad/concat/split_2/split_dim}}]]\n",
      "2023-05-01 01:04:55.545997: I tensorflow/core/common_runtime/executor.cc:1197] [/device:CPU:0] (DEBUG INFO) Executor start aborting (this does not indicate an error and you can ignore this message): INVALID_ARGUMENT: You must feed a value for placeholder tensor 'gradients/split_grad/concat/split/split_dim' with dtype int32\n",
      "\t [[{{node gradients/split_grad/concat/split/split_dim}}]]\n",
      "2023-05-01 01:04:55.547194: I tensorflow/core/common_runtime/executor.cc:1197] [/device:CPU:0] (DEBUG INFO) Executor start aborting (this does not indicate an error and you can ignore this message): INVALID_ARGUMENT: You must feed a value for placeholder tensor 'gradients/split_1_grad/concat/split_1/split_dim' with dtype int32\n",
      "\t [[{{node gradients/split_1_grad/concat/split_1/split_dim}}]]\n"
     ]
    },
    {
     "name": "stdout",
     "output_type": "stream",
     "text": [
      "Epoch 1/70\n"
     ]
    },
    {
     "name": "stderr",
     "output_type": "stream",
     "text": [
      "2023-05-01 01:04:56.036671: I tensorflow/core/common_runtime/executor.cc:1197] [/device:CPU:0] (DEBUG INFO) Executor start aborting (this does not indicate an error and you can ignore this message): INVALID_ARGUMENT: You must feed a value for placeholder tensor 'gradients/split_2_grad/concat/split_2/split_dim' with dtype int32\n",
      "\t [[{{node gradients/split_2_grad/concat/split_2/split_dim}}]]\n",
      "2023-05-01 01:04:56.038510: I tensorflow/core/common_runtime/executor.cc:1197] [/device:CPU:0] (DEBUG INFO) Executor start aborting (this does not indicate an error and you can ignore this message): INVALID_ARGUMENT: You must feed a value for placeholder tensor 'gradients/split_grad/concat/split/split_dim' with dtype int32\n",
      "\t [[{{node gradients/split_grad/concat/split/split_dim}}]]\n",
      "2023-05-01 01:04:56.039781: I tensorflow/core/common_runtime/executor.cc:1197] [/device:CPU:0] (DEBUG INFO) Executor start aborting (this does not indicate an error and you can ignore this message): INVALID_ARGUMENT: You must feed a value for placeholder tensor 'gradients/split_1_grad/concat/split_1/split_dim' with dtype int32\n",
      "\t [[{{node gradients/split_1_grad/concat/split_1/split_dim}}]]\n",
      "2023-05-01 01:04:56.583101: I tensorflow/core/common_runtime/executor.cc:1197] [/device:CPU:0] (DEBUG INFO) Executor start aborting (this does not indicate an error and you can ignore this message): INVALID_ARGUMENT: You must feed a value for placeholder tensor 'gradients/split_2_grad/concat/split_2/split_dim' with dtype int32\n",
      "\t [[{{node gradients/split_2_grad/concat/split_2/split_dim}}]]\n",
      "2023-05-01 01:04:56.584771: I tensorflow/core/common_runtime/executor.cc:1197] [/device:CPU:0] (DEBUG INFO) Executor start aborting (this does not indicate an error and you can ignore this message): INVALID_ARGUMENT: You must feed a value for placeholder tensor 'gradients/split_grad/concat/split/split_dim' with dtype int32\n",
      "\t [[{{node gradients/split_grad/concat/split/split_dim}}]]\n",
      "2023-05-01 01:04:56.585946: I tensorflow/core/common_runtime/executor.cc:1197] [/device:CPU:0] (DEBUG INFO) Executor start aborting (this does not indicate an error and you can ignore this message): INVALID_ARGUMENT: You must feed a value for placeholder tensor 'gradients/split_1_grad/concat/split_1/split_dim' with dtype int32\n",
      "\t [[{{node gradients/split_1_grad/concat/split_1/split_dim}}]]\n"
     ]
    },
    {
     "name": "stdout",
     "output_type": "stream",
     "text": [
      "241/242 [============================>.] - ETA: 0s - loss: 0.2756 - acc: 0.9030"
     ]
    },
    {
     "name": "stderr",
     "output_type": "stream",
     "text": [
      "2023-05-01 01:05:04.484472: I tensorflow/core/common_runtime/executor.cc:1197] [/device:CPU:0] (DEBUG INFO) Executor start aborting (this does not indicate an error and you can ignore this message): INVALID_ARGUMENT: You must feed a value for placeholder tensor 'gradients/split_2_grad/concat/split_2/split_dim' with dtype int32\n",
      "\t [[{{node gradients/split_2_grad/concat/split_2/split_dim}}]]\n",
      "2023-05-01 01:05:04.486095: I tensorflow/core/common_runtime/executor.cc:1197] [/device:CPU:0] (DEBUG INFO) Executor start aborting (this does not indicate an error and you can ignore this message): INVALID_ARGUMENT: You must feed a value for placeholder tensor 'gradients/split_grad/concat/split/split_dim' with dtype int32\n",
      "\t [[{{node gradients/split_grad/concat/split/split_dim}}]]\n",
      "2023-05-01 01:05:04.487228: I tensorflow/core/common_runtime/executor.cc:1197] [/device:CPU:0] (DEBUG INFO) Executor start aborting (this does not indicate an error and you can ignore this message): INVALID_ARGUMENT: You must feed a value for placeholder tensor 'gradients/split_1_grad/concat/split_1/split_dim' with dtype int32\n",
      "\t [[{{node gradients/split_1_grad/concat/split_1/split_dim}}]]\n"
     ]
    },
    {
     "name": "stdout",
     "output_type": "stream",
     "text": [
      "\n",
      "Epoch 1: val_loss improved from inf to 0.23595, saving model to avg-biobert-mort_hosp-best_model.hdf5\n",
      "242/242 [==============================] - 9s 32ms/step - loss: 0.2757 - acc: 0.9030 - val_loss: 0.2359 - val_acc: 0.9152\n",
      "Epoch 2/70\n",
      "241/242 [============================>.] - ETA: 0s - loss: 0.2374 - acc: 0.9155\n",
      "Epoch 2: val_loss improved from 0.23595 to 0.23046, saving model to avg-biobert-mort_hosp-best_model.hdf5\n",
      "242/242 [==============================] - 7s 31ms/step - loss: 0.2374 - acc: 0.9155 - val_loss: 0.2305 - val_acc: 0.9188\n",
      "Epoch 3/70\n",
      "241/242 [============================>.] - ETA: 0s - loss: 0.2302 - acc: 0.9182\n",
      "Epoch 3: val_loss improved from 0.23046 to 0.22896, saving model to avg-biobert-mort_hosp-best_model.hdf5\n",
      "242/242 [==============================] - 7s 31ms/step - loss: 0.2300 - acc: 0.9183 - val_loss: 0.2290 - val_acc: 0.9197\n",
      "Epoch 4/70\n",
      "241/242 [============================>.] - ETA: 0s - loss: 0.2244 - acc: 0.9192\n",
      "Epoch 4: val_loss improved from 0.22896 to 0.22881, saving model to avg-biobert-mort_hosp-best_model.hdf5\n",
      "242/242 [==============================] - 7s 31ms/step - loss: 0.2243 - acc: 0.9193 - val_loss: 0.2288 - val_acc: 0.9188\n",
      "Epoch 5/70\n",
      "241/242 [============================>.] - ETA: 0s - loss: 0.2212 - acc: 0.9209\n",
      "Epoch 5: val_loss did not improve from 0.22881\n",
      "242/242 [==============================] - 7s 31ms/step - loss: 0.2211 - acc: 0.9210 - val_loss: 0.2289 - val_acc: 0.9161\n",
      "Epoch 6/70\n",
      "241/242 [============================>.] - ETA: 0s - loss: 0.2181 - acc: 0.9219\n",
      "Epoch 6: val_loss did not improve from 0.22881\n",
      "242/242 [==============================] - 7s 30ms/step - loss: 0.2183 - acc: 0.9218 - val_loss: 0.2295 - val_acc: 0.9161\n",
      "Epoch 7/70\n",
      "241/242 [============================>.] - ETA: 0s - loss: 0.2159 - acc: 0.9225\n",
      "Epoch 7: val_loss did not improve from 0.22881\n",
      "242/242 [==============================] - 7s 30ms/step - loss: 0.2159 - acc: 0.9225 - val_loss: 0.2300 - val_acc: 0.9161\n",
      "Epoch 8/70\n",
      "241/242 [============================>.] - ETA: 0s - loss: 0.2148 - acc: 0.9225\n",
      "Epoch 8: val_loss did not improve from 0.22881\n",
      "242/242 [==============================] - 7s 31ms/step - loss: 0.2147 - acc: 0.9225 - val_loss: 0.2298 - val_acc: 0.9170\n",
      "Epoch 9/70\n",
      "241/242 [============================>.] - ETA: 0s - loss: 0.2126 - acc: 0.9234\n",
      "Epoch 9: val_loss improved from 0.22881 to 0.22873, saving model to avg-biobert-mort_hosp-best_model.hdf5\n",
      "242/242 [==============================] - 7s 31ms/step - loss: 0.2126 - acc: 0.9233 - val_loss: 0.2287 - val_acc: 0.9188\n",
      "Epoch 10/70\n",
      "241/242 [============================>.] - ETA: 0s - loss: 0.2115 - acc: 0.9237\n",
      "Epoch 10: val_loss did not improve from 0.22873\n",
      "242/242 [==============================] - 7s 30ms/step - loss: 0.2115 - acc: 0.9236 - val_loss: 0.2290 - val_acc: 0.9179\n",
      "Epoch 11/70\n",
      "241/242 [============================>.] - ETA: 0s - loss: 0.2102 - acc: 0.9234\n",
      "Epoch 11: val_loss did not improve from 0.22873\n",
      "242/242 [==============================] - 7s 30ms/step - loss: 0.2101 - acc: 0.9234 - val_loss: 0.2292 - val_acc: 0.9175\n",
      "Epoch 12/70\n",
      "241/242 [============================>.] - ETA: 0s - loss: 0.2103 - acc: 0.9233\n",
      "Epoch 12: val_loss did not improve from 0.22873\n",
      "242/242 [==============================] - 7s 30ms/step - loss: 0.2102 - acc: 0.9233 - val_loss: 0.2292 - val_acc: 0.9188\n",
      "Epoch 13/70\n",
      "241/242 [============================>.] - ETA: 0s - loss: 0.2084 - acc: 0.9239\n",
      "Epoch 13: val_loss did not improve from 0.22873\n",
      "242/242 [==============================] - 7s 30ms/step - loss: 0.2083 - acc: 0.9240 - val_loss: 0.2291 - val_acc: 0.9197\n",
      "Epoch 14/70\n",
      "241/242 [============================>.] - ETA: 0s - loss: 0.2077 - acc: 0.9236\n",
      "Epoch 14: val_loss improved from 0.22873 to 0.22868, saving model to avg-biobert-mort_hosp-best_model.hdf5\n",
      "242/242 [==============================] - 7s 31ms/step - loss: 0.2077 - acc: 0.9236 - val_loss: 0.2287 - val_acc: 0.9193\n",
      "Epoch 15/70\n",
      "241/242 [============================>.] - ETA: 0s - loss: 0.2071 - acc: 0.9241\n",
      "Epoch 15: val_loss improved from 0.22868 to 0.22858, saving model to avg-biobert-mort_hosp-best_model.hdf5\n",
      "242/242 [==============================] - 7s 31ms/step - loss: 0.2071 - acc: 0.9241 - val_loss: 0.2286 - val_acc: 0.9193\n",
      "Epoch 16/70\n",
      "241/242 [============================>.] - ETA: 0s - loss: 0.2059 - acc: 0.9251\n",
      "Epoch 16: val_loss did not improve from 0.22858\n",
      "242/242 [==============================] - 7s 30ms/step - loss: 0.2059 - acc: 0.9250 - val_loss: 0.2288 - val_acc: 0.9207\n",
      "Epoch 17/70\n",
      "241/242 [============================>.] - ETA: 0s - loss: 0.2052 - acc: 0.9259\n",
      "Epoch 17: val_loss did not improve from 0.22858\n",
      "242/242 [==============================] - 7s 30ms/step - loss: 0.2054 - acc: 0.9258 - val_loss: 0.2288 - val_acc: 0.9197\n",
      "Epoch 18/70\n",
      "241/242 [============================>.] - ETA: 0s - loss: 0.2044 - acc: 0.9265\n",
      "Epoch 18: val_loss did not improve from 0.22858\n",
      "242/242 [==============================] - 7s 30ms/step - loss: 0.2045 - acc: 0.9264 - val_loss: 0.2288 - val_acc: 0.9216\n",
      "Epoch 19/70\n",
      "241/242 [============================>.] - ETA: 0s - loss: 0.2037 - acc: 0.9276\n",
      "Epoch 19: val_loss did not improve from 0.22858\n",
      "242/242 [==============================] - 7s 30ms/step - loss: 0.2036 - acc: 0.9277 - val_loss: 0.2295 - val_acc: 0.9179\n",
      "Epoch 20/70\n",
      "241/242 [============================>.] - ETA: 0s - loss: 0.2031 - acc: 0.9261\n",
      "Epoch 20: val_loss did not improve from 0.22858\n",
      "242/242 [==============================] - 7s 31ms/step - loss: 0.2033 - acc: 0.9260 - val_loss: 0.2291 - val_acc: 0.9211\n",
      "  7/138 [>.............................] - ETA: 1s "
     ]
    },
    {
     "name": "stderr",
     "output_type": "stream",
     "text": [
      "2023-05-01 01:07:25.231832: I tensorflow/core/common_runtime/executor.cc:1197] [/device:CPU:0] (DEBUG INFO) Executor start aborting (this does not indicate an error and you can ignore this message): INVALID_ARGUMENT: You must feed a value for placeholder tensor 'gradients/split_2_grad/concat/split_2/split_dim' with dtype int32\n",
      "\t [[{{node gradients/split_2_grad/concat/split_2/split_dim}}]]\n",
      "2023-05-01 01:07:25.233446: I tensorflow/core/common_runtime/executor.cc:1197] [/device:CPU:0] (DEBUG INFO) Executor start aborting (this does not indicate an error and you can ignore this message): INVALID_ARGUMENT: You must feed a value for placeholder tensor 'gradients/split_grad/concat/split/split_dim' with dtype int32\n",
      "\t [[{{node gradients/split_grad/concat/split/split_dim}}]]\n",
      "2023-05-01 01:07:25.234575: I tensorflow/core/common_runtime/executor.cc:1197] [/device:CPU:0] (DEBUG INFO) Executor start aborting (this does not indicate an error and you can ignore this message): INVALID_ARGUMENT: You must feed a value for placeholder tensor 'gradients/split_1_grad/concat/split_1/split_dim' with dtype int32\n",
      "\t [[{{node gradients/split_1_grad/concat/split_1/split_dim}}]]\n"
     ]
    },
    {
     "name": "stdout",
     "output_type": "stream",
     "text": [
      "138/138 [==============================] - 1s 8ms/step\n",
      "0.8875385113077615 0.5825995667295574 0.916002731618484 0.45973645680819913\n",
      "Problem type:  mort_icu\n",
      "__________________\n"
     ]
    },
    {
     "name": "stderr",
     "output_type": "stream",
     "text": [
      "2023-05-01 01:07:28.103415: I tensorflow/core/common_runtime/executor.cc:1197] [/device:CPU:0] (DEBUG INFO) Executor start aborting (this does not indicate an error and you can ignore this message): INVALID_ARGUMENT: You must feed a value for placeholder tensor 'gradients/split_2_grad/concat/split_2/split_dim' with dtype int32\n",
      "\t [[{{node gradients/split_2_grad/concat/split_2/split_dim}}]]\n",
      "2023-05-01 01:07:28.105001: I tensorflow/core/common_runtime/executor.cc:1197] [/device:CPU:0] (DEBUG INFO) Executor start aborting (this does not indicate an error and you can ignore this message): INVALID_ARGUMENT: You must feed a value for placeholder tensor 'gradients/split_grad/concat/split/split_dim' with dtype int32\n",
      "\t [[{{node gradients/split_grad/concat/split/split_dim}}]]\n",
      "2023-05-01 01:07:28.106140: I tensorflow/core/common_runtime/executor.cc:1197] [/device:CPU:0] (DEBUG INFO) Executor start aborting (this does not indicate an error and you can ignore this message): INVALID_ARGUMENT: You must feed a value for placeholder tensor 'gradients/split_1_grad/concat/split_1/split_dim' with dtype int32\n",
      "\t [[{{node gradients/split_1_grad/concat/split_1/split_dim}}]]\n"
     ]
    },
    {
     "name": "stdout",
     "output_type": "stream",
     "text": [
      "Epoch 1/70\n"
     ]
    },
    {
     "name": "stderr",
     "output_type": "stream",
     "text": [
      "2023-05-01 01:07:28.593194: I tensorflow/core/common_runtime/executor.cc:1197] [/device:CPU:0] (DEBUG INFO) Executor start aborting (this does not indicate an error and you can ignore this message): INVALID_ARGUMENT: You must feed a value for placeholder tensor 'gradients/split_2_grad/concat/split_2/split_dim' with dtype int32\n",
      "\t [[{{node gradients/split_2_grad/concat/split_2/split_dim}}]]\n",
      "2023-05-01 01:07:28.594921: I tensorflow/core/common_runtime/executor.cc:1197] [/device:CPU:0] (DEBUG INFO) Executor start aborting (this does not indicate an error and you can ignore this message): INVALID_ARGUMENT: You must feed a value for placeholder tensor 'gradients/split_grad/concat/split/split_dim' with dtype int32\n",
      "\t [[{{node gradients/split_grad/concat/split/split_dim}}]]\n",
      "2023-05-01 01:07:28.596163: I tensorflow/core/common_runtime/executor.cc:1197] [/device:CPU:0] (DEBUG INFO) Executor start aborting (this does not indicate an error and you can ignore this message): INVALID_ARGUMENT: You must feed a value for placeholder tensor 'gradients/split_1_grad/concat/split_1/split_dim' with dtype int32\n",
      "\t [[{{node gradients/split_1_grad/concat/split_1/split_dim}}]]\n",
      "2023-05-01 01:07:29.136290: I tensorflow/core/common_runtime/executor.cc:1197] [/device:CPU:0] (DEBUG INFO) Executor start aborting (this does not indicate an error and you can ignore this message): INVALID_ARGUMENT: You must feed a value for placeholder tensor 'gradients/split_2_grad/concat/split_2/split_dim' with dtype int32\n",
      "\t [[{{node gradients/split_2_grad/concat/split_2/split_dim}}]]\n",
      "2023-05-01 01:07:29.137917: I tensorflow/core/common_runtime/executor.cc:1197] [/device:CPU:0] (DEBUG INFO) Executor start aborting (this does not indicate an error and you can ignore this message): INVALID_ARGUMENT: You must feed a value for placeholder tensor 'gradients/split_grad/concat/split/split_dim' with dtype int32\n",
      "\t [[{{node gradients/split_grad/concat/split/split_dim}}]]\n",
      "2023-05-01 01:07:29.139287: I tensorflow/core/common_runtime/executor.cc:1197] [/device:CPU:0] (DEBUG INFO) Executor start aborting (this does not indicate an error and you can ignore this message): INVALID_ARGUMENT: You must feed a value for placeholder tensor 'gradients/split_1_grad/concat/split_1/split_dim' with dtype int32\n",
      "\t [[{{node gradients/split_1_grad/concat/split_1/split_dim}}]]\n"
     ]
    },
    {
     "name": "stdout",
     "output_type": "stream",
     "text": [
      "241/242 [============================>.] - ETA: 0s - loss: 0.2044 - acc: 0.9345"
     ]
    },
    {
     "name": "stderr",
     "output_type": "stream",
     "text": [
      "2023-05-01 01:07:37.119659: I tensorflow/core/common_runtime/executor.cc:1197] [/device:CPU:0] (DEBUG INFO) Executor start aborting (this does not indicate an error and you can ignore this message): INVALID_ARGUMENT: You must feed a value for placeholder tensor 'gradients/split_2_grad/concat/split_2/split_dim' with dtype int32\n",
      "\t [[{{node gradients/split_2_grad/concat/split_2/split_dim}}]]\n",
      "2023-05-01 01:07:37.121318: I tensorflow/core/common_runtime/executor.cc:1197] [/device:CPU:0] (DEBUG INFO) Executor start aborting (this does not indicate an error and you can ignore this message): INVALID_ARGUMENT: You must feed a value for placeholder tensor 'gradients/split_grad/concat/split/split_dim' with dtype int32\n",
      "\t [[{{node gradients/split_grad/concat/split/split_dim}}]]\n",
      "2023-05-01 01:07:37.122510: I tensorflow/core/common_runtime/executor.cc:1197] [/device:CPU:0] (DEBUG INFO) Executor start aborting (this does not indicate an error and you can ignore this message): INVALID_ARGUMENT: You must feed a value for placeholder tensor 'gradients/split_1_grad/concat/split_1/split_dim' with dtype int32\n",
      "\t [[{{node gradients/split_1_grad/concat/split_1/split_dim}}]]\n"
     ]
    },
    {
     "name": "stdout",
     "output_type": "stream",
     "text": [
      "\n",
      "Epoch 1: val_loss improved from inf to 0.17309, saving model to avg-biobert-mort_icu-best_model.hdf5\n",
      "242/242 [==============================] - 9s 32ms/step - loss: 0.2043 - acc: 0.9345 - val_loss: 0.1731 - val_acc: 0.9439\n",
      "Epoch 2/70\n",
      "241/242 [============================>.] - ETA: 0s - loss: 0.1743 - acc: 0.9413\n",
      "Epoch 2: val_loss improved from 0.17309 to 0.16801, saving model to avg-biobert-mort_icu-best_model.hdf5\n",
      "242/242 [==============================] - 7s 31ms/step - loss: 0.1742 - acc: 0.9414 - val_loss: 0.1680 - val_acc: 0.9453\n",
      "Epoch 3/70\n",
      "241/242 [============================>.] - ETA: 0s - loss: 0.1665 - acc: 0.9438\n",
      "Epoch 3: val_loss improved from 0.16801 to 0.16665, saving model to avg-biobert-mort_icu-best_model.hdf5\n",
      "242/242 [==============================] - 7s 31ms/step - loss: 0.1669 - acc: 0.9436 - val_loss: 0.1666 - val_acc: 0.9448\n",
      "Epoch 4/70\n",
      "241/242 [============================>.] - ETA: 0s - loss: 0.1627 - acc: 0.9452\n",
      "Epoch 4: val_loss improved from 0.16665 to 0.16602, saving model to avg-biobert-mort_icu-best_model.hdf5\n",
      "242/242 [==============================] - 7s 31ms/step - loss: 0.1626 - acc: 0.9452 - val_loss: 0.1660 - val_acc: 0.9453\n",
      "Epoch 5/70\n",
      "241/242 [============================>.] - ETA: 0s - loss: 0.1594 - acc: 0.9457\n",
      "Epoch 5: val_loss improved from 0.16602 to 0.16433, saving model to avg-biobert-mort_icu-best_model.hdf5\n",
      "242/242 [==============================] - 7s 31ms/step - loss: 0.1594 - acc: 0.9457 - val_loss: 0.1643 - val_acc: 0.9453\n",
      "Epoch 6/70\n",
      "241/242 [============================>.] - ETA: 0s - loss: 0.1567 - acc: 0.9459\n",
      "Epoch 6: val_loss improved from 0.16433 to 0.16381, saving model to avg-biobert-mort_icu-best_model.hdf5\n",
      "242/242 [==============================] - 7s 30ms/step - loss: 0.1569 - acc: 0.9459 - val_loss: 0.1638 - val_acc: 0.9430\n",
      "Epoch 7/70\n",
      "241/242 [============================>.] - ETA: 0s - loss: 0.1549 - acc: 0.9466\n",
      "Epoch 7: val_loss did not improve from 0.16381\n",
      "242/242 [==============================] - 7s 30ms/step - loss: 0.1551 - acc: 0.9466 - val_loss: 0.1639 - val_acc: 0.9444\n",
      "Epoch 8/70\n",
      "241/242 [============================>.] - ETA: 0s - loss: 0.1539 - acc: 0.9468\n",
      "Epoch 8: val_loss did not improve from 0.16381\n",
      "242/242 [==============================] - 7s 30ms/step - loss: 0.1541 - acc: 0.9467 - val_loss: 0.1648 - val_acc: 0.9439\n",
      "Epoch 9/70\n",
      "241/242 [============================>.] - ETA: 0s - loss: 0.1531 - acc: 0.9459\n",
      "Epoch 9: val_loss did not improve from 0.16381\n",
      "242/242 [==============================] - 7s 31ms/step - loss: 0.1531 - acc: 0.9459 - val_loss: 0.1640 - val_acc: 0.9425\n",
      "Epoch 10/70\n",
      "241/242 [============================>.] - ETA: 0s - loss: 0.1517 - acc: 0.9475\n",
      "Epoch 10: val_loss improved from 0.16381 to 0.16361, saving model to avg-biobert-mort_icu-best_model.hdf5\n",
      "242/242 [==============================] - 7s 31ms/step - loss: 0.1516 - acc: 0.9476 - val_loss: 0.1636 - val_acc: 0.9430\n",
      "Epoch 11/70\n",
      "241/242 [============================>.] - ETA: 0s - loss: 0.1497 - acc: 0.9481\n",
      "Epoch 11: val_loss did not improve from 0.16361\n",
      "242/242 [==============================] - 7s 30ms/step - loss: 0.1498 - acc: 0.9481 - val_loss: 0.1637 - val_acc: 0.9448\n",
      "Epoch 12/70\n",
      "241/242 [============================>.] - ETA: 0s - loss: 0.1502 - acc: 0.9474\n",
      "Epoch 12: val_loss did not improve from 0.16361\n",
      "242/242 [==============================] - 7s 30ms/step - loss: 0.1503 - acc: 0.9473 - val_loss: 0.1639 - val_acc: 0.9416\n",
      "Epoch 13/70\n",
      "241/242 [============================>.] - ETA: 0s - loss: 0.1489 - acc: 0.9483\n",
      "Epoch 13: val_loss did not improve from 0.16361\n",
      "242/242 [==============================] - 7s 30ms/step - loss: 0.1489 - acc: 0.9484 - val_loss: 0.1641 - val_acc: 0.9421\n",
      "Epoch 14/70\n",
      "241/242 [============================>.] - ETA: 0s - loss: 0.1481 - acc: 0.9486\n",
      "Epoch 14: val_loss improved from 0.16361 to 0.16330, saving model to avg-biobert-mort_icu-best_model.hdf5\n",
      "242/242 [==============================] - 7s 30ms/step - loss: 0.1482 - acc: 0.9485 - val_loss: 0.1633 - val_acc: 0.9439\n",
      "Epoch 15/70\n",
      "241/242 [============================>.] - ETA: 0s - loss: 0.1474 - acc: 0.9497\n",
      "Epoch 15: val_loss did not improve from 0.16330\n",
      "242/242 [==============================] - 7s 30ms/step - loss: 0.1473 - acc: 0.9497 - val_loss: 0.1636 - val_acc: 0.9416\n",
      "Epoch 16/70\n",
      "241/242 [============================>.] - ETA: 0s - loss: 0.1462 - acc: 0.9484\n",
      "Epoch 16: val_loss did not improve from 0.16330\n",
      "242/242 [==============================] - 7s 30ms/step - loss: 0.1463 - acc: 0.9484 - val_loss: 0.1638 - val_acc: 0.9416\n",
      "Epoch 17/70\n",
      "241/242 [============================>.] - ETA: 0s - loss: 0.1460 - acc: 0.9490\n",
      "Epoch 17: val_loss did not improve from 0.16330\n",
      "242/242 [==============================] - 8s 31ms/step - loss: 0.1459 - acc: 0.9491 - val_loss: 0.1638 - val_acc: 0.9430\n",
      "Epoch 18/70\n",
      "241/242 [============================>.] - ETA: 0s - loss: 0.1453 - acc: 0.9493\n",
      "Epoch 18: val_loss did not improve from 0.16330\n",
      "242/242 [==============================] - 8s 32ms/step - loss: 0.1452 - acc: 0.9493 - val_loss: 0.1640 - val_acc: 0.9416\n",
      "Epoch 19/70\n",
      "241/242 [============================>.] - ETA: 0s - loss: 0.1454 - acc: 0.9494\n",
      "Epoch 19: val_loss did not improve from 0.16330\n",
      "242/242 [==============================] - 7s 31ms/step - loss: 0.1455 - acc: 0.9493 - val_loss: 0.1645 - val_acc: 0.9421\n",
      "  7/138 [>.............................] - ETA: 1s "
     ]
    },
    {
     "name": "stderr",
     "output_type": "stream",
     "text": [
      "2023-05-01 01:09:51.005531: I tensorflow/core/common_runtime/executor.cc:1197] [/device:CPU:0] (DEBUG INFO) Executor start aborting (this does not indicate an error and you can ignore this message): INVALID_ARGUMENT: You must feed a value for placeholder tensor 'gradients/split_2_grad/concat/split_2/split_dim' with dtype int32\n",
      "\t [[{{node gradients/split_2_grad/concat/split_2/split_dim}}]]\n",
      "2023-05-01 01:09:51.007144: I tensorflow/core/common_runtime/executor.cc:1197] [/device:CPU:0] (DEBUG INFO) Executor start aborting (this does not indicate an error and you can ignore this message): INVALID_ARGUMENT: You must feed a value for placeholder tensor 'gradients/split_grad/concat/split/split_dim' with dtype int32\n",
      "\t [[{{node gradients/split_grad/concat/split/split_dim}}]]\n",
      "2023-05-01 01:09:51.008325: I tensorflow/core/common_runtime/executor.cc:1197] [/device:CPU:0] (DEBUG INFO) Executor start aborting (this does not indicate an error and you can ignore this message): INVALID_ARGUMENT: You must feed a value for placeholder tensor 'gradients/split_1_grad/concat/split_1/split_dim' with dtype int32\n",
      "\t [[{{node gradients/split_1_grad/concat/split_1/split_dim}}]]\n"
     ]
    },
    {
     "name": "stdout",
     "output_type": "stream",
     "text": [
      "138/138 [==============================] - 1s 8ms/step\n",
      "0.8950707601307302 0.5286107284689447 0.943546551331664 0.45374449339207046\n",
      "Problem type:  los_3\n",
      "__________________\n"
     ]
    },
    {
     "name": "stderr",
     "output_type": "stream",
     "text": [
      "2023-05-01 01:09:53.917976: I tensorflow/core/common_runtime/executor.cc:1197] [/device:CPU:0] (DEBUG INFO) Executor start aborting (this does not indicate an error and you can ignore this message): INVALID_ARGUMENT: You must feed a value for placeholder tensor 'gradients/split_2_grad/concat/split_2/split_dim' with dtype int32\n",
      "\t [[{{node gradients/split_2_grad/concat/split_2/split_dim}}]]\n",
      "2023-05-01 01:09:53.919694: I tensorflow/core/common_runtime/executor.cc:1197] [/device:CPU:0] (DEBUG INFO) Executor start aborting (this does not indicate an error and you can ignore this message): INVALID_ARGUMENT: You must feed a value for placeholder tensor 'gradients/split_grad/concat/split/split_dim' with dtype int32\n",
      "\t [[{{node gradients/split_grad/concat/split/split_dim}}]]\n",
      "2023-05-01 01:09:53.921034: I tensorflow/core/common_runtime/executor.cc:1197] [/device:CPU:0] (DEBUG INFO) Executor start aborting (this does not indicate an error and you can ignore this message): INVALID_ARGUMENT: You must feed a value for placeholder tensor 'gradients/split_1_grad/concat/split_1/split_dim' with dtype int32\n",
      "\t [[{{node gradients/split_1_grad/concat/split_1/split_dim}}]]\n"
     ]
    },
    {
     "name": "stdout",
     "output_type": "stream",
     "text": [
      "Epoch 1/70\n"
     ]
    },
    {
     "name": "stderr",
     "output_type": "stream",
     "text": [
      "2023-05-01 01:09:54.409151: I tensorflow/core/common_runtime/executor.cc:1197] [/device:CPU:0] (DEBUG INFO) Executor start aborting (this does not indicate an error and you can ignore this message): INVALID_ARGUMENT: You must feed a value for placeholder tensor 'gradients/split_2_grad/concat/split_2/split_dim' with dtype int32\n",
      "\t [[{{node gradients/split_2_grad/concat/split_2/split_dim}}]]\n",
      "2023-05-01 01:09:54.410841: I tensorflow/core/common_runtime/executor.cc:1197] [/device:CPU:0] (DEBUG INFO) Executor start aborting (this does not indicate an error and you can ignore this message): INVALID_ARGUMENT: You must feed a value for placeholder tensor 'gradients/split_grad/concat/split/split_dim' with dtype int32\n",
      "\t [[{{node gradients/split_grad/concat/split/split_dim}}]]\n",
      "2023-05-01 01:09:54.412151: I tensorflow/core/common_runtime/executor.cc:1197] [/device:CPU:0] (DEBUG INFO) Executor start aborting (this does not indicate an error and you can ignore this message): INVALID_ARGUMENT: You must feed a value for placeholder tensor 'gradients/split_1_grad/concat/split_1/split_dim' with dtype int32\n",
      "\t [[{{node gradients/split_1_grad/concat/split_1/split_dim}}]]\n",
      "2023-05-01 01:09:54.963088: I tensorflow/core/common_runtime/executor.cc:1197] [/device:CPU:0] (DEBUG INFO) Executor start aborting (this does not indicate an error and you can ignore this message): INVALID_ARGUMENT: You must feed a value for placeholder tensor 'gradients/split_2_grad/concat/split_2/split_dim' with dtype int32\n",
      "\t [[{{node gradients/split_2_grad/concat/split_2/split_dim}}]]\n",
      "2023-05-01 01:09:54.964775: I tensorflow/core/common_runtime/executor.cc:1197] [/device:CPU:0] (DEBUG INFO) Executor start aborting (this does not indicate an error and you can ignore this message): INVALID_ARGUMENT: You must feed a value for placeholder tensor 'gradients/split_grad/concat/split/split_dim' with dtype int32\n",
      "\t [[{{node gradients/split_grad/concat/split/split_dim}}]]\n",
      "2023-05-01 01:09:54.966045: I tensorflow/core/common_runtime/executor.cc:1197] [/device:CPU:0] (DEBUG INFO) Executor start aborting (this does not indicate an error and you can ignore this message): INVALID_ARGUMENT: You must feed a value for placeholder tensor 'gradients/split_1_grad/concat/split_1/split_dim' with dtype int32\n",
      "\t [[{{node gradients/split_1_grad/concat/split_1/split_dim}}]]\n"
     ]
    },
    {
     "name": "stdout",
     "output_type": "stream",
     "text": [
      "241/242 [============================>.] - ETA: 0s - loss: 0.6540 - acc: 0.6305"
     ]
    },
    {
     "name": "stderr",
     "output_type": "stream",
     "text": [
      "2023-05-01 01:10:03.026900: I tensorflow/core/common_runtime/executor.cc:1197] [/device:CPU:0] (DEBUG INFO) Executor start aborting (this does not indicate an error and you can ignore this message): INVALID_ARGUMENT: You must feed a value for placeholder tensor 'gradients/split_2_grad/concat/split_2/split_dim' with dtype int32\n",
      "\t [[{{node gradients/split_2_grad/concat/split_2/split_dim}}]]\n",
      "2023-05-01 01:10:03.028821: I tensorflow/core/common_runtime/executor.cc:1197] [/device:CPU:0] (DEBUG INFO) Executor start aborting (this does not indicate an error and you can ignore this message): INVALID_ARGUMENT: You must feed a value for placeholder tensor 'gradients/split_grad/concat/split/split_dim' with dtype int32\n",
      "\t [[{{node gradients/split_grad/concat/split/split_dim}}]]\n",
      "2023-05-01 01:10:03.030216: I tensorflow/core/common_runtime/executor.cc:1197] [/device:CPU:0] (DEBUG INFO) Executor start aborting (this does not indicate an error and you can ignore this message): INVALID_ARGUMENT: You must feed a value for placeholder tensor 'gradients/split_1_grad/concat/split_1/split_dim' with dtype int32\n",
      "\t [[{{node gradients/split_1_grad/concat/split_1/split_dim}}]]\n"
     ]
    },
    {
     "name": "stdout",
     "output_type": "stream",
     "text": [
      "\n",
      "Epoch 1: val_loss improved from inf to 0.62251, saving model to avg-biobert-los_3-best_model.hdf5\n",
      "242/242 [==============================] - 9s 33ms/step - loss: 0.6539 - acc: 0.6306 - val_loss: 0.6225 - val_acc: 0.6776\n",
      "Epoch 2/70\n",
      "241/242 [============================>.] - ETA: 0s - loss: 0.6285 - acc: 0.6622\n",
      "Epoch 2: val_loss improved from 0.62251 to 0.61721, saving model to avg-biobert-los_3-best_model.hdf5\n",
      "242/242 [==============================] - 7s 30ms/step - loss: 0.6287 - acc: 0.6620 - val_loss: 0.6172 - val_acc: 0.6835\n",
      "Epoch 3/70\n",
      "241/242 [============================>.] - ETA: 0s - loss: 0.6196 - acc: 0.6706\n",
      "Epoch 3: val_loss improved from 0.61721 to 0.61477, saving model to avg-biobert-los_3-best_model.hdf5\n",
      "242/242 [==============================] - 7s 31ms/step - loss: 0.6196 - acc: 0.6707 - val_loss: 0.6148 - val_acc: 0.6849\n",
      "Epoch 4/70\n",
      "241/242 [============================>.] - ETA: 0s - loss: 0.6140 - acc: 0.6760\n",
      "Epoch 4: val_loss improved from 0.61477 to 0.61167, saving model to avg-biobert-los_3-best_model.hdf5\n",
      "242/242 [==============================] - 7s 31ms/step - loss: 0.6139 - acc: 0.6762 - val_loss: 0.6117 - val_acc: 0.6822\n",
      "Epoch 5/70\n",
      "241/242 [============================>.] - ETA: 0s - loss: 0.6112 - acc: 0.6812\n",
      "Epoch 5: val_loss did not improve from 0.61167\n",
      "242/242 [==============================] - 7s 30ms/step - loss: 0.6112 - acc: 0.6811 - val_loss: 0.6119 - val_acc: 0.6854\n",
      "Epoch 6/70\n",
      "241/242 [============================>.] - ETA: 0s - loss: 0.6064 - acc: 0.6859\n",
      "Epoch 6: val_loss improved from 0.61167 to 0.61059, saving model to avg-biobert-los_3-best_model.hdf5\n",
      "242/242 [==============================] - 7s 30ms/step - loss: 0.6065 - acc: 0.6859 - val_loss: 0.6106 - val_acc: 0.6799\n",
      "Epoch 7/70\n",
      "241/242 [============================>.] - ETA: 0s - loss: 0.6034 - acc: 0.6862\n",
      "Epoch 7: val_loss improved from 0.61059 to 0.60937, saving model to avg-biobert-los_3-best_model.hdf5\n",
      "242/242 [==============================] - 7s 31ms/step - loss: 0.6034 - acc: 0.6862 - val_loss: 0.6094 - val_acc: 0.6831\n",
      "Epoch 8/70\n",
      "241/242 [============================>.] - ETA: 0s - loss: 0.6012 - acc: 0.6872\n",
      "Epoch 8: val_loss did not improve from 0.60937\n",
      "242/242 [==============================] - 7s 31ms/step - loss: 0.6011 - acc: 0.6872 - val_loss: 0.6094 - val_acc: 0.6840\n",
      "Epoch 9/70\n",
      "241/242 [============================>.] - ETA: 0s - loss: 0.5993 - acc: 0.6890\n",
      "Epoch 9: val_loss improved from 0.60937 to 0.60900, saving model to avg-biobert-los_3-best_model.hdf5\n",
      "242/242 [==============================] - 7s 30ms/step - loss: 0.5993 - acc: 0.6891 - val_loss: 0.6090 - val_acc: 0.6831\n",
      "Epoch 10/70\n",
      "241/242 [============================>.] - ETA: 0s - loss: 0.5983 - acc: 0.6889\n",
      "Epoch 10: val_loss did not improve from 0.60900\n",
      "242/242 [==============================] - 7s 31ms/step - loss: 0.5984 - acc: 0.6888 - val_loss: 0.6094 - val_acc: 0.6803\n",
      "Epoch 11/70\n",
      "241/242 [============================>.] - ETA: 0s - loss: 0.5964 - acc: 0.6939\n",
      "Epoch 11: val_loss improved from 0.60900 to 0.60856, saving model to avg-biobert-los_3-best_model.hdf5\n",
      "242/242 [==============================] - 7s 31ms/step - loss: 0.5964 - acc: 0.6938 - val_loss: 0.6086 - val_acc: 0.6813\n",
      "Epoch 12/70\n",
      "241/242 [============================>.] - ETA: 0s - loss: 0.5950 - acc: 0.6939\n",
      "Epoch 12: val_loss improved from 0.60856 to 0.60833, saving model to avg-biobert-los_3-best_model.hdf5\n",
      "242/242 [==============================] - 7s 30ms/step - loss: 0.5951 - acc: 0.6938 - val_loss: 0.6083 - val_acc: 0.6817\n",
      "Epoch 13/70\n",
      "241/242 [============================>.] - ETA: 0s - loss: 0.5937 - acc: 0.6939\n",
      "Epoch 13: val_loss did not improve from 0.60833\n",
      "242/242 [==============================] - 7s 30ms/step - loss: 0.5935 - acc: 0.6942 - val_loss: 0.6087 - val_acc: 0.6803\n",
      "Epoch 14/70\n",
      "241/242 [============================>.] - ETA: 0s - loss: 0.5925 - acc: 0.6956\n",
      "Epoch 14: val_loss did not improve from 0.60833\n",
      "242/242 [==============================] - 7s 30ms/step - loss: 0.5924 - acc: 0.6956 - val_loss: 0.6084 - val_acc: 0.6803\n",
      "Epoch 15/70\n",
      "241/242 [============================>.] - ETA: 0s - loss: 0.5905 - acc: 0.6977\n",
      "Epoch 15: val_loss did not improve from 0.60833\n",
      "242/242 [==============================] - 7s 30ms/step - loss: 0.5905 - acc: 0.6978 - val_loss: 0.6085 - val_acc: 0.6776\n",
      "Epoch 16/70\n",
      "241/242 [============================>.] - ETA: 0s - loss: 0.5892 - acc: 0.7007\n",
      "Epoch 16: val_loss improved from 0.60833 to 0.60725, saving model to avg-biobert-los_3-best_model.hdf5\n",
      "242/242 [==============================] - 7s 30ms/step - loss: 0.5892 - acc: 0.7006 - val_loss: 0.6072 - val_acc: 0.6799\n",
      "Epoch 17/70\n",
      "241/242 [============================>.] - ETA: 0s - loss: 0.5882 - acc: 0.6999\n",
      "Epoch 17: val_loss did not improve from 0.60725\n",
      "242/242 [==============================] - 7s 30ms/step - loss: 0.5882 - acc: 0.6998 - val_loss: 0.6074 - val_acc: 0.6767\n",
      "Epoch 18/70\n",
      "241/242 [============================>.] - ETA: 0s - loss: 0.5887 - acc: 0.7009\n",
      "Epoch 18: val_loss did not improve from 0.60725\n",
      "242/242 [==============================] - 7s 30ms/step - loss: 0.5886 - acc: 0.7009 - val_loss: 0.6083 - val_acc: 0.6740\n",
      "Epoch 19/70\n",
      "241/242 [============================>.] - ETA: 0s - loss: 0.5867 - acc: 0.7026\n",
      "Epoch 19: val_loss improved from 0.60725 to 0.60722, saving model to avg-biobert-los_3-best_model.hdf5\n",
      "242/242 [==============================] - 7s 30ms/step - loss: 0.5867 - acc: 0.7026 - val_loss: 0.6072 - val_acc: 0.6772\n",
      "Epoch 20/70\n",
      "241/242 [============================>.] - ETA: 0s - loss: 0.5866 - acc: 0.7022\n",
      "Epoch 20: val_loss did not improve from 0.60722\n",
      "242/242 [==============================] - 7s 30ms/step - loss: 0.5865 - acc: 0.7022 - val_loss: 0.6074 - val_acc: 0.6749\n",
      "Epoch 21/70\n",
      "241/242 [============================>.] - ETA: 0s - loss: 0.5852 - acc: 0.7020\n",
      "Epoch 21: val_loss did not improve from 0.60722\n",
      "242/242 [==============================] - 7s 30ms/step - loss: 0.5852 - acc: 0.7020 - val_loss: 0.6093 - val_acc: 0.6726\n",
      "Epoch 22/70\n",
      "241/242 [============================>.] - ETA: 0s - loss: 0.5843 - acc: 0.7046\n",
      "Epoch 22: val_loss did not improve from 0.60722\n",
      "242/242 [==============================] - 7s 30ms/step - loss: 0.5845 - acc: 0.7044 - val_loss: 0.6080 - val_acc: 0.6758\n",
      "Epoch 23/70\n",
      "241/242 [============================>.] - ETA: 0s - loss: 0.5847 - acc: 0.7041\n",
      "Epoch 23: val_loss did not improve from 0.60722\n",
      "242/242 [==============================] - 7s 30ms/step - loss: 0.5849 - acc: 0.7039 - val_loss: 0.6085 - val_acc: 0.6753\n",
      "Epoch 24/70\n",
      "241/242 [============================>.] - ETA: 0s - loss: 0.5826 - acc: 0.7042\n",
      "Epoch 24: val_loss did not improve from 0.60722\n",
      "242/242 [==============================] - 7s 30ms/step - loss: 0.5824 - acc: 0.7044 - val_loss: 0.6080 - val_acc: 0.6776\n",
      "  7/138 [>.............................] - ETA: 1s "
     ]
    },
    {
     "name": "stderr",
     "output_type": "stream",
     "text": [
      "2023-05-01 01:12:52.529151: I tensorflow/core/common_runtime/executor.cc:1197] [/device:CPU:0] (DEBUG INFO) Executor start aborting (this does not indicate an error and you can ignore this message): INVALID_ARGUMENT: You must feed a value for placeholder tensor 'gradients/split_2_grad/concat/split_2/split_dim' with dtype int32\n",
      "\t [[{{node gradients/split_2_grad/concat/split_2/split_dim}}]]\n",
      "2023-05-01 01:12:52.530859: I tensorflow/core/common_runtime/executor.cc:1197] [/device:CPU:0] (DEBUG INFO) Executor start aborting (this does not indicate an error and you can ignore this message): INVALID_ARGUMENT: You must feed a value for placeholder tensor 'gradients/split_grad/concat/split/split_dim' with dtype int32\n",
      "\t [[{{node gradients/split_grad/concat/split/split_dim}}]]\n",
      "2023-05-01 01:12:52.532043: I tensorflow/core/common_runtime/executor.cc:1197] [/device:CPU:0] (DEBUG INFO) Executor start aborting (this does not indicate an error and you can ignore this message): INVALID_ARGUMENT: You must feed a value for placeholder tensor 'gradients/split_1_grad/concat/split_1/split_dim' with dtype int32\n",
      "\t [[{{node gradients/split_1_grad/concat/split_1/split_dim}}]]\n"
     ]
    },
    {
     "name": "stdout",
     "output_type": "stream",
     "text": [
      "138/138 [==============================] - 1s 9ms/step\n",
      "0.7011973949699037 0.63931620203173 0.6631003869792852 0.5523290986085904\n",
      "Problem type:  los_7\n",
      "__________________\n"
     ]
    },
    {
     "name": "stderr",
     "output_type": "stream",
     "text": [
      "2023-05-01 01:12:55.451900: I tensorflow/core/common_runtime/executor.cc:1197] [/device:CPU:0] (DEBUG INFO) Executor start aborting (this does not indicate an error and you can ignore this message): INVALID_ARGUMENT: You must feed a value for placeholder tensor 'gradients/split_2_grad/concat/split_2/split_dim' with dtype int32\n",
      "\t [[{{node gradients/split_2_grad/concat/split_2/split_dim}}]]\n",
      "2023-05-01 01:12:55.453592: I tensorflow/core/common_runtime/executor.cc:1197] [/device:CPU:0] (DEBUG INFO) Executor start aborting (this does not indicate an error and you can ignore this message): INVALID_ARGUMENT: You must feed a value for placeholder tensor 'gradients/split_grad/concat/split/split_dim' with dtype int32\n",
      "\t [[{{node gradients/split_grad/concat/split/split_dim}}]]\n",
      "2023-05-01 01:12:55.454760: I tensorflow/core/common_runtime/executor.cc:1197] [/device:CPU:0] (DEBUG INFO) Executor start aborting (this does not indicate an error and you can ignore this message): INVALID_ARGUMENT: You must feed a value for placeholder tensor 'gradients/split_1_grad/concat/split_1/split_dim' with dtype int32\n",
      "\t [[{{node gradients/split_1_grad/concat/split_1/split_dim}}]]\n"
     ]
    },
    {
     "name": "stdout",
     "output_type": "stream",
     "text": [
      "Epoch 1/70\n"
     ]
    },
    {
     "name": "stderr",
     "output_type": "stream",
     "text": [
      "2023-05-01 01:12:55.958449: I tensorflow/core/common_runtime/executor.cc:1197] [/device:CPU:0] (DEBUG INFO) Executor start aborting (this does not indicate an error and you can ignore this message): INVALID_ARGUMENT: You must feed a value for placeholder tensor 'gradients/split_2_grad/concat/split_2/split_dim' with dtype int32\n",
      "\t [[{{node gradients/split_2_grad/concat/split_2/split_dim}}]]\n",
      "2023-05-01 01:12:55.960228: I tensorflow/core/common_runtime/executor.cc:1197] [/device:CPU:0] (DEBUG INFO) Executor start aborting (this does not indicate an error and you can ignore this message): INVALID_ARGUMENT: You must feed a value for placeholder tensor 'gradients/split_grad/concat/split/split_dim' with dtype int32\n",
      "\t [[{{node gradients/split_grad/concat/split/split_dim}}]]\n",
      "2023-05-01 01:12:55.961547: I tensorflow/core/common_runtime/executor.cc:1197] [/device:CPU:0] (DEBUG INFO) Executor start aborting (this does not indicate an error and you can ignore this message): INVALID_ARGUMENT: You must feed a value for placeholder tensor 'gradients/split_1_grad/concat/split_1/split_dim' with dtype int32\n",
      "\t [[{{node gradients/split_1_grad/concat/split_1/split_dim}}]]\n",
      "2023-05-01 01:12:56.520318: I tensorflow/core/common_runtime/executor.cc:1197] [/device:CPU:0] (DEBUG INFO) Executor start aborting (this does not indicate an error and you can ignore this message): INVALID_ARGUMENT: You must feed a value for placeholder tensor 'gradients/split_2_grad/concat/split_2/split_dim' with dtype int32\n",
      "\t [[{{node gradients/split_2_grad/concat/split_2/split_dim}}]]\n",
      "2023-05-01 01:12:56.521999: I tensorflow/core/common_runtime/executor.cc:1197] [/device:CPU:0] (DEBUG INFO) Executor start aborting (this does not indicate an error and you can ignore this message): INVALID_ARGUMENT: You must feed a value for placeholder tensor 'gradients/split_grad/concat/split/split_dim' with dtype int32\n",
      "\t [[{{node gradients/split_grad/concat/split/split_dim}}]]\n",
      "2023-05-01 01:12:56.523320: I tensorflow/core/common_runtime/executor.cc:1197] [/device:CPU:0] (DEBUG INFO) Executor start aborting (this does not indicate an error and you can ignore this message): INVALID_ARGUMENT: You must feed a value for placeholder tensor 'gradients/split_1_grad/concat/split_1/split_dim' with dtype int32\n",
      "\t [[{{node gradients/split_1_grad/concat/split_1/split_dim}}]]\n"
     ]
    },
    {
     "name": "stdout",
     "output_type": "stream",
     "text": [
      "241/242 [============================>.] - ETA: 0s - loss: 0.2682 - acc: 0.9210"
     ]
    },
    {
     "name": "stderr",
     "output_type": "stream",
     "text": [
      "2023-05-01 01:13:04.409151: I tensorflow/core/common_runtime/executor.cc:1197] [/device:CPU:0] (DEBUG INFO) Executor start aborting (this does not indicate an error and you can ignore this message): INVALID_ARGUMENT: You must feed a value for placeholder tensor 'gradients/split_2_grad/concat/split_2/split_dim' with dtype int32\n",
      "\t [[{{node gradients/split_2_grad/concat/split_2/split_dim}}]]\n",
      "2023-05-01 01:13:04.410828: I tensorflow/core/common_runtime/executor.cc:1197] [/device:CPU:0] (DEBUG INFO) Executor start aborting (this does not indicate an error and you can ignore this message): INVALID_ARGUMENT: You must feed a value for placeholder tensor 'gradients/split_grad/concat/split/split_dim' with dtype int32\n",
      "\t [[{{node gradients/split_grad/concat/split/split_dim}}]]\n",
      "2023-05-01 01:13:04.411991: I tensorflow/core/common_runtime/executor.cc:1197] [/device:CPU:0] (DEBUG INFO) Executor start aborting (this does not indicate an error and you can ignore this message): INVALID_ARGUMENT: You must feed a value for placeholder tensor 'gradients/split_1_grad/concat/split_1/split_dim' with dtype int32\n",
      "\t [[{{node gradients/split_1_grad/concat/split_1/split_dim}}]]\n"
     ]
    },
    {
     "name": "stdout",
     "output_type": "stream",
     "text": [
      "\n",
      "Epoch 1: val_loss improved from inf to 0.25806, saving model to avg-biobert-los_7-best_model.hdf5\n",
      "242/242 [==============================] - 9s 32ms/step - loss: 0.2681 - acc: 0.9210 - val_loss: 0.2581 - val_acc: 0.9238\n",
      "Epoch 2/70\n",
      "241/242 [============================>.] - ETA: 0s - loss: 0.2501 - acc: 0.9225\n",
      "Epoch 2: val_loss did not improve from 0.25806\n",
      "242/242 [==============================] - 7s 30ms/step - loss: 0.2499 - acc: 0.9225 - val_loss: 0.2601 - val_acc: 0.9238\n",
      "Epoch 3/70\n",
      "241/242 [============================>.] - ETA: 0s - loss: 0.2468 - acc: 0.9223\n",
      "Epoch 3: val_loss improved from 0.25806 to 0.25413, saving model to avg-biobert-los_7-best_model.hdf5\n",
      "242/242 [==============================] - 7s 31ms/step - loss: 0.2468 - acc: 0.9223 - val_loss: 0.2541 - val_acc: 0.9238\n",
      "Epoch 4/70\n",
      "241/242 [============================>.] - ETA: 0s - loss: 0.2429 - acc: 0.9226\n",
      "Epoch 4: val_loss did not improve from 0.25413\n",
      "242/242 [==============================] - 7s 30ms/step - loss: 0.2433 - acc: 0.9225 - val_loss: 0.2542 - val_acc: 0.9238\n",
      "Epoch 5/70\n",
      "241/242 [============================>.] - ETA: 0s - loss: 0.2416 - acc: 0.9226\n",
      "Epoch 5: val_loss improved from 0.25413 to 0.25393, saving model to avg-biobert-los_7-best_model.hdf5\n",
      "242/242 [==============================] - 7s 30ms/step - loss: 0.2416 - acc: 0.9226 - val_loss: 0.2539 - val_acc: 0.9238\n",
      "Epoch 6/70\n",
      "241/242 [============================>.] - ETA: 0s - loss: 0.2406 - acc: 0.9223\n",
      "Epoch 6: val_loss did not improve from 0.25393\n",
      "242/242 [==============================] - 7s 30ms/step - loss: 0.2405 - acc: 0.9223 - val_loss: 0.2543 - val_acc: 0.9238\n",
      "Epoch 7/70\n",
      "241/242 [============================>.] - ETA: 0s - loss: 0.2389 - acc: 0.9225\n",
      "Epoch 7: val_loss did not improve from 0.25393\n",
      "242/242 [==============================] - 7s 30ms/step - loss: 0.2390 - acc: 0.9225 - val_loss: 0.2541 - val_acc: 0.9238\n",
      "Epoch 8/70\n",
      "241/242 [============================>.] - ETA: 0s - loss: 0.2380 - acc: 0.9223\n",
      "Epoch 8: val_loss improved from 0.25393 to 0.25340, saving model to avg-biobert-los_7-best_model.hdf5\n",
      "242/242 [==============================] - 7s 30ms/step - loss: 0.2380 - acc: 0.9223 - val_loss: 0.2534 - val_acc: 0.9238\n",
      "Epoch 9/70\n",
      "241/242 [============================>.] - ETA: 0s - loss: 0.2366 - acc: 0.9227\n",
      "Epoch 9: val_loss did not improve from 0.25340\n",
      "242/242 [==============================] - 7s 31ms/step - loss: 0.2367 - acc: 0.9226 - val_loss: 0.2535 - val_acc: 0.9238\n",
      "Epoch 10/70\n",
      "241/242 [============================>.] - ETA: 0s - loss: 0.2358 - acc: 0.9226\n",
      "Epoch 10: val_loss did not improve from 0.25340\n",
      "242/242 [==============================] - 7s 30ms/step - loss: 0.2363 - acc: 0.9224 - val_loss: 0.2536 - val_acc: 0.9238\n",
      "Epoch 11/70\n",
      "241/242 [============================>.] - ETA: 0s - loss: 0.2349 - acc: 0.9224\n",
      "Epoch 11: val_loss improved from 0.25340 to 0.25317, saving model to avg-biobert-los_7-best_model.hdf5\n",
      "242/242 [==============================] - 7s 31ms/step - loss: 0.2347 - acc: 0.9225 - val_loss: 0.2532 - val_acc: 0.9238\n",
      "Epoch 12/70\n",
      "241/242 [============================>.] - ETA: 0s - loss: 0.2341 - acc: 0.9226\n",
      "Epoch 12: val_loss improved from 0.25317 to 0.25292, saving model to avg-biobert-los_7-best_model.hdf5\n",
      "242/242 [==============================] - 7s 31ms/step - loss: 0.2345 - acc: 0.9225 - val_loss: 0.2529 - val_acc: 0.9238\n",
      "Epoch 13/70\n",
      "241/242 [============================>.] - ETA: 0s - loss: 0.2335 - acc: 0.9224\n",
      "Epoch 13: val_loss improved from 0.25292 to 0.25283, saving model to avg-biobert-los_7-best_model.hdf5\n",
      "242/242 [==============================] - 7s 31ms/step - loss: 0.2335 - acc: 0.9224 - val_loss: 0.2528 - val_acc: 0.9238\n",
      "Epoch 14/70\n",
      "241/242 [============================>.] - ETA: 0s - loss: 0.2329 - acc: 0.9223\n",
      "Epoch 14: val_loss did not improve from 0.25283\n",
      "242/242 [==============================] - 7s 31ms/step - loss: 0.2328 - acc: 0.9224 - val_loss: 0.2532 - val_acc: 0.9238\n",
      "Epoch 15/70\n",
      "241/242 [============================>.] - ETA: 0s - loss: 0.2328 - acc: 0.9226\n",
      "Epoch 15: val_loss did not improve from 0.25283\n",
      "242/242 [==============================] - 8s 32ms/step - loss: 0.2329 - acc: 0.9225 - val_loss: 0.2532 - val_acc: 0.9238\n",
      "Epoch 16/70\n",
      "241/242 [============================>.] - ETA: 0s - loss: 0.2326 - acc: 0.9227\n",
      "Epoch 16: val_loss did not improve from 0.25283\n",
      "242/242 [==============================] - 8s 31ms/step - loss: 0.2326 - acc: 0.9227 - val_loss: 0.2531 - val_acc: 0.9238\n",
      "Epoch 17/70\n",
      "241/242 [============================>.] - ETA: 0s - loss: 0.2320 - acc: 0.9225\n",
      "Epoch 17: val_loss did not improve from 0.25283\n",
      "242/242 [==============================] - 7s 31ms/step - loss: 0.2319 - acc: 0.9226 - val_loss: 0.2530 - val_acc: 0.9238\n",
      "Epoch 18/70\n",
      "241/242 [============================>.] - ETA: 0s - loss: 0.2316 - acc: 0.9227\n",
      "Epoch 18: val_loss did not improve from 0.25283\n",
      "242/242 [==============================] - 7s 30ms/step - loss: 0.2315 - acc: 0.9227 - val_loss: 0.2531 - val_acc: 0.9238\n",
      "  7/138 [>.............................] - ETA: 1s "
     ]
    },
    {
     "name": "stderr",
     "output_type": "stream",
     "text": [
      "2023-05-01 01:15:11.048975: I tensorflow/core/common_runtime/executor.cc:1197] [/device:CPU:0] (DEBUG INFO) Executor start aborting (this does not indicate an error and you can ignore this message): INVALID_ARGUMENT: You must feed a value for placeholder tensor 'gradients/split_2_grad/concat/split_2/split_dim' with dtype int32\n",
      "\t [[{{node gradients/split_2_grad/concat/split_2/split_dim}}]]\n",
      "2023-05-01 01:15:11.050601: I tensorflow/core/common_runtime/executor.cc:1197] [/device:CPU:0] (DEBUG INFO) Executor start aborting (this does not indicate an error and you can ignore this message): INVALID_ARGUMENT: You must feed a value for placeholder tensor 'gradients/split_grad/concat/split/split_dim' with dtype int32\n",
      "\t [[{{node gradients/split_grad/concat/split/split_dim}}]]\n",
      "2023-05-01 01:15:11.051781: I tensorflow/core/common_runtime/executor.cc:1197] [/device:CPU:0] (DEBUG INFO) Executor start aborting (this does not indicate an error and you can ignore this message): INVALID_ARGUMENT: You must feed a value for placeholder tensor 'gradients/split_1_grad/concat/split_1/split_dim' with dtype int32\n",
      "\t [[{{node gradients/split_1_grad/concat/split_1/split_dim}}]]\n"
     ]
    },
    {
     "name": "stdout",
     "output_type": "stream",
     "text": [
      "138/138 [==============================] - 1s 9ms/step\n",
      "0.744309367844309 0.24116557201659883 0.919872524470749 0.016759776536312852\n",
      "final model training time: 4463.935860157013\n"
     ]
    }
   ],
   "source": [
    "\n",
    "monitor_criteria = 'val_loss'\n",
    "model_patience = 5\n",
    "batch_size = 64\n",
    "\n",
    "\n",
    "# num_epoch = 100\n",
    "target_problems = ['mort_hosp', 'mort_icu', 'los_3', 'los_7']\n",
    "iter_num = 2\n",
    "# layers = [\"LSTM\", \"GRU\"]\n",
    "# unit_sizes = [128, 256]\n",
    "embedding_types = ['word2vec', 'fasttext', 'concat','biobert']\n",
    "embedding_dict = [ner_word2vec, ner_fasttext, ner_concat, ner_biobert]\n",
    "\n",
    "#embedding_types = ['word2vec', 'fasttext', 'concat']\n",
    "#embedding_dict = [ner_word2vec, ner_fasttext, ner_concat]\n",
    "\n",
    "\n",
    "num_epoch = 70\n",
    "layers = [\"GRU\"]\n",
    "unit_sizes = [256]\n",
    "\n",
    "\n",
    "total_model_time_initial = time.time()\n",
    "embedding_timer = {}\n",
    "\n",
    "for item in embedding_types:\n",
    "    embedding_timer[item] = list()\n",
    "\n",
    "index = 0\n",
    "\n",
    "for each_layer in layers:\n",
    "    print (\"Layer: \", each_layer)\n",
    "    for each_unit_size in unit_sizes:\n",
    "        print (\"Hidden unit: \", each_unit_size)\n",
    "\n",
    "        for embed_dict, embed_name in zip(embedding_dict, embedding_types):\n",
    "            print (\"Embedding: \", embed_name)\n",
    "            print(\"=============================\")\n",
    "            \n",
    "            \n",
    "\n",
    "            temp_train_ner = dict((k, embed_dict[k]) for k in train_ids)\n",
    "            temp_dev_ner = dict((k, embed_dict[k]) for k in dev_ids)\n",
    "            temp_test_ner = dict((k, embed_dict[k]) for k in test_ids)\n",
    "\n",
    "            x_train_ner = create_dataset(temp_train_ner)\n",
    "            x_dev_ner = create_dataset(temp_dev_ner)\n",
    "            x_test_ner = create_dataset(temp_test_ner)\n",
    "\n",
    "\n",
    "            for cycle in range(0, iter_num):\n",
    "                iteration = cycle + 1\n",
    "                print (\"Iteration number: \", iteration)\n",
    "\n",
    "                for each_problem in target_problems:\n",
    "                    print (\"Problem type: \", each_problem)\n",
    "                    print (\"__________________\")\n",
    "                    \n",
    "                    initial_timer = time.time()\n",
    "\n",
    "                    early_stopping_monitor = EarlyStopping(monitor=monitor_criteria, patience=model_patience)\n",
    "                    best_model_name = \"avg-\"+str(embed_name)+\"-\"+str(each_problem)+\"-\"+\"best_model.hdf5\"\n",
    "                    checkpoint = ModelCheckpoint(best_model_name, monitor='val_loss', verbose=1,\n",
    "                        save_best_only=True, mode='min', save_freq='epoch')\n",
    "\n",
    "\n",
    "                    callbacks = [early_stopping_monitor, checkpoint]\n",
    "\n",
    "                    model = avg_ner_model(each_layer, each_unit_size, embed_name)\n",
    "\n",
    "                    model.fit([x_train_lstm, x_train_ner], y_train[each_problem], epochs=num_epoch, verbose=1, \n",
    "                              validation_data=([x_dev_lstm, x_dev_ner], y_dev[each_problem]), callbacks=callbacks, \n",
    "                              batch_size=batch_size )\n",
    "                \n",
    "                    model.load_weights(best_model_name)\n",
    "\n",
    "                    probs, predictions = make_prediction_multi_avg(model, [x_test_lstm, x_test_ner])\n",
    "                    \n",
    "                    save_scores_multi_avg(predictions, probs, y_test[each_problem], \n",
    "                               embed_name, each_problem, iteration, each_unit_size, \n",
    "                               each_layer, type_of_ner)\n",
    "                    \n",
    "                    reset_keras(model)\n",
    "                    #del model\n",
    "                    clear_session()\n",
    "                    gc.collect()\n",
    "\n",
    "                    embedding_timer[embed_name].append(time.time()-initial_timer)\n",
    "                    with open(f\"/home/ubuntu/times_{embed_name}_{each_problem}_iter_{iteration}.txt\", \"w\") as file1:\n",
    "                        file1.write(f\"time to run {embed_name}-{each_problem}: {embedding_timer[embed_name][len(embedding_timer[embed_name]) -1]}\")\n",
    "print(f\"final model training time: {time.time() - total_model_time_initial}\")"
   ]
  },
  {
   "cell_type": "code",
   "execution_count": 5,
   "metadata": {},
   "outputs": [],
   "source": [
    "# a"
   ]
  },
  {
   "cell_type": "code",
   "execution_count": 6,
   "metadata": {},
   "outputs": [
    {
     "name": "stdout",
     "output_type": "stream",
     "text": [
      "[154.21198153495789, 108.14102745056152, 131.40392804145813, 199.23999428749084, 153.30717134475708, 121.70263600349426, 159.22947239875793, 194.98438954353333]\n",
      "[106.10375833511353, 77.84544157981873, 112.21864557266235, 159.15052151679993, 78.17005109786987, 136.94606518745422, 121.70871949195862, 114.63378572463989]\n",
      "[100.16451692581177, 150.883043050766, 201.45986557006836, 158.65079617500305, 146.9994649887085, 110.6108648777008, 125.10123825073242, 197.18419122695923]\n",
      "[86.60719466209412, 102.06179594993591, 181.22611117362976, 152.58204054832458, 152.55921387672424, 145.80921125411987, 181.53472995758057, 138.50401306152344]\n",
      "final model training time: 4463.946449756622\n"
     ]
    }
   ],
   "source": [
    "embedding_types = ['word2vec', 'fasttext', 'concat','biobert']\n",
    "\n",
    "for item in embedding_types:\n",
    "    print(f\"{embedding_timer[item]}\")\n",
    "    \n",
    "print(f\"final model training time: {time.time() - total_model_time_initial}\")"
   ]
  },
  {
   "cell_type": "code",
   "execution_count": 7,
   "metadata": {},
   "outputs": [],
   "source": [
    "# a"
   ]
  },
  {
   "cell_type": "code",
   "execution_count": null,
   "metadata": {},
   "outputs": [],
   "source": []
  }
 ],
 "metadata": {
  "kernelspec": {
   "display_name": "Python 3 (ipykernel)",
   "language": "python",
   "name": "python3"
  },
  "language_info": {
   "codemirror_mode": {
    "name": "ipython",
    "version": 3
   },
   "file_extension": ".py",
   "mimetype": "text/x-python",
   "name": "python",
   "nbconvert_exporter": "python",
   "pygments_lexer": "ipython3",
   "version": "3.9.16"
  }
 },
 "nbformat": 4,
 "nbformat_minor": 2
}
