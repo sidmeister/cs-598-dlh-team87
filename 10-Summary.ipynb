{
 "cells": [
  {
   "cell_type": "code",
   "execution_count": 17,
   "id": "159191ee",
   "metadata": {},
   "outputs": [
    {
     "name": "stdout",
     "output_type": "stream",
     "text": [
      "  model_type model_category        prediction_task            auc  \\\n",
      "0        GRU       baseline  In-Hospital Mortality  87.45 +/- nan   \n",
      "\n",
      "           auprc             F1            acc  \n",
      "0  55.73 +/- nan  41.42 +/- nan  91.37 +/- nan  \n"
     ]
    }
   ],
   "source": [
    "#timeseries baseline\n",
    "results_dir = \"results/timeseries-baseline\"\n",
    "files = os.listdir(results_dir)\n",
    "tasks_list = []\n",
    "for file in files:\n",
    "    if not file.endswith('.p'):\n",
    "        continue\n",
    "    task_result = pd.read_pickle(os.path.join(results_dir, file))        \n",
    "    task_result[\"hidden_units\"], task_result[\"model_type\"], task_result[\"prediction_task\"], task_result[\"iteration\"] = file.split(\"-\")[:4]\n",
    "    task_result[\"model_category\"] = \"baseline\"\n",
    "    tasks_list.append(task_result)\n",
    "results_df = pd.DataFrame(tasks_list)    \n",
    "functions = ['mean','std']\n",
    "baseline_results = results_df.groupby(['model_type','model_category','prediction_task'], as_index = False).agg({\"auc\":functions, \"auprc\":functions, \"F1\":functions, 'acc':functions})\n",
    "baseline_results.columns = baseline_results.columns.map('_'.join).str.strip('_')\n",
    "column_list = ['auc_mean', 'auc_std', 'auprc_mean', 'auprc_std','F1_mean', 'F1_std', 'acc_mean', 'acc_std']\n",
    "for column in column_list:\n",
    "       baseline_results[column] = baseline_results[column] * 100\n",
    "\n",
    "prediction_task_rename = {'los_3': 'LOS > 3 Days', \"los_7\": \"LOS > 7 Days\",\"mort_hosp\": \"In-Hospital Mortality\",\"mort_icu\": \"In-ICU Mortality\"}\n",
    "baseline_results['prediction_task'] = baseline_results['prediction_task'].map(prediction_task_rename)\n",
    "\n",
    "# print(baseline_results)\n",
    "\n",
    "for item in [\"auc\", \"auprc\", \"F1\", \"acc\"]:\n",
    "    baseline_results[item] = baseline_results[[f\"{item}_mean\", f\"{item}_std\"]].apply(lambda x: \"{:.2f} +/- {:.3f}\".format(x[0], x[1]), axis=1)\n",
    "baseline_results = baseline_results[[\"model_type\",\"model_category\",\"prediction_task\", \"auc\", \"auprc\", \"F1\",\"acc\"]]\n",
    "\n",
    "print(baseline_results)"
   ]
  },
  {
   "cell_type": "code",
   "execution_count": 1,
   "id": "70aa18fa",
   "metadata": {},
   "outputs": [],
   "source": [
    "import os\n",
    "import pandas as pd\n",
    "def mean(a):\n",
    "    return sum(a) / len(a)"
   ]
  },
  {
   "cell_type": "code",
   "execution_count": 18,
   "id": "6558a580",
   "metadata": {},
   "outputs": [
    {
     "name": "stdout",
     "output_type": "stream",
     "text": [
      "  embedding       model_category        prediction_task            auc  \\\n",
      "0    concat  MultiModal Baseline  In-Hospital Mortality  86.63 +/- nan   \n",
      "1  fasttext  MultiModal Baseline  In-Hospital Mortality  86.54 +/- nan   \n",
      "2  word2vec  MultiModal Baseline  In-Hospital Mortality  87.31 +/- nan   \n",
      "\n",
      "           auprc             F1            acc  \n",
      "0  55.98 +/- nan  45.93 +/- nan  91.69 +/- nan  \n",
      "1  56.08 +/- nan  44.01 +/- nan  91.49 +/- nan  \n",
      "2  56.24 +/- nan  46.07 +/- nan  91.10 +/- nan  \n"
     ]
    }
   ],
   "source": [
    "results_dir = \"results/multimodal-baseline\"\n",
    "files = os.listdir(results_dir)\n",
    "tasks_list = []\n",
    "for file in files:\n",
    "    if not file.endswith('.p'):\n",
    "        continue\n",
    "    task_result = pd.read_pickle(os.path.join(results_dir, file))        \n",
    "    task_result[\"layer\"], task_result[\"hidden_units\"], task_result[\"embedding\"], task_result[\"prediction_task\"], task_result[\"iteration\"]  = file.split(\"-\")[:5]\n",
    "    task_result[\"model_category\"] = \"MultiModal Baseline\"\n",
    "    tasks_list.append(task_result)\n",
    "results_df = pd.DataFrame(tasks_list) \n",
    "functions = ['mean','std']\n",
    "mmbaseline = results_df.groupby(['embedding','model_category','prediction_task'], as_index = False).agg({\"auc\":functions, \"auprc\":functions, \"F1\":functions, 'acc':functions})\n",
    "mmbaseline.columns = mmbaseline.columns.map('_'.join).str.strip('_')\n",
    "column_list = ['auc_mean', 'auc_std', 'auprc_mean', 'auprc_std','F1_mean', 'F1_std', 'acc_mean', 'acc_std']\n",
    "for column in column_list:\n",
    "       mmbaseline[column] = mmbaseline[column] * 100\n",
    "prediction_task_rename = {'los_3': 'LOS > 3 Days', \"los_7\": \"LOS > 7 Days\",\"mort_hosp\": \"In-Hospital Mortality\",\"mort_icu\": \"In-ICU Mortality\"}\n",
    "mmbaseline['prediction_task'] = mmbaseline['prediction_task'].map(prediction_task_rename)\n",
    "\n",
    "for item in [\"auc\", \"auprc\", \"F1\", \"acc\"]:\n",
    "    mmbaseline[item] = mmbaseline[[f\"{item}_mean\", f\"{item}_std\"]].apply(lambda x: \"{:.2f} +/- {:.3f}\".format(x[0], x[1]), axis=1)\n",
    "mmbaseline = mmbaseline[[\"embedding\",\"model_category\",\"prediction_task\", \"auc\", \"auprc\", \"F1\", \"acc\"]]\n",
    "\n",
    "\n",
    "print(mmbaseline)"
   ]
  },
  {
   "cell_type": "code",
   "execution_count": 21,
   "id": "bf835379",
   "metadata": {},
   "outputs": [
    {
     "name": "stdout",
     "output_type": "stream",
     "text": [
      "  embedding  model_category        prediction_task            auc  \\\n",
      "0    concat  Proposed Model  In-Hospital Mortality  86.76 +/- nan   \n",
      "1  fasttext  Proposed Model  In-Hospital Mortality  87.10 +/- nan   \n",
      "2  word2vec  Proposed Model  In-Hospital Mortality  87.01 +/- nan   \n",
      "\n",
      "           auprc             F1            acc  \n",
      "0  55.10 +/- nan  42.27 +/- nan  91.42 +/- nan  \n",
      "1  56.03 +/- nan  41.96 +/- nan  91.62 +/- nan  \n",
      "2  56.40 +/- nan  42.65 +/- nan  91.74 +/- nan  \n"
     ]
    }
   ],
   "source": [
    "#proposed model\n",
    "results_dir = \"results/cnn\"\n",
    "files = os.listdir(results_dir)\n",
    "tasks_list = []\n",
    "for file in files:\n",
    "    if not file.endswith('.p'):\n",
    "        continue\n",
    "    task_result = pd.read_pickle(os.path.join(results_dir, file))        \n",
    "    task_result[\"model_type\"], task_result[\"hidden_units\"], task_result[\"embedding\"], task_result[\"prediction_task\"], task_result[\"iteration\"], task_result[\"ner_type\"]  = file.split(\"-\")[:6]\n",
    "    task_result[\"model_category\"] = \"Proposed Model\"\n",
    "    tasks_list.append(task_result)\n",
    "results_df = pd.DataFrame(tasks_list) \n",
    "functions = ['mean','std']\n",
    "proposed_model = results_df.groupby(['embedding','model_category','prediction_task'], as_index = False).agg({\"auc\":functions, \"auprc\":functions, \"F1\":functions, 'acc':functions})\n",
    "proposed_model.columns = proposed_model.columns.map('_'.join).str.strip('_')\n",
    "column_list = ['auc_mean', 'auc_std', 'auprc_mean', 'auprc_std','F1_mean', 'F1_std', 'acc_mean', 'acc_std']\n",
    "for column in column_list:\n",
    "       proposed_model[column] = proposed_model[column] * 100\n",
    "prediction_task_rename = {'los_3': 'LOS > 3 Days', \"los_7\": \"LOS > 7 Days\",\"mort_hosp\": \"In-Hospital Mortality\",\"mort_icu\": \"In-ICU Mortality\"}\n",
    "proposed_model['prediction_task'] = proposed_model['prediction_task'].map(prediction_task_rename)\n",
    "\n",
    "for item in [\"auc\", \"auprc\", \"F1\", \"acc\"]:\n",
    "    proposed_model[item] = proposed_model[[f\"{item}_mean\", f\"{item}_std\"]].apply(lambda x: \"{:.2f} +/- {:.3f}\".format(x[0], x[1]), axis=1)\n",
    "proposed_model = proposed_model[[\"embedding\",\"model_category\",\"prediction_task\", \"auc\", \"auprc\", \"F1\", \"acc\"]]\n",
    "\n",
    "\n",
    "print(proposed_model)"
   ]
  },
  {
   "cell_type": "code",
   "execution_count": null,
   "id": "7e5615c2",
   "metadata": {},
   "outputs": [],
   "source": []
  }
 ],
 "metadata": {
  "kernelspec": {
   "display_name": "Python 3 (ipykernel)",
   "language": "python",
   "name": "python3"
  },
  "language_info": {
   "codemirror_mode": {
    "name": "ipython",
    "version": 3
   },
   "file_extension": ".py",
   "mimetype": "text/x-python",
   "name": "python",
   "nbconvert_exporter": "python",
   "pygments_lexer": "ipython3",
   "version": "3.9.13"
  }
 },
 "nbformat": 4,
 "nbformat_minor": 5
}
